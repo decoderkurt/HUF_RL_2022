{
  "nbformat": 4,
  "nbformat_minor": 0,
  "metadata": {
    "colab": {
      "name": "1_getting_started.ipynb",
      "provenance": [],
      "collapsed_sections": [],
      "include_colab_link": true
    },
    "kernelspec": {
      "name": "python3",
      "display_name": "Python 3"
    },
    "accelerator": "GPU"
  },
  "cells": [
    {
      "cell_type": "markdown",
      "metadata": {
        "id": "view-in-github",
        "colab_type": "text"
      },
      "source": [
        "<a href=\"https://colab.research.google.com/github/decoderkurt/HUF_RL_2022/blob/main/21/stable_baselines_trpo.ipynb\" target=\"_parent\"><img src=\"https://colab.research.google.com/assets/colab-badge.svg\" alt=\"Open In Colab\"/></a>"
      ]
    },
    {
      "cell_type": "markdown",
      "metadata": {
        "id": "hyyN-2qyK_T2"
      },
      "source": [
        "# Stable Baselines Tutorial - Getting Started\n",
        "\n",
        "Github repo: https://github.com/araffin/rl-tutorial-jnrr19\n",
        "\n",
        "Stable-Baselines: https://github.com/hill-a/stable-baselines\n",
        "\n",
        "Documentation: https://stable-baselines.readthedocs.io/en/master/\n",
        "\n",
        "RL Baselines zoo: https://github.com/araffin/rl-baselines-zoo\n",
        "\n",
        "Medium article: [https://medium.com/@araffin/stable-baselines-a-fork-of-openai-baselines-df87c4b2fc82](https://medium.com/@araffin/stable-baselines-a-fork-of-openai-baselines-df87c4b2fc82)\n",
        "\n",
        "[RL Baselines Zoo](https://github.com/araffin/rl-baselines-zoo) is a collection of pre-trained Reinforcement Learning agents using Stable-Baselines.\n",
        "\n",
        "It also provides basic scripts for training, evaluating agents, tuning hyperparameters and recording videos.\n",
        "\n",
        "\n",
        "## Introduction\n",
        "\n",
        "In this notebook, you will learn the basics for using stable baselines library: how to create a RL model, train it and evaluate it. Because all algorithms share the same interface, we will see how simple it is to switch from one algorithm to another.\n",
        "\n",
        "\n",
        "## Install Dependencies and Stable Baselines Using Pip\n",
        "\n",
        "List of full dependencies can be found in the [README](https://github.com/hill-a/stable-baselines).\n",
        "\n",
        "```\n",
        "sudo apt-get update && sudo apt-get install cmake libopenmpi-dev zlib1g-dev\n",
        "```\n",
        "\n",
        "\n",
        "```\n",
        "pip install stable-baselines[mpi]\n",
        "```"
      ]
    },
    {
      "cell_type": "code",
      "metadata": {
        "id": "gWskDE2c9WoN",
        "colab": {
          "base_uri": "https://localhost:8080/"
        },
        "outputId": "62f39912-4d36-44e2-ee00-e694d8696598"
      },
      "source": [
        "# Stable Baselines only supports tensorflow 1.x for now\n",
        "%tensorflow_version 1.x\n",
        "!apt-get install ffmpeg freeglut3-dev xvfb  # For visualization\n",
        "!pip install stable-baselines[mpi]==2.10.2"
      ],
      "execution_count": 1,
      "outputs": [
        {
          "output_type": "stream",
          "name": "stdout",
          "text": [
            "TensorFlow 1.x selected.\n",
            "Reading package lists... Done\n",
            "Building dependency tree       \n",
            "Reading state information... Done\n",
            "freeglut3-dev is already the newest version (2.8.1-3).\n",
            "freeglut3-dev set to manually installed.\n",
            "ffmpeg is already the newest version (7:3.4.8-0ubuntu0.2).\n",
            "The following NEW packages will be installed:\n",
            "  xvfb\n",
            "0 upgraded, 1 newly installed, 0 to remove and 37 not upgraded.\n",
            "Need to get 784 kB of archives.\n",
            "After this operation, 2,271 kB of additional disk space will be used.\n",
            "Get:1 http://archive.ubuntu.com/ubuntu bionic-updates/universe amd64 xvfb amd64 2:1.19.6-1ubuntu4.10 [784 kB]\n",
            "Fetched 784 kB in 0s (7,745 kB/s)\n",
            "Selecting previously unselected package xvfb.\n",
            "(Reading database ... 155229 files and directories currently installed.)\n",
            "Preparing to unpack .../xvfb_2%3a1.19.6-1ubuntu4.10_amd64.deb ...\n",
            "Unpacking xvfb (2:1.19.6-1ubuntu4.10) ...\n",
            "Setting up xvfb (2:1.19.6-1ubuntu4.10) ...\n",
            "Processing triggers for man-db (2.8.3-2ubuntu0.1) ...\n",
            "Collecting stable-baselines[mpi]==2.10.2\n",
            "  Downloading stable_baselines-2.10.2-py3-none-any.whl (240 kB)\n",
            "\u001b[K     |████████████████████████████████| 240 kB 14.5 MB/s \n",
            "\u001b[?25hRequirement already satisfied: matplotlib in /usr/local/lib/python3.7/dist-packages (from stable-baselines[mpi]==2.10.2) (3.2.2)\n",
            "Requirement already satisfied: opencv-python in /usr/local/lib/python3.7/dist-packages (from stable-baselines[mpi]==2.10.2) (4.1.2.30)\n",
            "Requirement already satisfied: scipy in /usr/local/lib/python3.7/dist-packages (from stable-baselines[mpi]==2.10.2) (1.4.1)\n",
            "Requirement already satisfied: pandas in /usr/local/lib/python3.7/dist-packages (from stable-baselines[mpi]==2.10.2) (1.1.5)\n",
            "Requirement already satisfied: cloudpickle>=0.5.5 in /usr/local/lib/python3.7/dist-packages (from stable-baselines[mpi]==2.10.2) (1.3.0)\n",
            "Requirement already satisfied: joblib in /usr/local/lib/python3.7/dist-packages (from stable-baselines[mpi]==2.10.2) (1.1.0)\n",
            "Requirement already satisfied: numpy in /usr/local/lib/python3.7/dist-packages (from stable-baselines[mpi]==2.10.2) (1.19.5)\n",
            "Requirement already satisfied: gym[atari,classic_control]>=0.11 in /usr/local/lib/python3.7/dist-packages (from stable-baselines[mpi]==2.10.2) (0.17.3)\n",
            "Requirement already satisfied: mpi4py in /tensorflow-1.15.2/python3.7 (from stable-baselines[mpi]==2.10.2) (3.0.3)\n",
            "Requirement already satisfied: pyglet<=1.5.0,>=1.4.0 in /usr/local/lib/python3.7/dist-packages (from gym[atari,classic_control]>=0.11->stable-baselines[mpi]==2.10.2) (1.5.0)\n",
            "Requirement already satisfied: Pillow in /usr/local/lib/python3.7/dist-packages (from gym[atari,classic_control]>=0.11->stable-baselines[mpi]==2.10.2) (7.1.2)\n",
            "Requirement already satisfied: atari-py~=0.2.0 in /usr/local/lib/python3.7/dist-packages (from gym[atari,classic_control]>=0.11->stable-baselines[mpi]==2.10.2) (0.2.9)\n",
            "Requirement already satisfied: six in /usr/local/lib/python3.7/dist-packages (from atari-py~=0.2.0->gym[atari,classic_control]>=0.11->stable-baselines[mpi]==2.10.2) (1.15.0)\n",
            "Requirement already satisfied: future in /usr/local/lib/python3.7/dist-packages (from pyglet<=1.5.0,>=1.4.0->gym[atari,classic_control]>=0.11->stable-baselines[mpi]==2.10.2) (0.16.0)\n",
            "Requirement already satisfied: pyparsing!=2.0.4,!=2.1.2,!=2.1.6,>=2.0.1 in /usr/local/lib/python3.7/dist-packages (from matplotlib->stable-baselines[mpi]==2.10.2) (3.0.6)\n",
            "Requirement already satisfied: python-dateutil>=2.1 in /usr/local/lib/python3.7/dist-packages (from matplotlib->stable-baselines[mpi]==2.10.2) (2.8.2)\n",
            "Requirement already satisfied: cycler>=0.10 in /usr/local/lib/python3.7/dist-packages (from matplotlib->stable-baselines[mpi]==2.10.2) (0.11.0)\n",
            "Requirement already satisfied: kiwisolver>=1.0.1 in /usr/local/lib/python3.7/dist-packages (from matplotlib->stable-baselines[mpi]==2.10.2) (1.3.2)\n",
            "Requirement already satisfied: pytz>=2017.2 in /usr/local/lib/python3.7/dist-packages (from pandas->stable-baselines[mpi]==2.10.2) (2018.9)\n",
            "Installing collected packages: stable-baselines\n",
            "  Attempting uninstall: stable-baselines\n",
            "    Found existing installation: stable-baselines 2.2.1\n",
            "    Uninstalling stable-baselines-2.2.1:\n",
            "      Successfully uninstalled stable-baselines-2.2.1\n",
            "Successfully installed stable-baselines-2.10.2\n"
          ]
        }
      ]
    },
    {
      "cell_type": "code",
      "metadata": {
        "id": "U29X1-B-AIKE",
        "colab": {
          "base_uri": "https://localhost:8080/",
          "height": 237
        },
        "outputId": "44fd0e39-3b78-435e-e526-1bf0045f22cc"
      },
      "source": [
        "import stable_baselines\n",
        "stable_baselines.__version__"
      ],
      "execution_count": 2,
      "outputs": [
        {
          "output_type": "stream",
          "name": "stdout",
          "text": [
            "WARNING:tensorflow:\n",
            "The TensorFlow contrib module will not be included in TensorFlow 2.0.\n",
            "For more information, please see:\n",
            "  * https://github.com/tensorflow/community/blob/master/rfcs/20180907-contrib-sunset.md\n",
            "  * https://github.com/tensorflow/addons\n",
            "  * https://github.com/tensorflow/io (for I/O related ops)\n",
            "If you depend on functionality not listed there, please file an issue.\n",
            "\n"
          ]
        },
        {
          "output_type": "stream",
          "name": "stderr",
          "text": [
            "/usr/local/lib/python3.7/dist-packages/stable_baselines/__init__.py:33: UserWarning: stable-baselines is in maintenance mode, please use [Stable-Baselines3 (SB3)](https://github.com/DLR-RM/stable-baselines3) for an up-to-date version. You can find a [migration guide](https://stable-baselines3.readthedocs.io/en/master/guide/migration.html) in SB3 documentation.\n",
            "  \"stable-baselines is in maintenance mode, please use [Stable-Baselines3 (SB3)](https://github.com/DLR-RM/stable-baselines3) for an up-to-date version. You can find a [migration guide](https://stable-baselines3.readthedocs.io/en/master/guide/migration.html) in SB3 documentation.\"\n"
          ]
        },
        {
          "output_type": "execute_result",
          "data": {
            "application/vnd.google.colaboratory.intrinsic+json": {
              "type": "string"
            },
            "text/plain": [
              "'2.10.2'"
            ]
          },
          "metadata": {},
          "execution_count": 2
        }
      ]
    },
    {
      "cell_type": "markdown",
      "metadata": {
        "id": "FtY8FhliLsGm"
      },
      "source": [
        "## Imports"
      ]
    },
    {
      "cell_type": "markdown",
      "metadata": {
        "id": "gcX8hEcaUpR0"
      },
      "source": [
        "Stable-Baselines works on environments that follow the [gym interface](https://stable-baselines.readthedocs.io/en/master/guide/custom_env.html).\n",
        "You can find a list of available environment [here](https://gym.openai.com/envs/#classic_control).\n",
        "\n",
        "It is also recommended to check the [source code](https://github.com/openai/gym) to learn more about the observation and action space of each env, as gym does not have a proper documentation.\n",
        "Not all algorithms can work with all action spaces, you can find more in this [recap table](https://stable-baselines.readthedocs.io/en/master/guide/algos.html)"
      ]
    },
    {
      "cell_type": "code",
      "metadata": {
        "id": "BIedd7Pz9sOs"
      },
      "source": [
        "import gym\n",
        "import numpy as np"
      ],
      "execution_count": 3,
      "outputs": []
    },
    {
      "cell_type": "markdown",
      "metadata": {
        "id": "Ae32CtgzTG3R"
      },
      "source": [
        "The first thing you need to import is the RL model, check the documentation to know what you can use on which problem"
      ]
    },
    {
      "cell_type": "code",
      "metadata": {
        "id": "R7tKaBFrTR0a"
      },
      "source": [
        "from stable_baselines import TRPO"
      ],
      "execution_count": 5,
      "outputs": []
    },
    {
      "cell_type": "markdown",
      "metadata": {
        "id": "-0_8OQbOTTNT"
      },
      "source": [
        "The next thing you need to import is the policy class that will be used to create the networks (for the policy/value functions).\n",
        "This step is optional as you can directly use strings in the constructor: \n",
        "\n",
        "```PPO2('MlpPolicy', env)``` instead of ```PPO2(MlpPolicy, env)```\n",
        "\n",
        "Note that some algorithms like `SAC` have their own `MlpPolicy` (different from `stable_baselines.common.policies.MlPolicy`), that's why using string for the policy is the recommened option."
      ]
    },
    {
      "cell_type": "code",
      "metadata": {
        "id": "ROUJr675TT01"
      },
      "source": [
        "from stable_baselines.common.policies import MlpPolicy"
      ],
      "execution_count": 6,
      "outputs": []
    },
    {
      "cell_type": "markdown",
      "metadata": {
        "id": "RapkYvTXL7Cd"
      },
      "source": [
        "## Create the Gym env and instantiate the agent\n",
        "\n",
        "For this example, we will use CartPole environment, a classic control problem.\n",
        "\n",
        "\"A pole is attached by an un-actuated joint to a cart, which moves along a frictionless track. The system is controlled by applying a force of +1 or -1 to the cart. The pendulum starts upright, and the goal is to prevent it from falling over. A reward of +1 is provided for every timestep that the pole remains upright. \"\n",
        "\n",
        "Cartpole environment: [https://gym.openai.com/envs/CartPole-v1/](https://gym.openai.com/envs/CartPole-v1/)\n",
        "\n",
        "![Cartpole](https://cdn-images-1.medium.com/max/1143/1*h4WTQNVIsvMXJTCpXm_TAw.gif)\n",
        "\n",
        "Note: vectorized environments allow to easily multiprocess training. In this example, we are using only one process, hence the DummyVecEnv.\n",
        "\n",
        "We chose the MlpPolicy because input of CartPole is a feature vector, not images.\n",
        "\n",
        "The type of action to use (discrete/continuous) will be automatically deduced from the environment action space\n",
        "\n",
        "\n",
        "Here we are using the [Proximal Policy Optimization](https://stable-baselines.readthedocs.io/en/master/modules/ppo2.html) algorithm (PPO2 is the version optimized for GPU), which is an Actor-Critic method: it uses a value function to improve the policy gradient descent (by reducing the variance).\n",
        "\n",
        "It combines ideas from [A2C](https://stable-baselines.readthedocs.io/en/master/modules/a2c.html) (having multiple workers and using an entropy bonus for exploration) and [TRPO](https://stable-baselines.readthedocs.io/en/master/modules/trpo.html) (it uses a trust region to improve stability and avoid catastrophic drops in performance).\n",
        "\n",
        "PPO is an on-policy algorithm, which means that the trajectories used to update the networks must be collected using the latest policy.\n",
        "It is usually less sample efficient than off-policy alorithms like [DQN](https://stable-baselines.readthedocs.io/en/master/modules/dqn.html), [SAC](https://stable-baselines.readthedocs.io/en/master/modules/sac.html) or [TD3](https://stable-baselines.readthedocs.io/en/master/modules/td3.html), but is much faster regarding wall-clock time.\n"
      ]
    },
    {
      "cell_type": "code",
      "metadata": {
        "id": "pUWGZp3i9wyf",
        "colab": {
          "base_uri": "https://localhost:8080/"
        },
        "outputId": "a220bba8-27f9-4ae4-a7fe-e217dc1e3286"
      },
      "source": [
        "env = gym.make('CartPole-v1')\n",
        "# vectorized environments allow to easily multiprocess training\n",
        "# we demonstrate its usefulness in the next examples\n",
        "# env = DummyVecEnv([lambda: env])\n",
        "\n",
        "model = TRPO(MlpPolicy, env, verbose=0)"
      ],
      "execution_count": 7,
      "outputs": [
        {
          "output_type": "stream",
          "name": "stdout",
          "text": [
            "WARNING:tensorflow:From /usr/local/lib/python3.7/dist-packages/stable_baselines/common/tf_util.py:191: The name tf.ConfigProto is deprecated. Please use tf.compat.v1.ConfigProto instead.\n",
            "\n",
            "WARNING:tensorflow:From /usr/local/lib/python3.7/dist-packages/stable_baselines/common/tf_util.py:200: The name tf.Session is deprecated. Please use tf.compat.v1.Session instead.\n",
            "\n",
            "WARNING:tensorflow:From /usr/local/lib/python3.7/dist-packages/stable_baselines/common/policies.py:116: The name tf.variable_scope is deprecated. Please use tf.compat.v1.variable_scope instead.\n",
            "\n",
            "WARNING:tensorflow:From /usr/local/lib/python3.7/dist-packages/stable_baselines/common/input.py:25: The name tf.placeholder is deprecated. Please use tf.compat.v1.placeholder instead.\n",
            "\n",
            "WARNING:tensorflow:From /usr/local/lib/python3.7/dist-packages/stable_baselines/common/policies.py:561: flatten (from tensorflow.python.layers.core) is deprecated and will be removed in a future version.\n",
            "Instructions for updating:\n",
            "Use keras.layers.flatten instead.\n",
            "WARNING:tensorflow:From /tensorflow-1.15.2/python3.7/tensorflow_core/python/layers/core.py:332: Layer.apply (from tensorflow.python.keras.engine.base_layer) is deprecated and will be removed in a future version.\n",
            "Instructions for updating:\n",
            "Please use `layer.__call__` method instead.\n",
            "WARNING:tensorflow:From /usr/local/lib/python3.7/dist-packages/stable_baselines/common/tf_layers.py:123: The name tf.get_variable is deprecated. Please use tf.compat.v1.get_variable instead.\n",
            "\n",
            "WARNING:tensorflow:From /usr/local/lib/python3.7/dist-packages/stable_baselines/common/distributions.py:326: The name tf.random_uniform is deprecated. Please use tf.random.uniform instead.\n",
            "\n",
            "WARNING:tensorflow:From /usr/local/lib/python3.7/dist-packages/stable_baselines/common/distributions.py:327: The name tf.log is deprecated. Please use tf.math.log instead.\n",
            "\n",
            "WARNING:tensorflow:From /usr/local/lib/python3.7/dist-packages/stable_baselines/common/tf_util.py:449: The name tf.get_collection is deprecated. Please use tf.compat.v1.get_collection instead.\n",
            "\n",
            "WARNING:tensorflow:From /usr/local/lib/python3.7/dist-packages/stable_baselines/common/tf_util.py:449: The name tf.GraphKeys is deprecated. Please use tf.compat.v1.GraphKeys instead.\n",
            "\n",
            "WARNING:tensorflow:From /usr/local/lib/python3.7/dist-packages/stable_baselines/common/tf_util.py:407: The name tf.assign is deprecated. Please use tf.compat.v1.assign instead.\n",
            "\n",
            "WARNING:tensorflow:From /usr/local/lib/python3.7/dist-packages/stable_baselines/trpo_mpi/trpo_mpi.py:192: The name tf.summary.scalar is deprecated. Please use tf.compat.v1.summary.scalar instead.\n",
            "\n",
            "WARNING:tensorflow:From /usr/local/lib/python3.7/dist-packages/stable_baselines/common/tf_util.py:241: The name tf.global_variables is deprecated. Please use tf.compat.v1.global_variables instead.\n",
            "\n",
            "WARNING:tensorflow:From /usr/local/lib/python3.7/dist-packages/stable_baselines/common/tf_util.py:242: The name tf.variables_initializer is deprecated. Please use tf.compat.v1.variables_initializer instead.\n",
            "\n",
            "WARNING:tensorflow:From /usr/local/lib/python3.7/dist-packages/stable_baselines/trpo_mpi/trpo_mpi.py:266: The name tf.summary.merge_all is deprecated. Please use tf.compat.v1.summary.merge_all instead.\n",
            "\n"
          ]
        }
      ]
    },
    {
      "cell_type": "markdown",
      "metadata": {
        "id": "4efFdrQ7MBvl"
      },
      "source": [
        "We create a helper function to evaluate the agent:"
      ]
    },
    {
      "cell_type": "code",
      "metadata": {
        "id": "63M8mSKR-6Zt"
      },
      "source": [
        "def evaluate(model, num_episodes=100):\n",
        "    \"\"\"\n",
        "    Evaluate a RL agent\n",
        "    :param model: (BaseRLModel object) the RL Agent\n",
        "    :param num_episodes: (int) number of episodes to evaluate it\n",
        "    :return: (float) Mean reward for the last num_episodes\n",
        "    \"\"\"\n",
        "    # This function will only work for a single Environment\n",
        "    env = model.get_env()\n",
        "    all_episode_rewards = []\n",
        "    for i in range(num_episodes):\n",
        "        episode_rewards = []\n",
        "        done = False\n",
        "        obs = env.reset()\n",
        "        while not done:\n",
        "            # _states are only useful when using LSTM policies\n",
        "            action, _states = model.predict(obs)\n",
        "            # here, action, rewards and dones are arrays\n",
        "            # because we are using vectorized env\n",
        "            obs, reward, done, info = env.step(action)\n",
        "            episode_rewards.append(reward)\n",
        "\n",
        "        all_episode_rewards.append(sum(episode_rewards))\n",
        "\n",
        "    mean_episode_reward = np.mean(all_episode_rewards)\n",
        "    print(\"Mean reward:\", mean_episode_reward, \"Num episodes:\", num_episodes)\n",
        "\n",
        "    return mean_episode_reward"
      ],
      "execution_count": 8,
      "outputs": []
    },
    {
      "cell_type": "markdown",
      "metadata": {
        "id": "6hkyafs--gJz"
      },
      "source": [
        "In fact, Stable-Baselines already provides you with that helper:"
      ]
    },
    {
      "cell_type": "code",
      "metadata": {
        "id": "s6ZNldIR-fce"
      },
      "source": [
        "from stable_baselines.common.evaluation import evaluate_policy"
      ],
      "execution_count": 9,
      "outputs": []
    },
    {
      "cell_type": "markdown",
      "metadata": {
        "id": "zjEVOIY8NVeK"
      },
      "source": [
        "Let's evaluate the un-trained agent, this should be a random agent."
      ]
    },
    {
      "cell_type": "code",
      "metadata": {
        "id": "xDHLMA6NFk95",
        "outputId": "a66bbaa5-782d-4815-8121-108708301fae",
        "colab": {
          "base_uri": "https://localhost:8080/"
        }
      },
      "source": [
        "# Use a separate environement for evaluation\n",
        "eval_env = gym.make('CartPole-v1')\n",
        "\n",
        "# Random Agent, before training\n",
        "mean_reward, std_reward = evaluate_policy(model, eval_env, n_eval_episodes=100)\n",
        "\n",
        "print(f\"mean_reward:{mean_reward:.2f} +/- {std_reward:.2f}\")"
      ],
      "execution_count": 10,
      "outputs": [
        {
          "output_type": "stream",
          "name": "stdout",
          "text": [
            "mean_reward:330.81 +/- 179.45\n"
          ]
        }
      ]
    },
    {
      "cell_type": "markdown",
      "metadata": {
        "id": "r5UoXTZPNdFE"
      },
      "source": [
        "## Train the agent and evaluate it"
      ]
    },
    {
      "cell_type": "code",
      "metadata": {
        "id": "e4cfSXIB-pTF",
        "outputId": "c63b380b-d2a8-419d-e228-c3aee78ebbb0",
        "colab": {
          "base_uri": "https://localhost:8080/"
        }
      },
      "source": [
        "# Train the agent for 10000 steps\n",
        "model.learn(total_timesteps=10000)"
      ],
      "execution_count": 11,
      "outputs": [
        {
          "output_type": "stream",
          "name": "stdout",
          "text": [
            "WARNING:tensorflow:From /usr/local/lib/python3.7/dist-packages/stable_baselines/trpo_mpi/trpo_mpi.py:364: The name tf.RunOptions is deprecated. Please use tf.compat.v1.RunOptions instead.\n",
            "\n"
          ]
        },
        {
          "output_type": "execute_result",
          "data": {
            "text/plain": [
              "<stable_baselines.trpo_mpi.trpo_mpi.TRPO at 0x7f23e6bdf9d0>"
            ]
          },
          "metadata": {},
          "execution_count": 11
        }
      ]
    },
    {
      "cell_type": "code",
      "metadata": {
        "id": "ygl_gVmV_QP7",
        "outputId": "f136b3c1-6e7a-4140-dd72-1945ae0490bc",
        "colab": {
          "base_uri": "https://localhost:8080/"
        }
      },
      "source": [
        "# Evaluate the trained agent\n",
        "mean_reward, std_reward = evaluate_policy(model, eval_env, n_eval_episodes=100)\n",
        "\n",
        "print(f\"mean_reward:{mean_reward:.2f} +/- {std_reward:.2f}\")"
      ],
      "execution_count": 13,
      "outputs": [
        {
          "output_type": "stream",
          "name": "stdout",
          "text": [
            "mean_reward:293.29 +/- 66.15\n"
          ]
        }
      ]
    },
    {
      "cell_type": "markdown",
      "metadata": {
        "id": "A00W6yY3NkHG"
      },
      "source": [
        "Apparently the training went well, the mean reward increased a lot ! "
      ]
    },
    {
      "cell_type": "markdown",
      "metadata": {
        "id": "xVm9QPNVwKXN"
      },
      "source": [
        "### Prepare video recording"
      ]
    },
    {
      "cell_type": "code",
      "metadata": {
        "id": "MPyfQxD5z26J"
      },
      "source": [
        "# Set up fake display; otherwise rendering will fail\n",
        "import os\n",
        "os.system(\"Xvfb :1 -screen 0 1024x768x24 &\")\n",
        "os.environ['DISPLAY'] = ':1'"
      ],
      "execution_count": 14,
      "outputs": []
    },
    {
      "cell_type": "code",
      "metadata": {
        "id": "SLzXxO8VMD6N"
      },
      "source": [
        "import base64\n",
        "from pathlib import Path\n",
        "\n",
        "from IPython import display as ipythondisplay\n",
        "\n",
        "def show_videos(video_path='', prefix=''):\n",
        "  \"\"\"\n",
        "  Taken from https://github.com/eleurent/highway-env\n",
        "\n",
        "  :param video_path: (str) Path to the folder containing videos\n",
        "  :param prefix: (str) Filter the video, showing only the only starting with this prefix\n",
        "  \"\"\"\n",
        "  html = []\n",
        "  for mp4 in Path(video_path).glob(\"{}*.mp4\".format(prefix)):\n",
        "      video_b64 = base64.b64encode(mp4.read_bytes())\n",
        "      html.append('''<video alt=\"{}\" autoplay \n",
        "                    loop controls style=\"height: 400px;\">\n",
        "                    <source src=\"data:video/mp4;base64,{}\" type=\"video/mp4\" />\n",
        "                </video>'''.format(mp4, video_b64.decode('ascii')))\n",
        "  ipythondisplay.display(ipythondisplay.HTML(data=\"<br>\".join(html)))"
      ],
      "execution_count": 15,
      "outputs": []
    },
    {
      "cell_type": "markdown",
      "metadata": {
        "id": "LTRNUfulOGaF"
      },
      "source": [
        "We will record a video using the [VecVideoRecorder](https://stable-baselines.readthedocs.io/en/master/guide/vec_envs.html#vecvideorecorder) wrapper, you will learn about those wrapper in the next notebook."
      ]
    },
    {
      "cell_type": "code",
      "metadata": {
        "id": "Trag9dQpOIhx"
      },
      "source": [
        "from stable_baselines.common.vec_env import VecVideoRecorder, DummyVecEnv\n",
        "\n",
        "def record_video(env_id, model, video_length=500, prefix='', video_folder='videos/'):\n",
        "  \"\"\"\n",
        "  :param env_id: (str)\n",
        "  :param model: (RL model)\n",
        "  :param video_length: (int)\n",
        "  :param prefix: (str)\n",
        "  :param video_folder: (str)\n",
        "  \"\"\"\n",
        "  eval_env = DummyVecEnv([lambda: gym.make('CartPole-v1')])\n",
        "  # Start the video at step=0 and record 500 steps\n",
        "  eval_env = VecVideoRecorder(eval_env, video_folder=video_folder,\n",
        "                              record_video_trigger=lambda step: step == 0, video_length=video_length,\n",
        "                              name_prefix=prefix)\n",
        "\n",
        "  obs = eval_env.reset()\n",
        "  for _ in range(video_length):\n",
        "    action, _ = model.predict(obs)\n",
        "    obs, _, _, _ = eval_env.step(action)\n",
        "\n",
        "  # Close the video recorder\n",
        "  eval_env.close()"
      ],
      "execution_count": 16,
      "outputs": []
    },
    {
      "cell_type": "markdown",
      "metadata": {
        "id": "KOObbeu5MMlR"
      },
      "source": [
        "### Visualize trained agent\n",
        "\n"
      ]
    },
    {
      "cell_type": "code",
      "metadata": {
        "id": "iATu7AiyMQW2",
        "outputId": "7fc07fe0-3650-44c5-d3e6-8abe231b2a74",
        "colab": {
          "base_uri": "https://localhost:8080/"
        }
      },
      "source": [
        "record_video('CartPole-v1', model, video_length=500, prefix='trpo-cartpole')"
      ],
      "execution_count": 18,
      "outputs": [
        {
          "output_type": "stream",
          "name": "stdout",
          "text": [
            "Saving video to  /content/videos/trpo-cartpole-step-0-to-step-500.mp4\n"
          ]
        }
      ]
    },
    {
      "cell_type": "code",
      "metadata": {
        "id": "-n4i-fW3NojZ",
        "outputId": "e55c32d1-3c73-4a09-8ca4-98b823600e14",
        "colab": {
          "base_uri": "https://localhost:8080/",
          "height": 420
        }
      },
      "source": [
        "show_videos('videos', prefix='trpo')"
      ],
      "execution_count": 20,
      "outputs": [
        {
          "output_type": "display_data",
          "data": {
            "text/html": [
              "<video alt=\"videos/trpo-cartpole-step-0-to-step-500.mp4\" autoplay \n",
              "                    loop controls style=\"height: 400px;\">\n",
              "                    <source src=\"data:video/mp4;base64,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\" type=\"video/mp4\" />\n",
              "                </video>"
            ],
            "text/plain": [
              "<IPython.core.display.HTML object>"
            ]
          },
          "metadata": {}
        }
      ]
    },
    {
      "cell_type": "markdown",
      "metadata": {
        "id": "9Y8zg4V566qD"
      },
      "source": [
        "## Bonus: Train a RL Model in One Line\n",
        "\n",
        "The policy class to use will be inferred and the environment will be automatically created. This works because both are [registered](https://stable-baselines.readthedocs.io/en/master/guide/quickstart.html)."
      ]
    },
    {
      "cell_type": "code",
      "metadata": {
        "id": "iaOPfOrwWEP4",
        "colab": {
          "base_uri": "https://localhost:8080/"
        },
        "outputId": "8425c1b6-88de-4484-b7a5-66a5b7cd5982"
      },
      "source": [
        "model = TRPO('MlpPolicy', \"CartPole-v1\", verbose=1).learn(1000)"
      ],
      "execution_count": 21,
      "outputs": [
        {
          "output_type": "stream",
          "name": "stdout",
          "text": [
            "Creating environment from the given name, wrapped in a DummyVecEnv.\n",
            "********** Iteration 0 ************\n",
            "Optimizing Policy...\n",
            "\u001b[35msampling\u001b[0m\n",
            "\u001b[35mdone in 1.627 seconds\u001b[0m\n",
            "\u001b[35mcomputegrad\u001b[0m\n",
            "\u001b[35mdone in 0.096 seconds\u001b[0m\n",
            "\u001b[35mconjugate_gradient\u001b[0m\n",
            "      iter residual norm  soln norm\n",
            "         0     0.0376          0\n",
            "         1   0.000447      0.143\n",
            "         2   0.000312      0.169\n",
            "         3   1.78e-05      0.433\n",
            "         4   6.83e-08      0.597\n",
            "         5   2.68e-07      0.597\n",
            "         6   1.93e-09      0.598\n",
            "         7   1.16e-08      0.598\n",
            "         8   7.79e-12      0.598\n",
            "\u001b[35mdone in 0.151 seconds\u001b[0m\n",
            "Expected: 0.027 Actual: 0.027\n",
            "Stepsize OK!\n",
            "\u001b[35mvf\u001b[0m\n",
            "\u001b[35mdone in 0.104 seconds\u001b[0m\n",
            "-----------------------------------------\n",
            "| EpLenMean               | 20.1        |\n",
            "| EpRewMean               | 20.1        |\n",
            "| EpThisIter              | 49          |\n",
            "| EpisodesSoFar           | 49          |\n",
            "| TimeElapsed             | 2.07        |\n",
            "| TimestepsSoFar          | 1024        |\n",
            "| entloss                 | 0.0         |\n",
            "| entropy                 | 0.68373     |\n",
            "| explained_variance_t... | 0.000793    |\n",
            "| meankl                  | 0.009324925 |\n",
            "| optimgain               | 0.026500195 |\n",
            "| surrgain                | 0.026500195 |\n",
            "-----------------------------------------\n"
          ]
        }
      ]
    },
    {
      "cell_type": "code",
      "metadata": {
        "id": "Se8SHBN17Fy4"
      },
      "source": [
        ""
      ],
      "execution_count": null,
      "outputs": []
    },
    {
      "cell_type": "markdown",
      "metadata": {
        "id": "WBf84jU05mgi"
      },
      "source": [
        "## Train a DQN agent\n",
        "\n",
        "In the previous example, we have used PPO, which one of the many algorithms provided by stable-baselines.\n",
        "\n",
        "In the next example, we are going train a [Deep Q-Network agent (DQN)](https://stable-baselines.readthedocs.io/en/master/modules/dqn.html), and try to see possible improvements provided by its extensions (Double-DQN, Dueling-DQN, Prioritized Experience Replay).\n",
        "\n",
        "The essential point of this section is to show you how simple it is to tweak hyperparameters.\n",
        "\n",
        "The main advantage of stable-baselines is that it provides a common interface to use the algorithms, so the code will be quite similar.\n",
        "\n",
        "\n",
        "DQN paper: https://arxiv.org/abs/1312.5602\n",
        "\n",
        "Dueling DQN: https://arxiv.org/abs/1511.06581\n",
        "\n",
        "Double-Q Learning: https://arxiv.org/abs/1509.06461\n",
        "\n",
        "Prioritized Experience Replay: https://arxiv.org/abs/1511.05952"
      ]
    },
    {
      "cell_type": "markdown",
      "metadata": {
        "id": "kikNl-tT92Ae"
      },
      "source": [
        "### Vanilla DQN: DQN without extensions"
      ]
    },
    {
      "cell_type": "code",
      "metadata": {
        "id": "tdLdYABz8TJx"
      },
      "source": [
        "# Same as before we instantiate the agent along with the environment\n",
        "from stable_baselines import DQN\n",
        "\n",
        "# Deactivate all the DQN extensions to have the original version\n",
        "# In practice, it is recommend to have them activated\n",
        "kwargs = {'double_q': False, 'prioritized_replay': False, 'policy_kwargs': dict(dueling=False)}\n",
        "\n",
        "# Note that the MlpPolicy of DQN is different from the one of PPO\n",
        "# but stable-baselines handles that automatically if you pass a string\n",
        "dqn_model = DQN('MlpPolicy', 'CartPole-v1', verbose=1, **kwargs)"
      ],
      "execution_count": null,
      "outputs": []
    },
    {
      "cell_type": "code",
      "metadata": {
        "id": "E4A_IOZ_9fzW",
        "outputId": "b682bbf9-5de9-40d2-f9ff-b031598c5dd2",
        "colab": {
          "base_uri": "https://localhost:8080/",
          "height": 35
        }
      },
      "source": [
        "# Random Agent, before training\n",
        "mean_reward_before_train = evaluate(dqn_model, num_episodes=100)"
      ],
      "execution_count": null,
      "outputs": [
        {
          "output_type": "stream",
          "text": [
            "Mean reward: 9.29 Num episodes: 100\n"
          ],
          "name": "stdout"
        }
      ]
    },
    {
      "cell_type": "code",
      "metadata": {
        "id": "4wbuvAKk9spH"
      },
      "source": [
        "# Train the agent for 10000 steps\n",
        "dqn_model.learn(total_timesteps=10000, log_interval=10)"
      ],
      "execution_count": null,
      "outputs": []
    },
    {
      "cell_type": "code",
      "metadata": {
        "id": "QDQTdpYv9xJN",
        "outputId": "363f5ed3-5bb1-4ce2-e218-10018818ecc9",
        "colab": {
          "base_uri": "https://localhost:8080/",
          "height": 35
        }
      },
      "source": [
        "# Evaluate the trained agent\n",
        "mean_reward = evaluate(dqn_model, num_episodes=100)"
      ],
      "execution_count": null,
      "outputs": [
        {
          "output_type": "stream",
          "text": [
            "Mean reward: 130.02 Num episodes: 100\n"
          ],
          "name": "stdout"
        }
      ]
    },
    {
      "cell_type": "markdown",
      "metadata": {
        "id": "GFJvqsMl96l7"
      },
      "source": [
        "### DQN + Prioritized Replay"
      ]
    },
    {
      "cell_type": "code",
      "metadata": {
        "id": "roCSjGu69-lA"
      },
      "source": [
        "# Activate only the prioritized replay\n",
        "kwargs = {'double_q': False, 'prioritized_replay': True, 'policy_kwargs': dict(dueling=False)}\n",
        "\n",
        "dqn_per_model = DQN('MlpPolicy', 'CartPole-v1', verbose=1, **kwargs)"
      ],
      "execution_count": null,
      "outputs": []
    },
    {
      "cell_type": "code",
      "metadata": {
        "id": "DLnLhos5-lRm"
      },
      "source": [
        "dqn_per_model.learn(total_timesteps=10000, log_interval=10)"
      ],
      "execution_count": null,
      "outputs": []
    },
    {
      "cell_type": "code",
      "metadata": {
        "id": "xQjF5S_g-mFN",
        "outputId": "4ce14e23-8f2b-40c1-90e1-b333d36f6997",
        "colab": {
          "base_uri": "https://localhost:8080/",
          "height": 35
        }
      },
      "source": [
        "# Evaluate the trained agent\n",
        "mean_reward = evaluate(dqn_per_model, num_episodes=100)"
      ],
      "execution_count": null,
      "outputs": [
        {
          "output_type": "stream",
          "text": [
            "Mean reward: 110.18 Num episodes: 100\n"
          ],
          "name": "stdout"
        }
      ]
    },
    {
      "cell_type": "markdown",
      "metadata": {
        "id": "Skny8MUN9_Ky"
      },
      "source": [
        "### DQN + Prioritized Experience Replay + Double Q-Learning + Dueling"
      ]
    },
    {
      "cell_type": "code",
      "metadata": {
        "id": "fDCys-Vg-yYR",
        "outputId": "a3bc7511-d247-47ca-952e-53e95a1597a6",
        "colab": {
          "base_uri": "https://localhost:8080/",
          "height": 35
        }
      },
      "source": [
        "# Activate all extensions\n",
        "kwargs = {'double_q': True, 'prioritized_replay': True, 'policy_kwargs': dict(dueling=True)}\n",
        "\n",
        "dqn_full_model = DQN('MlpPolicy', 'CartPole-v1', verbose=1, **kwargs)"
      ],
      "execution_count": null,
      "outputs": [
        {
          "output_type": "stream",
          "text": [
            "Creating environment from the given name, wrapped in a DummyVecEnv.\n"
          ],
          "name": "stdout"
        }
      ]
    },
    {
      "cell_type": "code",
      "metadata": {
        "id": "koHGB-VN-81O"
      },
      "source": [
        "dqn_full_model.learn(total_timesteps=10000, log_interval=10)"
      ],
      "execution_count": null,
      "outputs": []
    },
    {
      "cell_type": "code",
      "metadata": {
        "id": "6cHRULdp--nN",
        "outputId": "5b2a3471-f6fe-4594-8f91-e4c62505a07a",
        "colab": {
          "base_uri": "https://localhost:8080/",
          "height": 35
        }
      },
      "source": [
        "mean_reward = evaluate(dqn_per_model, num_episodes=100)"
      ],
      "execution_count": null,
      "outputs": [
        {
          "output_type": "stream",
          "text": [
            "Mean reward: 110.02 Num episodes: 100\n"
          ],
          "name": "stdout"
        }
      ]
    },
    {
      "cell_type": "markdown",
      "metadata": {
        "id": "n4Q9dR3UC5Zb"
      },
      "source": [
        "In this particular example, the extensions does not seem to give any improvement compared to the simple DQN version.\n",
        "They are several reasons for that:\n",
        "\n",
        "1. `CartPole-v1` is a pretty simple environment\n",
        "2. We trained DQN for very few timesteps, not enough to see any difference\n",
        "3. The default hyperparameters for DQN are tuned for atari games, where the number of training timesteps is much larger (10^6) and input observations are images\n",
        "4. We have only compared one random seed per experiment"
      ]
    },
    {
      "cell_type": "markdown",
      "metadata": {
        "id": "FrI6f5fWnzp-"
      },
      "source": [
        "## Conclusion\n",
        "\n",
        "In this notebook we have seen:\n",
        "- how to define and train a RL model using stable baselines, it takes only one line of code ;)\n",
        "- how to use different RL algorithms and change some hyperparameters"
      ]
    },
    {
      "cell_type": "code",
      "metadata": {
        "id": "73ji3gbNDkf7"
      },
      "source": [
        ""
      ],
      "execution_count": null,
      "outputs": []
    }
  ]
}