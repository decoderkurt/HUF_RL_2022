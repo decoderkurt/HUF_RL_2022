{
  "nbformat": 4,
  "nbformat_minor": 0,
  "metadata": {
    "colab": {
      "name": "1_getting_started.ipynb",
      "provenance": [],
      "collapsed_sections": [],
      "include_colab_link": true
    },
    "kernelspec": {
      "name": "python3",
      "display_name": "Python 3"
    },
    "accelerator": "GPU"
  },
  "cells": [
    {
      "cell_type": "markdown",
      "metadata": {
        "id": "view-in-github",
        "colab_type": "text"
      },
      "source": [
        "<a href=\"https://colab.research.google.com/github/decoderkurt/HUF_RL_2022/blob/main/19/stable_baselines_getting_started.ipynb\" target=\"_parent\"><img src=\"https://colab.research.google.com/assets/colab-badge.svg\" alt=\"Open In Colab\"/></a>"
      ]
    },
    {
      "cell_type": "markdown",
      "metadata": {
        "id": "hyyN-2qyK_T2"
      },
      "source": [
        "# Stable Baselines Tutorial - Getting Started\n",
        "\n",
        "Github repo: https://github.com/araffin/rl-tutorial-jnrr19\n",
        "\n",
        "Stable-Baselines: https://github.com/hill-a/stable-baselines\n",
        "\n",
        "Documentation: https://stable-baselines.readthedocs.io/en/master/\n",
        "\n",
        "RL Baselines zoo: https://github.com/araffin/rl-baselines-zoo\n",
        "\n",
        "Medium article: [https://medium.com/@araffin/stable-baselines-a-fork-of-openai-baselines-df87c4b2fc82](https://medium.com/@araffin/stable-baselines-a-fork-of-openai-baselines-df87c4b2fc82)\n",
        "\n",
        "[RL Baselines Zoo](https://github.com/araffin/rl-baselines-zoo) is a collection of pre-trained Reinforcement Learning agents using Stable-Baselines.\n",
        "\n",
        "It also provides basic scripts for training, evaluating agents, tuning hyperparameters and recording videos.\n",
        "\n",
        "\n",
        "## Introduction\n",
        "\n",
        "In this notebook, you will learn the basics for using stable baselines library: how to create a RL model, train it and evaluate it. Because all algorithms share the same interface, we will see how simple it is to switch from one algorithm to another.\n",
        "\n",
        "\n",
        "## Install Dependencies and Stable Baselines Using Pip\n",
        "\n",
        "List of full dependencies can be found in the [README](https://github.com/hill-a/stable-baselines).\n",
        "\n",
        "```\n",
        "sudo apt-get update && sudo apt-get install cmake libopenmpi-dev zlib1g-dev\n",
        "```\n",
        "\n",
        "\n",
        "```\n",
        "pip install stable-baselines[mpi]\n",
        "```"
      ]
    },
    {
      "cell_type": "code",
      "metadata": {
        "id": "gWskDE2c9WoN",
        "colab": {
          "base_uri": "https://localhost:8080/"
        },
        "outputId": "fabb0eb3-30b6-4bec-d9ca-d7842aedbc9d"
      },
      "source": [
        "# Stable Baselines only supports tensorflow 1.x for now\n",
        "%tensorflow_version 1.x\n",
        "!apt-get install ffmpeg freeglut3-dev xvfb  # For visualization\n",
        "!pip install stable-baselines[mpi]==2.10.2"
      ],
      "execution_count": 1,
      "outputs": [
        {
          "output_type": "stream",
          "name": "stdout",
          "text": [
            "TensorFlow 1.x selected.\n",
            "Reading package lists... Done\n",
            "Building dependency tree       \n",
            "Reading state information... Done\n",
            "freeglut3-dev is already the newest version (2.8.1-3).\n",
            "freeglut3-dev set to manually installed.\n",
            "ffmpeg is already the newest version (7:3.4.8-0ubuntu0.2).\n",
            "The following NEW packages will be installed:\n",
            "  xvfb\n",
            "0 upgraded, 1 newly installed, 0 to remove and 37 not upgraded.\n",
            "Need to get 784 kB of archives.\n",
            "After this operation, 2,271 kB of additional disk space will be used.\n",
            "Get:1 http://archive.ubuntu.com/ubuntu bionic-updates/universe amd64 xvfb amd64 2:1.19.6-1ubuntu4.10 [784 kB]\n",
            "Fetched 784 kB in 1s (1,069 kB/s)\n",
            "Selecting previously unselected package xvfb.\n",
            "(Reading database ... 155229 files and directories currently installed.)\n",
            "Preparing to unpack .../xvfb_2%3a1.19.6-1ubuntu4.10_amd64.deb ...\n",
            "Unpacking xvfb (2:1.19.6-1ubuntu4.10) ...\n",
            "Setting up xvfb (2:1.19.6-1ubuntu4.10) ...\n",
            "Processing triggers for man-db (2.8.3-2ubuntu0.1) ...\n",
            "Collecting stable-baselines[mpi]==2.10.2\n",
            "  Downloading stable_baselines-2.10.2-py3-none-any.whl (240 kB)\n",
            "\u001b[K     |████████████████████████████████| 240 kB 5.1 MB/s \n",
            "\u001b[?25hRequirement already satisfied: pandas in /usr/local/lib/python3.7/dist-packages (from stable-baselines[mpi]==2.10.2) (1.1.5)\n",
            "Requirement already satisfied: matplotlib in /usr/local/lib/python3.7/dist-packages (from stable-baselines[mpi]==2.10.2) (3.2.2)\n",
            "Requirement already satisfied: opencv-python in /usr/local/lib/python3.7/dist-packages (from stable-baselines[mpi]==2.10.2) (4.1.2.30)\n",
            "Requirement already satisfied: joblib in /usr/local/lib/python3.7/dist-packages (from stable-baselines[mpi]==2.10.2) (1.1.0)\n",
            "Requirement already satisfied: numpy in /usr/local/lib/python3.7/dist-packages (from stable-baselines[mpi]==2.10.2) (1.19.5)\n",
            "Requirement already satisfied: gym[atari,classic_control]>=0.11 in /usr/local/lib/python3.7/dist-packages (from stable-baselines[mpi]==2.10.2) (0.17.3)\n",
            "Requirement already satisfied: scipy in /usr/local/lib/python3.7/dist-packages (from stable-baselines[mpi]==2.10.2) (1.4.1)\n",
            "Requirement already satisfied: cloudpickle>=0.5.5 in /usr/local/lib/python3.7/dist-packages (from stable-baselines[mpi]==2.10.2) (1.3.0)\n",
            "Requirement already satisfied: mpi4py in /tensorflow-1.15.2/python3.7 (from stable-baselines[mpi]==2.10.2) (3.0.3)\n",
            "Requirement already satisfied: pyglet<=1.5.0,>=1.4.0 in /usr/local/lib/python3.7/dist-packages (from gym[atari,classic_control]>=0.11->stable-baselines[mpi]==2.10.2) (1.5.0)\n",
            "Requirement already satisfied: Pillow in /usr/local/lib/python3.7/dist-packages (from gym[atari,classic_control]>=0.11->stable-baselines[mpi]==2.10.2) (7.1.2)\n",
            "Requirement already satisfied: atari-py~=0.2.0 in /usr/local/lib/python3.7/dist-packages (from gym[atari,classic_control]>=0.11->stable-baselines[mpi]==2.10.2) (0.2.9)\n",
            "Requirement already satisfied: six in /usr/local/lib/python3.7/dist-packages (from atari-py~=0.2.0->gym[atari,classic_control]>=0.11->stable-baselines[mpi]==2.10.2) (1.15.0)\n",
            "Requirement already satisfied: future in /usr/local/lib/python3.7/dist-packages (from pyglet<=1.5.0,>=1.4.0->gym[atari,classic_control]>=0.11->stable-baselines[mpi]==2.10.2) (0.16.0)\n",
            "Requirement already satisfied: kiwisolver>=1.0.1 in /usr/local/lib/python3.7/dist-packages (from matplotlib->stable-baselines[mpi]==2.10.2) (1.3.2)\n",
            "Requirement already satisfied: python-dateutil>=2.1 in /usr/local/lib/python3.7/dist-packages (from matplotlib->stable-baselines[mpi]==2.10.2) (2.8.2)\n",
            "Requirement already satisfied: pyparsing!=2.0.4,!=2.1.2,!=2.1.6,>=2.0.1 in /usr/local/lib/python3.7/dist-packages (from matplotlib->stable-baselines[mpi]==2.10.2) (3.0.6)\n",
            "Requirement already satisfied: cycler>=0.10 in /usr/local/lib/python3.7/dist-packages (from matplotlib->stable-baselines[mpi]==2.10.2) (0.11.0)\n",
            "Requirement already satisfied: pytz>=2017.2 in /usr/local/lib/python3.7/dist-packages (from pandas->stable-baselines[mpi]==2.10.2) (2018.9)\n",
            "Installing collected packages: stable-baselines\n",
            "  Attempting uninstall: stable-baselines\n",
            "    Found existing installation: stable-baselines 2.2.1\n",
            "    Uninstalling stable-baselines-2.2.1:\n",
            "      Successfully uninstalled stable-baselines-2.2.1\n",
            "Successfully installed stable-baselines-2.10.2\n"
          ]
        }
      ]
    },
    {
      "cell_type": "code",
      "metadata": {
        "id": "U29X1-B-AIKE",
        "colab": {
          "base_uri": "https://localhost:8080/",
          "height": 35
        },
        "outputId": "394b6122-761b-4e62-be8d-12721cd96235"
      },
      "source": [
        "import stable_baselines\n",
        "stable_baselines.__version__"
      ],
      "execution_count": 3,
      "outputs": [
        {
          "output_type": "execute_result",
          "data": {
            "application/vnd.google.colaboratory.intrinsic+json": {
              "type": "string"
            },
            "text/plain": [
              "'2.10.2'"
            ]
          },
          "metadata": {},
          "execution_count": 3
        }
      ]
    },
    {
      "cell_type": "markdown",
      "metadata": {
        "id": "FtY8FhliLsGm"
      },
      "source": [
        "## Imports"
      ]
    },
    {
      "cell_type": "markdown",
      "metadata": {
        "id": "gcX8hEcaUpR0"
      },
      "source": [
        "Stable-Baselines works on environments that follow the [gym interface](https://stable-baselines.readthedocs.io/en/master/guide/custom_env.html).\n",
        "You can find a list of available environment [here](https://gym.openai.com/envs/#classic_control).\n",
        "\n",
        "It is also recommended to check the [source code](https://github.com/openai/gym) to learn more about the observation and action space of each env, as gym does not have a proper documentation.\n",
        "Not all algorithms can work with all action spaces, you can find more in this [recap table](https://stable-baselines.readthedocs.io/en/master/guide/algos.html)"
      ]
    },
    {
      "cell_type": "code",
      "metadata": {
        "id": "BIedd7Pz9sOs"
      },
      "source": [
        "import gym\n",
        "import numpy as np"
      ],
      "execution_count": 4,
      "outputs": []
    },
    {
      "cell_type": "markdown",
      "metadata": {
        "id": "Ae32CtgzTG3R"
      },
      "source": [
        "The first thing you need to import is the RL model, check the documentation to know what you can use on which problem"
      ]
    },
    {
      "cell_type": "code",
      "metadata": {
        "id": "R7tKaBFrTR0a"
      },
      "source": [
        "from stable_baselines import PPO2"
      ],
      "execution_count": 5,
      "outputs": []
    },
    {
      "cell_type": "markdown",
      "metadata": {
        "id": "-0_8OQbOTTNT"
      },
      "source": [
        "The next thing you need to import is the policy class that will be used to create the networks (for the policy/value functions).\n",
        "This step is optional as you can directly use strings in the constructor: \n",
        "\n",
        "```PPO2('MlpPolicy', env)``` instead of ```PPO2(MlpPolicy, env)```\n",
        "\n",
        "Note that some algorithms like `SAC` have their own `MlpPolicy` (different from `stable_baselines.common.policies.MlPolicy`), that's why using string for the policy is the recommened option."
      ]
    },
    {
      "cell_type": "code",
      "metadata": {
        "id": "ROUJr675TT01"
      },
      "source": [
        "from stable_baselines.common.policies import MlpPolicy"
      ],
      "execution_count": 6,
      "outputs": []
    },
    {
      "cell_type": "markdown",
      "metadata": {
        "id": "RapkYvTXL7Cd"
      },
      "source": [
        "## Create the Gym env and instantiate the agent\n",
        "\n",
        "For this example, we will use CartPole environment, a classic control problem.\n",
        "\n",
        "\"A pole is attached by an un-actuated joint to a cart, which moves along a frictionless track. The system is controlled by applying a force of +1 or -1 to the cart. The pendulum starts upright, and the goal is to prevent it from falling over. A reward of +1 is provided for every timestep that the pole remains upright. \"\n",
        "\n",
        "Cartpole environment: [https://gym.openai.com/envs/CartPole-v1/](https://gym.openai.com/envs/CartPole-v1/)\n",
        "\n",
        "![Cartpole](https://cdn-images-1.medium.com/max/1143/1*h4WTQNVIsvMXJTCpXm_TAw.gif)\n",
        "\n",
        "Note: vectorized environments allow to easily multiprocess training. In this example, we are using only one process, hence the DummyVecEnv.\n",
        "\n",
        "We chose the MlpPolicy because input of CartPole is a feature vector, not images.\n",
        "\n",
        "The type of action to use (discrete/continuous) will be automatically deduced from the environment action space\n",
        "\n",
        "\n",
        "Here we are using the [Proximal Policy Optimization](https://stable-baselines.readthedocs.io/en/master/modules/ppo2.html) algorithm (PPO2 is the version optimized for GPU), which is an Actor-Critic method: it uses a value function to improve the policy gradient descent (by reducing the variance).\n",
        "\n",
        "It combines ideas from [A2C](https://stable-baselines.readthedocs.io/en/master/modules/a2c.html) (having multiple workers and using an entropy bonus for exploration) and [TRPO](https://stable-baselines.readthedocs.io/en/master/modules/trpo.html) (it uses a trust region to improve stability and avoid catastrophic drops in performance).\n",
        "\n",
        "PPO is an on-policy algorithm, which means that the trajectories used to update the networks must be collected using the latest policy.\n",
        "It is usually less sample efficient than off-policy alorithms like [DQN](https://stable-baselines.readthedocs.io/en/master/modules/dqn.html), [SAC](https://stable-baselines.readthedocs.io/en/master/modules/sac.html) or [TD3](https://stable-baselines.readthedocs.io/en/master/modules/td3.html), but is much faster regarding wall-clock time.\n"
      ]
    },
    {
      "cell_type": "code",
      "metadata": {
        "id": "pUWGZp3i9wyf",
        "colab": {
          "base_uri": "https://localhost:8080/"
        },
        "outputId": "db8d3e49-31d9-451d-80ff-6b5d8b3f6b1c"
      },
      "source": [
        "env = gym.make('CartPole-v1')\n",
        "# vectorized environments allow to easily multiprocess training\n",
        "# we demonstrate its usefulness in the next examples\n",
        "# env = DummyVecEnv([lambda: env])\n",
        "\n",
        "model = PPO2(MlpPolicy, env, verbose=0)"
      ],
      "execution_count": 7,
      "outputs": [
        {
          "output_type": "stream",
          "name": "stdout",
          "text": [
            "WARNING:tensorflow:From /usr/local/lib/python3.7/dist-packages/stable_baselines/common/tf_util.py:191: The name tf.ConfigProto is deprecated. Please use tf.compat.v1.ConfigProto instead.\n",
            "\n",
            "WARNING:tensorflow:From /usr/local/lib/python3.7/dist-packages/stable_baselines/common/tf_util.py:200: The name tf.Session is deprecated. Please use tf.compat.v1.Session instead.\n",
            "\n",
            "WARNING:tensorflow:From /usr/local/lib/python3.7/dist-packages/stable_baselines/common/policies.py:116: The name tf.variable_scope is deprecated. Please use tf.compat.v1.variable_scope instead.\n",
            "\n",
            "WARNING:tensorflow:From /usr/local/lib/python3.7/dist-packages/stable_baselines/common/input.py:25: The name tf.placeholder is deprecated. Please use tf.compat.v1.placeholder instead.\n",
            "\n",
            "WARNING:tensorflow:From /usr/local/lib/python3.7/dist-packages/stable_baselines/common/policies.py:561: flatten (from tensorflow.python.layers.core) is deprecated and will be removed in a future version.\n",
            "Instructions for updating:\n",
            "Use keras.layers.flatten instead.\n",
            "WARNING:tensorflow:From /tensorflow-1.15.2/python3.7/tensorflow_core/python/layers/core.py:332: Layer.apply (from tensorflow.python.keras.engine.base_layer) is deprecated and will be removed in a future version.\n",
            "Instructions for updating:\n",
            "Please use `layer.__call__` method instead.\n",
            "WARNING:tensorflow:From /usr/local/lib/python3.7/dist-packages/stable_baselines/common/tf_layers.py:123: The name tf.get_variable is deprecated. Please use tf.compat.v1.get_variable instead.\n",
            "\n",
            "WARNING:tensorflow:From /usr/local/lib/python3.7/dist-packages/stable_baselines/common/distributions.py:326: The name tf.random_uniform is deprecated. Please use tf.random.uniform instead.\n",
            "\n",
            "WARNING:tensorflow:From /usr/local/lib/python3.7/dist-packages/stable_baselines/common/distributions.py:327: The name tf.log is deprecated. Please use tf.math.log instead.\n",
            "\n",
            "WARNING:tensorflow:From /usr/local/lib/python3.7/dist-packages/stable_baselines/ppo2/ppo2.py:190: The name tf.summary.scalar is deprecated. Please use tf.compat.v1.summary.scalar instead.\n",
            "\n",
            "WARNING:tensorflow:From /usr/local/lib/python3.7/dist-packages/stable_baselines/ppo2/ppo2.py:198: The name tf.trainable_variables is deprecated. Please use tf.compat.v1.trainable_variables instead.\n",
            "\n",
            "WARNING:tensorflow:From /tensorflow-1.15.2/python3.7/tensorflow_core/python/ops/math_grad.py:1424: where (from tensorflow.python.ops.array_ops) is deprecated and will be removed in a future version.\n",
            "Instructions for updating:\n",
            "Use tf.where in 2.0, which has the same broadcast rule as np.where\n",
            "WARNING:tensorflow:From /usr/local/lib/python3.7/dist-packages/stable_baselines/ppo2/ppo2.py:206: The name tf.train.AdamOptimizer is deprecated. Please use tf.compat.v1.train.AdamOptimizer instead.\n",
            "\n",
            "WARNING:tensorflow:From /usr/local/lib/python3.7/dist-packages/stable_baselines/ppo2/ppo2.py:240: The name tf.global_variables_initializer is deprecated. Please use tf.compat.v1.global_variables_initializer instead.\n",
            "\n",
            "WARNING:tensorflow:From /usr/local/lib/python3.7/dist-packages/stable_baselines/ppo2/ppo2.py:242: The name tf.summary.merge_all is deprecated. Please use tf.compat.v1.summary.merge_all instead.\n",
            "\n"
          ]
        }
      ]
    },
    {
      "cell_type": "markdown",
      "metadata": {
        "id": "4efFdrQ7MBvl"
      },
      "source": [
        "We create a helper function to evaluate the agent:"
      ]
    },
    {
      "cell_type": "code",
      "metadata": {
        "id": "63M8mSKR-6Zt"
      },
      "source": [
        "def evaluate(model, num_episodes=100):\n",
        "    \"\"\"\n",
        "    Evaluate a RL agent\n",
        "    :param model: (BaseRLModel object) the RL Agent\n",
        "    :param num_episodes: (int) number of episodes to evaluate it\n",
        "    :return: (float) Mean reward for the last num_episodes\n",
        "    \"\"\"\n",
        "    # This function will only work for a single Environment\n",
        "    env = model.get_env()\n",
        "    all_episode_rewards = []\n",
        "    for i in range(num_episodes):\n",
        "        episode_rewards = []\n",
        "        done = False\n",
        "        obs = env.reset()\n",
        "        while not done:\n",
        "            # _states are only useful when using LSTM policies\n",
        "            action, _states = model.predict(obs)\n",
        "            # here, action, rewards and dones are arrays\n",
        "            # because we are using vectorized env\n",
        "            obs, reward, done, info = env.step(action)\n",
        "            episode_rewards.append(reward)\n",
        "\n",
        "        all_episode_rewards.append(sum(episode_rewards))\n",
        "\n",
        "    mean_episode_reward = np.mean(all_episode_rewards)\n",
        "    print(\"Mean reward:\", mean_episode_reward, \"Num episodes:\", num_episodes)\n",
        "\n",
        "    return mean_episode_reward"
      ],
      "execution_count": 8,
      "outputs": []
    },
    {
      "cell_type": "markdown",
      "metadata": {
        "id": "6hkyafs--gJz"
      },
      "source": [
        "In fact, Stable-Baselines already provides you with that helper:"
      ]
    },
    {
      "cell_type": "code",
      "metadata": {
        "id": "s6ZNldIR-fce"
      },
      "source": [
        "from stable_baselines.common.evaluation import evaluate_policy"
      ],
      "execution_count": 9,
      "outputs": []
    },
    {
      "cell_type": "markdown",
      "metadata": {
        "id": "zjEVOIY8NVeK"
      },
      "source": [
        "Let's evaluate the un-trained agent, this should be a random agent."
      ]
    },
    {
      "cell_type": "code",
      "metadata": {
        "id": "xDHLMA6NFk95",
        "outputId": "fb8f9510-d8cb-41bb-9335-d887e2d5cb82",
        "colab": {
          "base_uri": "https://localhost:8080/"
        }
      },
      "source": [
        "# Use a separate environement for evaluation\n",
        "eval_env = gym.make('CartPole-v1')\n",
        "\n",
        "# Random Agent, before training\n",
        "mean_reward, std_reward = evaluate_policy(model, eval_env, n_eval_episodes=100)\n",
        "\n",
        "print(f\"mean_reward:{mean_reward:.2f} +/- {std_reward:.2f}\")"
      ],
      "execution_count": 10,
      "outputs": [
        {
          "output_type": "stream",
          "name": "stdout",
          "text": [
            "mean_reward:36.53 +/- 13.24\n"
          ]
        }
      ]
    },
    {
      "cell_type": "markdown",
      "metadata": {
        "id": "r5UoXTZPNdFE"
      },
      "source": [
        "## Train the agent and evaluate it"
      ]
    },
    {
      "cell_type": "code",
      "metadata": {
        "id": "e4cfSXIB-pTF",
        "outputId": "874d20b4-732b-4331-f8a9-5cbd838c2035",
        "colab": {
          "base_uri": "https://localhost:8080/"
        }
      },
      "source": [
        "# Train the agent for 10000 steps\n",
        "model.learn(total_timesteps=10000)"
      ],
      "execution_count": 11,
      "outputs": [
        {
          "output_type": "execute_result",
          "data": {
            "text/plain": [
              "<stable_baselines.ppo2.ppo2.PPO2 at 0x7f0784300390>"
            ]
          },
          "metadata": {},
          "execution_count": 11
        }
      ]
    },
    {
      "cell_type": "code",
      "metadata": {
        "id": "ygl_gVmV_QP7",
        "outputId": "23b3a87e-68ad-4619-b361-dfaae7bba518",
        "colab": {
          "base_uri": "https://localhost:8080/"
        }
      },
      "source": [
        "# Evaluate the trained agent\n",
        "mean_reward, std_reward = evaluate_policy(model, eval_env, n_eval_episodes=100)\n",
        "\n",
        "print(f\"mean_reward:{mean_reward:.2f} +/- {std_reward:.2f}\")"
      ],
      "execution_count": 12,
      "outputs": [
        {
          "output_type": "stream",
          "name": "stdout",
          "text": [
            "mean_reward:500.00 +/- 0.00\n"
          ]
        }
      ]
    },
    {
      "cell_type": "markdown",
      "metadata": {
        "id": "A00W6yY3NkHG"
      },
      "source": [
        "Apparently the training went well, the mean reward increased a lot ! "
      ]
    },
    {
      "cell_type": "markdown",
      "metadata": {
        "id": "xVm9QPNVwKXN"
      },
      "source": [
        "### Prepare video recording"
      ]
    },
    {
      "cell_type": "code",
      "metadata": {
        "id": "MPyfQxD5z26J"
      },
      "source": [
        "# Set up fake display; otherwise rendering will fail\n",
        "import os\n",
        "os.system(\"Xvfb :1 -screen 0 1024x768x24 &\")\n",
        "os.environ['DISPLAY'] = ':1'"
      ],
      "execution_count": 13,
      "outputs": []
    },
    {
      "cell_type": "code",
      "metadata": {
        "id": "SLzXxO8VMD6N"
      },
      "source": [
        "import base64\n",
        "from pathlib import Path\n",
        "\n",
        "from IPython import display as ipythondisplay\n",
        "\n",
        "def show_videos(video_path='', prefix=''):\n",
        "  \"\"\"\n",
        "  Taken from https://github.com/eleurent/highway-env\n",
        "\n",
        "  :param video_path: (str) Path to the folder containing videos\n",
        "  :param prefix: (str) Filter the video, showing only the only starting with this prefix\n",
        "  \"\"\"\n",
        "  html = []\n",
        "  for mp4 in Path(video_path).glob(\"{}*.mp4\".format(prefix)):\n",
        "      video_b64 = base64.b64encode(mp4.read_bytes())\n",
        "      html.append('''<video alt=\"{}\" autoplay \n",
        "                    loop controls style=\"height: 400px;\">\n",
        "                    <source src=\"data:video/mp4;base64,{}\" type=\"video/mp4\" />\n",
        "                </video>'''.format(mp4, video_b64.decode('ascii')))\n",
        "  ipythondisplay.display(ipythondisplay.HTML(data=\"<br>\".join(html)))"
      ],
      "execution_count": 14,
      "outputs": []
    },
    {
      "cell_type": "markdown",
      "metadata": {
        "id": "LTRNUfulOGaF"
      },
      "source": [
        "We will record a video using the [VecVideoRecorder](https://stable-baselines.readthedocs.io/en/master/guide/vec_envs.html#vecvideorecorder) wrapper, you will learn about those wrapper in the next notebook."
      ]
    },
    {
      "cell_type": "code",
      "metadata": {
        "id": "Trag9dQpOIhx"
      },
      "source": [
        "from stable_baselines.common.vec_env import VecVideoRecorder, DummyVecEnv\n",
        "\n",
        "def record_video(env_id, model, video_length=500, prefix='', video_folder='videos/'):\n",
        "  \"\"\"\n",
        "  :param env_id: (str)\n",
        "  :param model: (RL model)\n",
        "  :param video_length: (int)\n",
        "  :param prefix: (str)\n",
        "  :param video_folder: (str)\n",
        "  \"\"\"\n",
        "  eval_env = DummyVecEnv([lambda: gym.make('CartPole-v1')])\n",
        "  # Start the video at step=0 and record 500 steps\n",
        "  eval_env = VecVideoRecorder(eval_env, video_folder=video_folder,\n",
        "                              record_video_trigger=lambda step: step == 0, video_length=video_length,\n",
        "                              name_prefix=prefix)\n",
        "\n",
        "  obs = eval_env.reset()\n",
        "  for _ in range(video_length):\n",
        "    action, _ = model.predict(obs)\n",
        "    obs, _, _, _ = eval_env.step(action)\n",
        "\n",
        "  # Close the video recorder\n",
        "  eval_env.close()"
      ],
      "execution_count": 15,
      "outputs": []
    },
    {
      "cell_type": "markdown",
      "metadata": {
        "id": "KOObbeu5MMlR"
      },
      "source": [
        "### Visualize trained agent\n",
        "\n"
      ]
    },
    {
      "cell_type": "code",
      "metadata": {
        "id": "iATu7AiyMQW2",
        "outputId": "8fe7bbc8-1ffa-4ae8-9d55-fe13e3f0fc18",
        "colab": {
          "base_uri": "https://localhost:8080/"
        }
      },
      "source": [
        "record_video('CartPole-v1', model, video_length=500, prefix='ppo2-cartpole')"
      ],
      "execution_count": 16,
      "outputs": [
        {
          "output_type": "stream",
          "name": "stdout",
          "text": [
            "Saving video to  /content/videos/ppo2-cartpole-step-0-to-step-500.mp4\n"
          ]
        }
      ]
    },
    {
      "cell_type": "code",
      "metadata": {
        "id": "-n4i-fW3NojZ",
        "outputId": "8f05a432-b9dc-4dde-bc11-378a1f3a8298",
        "colab": {
          "base_uri": "https://localhost:8080/",
          "height": 420
        }
      },
      "source": [
        "show_videos('videos', prefix='ppo2')"
      ],
      "execution_count": 17,
      "outputs": [
        {
          "output_type": "display_data",
          "data": {
            "text/html": [
              "<video alt=\"videos/ppo2-cartpole-step-0-to-step-500.mp4\" autoplay \n",
              "                    loop controls style=\"height: 400px;\">\n",
              "                    <source src=\"data:video/mp4;base64,AAAAIGZ0eXBpc29tAAACAGlzb21pc28yYXZjMW1wNDEAAAAIZnJlZQAAnnVtZGF0AAACrgYF//+q3EXpvebZSLeWLNgg2SPu73gyNjQgLSBjb3JlIDE1MiByMjg1NCBlOWE1OTAzIC0gSC4yNjQvTVBFRy00IEFWQyBjb2RlYyAtIENvcHlsZWZ0IDIwMDMtMjAxNyAtIGh0dHA6Ly93d3cudmlkZW9sYW4ub3JnL3gyNjQuaHRtbCAtIG9wdGlvbnM6IGNhYmFjPTEgcmVmPTMgZGVibG9jaz0xOjA6MCBhbmFseXNlPTB4MzoweDExMyBtZT1oZXggc3VibWU9NyBwc3k9MSBwc3lfcmQ9MS4wMDowLjAwIG1peGVkX3JlZj0xIG1lX3JhbmdlPTE2IGNocm9tYV9tZT0xIHRyZWxsaXM9MSA4eDhkY3Q9MSBjcW09MCBkZWFkem9uZT0yMSwxMSBmYXN0X3Bza2lwPTEgY2hyb21hX3FwX29mZnNldD0tMiB0aHJlYWRzPTMgbG9va2FoZWFkX3RocmVhZHM9MSBzbGljZWRfdGhyZWFkcz0wIG5yPTAgZGVjaW1hdGU9MSBpbnRlcmxhY2VkPTAgYmx1cmF5X2NvbXBhdD0wIGNvbnN0cmFpbmVkX2ludHJhPTAgYmZyYW1lcz0zIGJfcHlyYW1pZD0yIGJfYWRhcHQ9MSBiX2JpYXM9MCBkaXJlY3Q9MSB3ZWlnaHRiPTEgb3Blbl9nb3A9MCB3ZWlnaHRwPTIga2V5aW50PTI1MCBrZXlpbnRfbWluPTI1IHNjZW5lY3V0PTQwIGludHJhX3JlZnJlc2g9MCByY19sb29rYWhlYWQ9NDAgcmM9Y3JmIG1idHJlZT0xIGNyZj0yMy4wIHFjb21wPTAuNjAgcXBtaW49MCBxcG1heD02OSBxcHN0ZXA9NCBpcF9yYXRpbz0xLjQwIGFxPTE6MS4wMACAAAAB6WWIhAAr//72c3wKa0czlS4Fdvdmo+XQkuX7EGD60AAAAwAAAwAATcVEzosKY8TZAAADAFxAEeCwCPCVC2EhH2OkMnBMV2ACjz/BQnxOoNwt55ztSr6/CvgsdZ4fCi1xvMWuFwNLfTIPQyB8JXWWhryknZnLOKhJ+KpiKTbtvofg2UdbDG0y3qLufJNOojtMkDyynAqq/QY6JWuVrEwVsALRj+i9uaLJ9j52t0FMnyc/+0bJj/DVn54gdQjAs9FiNa1ydHjjmikK6qV9mQgi0K4973fhfZAHbzOvJimbNw1ig93ZJApTL1hgK/mALUt8UQEQYPdf6nIBgBhNBLiJCP4k7x4hUoUh9p0SHQ3HYiwN9b4nZCWGkLcNiw2MUNx8BuxwjcGWoMZJr4RgM5XMbP/JaWFVzYOmGdt7/ugk1ogao7vyWknD5+8Tckxt+iExgCTpqWNXTXab0LH7MUdNPnglU2kY/QPc305XgofnCX6EeyeMgb6vQ6JindHnPzGlhxm6cOeW2MKiQdT7zc3jfoqNgWWmSD5yRnXfNn6OtlxU06b73Y146yL7ohVjQAHJVVAg+DvlLz+5bJ3UEE6zbshXVLxHC58kn5Ep9TWMpjDeeHvk5MJH3F215JBnoCpIGAAAAwAAAwAGzQAAAPlBmiJsQr/+OEAAAQ34AGgCEbsqD6NR5iMRWuOrbgPlQyj9H7mx6BduUOYBYIisf+Wtx0C8IP6I2z0JSu5R4o6QDDZgdAAk4kTXmlJ6XAS4CPnsXcQZX2Qy0PbaPtGTexvWOVfIv2sr2pLS+7lOetBY8DBprCVAcVZBJC3cGZRWtantCiRt+J8qa/N3WzxImZ1ovHSSehZS6Sjz0GhsOITNVTltA858GgYMDqg+3gVpjzmNt7fyt09Yl3SWGj5LEmVj8PMFR7hSKYqQHKZO4NS+sXdSuO6TTm6slQmdVyQAApfsWw4whhjsoM9oBfebTTywj4v8dJ+y1KgAAAA6AZ5BeR//AAANf7sq5e3x4I3uZfCDo5+FG8MSrlADE5r4yAwh5Iauw7hsgAAAAwKiwpdKOeAVZEEnzQAAAFhBmkM8IZMphC///oywAAAaiTLCXEVT36APNl0g52AZcNJ724O6BC/OGGD7NzXGQlKlwwJEc2C8OlC6Sr6XVb4s/T9lMglBSjUDEJX8q3X2CC4xN7A9HY+AAAAASEGaZEnhDyZTAhn//p4QAAAaZpiz8OBb8IUAq4Omq3a1s1QVqbFJBxIVZhgZZIbpXOdK9PVWpjO2++xZGnlXxV8Cdcq7jThmywAAAHBBmohJ4Q8mUwIZ//6eEAAARWVBT9Ih6IFvvUgHibtHugJQTAdL1NcdIJ6OUmB3hXbELez4da7d/+sP84xB2qAM4f/ycKOeeuAwK/N1wJxxl+7MJ0PvbIpdQnr3rbE9m1Y/2cN4WIPHOZt9QEfylQoJAAAAOUGepkURPCP/AAAWvDlB6KDyTTTtp4eVLixdL3RFj0Yw4w90muz57I+bjYNf+7aamraFsuW+ayNlgQAAADIBnsV0R/8AAA2HwR5xnueNBO2bHRZiJIOWDcUqkWgAft0FgftG2u0vzhoHy2MUnBDPgQAAAC4BnsdqR/8AACOxzAlwbDsGM6Me9t+AFrP6YKotEWPUhrQF5VuvXswyYBmYgO6AAAAAMkGazEmoQWiZTAhn//6eEAAAAwO0U3kaH0Ocl3HbVy+0zrRCoeu8T6049Xa/UFxkOpSYAAAAIEGe6kURLCP/AAADAzjOe+GnZaZKgWuFkqiAt6dbmnmDAAAAJQGfCXRH/wAABR/QdA5qPXxcjY2gAumbNUpC1k5Hz7ufcuEOyTAAAAAmAZ8Lakf/AAAFHT8bb+4HpDCAB/O0hyZ1DDhh+FoyR3pwRm0F5YMAAACSQZsQSahBbJlMCF///oywAABGJdEoUbiACt/F7VhAm4SNBh85MsmDyyOn3xke9NoQtDM+xHvyy7/Tz4FLdN4u2033DzlegA4rPd1e4QAI5ppYAbyRPxn2g7VunbpNodIVuQOg3wx7mI9B+Xf9kddbAJ4tJAmPM4wFqVIXJBQ0zGOPynh7zwarCj+hlzGQG7kFi2kAAAArQZ8uRRUsI/8AABa1WFWw0reO5ltzAq/jJTi9QgBZwQN+9uio6BZf/nRvQQAAAB0Bn010R/8AACOYx3wYjSpsU7JJTaG88WoSQJyAgQAAABsBn09qR/8AAAUdP0eTScUqFF2eMzdU6YZwgIAAAAB0QZtUSahBbJlMCF///oywAABF+wSwByyaEGkkXfFY1o3/45TmpfPY6LhfgMvgdJSSLkaLvFThpSMw+62FDddsKxSZCqJ2ezP6OSQ4Q/pawmjhiY1eo8J8WK3dQh4Mlipv5g032zA0MTriBhkOuvR4znStEL4AAAAkQZ9yRRUsI/8AABa8T4o79FgdNwWjzMUVVGWGN5fMaCYzwHzdAAAAHQGfkXRH/wAAIsNCacEPnvGRl8Vmlc85SVCBKgEBAAAALQGfk2pH/wAAI78LsCKWxZy1eccjggdprVIrZPNrABMtCHNUmx7CrS+GHkAd0AAAAEFBm5ZJqEFsmUwUTDP//p4QAABFUgagcCeerhH9ZoAHOyTac8gmZhW26rtKq3FNaou+FWYlZSGPdxygvlWHIw+qgQAAACMBn7VqR/8AACO6pvIizEoQURJBTXfiVa1xumHQXy5Mf26KwAAAAFBBm7pJ4QpSZTAhn/6eEAAARWU+Q4gArRtxCHeR9/Q8INB8vffgK3wXDq9vRt+/ficn6zpJAaPAF9CGCur8eqhH6Uu8ocBkqQe8LAJ+cWCtgQAAAC5Bn9hFNEwj/wAAFrxObO9Gx0L/RxAHdvmITKLqfaYQgAQ10s+lucB1ww1/8N6BAAAAGgGf93RH/wAAAwHluRD8YhMzMkR136XAKDugAAAAGgGf+WpH/wAAI78aztq0yYy4j0WzF585UqKHAAAAO0Gb/kmoQWiZTAhn//6eEAAARUUqXIArVH1L6RtcqKuDVaPUER+k2343vgM7Lcg2IvkBwJgYv/zm6LDAAAAANEGeHEURLCP/AAAWwFaSWgGpOzKN18MSWQAH86BsuxU0VNRKMtG4UQVKHlFIgGTv5l2yzkkAAAAqAZ47dEf/AAAjwzv7eVafeX2WHfVM+Th1N7AA++H3OvtcYOU4SbJyqZO3AAAAGQGePWpH/wAAI7IrCWtM23KL1bKZeJRgpJgAAABrQZoiSahBbJlMCGf//p4QAABFZVDsTZVIAVqX9adZMa5f9gj+2gQuInmTOPpgpMi5B57uuvO76ls89fdSbDjVIwO3bkb/lMHRvCr9ZGGAr/L8FL/tP5nxbK4NtesasZHATABdK1wtIF3PAWAAAAAmQZ5ARRUsI/8AABa1WFWKy7y22VeGEl//Z/xHJXttP+rjX8fGSxUAAAAoAZ5/dEf/AAAjwJqW5eVtVCoALqJWue13zOo4ikjhpfGBDwsOINA9kwAAABgBnmFqR/8AAAMACoZ6nQJs6VaGgQXYsVEAAAA9QZpmSahBbJlMCGf//p4QAABFgY2CTyAK1RmYlFGJF31lhf1+JCnT1LX3WyVFiw1z22V6OAniiTiljZrGBAAAAB5BnoRFFSwj/wAAFrw8u2As7DC/Yc6oOI0jTHEL+2EAAAAoAZ6jdEf/AAAirELvaaHtGoALbq7h7u0HutEpFT/TBb0NxdLZ5jeCXwAAABYBnqVqR/8AACO/BC2nwuuTTFAU64PBAAAAQUGaqkmoQWyZTAhn//6eEAAARUiXIAiQ3DuamM7q0euoj/SK4daLMp9JdxtgzhSMYFXOaGYqDZ5V3zupkGEJQnYfAAAAJkGeyEUVLCP/AAAWvEcWk2RC85bs/vAIgs0bhIpDyP3R0xAWzBOVAAAAJwGe53RH/wAAI7izVIvYe6YfIFZLOAFu/iUX1+geKR6i5d6YezfBswAAABwBnulqR/8AACOx7AeGgdtwPjtWt9Q5BBPNLLk3AAAAiUGa7kmoQWyZTAhf//6MsAAARkC3Kfrf0QBW/UoRqrfnULkDTjWjIylrGP02dKvW8q0oL/Gwx1u6L45Epz0eBdZGpQwKPogZj3h/DFB2hoRg5d+N1W8Lcsmy9lkje++hm5ZtSgY2mzbW5j79aREXZ9VKLYkIkupgvol3b+S8PQ+ddQZ6d5k5JucgAAAAJkGfDEUVLCP/AAAWvEcV/v4eYc6qUkCRyXbsLJTsOrpdKs4lZvSAAAAAKgGfK3RH/wAAJMOPYJ+p+LJU8X4BCZ4ATScO/N5HUKM8QA55ceiNGEN6QQAAACIBny1qR/8AACTHnRgWTParwr39rrp89nmn9ADYx8wxifbBAAAAS0GbMkmoQWyZTAhf//6MsAAARhC9yzgB0j1x4RD052oRs3Pna2a2O56/NQbZLNFpS4VXceCYapfkJfVjHbN9pEXQ7OAPEUGYlIn2wQAAACFBn1BFFSwj/wAAFsBWd8mP1asz9XI+d+j2Lt0/iJfmMW0AAAAsAZ9vdEf/AAAjRJihNqFta5v0ESHKU+YImecZsh8isACdopkG4u/roGNDSVMAAAAiAZ9xakf/AAAjvxrOrWy/u9w6AEqgbDo6ApXaHtMaC7MXCQAAAIJBm3ZJqEFsmUwIX//+jLAAAEYC2lnACw6MMKIyK3lGdukw4zmRek/n93Xlq1uf4HDN+gPWdwU9rUl7xpTfPwX/LOyXolH440iMB1L0FLJL7hHXyAEaE3EYG+AkScITCryG0jcMK3Byw95UJmf2pf0DVVVpi4MDuR0bxJ43FZFRbjLAAAAAM0GflEUVLCP/AAAWvE6d/ZjygATps7P46rKViBRmw30fLo5REzi0D/V+KPkhd3YMNm8B6QAAAC4Bn7N0R/8AAA1+Fcc2WPgAWjLfMQL7ZvSAsW1SatlSEEObz0CGfTd7gAgMN4cdAAAALQGftWpH/wAAI78azzdXNDCHDYALnPN8jV0neWvu0i6DOgTvTOvbQltWHYDUgAAAADhBm7dJqEFsmUwIZ//+nhAAABpRxEEEHKwjBgJ19R5O4WzBziNImH/5pqW3QXNvYzZnx9pD0xoWkQAAAGZBm9tJ4QpSZTAhn/6eEAAAR1SpQfYm+qX3Gu1TgC9UvCiAGmesrOSQDzZB4BRWJ2RTddk3Y/jLX0F8PJb5SUqw9lkX6VsBId495QEBWdjZAgAGLjpcn/8rKiEkK+Kk2HPZswK+lx0AAAAtQZ/5RTRMI/8AABdFWK7iIJI+H2sOz+nH0LWM1rIlQXjkYAwi4Q2I8ZzSfNioAAAAMgGeGHRH/wAAJNUhAFAn9d5p0ESm8qVBYL/A1iUad6kG1wW2Rs+TIiSwQdRYQLZSua7hAAAANQGeGmpH/wAADdJOxJNWPHV1/pVbsu9bXoD6bpQZWCadKiaX+gAJ1hn9VSrhveq1mxXglE8jAAAASUGaH0moQWiZTAhn//6eEAAARUltYAF1HquLC7/veYfVXyrJIbbCJohqqrdHZu7PeyV+0o4CL1+aqqCReQ+6eO2f4OUEePMBxEEAAAA3QZ49RREsI/8AAAir+ucK5m3VEtcggHXpOHZbdwbAmGr0AEzUC5zvcclrcXgcLt/Kv37Ko5xswQAAADcBnlx0R/8AAA3OAM/suh1TLqiAEiiF34HvMF6GSkn+S4LmwfG4ndA31S9s0B61n8tIov5fjkLYAAAAKQGeXmpH/wAAAwHwyVD7tuACuUH959N0dANNCXPJN23ujBqJy+xK9K9wAAAAmUGaQ0moQWyZTAhn//6eEAAAR0Ug4EgCfKa/50eJAP6rscVhn7pLqFj8g7CzjkDlPnywJvQm9HyPvkADKjGsIwlmoiJexAo1T6LGrUW3ur0yvbXUVO/lEhbZLX9Ue6s8gYcDIsXW4KC4kpz+vwgtPyfvYQRU0PEX2kCqWUcOmmjZQ7vqPkAS8ZnIlMogKO0IgDwfCmOW8+OnsQAAAEVBnmFFFSwj/wAAF0NHtxBNZfdCAImLjIjdC79aNHQcr51Wlj6suucBJBrqTfeS98HQrplGT7AkyEkVPj1NGKD01e2vQe4AAAAoAZ6AdEf/AAAkq/houhyQ3Utxgg0KGG73mHvSzsmFDiTuYV/8Rlx7gQAAAC4BnoJqR/8AACS+qhav0I/3hVsG/eZbpgA3XLt7jsj0Cm7KK1dGg2M6aa5SHEdeAAAARUGah0moQWyZTAhn//6eEAAAR0UFn6rQC8Owky8fn7D+Km9IE72shOAVxI+9aZ6Ke9PYYe4CVWzcOD0Vpuv9a4eVlYcS5QAAAFJBnqVFFSwj/wAAF0xDzb0DgCJjNsYSkN7s2Q6kGu/kM7xQ744I6dpoxp6Uweo7GsKf++SGaINB80IlqZ7RK4lxsq+RCOW1x29PI1DMTvnB7R3vAAAARAGexHRH/wAADdXdLDjTwAWhC3r3TtKAmlNhuFwCeh1MAlLp8qqk8CwIJmkHBw8x0bj+rWiZLAdcn8J0cegjqo/3/7XhAAAAIQGexmpH/wAAJL8a+uYYlYBfY8wKesZDX9CZvg+QlH5iwQAAAEJBmstJqEFsmUwIX//+jLAAAEgQvGha6AFpNJshDIQP/n/yDq7AlvEO/khvz55Dg5XfEv/sBzzzRCj5pD2hdgG8eCAAAAA6QZ7pRRUsI/8AABdMQ834txhUgNbTEsVq5RHExbmgIuQO0QTwKukyogBTu/HnfQBqoPdU5BUGGE+PcAAAACEBnwh0R/8AAA3V3S/47rvGeNAVobzqsJuED+LBzY7la8EAAAAuAZ8Kakf/AAAkseg0dAjfLkXPX0B/p/F0errvGrqAEr6F9tC+vLuyixm/g6+zrwAAAFZBmw9JqEFsmUwIX//+jLAAAEgCz4nhfZAcrki/88XxHTABUaqK9JK1lMG/DZOHIxxr26vQ8FMJu8h7BuW9O8ntGzAQp81gL+dv2+3EZ9loNut6cBATggAAADlBny1FFSwj/wAAF0k4u960dHQsrscigME28Xpbyq+S1KalDxclsIAILKXMnOE06TWwQqLqqJqgOvEAAAAtAZ9MdEf/AAAkq/hbeBKdaCaOTwAWomCY+6B0bLq/5fhas0lHyjS3C+HAaMcFAAAAHgGfTmpH/wAAJL8EK8hOg/sINKfYlChumWrkw8VdgQAAADJBm1JJqEFsmUwIX//+jLAAAEgUW0Uja2y7S8gM3ByXiPcZ8yASMGobTDcTD5acqeIO6AAAACdBn3BFFSwj/wAAF0ydeAK33jvRJgneSibIcg8ToHtZuQoeZsqd6YAAAAAuAZ+Rakf/AAAkvwuue5oA1uZpthwvktgZm39QoAAJVMLOL1Rq0B9e/Mpg9c0pFwAAAGZBm5VJqEFsmUwIZ//+nhAAAEdFIQ8rACg253o32+cCNwQDBHphKomohUfM2Tkdn/uarhff8V21u8nw1tujhzrjit/EKRHaOiA2MYYjzQg7BmlyUSO94oJOFje28cOUCuXFG57M4jwAAAAiQZ+zRRUsI/8AABdDR7cQTboQFKawhjPZkhsv2aEbcMM8EAAAACIBn9RqR/8AACSxzAjDnkALSfqel53rhHXSGcS8FTDWAjuhAAAAUkGb2UmoQWyZTAhn//6eEAAAR2jxOa86Eb+DQuyRAf8Q4ADg4bTCHizpP3BxqjXf3UKb6o4EprtC/K44J/+K8s51W8qs92KyvdaqwQyJ9szdzsAAAABPQZ/3RRUsI/8AABdGJSAI9jZRUd5amGU+bTElWc2E0w+fW7BmMYK9mI8Xh3zSAYYyXyrcvpTO/H3PBYO0M86cXN4RIG3oX1xsw46UTz7OvQAAAEIBnhZ0R/8AACPYXMAVghfYrC6EdGH9g7tzA36hMY+kKiWIZGyA2sJ0lVg420ZB1Lwy+TcKsU9vVm3XEwcYHeAeRYEAAAAyAZ4Yakf/AAAN0k65VIeuzzm/EgFwrVeWh16D3apo9AAQdUN+D7RgBe4saiHj2gv0J14AAAB9QZodSahBbJlMCGf//p4QAABHuPPgk49gC0r//4fW7Npek+VxUaQT3VyBrBBAN9AfowreQQGrwnDPDhyyHro0gCorWVLLpivudAXpetvOmGjKooB1vy4E60SUsldblsK7SklAgL+Yd8RZgJiilNVbIeedg4BdPWBEHpLOesEAAAA3QZ47RRUsI/8AABdDSByXfoL88juZQAkjb7zyi8yP3j6Ix3JlQuAlwW5zBn7+kDDzqSmq3727XgAAACUBnlp0R/8AACSr+F7YGmD3YHWG1/mH9YnprgHeo/GOgleTpO2vAAAAFgGeXGpH/wAAI7I8r1TnDWg9Iyw0gWUAAABeQZpBSahBbJlMCGf//p4QAABHZUH1AAoMBpZyY3cnFdrPUFfVQxKVtrUlFB1Jcfz80xIALsowOnbSNhgPaw0zm770T3qWWVTwMLpKZf+RG5zPVLc3vKPEgxKNvjCVOAAAAB9Bnn9FFSwj/wAAF0UrN2taXrjdbpQamT5nJ1UTej3AAAAAFgGennRH/wAAJJK701JdVy7BUvtEBwUAAAAlAZ6Aakf/AAADABsJKl6ve5yHQAmrS750bRWHA9LLVCREkme+pAAAAE9BmoVJqEFsmUwIZ//+nhAAAEdFBea62B6SfsChF+b7UUWa/E5Bz3NRfQAHaHk6IyrAfefOExPmJJKcjGLF1tHM5xvk1Q6QQgOL5l8zDidRAAAANEGeo0UVLCP/AAAXNPsiWh9YACcOmuGjiSv32/1omGgdEs1TDrKw6BCeU4qcwHwPIxXmI9wAAAAqAZ7CdEf/AAAkrDsJfALziLYAJTWuIJPVIZ5RxqWS3SmUyq0S8jf/jYYNAAAAHgGexGpH/wAAJLHMCXBacQ5PW0te67CipOFqIIZPUwAAAD5BmslJqEFsmUwIZ//+nhAAAEdwh8DMA/w1xcWd6EBKsLs6SGmQnDFJk8qzDjBOV62E343k5RM8rC48GI/pHwAAADhBnudFFSwj/wAAF0VZDBKlPABMrxsx/5fiJkYTUxSOl876Twx1VSucLPIW2u2pBJ8DS2nxl81qQQAAADgBnwZ0R/8AACSsPm47V7/IAJTWuPp/+//76i0BHJlcyqaNVkrmExR7yVBuCW8mFt99geSswnS1IAAAAB8BnwhqR/8AAA3UnVp9qPXxcjY2gAuod9e14wva7HrAAAAAX0GbDUmoQWyZTAhn//6eEAAAR0UF8XiR40A/gzHNlwqn83SGe5LBqvbwiDpoWmM4LRsFLRMhPOV57qKhQBzX75tbEQYwvB1iV/u9kpm+3Gtbzl2SSx7RuxbeXHCYzYpzAAAAKkGfK0UVLCP/AAAXRVhVyMtCxYATIK2piX/PSeeHFRLTUoIulVvL6DrxdwAAADIBn0p0R/8AACS61EzCXbRyigAuJ9DVTReIoC3PeZXn/N32LBaQxtK5sDdTz1rFPoygsAAAACoBn0xqR/8AAAVDNK044/U4m5JgUG2NeQABNLmqsbl2a+6A2h73UJG/ILEAAABsQZtRSahBbJlMCGf//p4QAABHZJfJKeGCAHMPuFVAFIiT5dcJ4RKitJQMub2XThnDXSMTP8F7Q17eNT+5M+PwgtNBnnnNxk9ltZ6Cpeb6U3hDLx20VslwQ3ejd1AHdQRyveQLZB/vPGsP9FlHAAAALEGfb0UVLCP/AAAXS4xqQA4wwvTTE9puIuwLbvZ5LBTrp39NlsCDigo2DXTBAAAAGQGfjnRH/wAAJKw5Bk46YLqqi/r7EVr10FgAAAAgAZ+Qakf/AAAkrmAGLt6bGgkzXYtV8VtTCFqLC6Gh1NgAAAB+QZuVSahBbJlMCF///oywAABIAtb/AEHotscUafOq93We1I6TWRxtQDQhTOKvgnTeoVrA/NcbVHP+svyEfh20BheobCZeEDQpN7f5KuIH8sTzTqhJ0FEJyA8q2jhC6O4/NDcYCnPOu9vAluUoemJVgaxCQPgIugdXwazuZPV1AAAAMkGfs0UVLCP/AAAXTE4C6OrDqJUx8aU1hzPhKmn+dZ+R8MsVSqAD7ThbnkMPkksdQPOCAAAANgGf0nRH/wAABWRStugAugA1aU42srSrbicgY9J+3QV5mpvHSXX2uujTQ5625alzijSaCfvFDwAAADABn9RqR/8AACSyJ7mqGLLWfzMpWdFLPJzoEuHPkzDSACapHfsima8JGABJYTln3zEAAABYQZvYSahBbJlMCGf//p4QAABHUT+rgDOpWUBuNO+ojBNh6KWFl4EmXvv75c8f4BWRo/ma+rtv8BSvu3gtH1dCU4bz5dOApPNHaJR1TDqfCHPYK1K7ytc4SQAAADZBn/ZFFSwj/wAAF0VcGLfqoDtW9ySgUa3tAAm26qZotRIYelabubLm3X9qKTMWtMMMYNwVKLEAAAAjAZ4Xakf/AAAFQ6fXYizmKN80C7NTw220gjHl6qqQR9QdY90AAAA9QZocSahBbJlMCGf//p4QAABHRQXvV36vRTXs12ZWPfP7uWruT+FV5l7zvXExL6WFPuNU4XnBI/kcAOPNUAAAADVBnjpFFSwj/wAAF051tG60oRc+4IVLzyD3n6b/CaAIJUwAmR5Io11J5v//P41AtrBEEc8fTQAAAC8Bnll0R/8AACTDPg+NWtlgMjCLrhQfxuyGsUkAATS5qrbEBu5sBlHPE8Tod7Kv3QAAAB4BnltqR/8AAA3P1JJthfswRu0P/XmtaqHH8/gBFgUAAABVQZpASahBbJlMCGf//p4QAABHVKlObqRXT3+tSqZmYB2cLprlCQz+SFh5QAS70rgkisxTE0L1tltEsK1+0oHJUWOpVCazMmqvekd1shqHpSPBYJB7oQAAACRBnn5FFSwj/wAAF0xObMLp5DyQuc8CBdlp1rUOl+EHFb6P6YAAAAAoAZ6ddEf/AAADAfuH2sS59cmFdIAJYnLBeqx/j9BGEJk9xEjR87GIsAAAACkBnp9qR/8AACSyKwUlC7Asa7bZAbqTxCACdXNPgPkmV7mwC9O2UbZqQQAAAFZBmoRJqEFsmUwIZ//+nhAAAElEWh7KF3SViucAE1aqSlL2r7z6M08/kn1/6sM+v3CvpmIWkqDBRTbYDFvfg+NWp4CtIuU7zYcKSeh+7WxVjVjUeQm5UAAAADRBnqJFFSwj/wAAF+CH+3F8cmmQ6sYAceyBPKIPlOtvtvj58sCRgm8BJg61ewM2pt5bfCz5AAAANAGewXRH/wAAJavYOxxTG1IhshMWennKaYhgAlg431r3ljmiMfHA1p7m/30utnzG/DPmNuAAAAAyAZ7Dakf/AAAlvwQnEsr+c/jqgAsPaP3Ogiwd+X4D9rKDhHbixxxv2tv5Bw8Sh/E4bs0AAABwQZrISahBbJlMCGf//p4QAABJRFn2Ju0B8PRds3X8AAqTyV6VAEKDFIlBetBBvE5RwWNYeiolU0bKV8Fd7yQ9UbLonkpD2FyLcwyzHw6IEybgrRex+RMfoG7o87hozsMTXjoRtYl8QXBy25Ap1swb+QAAAEpBnuZFFSwj/wAAF+CHtw3/vzSVfhSYAiwT7L6nXaJuiwnkX9SJikjlnNSd9iAYAor+Vp6VQtjRKEzwgnMyd8THNtY7UdrJxtcgwQAAADUBnwV0R/8AACXDK1JAButMvCjGDzolPOq7iIvXhCX9Vx61oa6D40L1PhUpux9B4iGkGb3jgQAAAD4BnwdqR/8AACW/BCZwxZHrR0BV9hEyTD+/UfybzwQeH/SM5Xg4F5nPJUCH1X0QAnVy1z2ZPDOHGKZE6zDw7QAAAGlBmwxJqEFsmUwIZ//+nhAAAEdJbWADn0zDcGLRuAx1fyAUILYN1j4lsHEVETHP7CZ8/t3+M/7hYiedFiwyg2Dcs+kwxnqkmfSRLBnwCPBiohpC9MggAbJGLohTTLzWyi+/npRADnPdxasAAAAtQZ8qRRUsI/8AAAjki5kc3aTMadxMBPT6saj4XKHyM64LSiypm32bjVR9ds+BAAAAOAGfSXRH/wAAJMNHCznya6GINPpAAWzS+dmfZTHMcj2Y8FXL34bAxTqwm6SsKhbwVb4AWPRoh/acAAAALAGfS2pH/wAADiZKjDcoNUFjUAC6iVrlXScxVBn0YqnGE9EpgcZh5WEmn6QYAAAAOUGbUEmoQWyZTAhn//6eEAAASVSP5jH/mVLBdvSRSQEz6eFeXVfe3ve2krFrHSMVEeRo7b0IW32H+QAAAB1Bn25FFSwj/wAAF9/sRclEw51DZgaTq20gR7giPwAAACkBn410R/8AACWr+lawAjASRIhc4r1va+eanPWCk5NxXF872EzzVl4j4QAAAB8Bn49qR/8AACWuXtC0hM8yNQKK4UgbI+GImDHQqCkYAAAAX0GblEmoQWyZTAhn//6eEAAASURaIl06KN/RCeeusEaO12wBW5ALr6Rm/KmJAAhYlPAL2Qq/swTezrsArKsU0MBSIx0TAQLWDRI6OPSLSHgKuUa1GH4ZyltO9KfAKRAwAAAAQkGfskUVLCP/AAAX4Ie3Dd+CTykIhPF2FKUTbbC8yETQ/OEc58VnELI3VWAC0ga8t9baFhDTz1Krky2Mai58mgo7QQAAADIBn9F0R/8AACXDF2WoYgglEJxXAAtP7e+ppxKpqItfjphcBWBgFMR8F+a146A7xLbPgAAAADcBn9NqR/8AACW/BCWSMUPh3fAZlSIsidXQS3IIn8mmRmcBYjqM8vgAmch1xcAGAk5lIP+hm8WfAAAAbkGb2EmoQWyZTAhn//6eEAAASUOQb4AIwNw/hN+zpuk18+xnyQAlF19Er+O/J6qW3tZLjM2sxjx/4RtxX05VaoLynhBsTSiwxZGEwkyXXBqTjE3GuzWS1dZb9ifjlojBw8fxtNu0DBlKJcRgpQT/AAAAS0Gf9kUVLCP/AAAX4Cxk6P5uR/gJ020+6m9CG4r0SHQJ31TSVXfIvnREOr5XJo6wvAL+slns2JPTmcPUXSDSAA6k0+NldvTukjNbPgAAADUBnhV0R/8AACWexBSdhPne3s690HPm98lddDa8XwwJdc1QZZoBHqIoANopxzx6xpmgJTR+fQAAADcBnhdqR/8AACWuYAUOyAAJajavTP2OY5IfjRLD4/mmpMlitYJUO7Zm8kQEBjto4/CfwHiyiaJfAAAAc0GaHEmoQWyZTAhf//6MsAAAShROP3cAVqfy39Si3IC3ICFSHE0Q2bEw7aWLzBWuM9z8laoBtxKTyu3sXdqNVqNWaf9nttuUTNUzv4sfW/dwXphF7Ra8H1xc//9+YJhKwUXoYM+citfuDKr9WTkIJeP3vEAAAAA0QZ46RRUsI/8AABfoys6TyzNk2LiFShiVk6Q3tuPsPPISlFgGGOGlf/3LlPhNQ3uWghjpwQAAAC8Bnll0R/8AACW3zCC8Qz9Mfl9xghBQ6Kt2GG0DnFhlYRC60PjcEGwQOssuizUbcAAAACYBnltqR/8AACWuYAIHdA0QxMVZbqrtJCPjB9kB31vxy/xJWt/swQAAAGFBmkBJqEFsmUwIX//+jLAAAEwA7Nf0EIWgfYAjLu+XkvD44srX6ELPh7eLoaNN5yfPbPt2+7BDYIY63jZKOf9Huw6zE9YSz2MVpX330svtc3fiUGGnX09MmnijMdlMu2ChAAAATEGefkUVLCP/AAAYlveAOX6n4qbA724vT8n3Lad2hu4dmMvBydPs0H6QCuodiLoyQUoTitvvBHkh3LAIPWlcY/WuOr20CZ2NHD3t7TgAAAAwAZ6ddEf/AAAmwxHm9Xlpi15qA4YIecxoB33t5xS4nHopTpU8u4bdlq7qo/RQorusAAAAOQGen2pH/wAAJq5eM4HU//KoqFiUXxlvqUJBFQkIDq3s1Ga+5y/mL869aGVyexBfJ0h2MO1mrkDZ8QAAAF1BmoJJqEFsmUwUTC///oywAABMAfH5PQWd4gYOjfxa03gEKZQdRU33mwAXqbcYCvw4zNqQFjSca2ox1pwnlTHXu3BhjTBDR4En+6CEeMs7zqlyXlEnUJKJkZcJt4AAAAArAZ6hakf/AAAmrl4zgXH31JzOMcDLu8m8sgOZQkXMnxOztmABEsZTM51A7QAAAHpBmqZJ4QpSZTAhf/6MsAAATAFQ1cwA6JNDl6kvgM3k2z+J3E8ZXWdJ76jR8tPkjt5fHuXgfRjVtGDrYzqq9JTg3uLVex7ahxWoHVDFLpKL2FMymQOwoHVIU7hKtCfZTloslv0QMzl9W9HZlI7e35hUmf4eMUNjXeUbtAAAADpBnsRFNEwj/wAAGIibLxVa0IpMNBx+9O7YYpBBRRMbCBNsCmB6HkqDjBGwsuIoyZlyNShzrjAxEi2hAAAAPgGe43RH/wAAJsCZ3ehlLQ4msF93+5UPQqsjtdoajyvi699rzhm47+M/+eq2UHXHEZ+7aeM4+gJyI+1Zaqs/AAAANAGe5WpH/wAAJsbZ3xo0Kkquer/qhnVwoLkvArEFSSVAwcUkdwoocQdRr3GWOsfsC/vq6gMAAABkQZroSahBaJlMFPDP/p4QAABLfxuwjVkANznv1ZKYQFnxX/QKIfyxq2d8mSMJGoIST5iwMttxWh8G7aVCLC6cQ4hkU39F2EuFkoG8pgAxg4rfWtNYzbwGZm6A4ugrSSs3oOEFIQAAADUBnwdqR/8AACauXjOBeqjWPmhsSDCmdtnY6cjLHGnyUcI7MZoT0RXv9yts/67ibI3EUVkbKgAAAGxBmwxJ4QpSZTAhf/6MsAAATBRTo7WAEXKvc1zgUWZ22h8wntIcFeZALkh926DlJBFgMHV/KGigDgkBfWoykrqQNgpJQZF3ZSBgle4EabB7i2WJpRPZ/Fz6rtR1hsHMe5Qn+Y+UOI8UNVjkAvAAAABRQZ8qRTRMI/8AABhv2e5YAiz8oetgyGER52ut8eVdciWwAC6koo4fE65K3VTsPG2HRXhOBSaotUFWJcJDKSfV16yDLXuo+XodUSr6AoJXb9whAAAAMAGfSXRH/wAAJqnp21Ddl67nKYmkVTWrR0DW09nsXQJd97qyrplSk3FuG94azORVnwAAADsBn0tqR/8AACa9hAbDaCRHMPetG6oL2VFJf3YHydd6KAEl4dXX22mLX4qW3rTb+vnTDoRzP1vt1mjnwAAAAI9Bm1BJqEFomUwIX//+jLAAAE4BeeXuAKyGtBIENBtHviftyTN1p+E2LFKAjORbWX7YouA93eWHhzWtY19Zt9CCjUOEIHb/QMCPvIkIVtSMRN/wTtjc2NQ9CH5POcHXTzfcx4PEOd2DWfhPuFCAcuo6wbJTzgIaQy5+p/1z8nSBg5sSKfrmcbrBcXGR6hms6QAAAGdBn25FESwj/wAAGS17OAyDbF0c+6wCImKWIIND0hjI4W/6rLVW8NRaUQsYxsZpcm+Fmtk5bACaYFoW7Xx5bkVNnd0iuSbaEKnILJHi4AmhSgSvfqrNngv9ixuXhdnK346QnZYSs/cJAAAAMQGfjXRH/wAAJ9BEH14IAvObYIT6JIXXlJPCCrZls0dD8a8DEttvAcutjXNp5R1XsqEAAABEAZ+Pakf/AAAnxJ3AKTguZWbEMtf7YMjxCLnjsgRCP352oVb2b/5erAmlLr43zAV7+NTMDO61Iel0AHjfkf59lo+gs+AAAAB+QZuSSahBbJlMFEwv//6MsAAATjtqVdLvUD4/0T7uTLhlsQf85u9ppjiasNFbbVOTFv/MuQAOmwSJZE7ctBKP6gAt4WvxNwCztEH14Kp0Be1qcTF9c6cyhqjP74oomT3vrJbFFCqhZ7xzkNvWMCMFAMbVazF+U4bYIzbNYpGsAAAAOQGfsWpH/wAAJ6nuKHuPR3tgeq/WIcmyy5OGFpxwK9BOEbxn9P1NGghguSUvdCdBwO8J2ovEiqmiLQAAAHtBm7ZJ4QpSZTAhf/6MsAAATkQtVZuKOUmLSkH9iiljgI8uuodrTkdYPRM3W1v3fAFJTJYRTJR/VNBBbryh+uGze36bYpKUWWlXzN0ayIAa6J9tJFsSeTjlT7BLxhMU8Hbfp5bf3YmoEh0Z15XV6ulaO1vRsbiyfBj0XqAAAABeQZ/URTRMI/8AABkoY7sgALZqRzoy/kRZrQMBWGca8umVL36/B7cRkl7AX/pN6WnKSY0QEHbruoo9FzAnc2KdjRdrTzspM5jAe73+6zSdshGGNZQh5S2eRVlchYMkPAAAAEsBn/N0R/8AACe0JVO01GQwUIa47FrhZ8MOhoXzkReECzPwmZ3vhe47XrfsVSdSvzFL/MABNW696YEuP2H6D1TRMWKYsvm3kp6rwWEAAABFAZ/1akf/AAAnrpZqNhhGvFV8K1WgWyQY/fgC83rjRiaD0gFapZ22u/ijDS6n9lraNi4LaWNqwrtzix9qoOqogXCqobTgAAAAekGb+UmoQWiZTAhf//6MsAAAUELByix87rowBW/UoTEO9zShyLMuQiJ55PfF0W4TFWSWRJmI1EeFe98myw58LqDM/R1BkC+6O9gDXlFPq7Zx2Kf/ifHR0bk6/pj40I60Z6IPnmq226S01s91s9zKDvPEpDW5dIkW6oCRAAAAT0GeF0URLCP/AAAZv0PpiDKgoJGSbiNnRD+3QWMDBT9T4aYYxlj/WhyUeAvn+apH1YcmBDwlInCl2WguNOn3IAFqRJjgYD0jzDWBTb8rasEAAABGAZ44akf/AAAo5FNgkqQtcCT+JYXhpFGA+ZR5rQeqJWis5OzI+VEt19GG7jCTrdBe9edrO4RdNiygA/uxwN5iXnsFTe/G0AAAAIxBmjxJqEFsmUwIX//+jLAAAFBCwR6HYARkAUqds9Pc43ceEWuUc/z/u7x0dpNettrWOjdNikuIxqpZq1juO7Ta958ywXYzFSfps6yfKUI8SzQur88m8Wy5daA/o3ZEpPIrAI51xwhnyRhIs0b+6B3679hdI/QTxjFlcxxNT/Io9UJhJ7yJ3r1836m/wQAAAEhBnlpFFSwj/wAAGcibbqbmeI9RKSMll5ScgBU+1z8gZYG3YWiMny/Ls0GTTpdgcfSz0ST1aIoYcVCadDAXmAkmBg/8hzsdC7QAAAA9AZ57akf/AAAo9zMdzidFl0BJYqmQKcaS2CKy+8jTryrRYgyd/QQVR7joewFyp01JZZfHpVeQUmIb0iI2BQAAAG5Bmn5JqEFsmUwUTDP//p4QAABSOZdAVCp2q4YAKh1Cq2AYzGAToLVQLLid6gxNSSy1Wp/gGiynlO20SH6EtmH8fRaVHpCyg8pClxrTb6PM2YDXjQRsSlWj087HPcOwzc/+5yBfnYP33MFDU8VjIQAAADIBnp1qR/8AACjkGnw3CuMS90imgg9AwOxhg+Z2DWLGgFlIiNt+Ehm5L23ob58aRzLGUAAAAHFBmoJJ4QpSZTAhn/6eEAAAUau0bjvABGR9wtVcR1jV5CQwCxJ7/FD0GTlKDyqmnFRbjYq3Ssz/eydJs72xDvfS8Mj/7Y0eH6GQGH/cVsMsKVvuuotPx2TYPa+lgSJZEiOIo45BO+01yIekGh+cQ2ElIAAAAD5BnqBFNEwj/wAAGmh0W0KGIHcCpu2+NYU0hQd0Mfuvpp3TfAd9RVmFlgRzUiYCWADnn4LRR6TRmW6UjawF4QAAADIBnt90R/8AACodoGgvsizqst2dOn6SlSKLKzzca7HKuuWXWodOuBtu0eczHNpECv0XgAAAACUBnsFqR/8AACoEGTJw3zwwYl3y/eZxqKO5f8TM4wjxqps+Txw5AAAAhUGaxkmoQWiZTAhn//6eEAAAUauy/JQAtnrwvU9eARttF1kBdEOfouT6unSQ5+6qR1dCnUw9X6Fh6ZVb15v5i4x85YtURVvPemMxbieAFaheCh5rZEJU9yeBPhgrmBn60b2T3ZjFgUkQlug99Ll9XUlEeUxISiyC/U1pf3iPygWjIfCDy58AAAA+QZ7kRREsI/8AABpfdT6tG94KTnlq9nF1AA+/ZXkDn/BAXy7JvkC8UAgg3PLHrx6gt5Ak94o9Z6saFF6V34EAAABCAZ8DdEf/AAAqGpztSU1cV9IAW2eQJZbH+auSebnlaaqr+k/+K1PxqfIaRiVCqZsYn/ei61fVwwNAyf4okEbJ0yuPAAAANgGfBWpH/wAAKgQaimHwZflFoAFuAMHDdiIiUe2GkxmIPtcbT8r0Mw6gSHrGumhk7ojy+XKWwQAAAJZBmwpJqEFsmUwIZ//+nhAAAFPrsraAAjI+263IulJOaozDp7Pzzr1OKd732aL98b09qJCeAIOFN3JE2iZ+NlLKMaKXEwoqv0ty9ulW9FhaN35o6HLcL58rQEiOHdP6NqQSSOBx/V+rVv656hJdLmn05V4y9Wd4iHfkyvy+GNmPXK3s+xWsyCYPMc7u+uixsTQsuQd7AwUAAABbQZ8oRRUsI/8AABr/dR0LYf/nXHacpkLi2XAC6gug4VS6ILtvRJpZne8s80yUFbuer6gm7zxDW8MJOemSdve0xYwcc+9R5De0qXwn0k86Y/RKnfkS+e2YuH6cIAAAADABn0d0R/8AACs+M92Xp8p3xmgqkpeLnQxuhkHychQANfIiWQ6Jk+7nC3bLHfnAz4AAAAA4AZ9Jakf/AAArJBmXyRqJJ/0XOloQ1e+YasseNFGRgBoAdh/wiWVfRmptcLH85kmKAXZhuKLIFMEAAACeQZtOSahBbJlMCF///oywAABUqmL1nACMj1s9zmGtw3pyRQ/plQJRJAC3UdvCP8gikIKZIeR8NueExUdsiKgyTmMpdzLOqYQgQn9Ww2SLRaMlkeZIkE+gRZrcLAcGdtAcRRxecDmq6uMWDWCDxFY8u6JFYSxfvJkVFhvr5Wo//p//HrKnsgW4bo9v/G7lWkYfE6RkXaT1CAEO7kepqMAAAABQQZ9sRRUsI/8AABr/dT6puShLFwDo1ZUQUCtpjrEcJjZhvlpY9f7vk0HLEJe3gJL00gAEPwjUeVcaupXmNx7gB2VViQc3NgG/CuSynhfUjqYAAABKAZ+LdEf/AAArH51nFW4HWVm/rPLuD0rep83WzWOdN7SV6jOQsjQ1xzJVHQqXXuRlAqEeidQAfuO8dGCd8c6Sd+Qxl0lZdzbDKmEAAAA0AZ+Nakf/AAArJBqE/IqfoA69ML25uPoD1iwlfLdQRApUEGipjZfHqwOcTO3XP/D095E9BQAAAHZBm5FJqEFsmUwIZ//+nhAAAFaOuj1XkAmsMrPAR8PJm1xN8h9yWRPEbxhuMcxMIBMZCh4VAmNbKYP6vPbqbFPmqFIoT6RnQ3hNEpCLtU59Br/hSTO5z9q70ksOzjVM4UoKNTPyVlKnWAxdovcVfi9oyHf/hdFnAAAAQkGfr0UVLCP/AAAbqXd4US15eyGSobHrBsqA0G9sG3cJU+7GpaCK9cfAAGz7chE4Ai40EKHy2LIM7/NPi5EnTJv07AAAAEUBn9BqR/8AACxEGYwpjpFLDU64+ywsOqXwaN4/WNiFDArY+31gpvZ+MhDD9+ABO2L+gA68wmQzPRtoosnVfMSfAihJnzAAAACMQZvVSahBbJlMCGf//p4QAABWK58rcreVQw2WeBboAK+2LMXLhUZuvJwPwDN22jEEA+i7eklnPcwhIDXGKT1dfy6gdISN4m3Ds9JdXe7YgNJj8m4HoPQevxnC2xQ/9pb9JBPPHLGo3HwWLZ/ftlQHNQX4rOVqbubhz+vcmIbKU6WvjeS7PcQ1ou8YJsEAAABiQZ/zRRUsI/8AABufdR0LSomfZPACL+eqh+UqRZ/sU8Q2m59QLBKVT5jgfw3zShRsieeA2RV2qrvYABQtv/DwAceyLW3p2Z2s6lxegWSrdSuwKwSF9n6lzjkf6qoznQ+WW0AAAAA4AZ4SdEf/AAAsW1cmJqgUAur4/0v0Jo/BmSrTowng6N6kUeHlOavgQASs7muRmfNrq+V135LueXgAAABCAZ4Uakf/AAAsRBkycOxcD35Y/NRRGeCMxHZGWg7MxxgQxsOzMdBPxpFYCHABs9XbVN4SvCAzjuiPVby6zaqcFFJBAAAAfEGaGUmoQWyZTAhn//6eEAAAWGucDPIA5Yzgbn4z6A7qtc5DVNSGgUaj0tRLKIVxBh2PlUl9MsvAG4xt0O0BPw9Vx+TJLqBWvQx/DZyPLbZVWca7zPQndE3k+GqZDf0L/UE7wz8+hzWqEm7eThKMOMBrTWXdlTaXVqRHxOwAAABXQZ43RRUsI/8AABxYersFOC+hm7RGoElKVh/n2YcMG9kFbPVjXoVaRoaXqGGlJS/Vsgs3tcInRsAJq6ksG7lT96ZdZlXMvp9u2/5dZQRvnhND8C+RZXI9AAAAUgGeVnRH/wAALFtX84K6EwPKkP5ivOUbL+8Ijh6FN/WbQ6SqZ/Ey1BmqL18QT0QPTgAfwcYa8O73nvX0TntbaqTf4NbXBIS6RDvzHcUnQGzNxBEAAAA7AZ5Yakf/AAAteYGRRb6zKpah2QpCuYWsohP6jtM2ssLq/DYtRNHqFx2ZqhWhbIm0zkeNrG14GxW0H+kAAACsQZpdSahBbJlMCF///oywAABZPPoc7gA6RRknvUbtdwn+kRuMADx5gg+Xqc0nKTfdKH4iBUFwzqvdG5DDNUdxEXGWCnVRwDzm5Yk0Np1Qx99W0oVs2OSG5XrPlZkl4D7GxS1kVrL2ja/aH3yvR4UGaBhDW8YtsVwqOnInUTV/k9oWQGT81jOuIE0qvMoGhD68Ancy8Qt/wpPotF0L14TAoISg1FX/AWtsPTKdyQAAAGNBnntFFSwj/wAAHE0FVM/JACMBSv4vuzHe5dvWCP9paeXHTlZ9wgla6kTocFT6oYdoIa0MYZs/N31Eb9sgOx4LRu0yeqOZ9SBiQ6vgCP71Zh4bTlUZf+qNR/h+ztiYhnYbLOAAAABOAZ6adEf/AAAtYFajo/YvjW59ybY2Xy/zOGOaAzyFzQcQgXVXkOF2v/oGvcL4PoxCw0a0x063p4ZFhiIMQAnET5EYuUStdX//Qvgm6kPBAAAARQGenGpH/wAALXeohZMnP6nH2WOgZYVbmkHa0ri2VNuc6u9V4Yl2eBwH1GgU9V7SKatrvTbyPz3g71CI7+K8NfLcva7+VQAAAKVBmoBJqEFsmUwIZ//+nhAAAFiUI6eiNAA40lgfRXfDo3Yj3qwcDtZVwpmJrdtnODCmd2S2RKQQd/7o9s7B3QcB6bwedFe+ksGtoqucM2OlX5PE56WhlEbuQB803q+1OzeVpLE04BZdGgUIlr2tYN2L6SszVGyAMk4S7DdoA143ZBhtT2MkCpUlDMo51DjQYPNgAKHatmkkmurOvpe7cpfhfgKnIrAAAABFQZ6+RRUsI/8AABxDYwfl8eLUZqTDRuxNQ0HyyLz4d7VgovqrOi55CqbA9OmCjRRVRy33i2umkFrJZQLcqvl/BJH2pyl+AAAATwGe32pH/wAALYME7MIHlioKWlkKdMtd1lO6MkK6u/pQgnb963IYhv74dPIR27j4EXam1QAEBd7sIEECIzyNDnp0Xn2MRQsUZmJ3MDQfqsEAAACVQZrESahBbJlMCGf//p4QAABYgVwnfnoAWx6jf7V3bdWKUj1sLvxJuH2YVwu3ljX2f2K0i8/igAmPuNNJTH/2pw/HnnQ6pybDTw3RGQsnsa5Iu362XJxFwAVMhM8p0yNOXv8Gg9BGFX91xbFuhMEPoAcUt2GWL9EVdGOLKIIo5z4Ft712oqkKa1hTnSh5F52ZyVQwJcAAAAB0QZ7iRRUsI/8AABxMH6cwAv9jLSn9cgU4mcwbuCWDyKLrJpHDKnGfeE1c/2vy87KUamIIGatYF8M4c6FkRGEulY96j+hsGiPLmjbiSh5uvRr5NS7reXYV11bdM6bULkx9hDpIq3en+88OdzQ2x+t1hc8RtAcAAAA+AZ8BdEf/AAAtYFj3XCaeliGsrrGNX2ANVujfQEFZYmMNEfjJU4kaKc5lDnY5KpPS8vJNYQF9BWFZV1DY4v8AAAA9AZ8Dakf/AAAtd60+ABx6R/aD6wvauWwtRvY2S9eRN5FN0MD5mB7mc3K/fmrEySJZPnVElZ5z9jJpTJBT+QAAAKFBmwhJqEFsmUwIX//+jLAAAFlCuqldUQBEgXck8xa3xI0XYeyzlhtHKiUrNDws3DlCxGBpXKVt5JMRx+qRpd9z3DxsDDgxmxYW9NXsE7VkO2nidvCNiAI9NMA9x/UKBOKlwaD8YUw5Ra+2xcgiYXjPwUpDVxl6t+yI8ZOZLZwhyypBB/N8AEE32oVFwjiKo6cseJ0vmA+XLaiR1nuZY92ubQAAAElBnyZFFSwj/wAAHE0qxQAL1f8W5HgetjiS8OfDxNk3JbkUvYhpA/n/8qTAtUNxY1BpmjDZLvisV3Hfr3tnrhxKx9DWO6iaiM6TAAAAOQGfRXRH/wAALp4qBB8yR+sCbg5dYJ9KwNAU6qJX6q/C0wl0ZPFGlLmTdGA2+kzBGvih402/ljb2kwAAADMBn0dqR/8AAC6Jo2Rk0YjnyR/QxNbgSr0G4/DVwjQc13L2Qz3t6FPL62OeA9rE4rKNtJAAAABIQZtMSahBbJlMCF///oywAABbeN0Bk0nZxWOsbuq8st/1gKz9cnGFiUizQHF3DF9Qk9gkHpZNOE+YGsW6gfgDQsUkz3gLg3wEAAAAU0GfakUVLCP/AAAdB3XfGbHVqVn3BSYIxwZPAnoBF6CYkNK6CAoRK/zFf2cc7pl1DrSzmI9OO0XbJgZYd4qPXkXpnmJ8qTk9FJw66q2j4XjYTHSRAAAAKgGfiXRH/wAALp5KMTearxSwXkwLUZIOh5J+wnR4eo9aLixafWX1TqhgwAAAAC0Bn4tqR/8AAC6J8C3hKJIrQ2/vlppgHIN6mzCjZ22S/MZNjFuIYXsVxmP5GF4AAABMQZuNSahBbJlMCF///oywAABZK8OQ9Tltv2T3YvgA/o0a0u0CSTYJyuR9+NPhQcZYbJtJSYDqbHhKO0RVKufoKgAly0AL1MuT2FH4OQAAAjZliIIADv/+906/AptFl2oDklcK9sqkJlm5UmsB8qYAAAMAAAMAAAMC2vR4kzvk1PE2AAADAQcAKGFTESEgFLG8KgSvI/zjpJwAE5J31S6WGpYQfV5qE2Dm4ra8xRY9YXcmeD89dnpCvxC7IZefoF1/YCsD1+yrM+RzOeVB9FEtaJ8m7nS8ToC70W//BtPiPKCDWahBr5D61lK0MWHtxpmQQd62ozpHfM9ChaigRf9DqGK1ofE63H6e2+Z6wFhEQ26SM9yKim3O62HkMbplVz55CdR59ib1pyrMJmkr13hs7Lj4MLJZ0GbGfqlRpbwC0fY0lzBrrUB8IsDyf2D06RzEXhcv8ts6VBBn+4cD7tKjxbIf4JhREwFByuvjDEVLrL607xRQg0NxNcuhASdvXho6lKSN9fwPoNSe2KiPLW/2P/JXImdDt54d8l7todt3kC3PSn0F14gN2nZgbFbJbtJvCMtNrY+8cQaf8g1lNdpfj1Yfb1kygb0rqm/5hpd3/FvPU1pyumTxgGYnhQ9zoUXvejrEmt4/c11M+Souk4PoWjHO4wkB7Zu0gSYBYwkFkyigN7mZ+o283Ntg0A/7bzNnE4YmdyxIPsdJ5KRMvnRyXtZJ0TLA8hH+PkRwQEKJ+hVwY5jQ0CEe7wxlgzRPfeFZxMQMh//fX+Al3sZ1HgXD42sYtcpl3slWDpS9NrwxsxZjD6oO33v1geV+SYsbj3CiQEoQWSzDyWp3HEgrAAADAAADAAAWMQAAANZBmiJsQz/+nhAAAEVT2sAFhziLaIaceUhcyBPMOVPgkBdbSUXA7MTCRNnR/7OL9gf7T9l1aB51FYRbFfsMV7l5OQP3/aKGhDiqnSRaUPSYDlLnpUSGV5R737/40MyStUzjReKtRPpW7bucNBam11WvxZ0i6OcPUjfAET9zLpjLDAeK275Ldmd6g2+qGkhHgDiRxB1b7j0epuZ1nj21BEiNDXNOlh34YjssY1TVmxKVqiy+J22Vsb00CC9gwZxDKJh7PDQ1JG4X6mlxE7ugZ3ObJC1MrorXAAAAQQGeQXkf/wAADdOMTK5EsNR5vvhbcrRuqwQny2Nvaf3Q4B3fX0xYAGww00cUYRbAMqXrprc2VpllxRN0m1VNnnJAAAAAjkGaRjwhkymEM//+nhAAAEVSW8ACw5xFtQeyQF7O6J2OrhPFOKqQBrKPgmUgKhp3gCrpyDLe6ukqjaTr0DIBXzfF8emeBbxfUMFSg1nr0q1IPX1qQzXqfb3/y1pZNrTD6hJGk7nE9VOGSANrhVCwVHM6sq9eraUnEsmSTXdp4nU2SGIrlDgWbranAhCDpIAAAABIQZ5kalPCPwAAFruK3o69VpO9IgDj9NRy5fNllEb4cX0ynffgQYjPsfsPmryYw90cAAC4bu/pKFvMfFTaXAHUnb2VwvpqEyVBAAAAMgGeg3RH/wAAI8NHCKZBNBnVdQ6dDrKziTNlRcASB2nSHozMAEHU50o5jsn1FCH+v8HTAAAASgGehWpH/wAAI6TeVxQkdRx0+ABdADD9ogiIvlPhZiRw3dfpiPiNmqdMWe/G+xiQNUoILlIz+CYgA9kLYjIMqdSS6KtEoNXHN0hlAAAAykGaikmoQWiZTAhn//6eEAAARW12xP2ADnL+43bEFVjJKmNBd28t2wuY6ru9Md/nr6vkpK3c/Ztm3hS/QuFt9qhTe/LoAdlV3+wZkYX3rCoNwzVRx1A3UhopuM1iQK8cYvi66tzk9E1Q7bqlo4qIEPJMMXOlEk2z4L/y9XuDJ4L74jDUzcerYKAYRqd9kROZ5dcbgEX9V86ghRJdIvdbXvfX7sXHHbc8YKmt5F1f5HflnVLDs6HtbcQvvIAR1Lu0/lQLLfnIiCk/14EAAABYQZ6oRREsI/8AABazpAYALXK1sYPybWfs7h4DNzL9cVyWkX8oBVvjYPoAZmS/289Zv6AMksRh1nC3rTFxd3Hhcqw/wdVcCnU1YfpM8iPWHF7WA/bj6P2YEAAAADYBnsd0R/8AACOf+Q0dJ3ktvIVEKdQX4AXOeb62J0nxMvzWRbnP2hZWuGwEzEchqe+3F1k5gEEAAAA1AZ7Jakf/AAAjrl5pl5f6MkFlBJOest/BOF0YlDgSAfojXdragAz0aELo3wax6hCHtFFzajEAAACEQZrOSahBbJlMCF///oywAABGAtD+Y7osg27LAi2m/Ssh9iP1gNVFZroMV1lg1FgEDnUEA6s7TpRkp9icw15MGeoxshlvQ7VBQwrjLWD0/wcc0uBUjkXLqPhNGbUF3+adaECwT4i/m0fZ8J9uztfzhxfpDz1uJVzJ1RWoXkEPkDS7kyiAAAAAQUGe7EUVLCP/AAAWvE4y5oAHvigCGGYfq4arvaWW0W68LQ/+I7VPQgE6tPzz1hXkqBVGsYbQbxQKITqpEiMGOvHVAAAAMgGfC3RH/wAADdW/yKkDtBLdlmac8m3H1EO5Y6m65GnYax3aDABxrbWGQs7x9/9aCTzQAAAAJwGfDWpH/wAAI7I8r0/z/oMiDpPOzeexBJP/7eir6SQGfZw557a9qQAAAHZBmxJJqEFsmUwIX//+jLAAAEYSMRoA5h5EMYTMlFmW+ClnAbw6Pp02JgEF4lyDqi5wlUCcLaEaadBuN2YRVIfRksIr43lw2sB0c3yHblrNIUGvXE0VR0tTF38V4FICH4mGEjutS8W35eb2Rw8N44RwRm1V0d5rAAAAUkGfMEUVLCP/AAAWygMAHDTnRbyvc3NXSW3rVufRUfkxmxm+JogU8ANd5xmhfKRTMF0HfsPWWN22ABKHqazdhxb8cd6mtjqLista4C3amHhfYWAAAAA3AZ9PdEf/AAAjrBkE3YYuBEJJtxpiWIUQs5OLfABFVm0x8JTkE4I3PrmhvOenjQ3SSxF3l5f/qQAAAEYBn1FqR/8AACOxzDWDMEQQd7G+HCyxRPGMYYNWmm+y5JDQaOeAmJJm2Osy1EBupi6AB7Wckee64hTSQ39h2cO686R0EjUhAAAAhUGbVkmoQWyZTAhf//6MsAAARiXtXGZgBYXJiRBMpQvoapzTecPjnleAHTJxPRt4ipV6vHQJibkDCImPTDtRkpmSiwSvFYWiMQby9TnviGWtX3SN0gXnrU8OuqH50WzWsusiYmotJGzBcWuIJxBWJbBTp3KBLxxaxmfi53/6zJhxB0Qbr5AAAABGQZ90RRUsI/8AABan8aEeRBHQOCKbZ9zAwNmPFNySak7yqZAzlqTVHgA9ZtfR33ln2iIuVpvq0jAG9DU/6Pu8DN47VFafTQAAADABn5N0R/8AACOZPOr0KKl8N7EDeGCvbiE6xeGEkoRsqFF29yavd37HPGCm8jZ0akAAAAAmAZ+Vakf/AAAN1IoYXSIIv5k3ZGEvJk4aFFpKUU15uKZUfBF2fpkAAABbQZuXSahBbJlMCF///oywAABGEf04ArY/VRmg5grb3jYfA3Upfzx5dD0K7eCvarr+OvcXCNpQR34gov9opCeKU4tbURoJe3v2TEOAADb3kQW7+njPSrbQw+heQQAAAIBBm7tJ4QpSZTAhf/6MsAAARiUc7JSRABHa0qFbV/aQn6B19c85z/rTlG5RmR5IXsl4l9app3IrtE+rgYyvp+e/qgIgNVhYOica/4c4969/p4i5IeQGJUb/Wo4Vv4VhrWK0q1OYPOEA2WIKofQM93slRoH34maBNK01MWgPYo+w/QAAAFBBn9lFNEwj/wAAF0Um6/4ARIHA+Qoz6O5AbiyEBqRx202WO6Z49Fc5dqLrGCIX4oe7wVYp3gDHB6KPs2cFSrV4cURiRnvPpi2ztznQeztqQQAAADMBn/h0R/8AACS4t90HQuVjNH+Hpf4kvuPSgbwnmcE0wYnMk5q/eCtGgAAnYNV0tVUfgXkAAAAzAZ/6akf/AAAkserxinhsugXuO1+aLQzaItnhpb1Z7RLCs6pOSRp2ZDAE6GAkXX1vcHe4AAAA4EGb/0moQWiZTAhf//6MsAAARgE7KabANLpIZ6o2Ow++hD/pNgg7bElfz33BNZjWrYivMlNobe8OgGi4jow3LpKAux/vm/b7y4jzteMjVh/s41S0T5QKSb41SXYycrm99iI8WcNY/vcJN5dxQ/Cz7SIwluvG5LZgvXooCGv75tAlo1ganZJEz2tJ7NobvfWD1RXZaAkJOpdndXm+qRWcHwROhaRPNnGSlZx8trygxjUqqkkZV1j0oQ+Qwm7A/YAzf4jaj09HAtsD2fU5GtA1NA0O8xgNGI1pC3JraWpdhm2hAAAAZUGeHUURLCP/AAAWsqmNpQAjAZEf86kiF2D+n6SOxOEMFkTmwmBRlxZgOyWPsrCxdF4iMKsQixBQUAwr3+novtm582tvaD1U0a9OzF2sZm5ZfYqzwyi+WySgPthwPxqE6TbNqcWAAAAASgGePHRH/wAAI55fvI1U6Yfzspc8X/+3d3GVBJChWrrLfE2gwbLrOgIFhch3YxjT8RxXnC6JjqXbLM4gATKGcfA1rqZBfwDeLEWAAAAAQgGePmpH/wAAI72hmPQxXPwheGw9/ruILu8s+Iehu69t+hrXHkR5GcpgANzOBx37sDEt5TBbuNlM6Jbnoov37SpTqQAAASBBmiFJqEFsmUwUTC///oywAABGQvP9L4AOkbSipAI56GCw9d4bdWWpEYnKPsW+Djowuj8awcnrbhrZ/wT4zKE4Hvrd83bkOhonGMw/VJOnWbk58Kcauy0gNqxpGLAiXerMbZ7SwwXVZ2WzqXolVQDYYCzG+dFzBD8Djn/5GJLPFjstNnoWwVNFH1IKI+2TB4Lu1zwWfvRzNFXqE/9/4Brwm7yuB5FWfVrKq8qOJ3N8P+TwAp9U0yE6Q9jaUEFILhTm3ALxlrK5x3y3LohCk/PU9TDUurAdWcPEwWKkezNM+Q4AX3Ob4GrsBj9aJuUIau/SuRiCcjluAVgoMNLl/wGOJFGCqDhRey4AehZUI8R6lL2O8M8Hu9jRQHfJtHQKsiEAAABIAZ5Aakf/AAAjvaGsG7PMoy4qz02AxpQhDFJG/sQX0bwCtgfugA6R68IMhICqAhAiO8Ylbb4jQTNAB9BtX3mv3dM1k+ggqu1tAAAAXUGaQknhClJlMCGf/p4QAAAaYS+f8CadCO24+gFbJGcplusoO5OKww63ho1qUM7KS4T3YQRfHXluPTLgA3gUghtjHB7vmwRscRbC71iz7SmtJHJgK0Z9s7LVB+3rgAAAAHxBmmZJ4Q6JlMCGf/6eEAAARUUJ3IArfq1TCjyJZ/YGw+PXcmhw9i3clg5ZIF8wCquImpX2FXSJ1c/+g0xroqQHiKggFdZrM967BOobin6vtDdLeR65MSw/Nz8ExQkKfOiJtqWP8f2ah87HbLLsf5Hb1TDn4PE/l+/rvTciAAAAMkGehEURPCP/AAAWvE+KXUOTdHuvDjydmSl4K351eXREDzyrxf1t/T1j6PnpxoxAecuTAAAAJAGeo3RH/wAAJMNCNeV3zz3XW7lKLbB/URM5gUaVf+0pqTJ24AAAAC4BnqVqR/8AACTHo+9eiAXIVyxEudDK6S1mJcBOA1NxVagAAnF6nxTYNP1ADHiVAAAAWEGaqkmoQWiZTAhn//6eEAAARW9mWpIAreqDYzh1LMov0EnNiD8ftHW+V93Ibj29kdzJxEIGHcJn7s+NnDk15iaNafhPCOS1Sfv+Dfrljdq9Jp67WcE8E0sAAABDQZ7IRREsI/8AABZ0H9rhesNFNewipVU0RjgGPxz509XGb1b1EJixrKibEyd9+aQ2jGc5jq3973kg/U/Kz2ktLyBGzAAAADoBnud0R/8AACS4wo0IK0vQX18neKBJ7l6c9aZkDu4hHWMgAg6ob8HwFA1reGNBMLn52fEKUMeyb2zBAAAALAGe6WpH/wAAJLHrwgQNaChYlcVwZdyT1Z8iIuWxjVP5FQZRVV33L5eFXO2ZAAAAsUGa7kmoQWyZTAhf//6MsAAARjSp4BzGAKAYUJdfP+HFIbz+xylA7K3XuUm0FOS51N0OzE+avTdymHxgoImLi+S9/JiVedh7d7BZturjzZtsmFe2LN3n4/WXueHanfaRmTXKB0Dws0UJczbeVEiBWbWWPe56tNfs1GTmWZPNLM/u6Rg0ZhceaM7xy1vxANST8Fn9Hnw+4P1txstX3NBS8I3pm8FmvvvB4ASVjics+QfJjAAAACZBnwxFFSwj/wAAFrxDz5pZzchp65R+Depmxkd4X+Qeysva/UBAQQAAACEBnyt0R/8AAAMARVfwtvJCYAIwAU/3Ee7ls3lm68IpXbMAAABCAZ8takf/AAAjscwr+dLCAAuoBC7fmezl2iC5Fm0kbDpbBa5r1jVMn901eUzhh5LOz+izqXxbBQ7qNvP0Uv4x9XgxAAAAnEGbMkmoQWyZTAhf//6MsAAAGoqzVQFTJtgCJj1x4RhzmLP1HCw1LofMmsn52XMVz/32LTBPIJVkG/Sno2mQ0yPNEHLF9l4X2SMi9FUMnQHAN8zrC/3atLlXIOSr+bPh6S6y5fU3wcP4wtXhLG6SinpnxWu+Brr4R5mVNiAj1g3Azc+FppjNSEF5bE6ArCXEB5t7klUUXizHelcKgQAAAD5Bn1BFFSwj/wAAAwM4yOtZ3KnG2AjIrLQhIK4l54pvcXAuw1ajBD1iBqaBx0m+KKmcWucmvRTofPr3sREpbgAAACYBn290R/8AAAUc9M9Zqdu8mryIyuzkRtXhkXiTAQm7NZeXbJpWTAAAAB4Bn3FqR/8AAAUfqkI0uwEpbOoR5Ap4bVAQw+ukoIEAAACiQZt2SahBbJlMCF///oywAABGJd46PALkeIOVTnHCWhkgaBKyRsbYm4drNrOiE1IFDxPp2wAf+jOZmKkVYP/X6y6MObg/ooMGpfslHwzK0BB44u7DngolqlZdO39LbpbjaNxUo5nw+UlrdpU65oQefCx6vDywrcI85P5Qz4WcgeK93FzQUhuEoc91ij0I7fUA99KuUQBjoqM6bR301kSZB6o9AAAANUGflEUVLCP/AAAIbyHmn0fumzYWnVIYdJjPY2LueZ00E1P9vd6KmABOktvAFX13lFqTJp0VAAAANAGfs3RH/wAAI6qEvq56rgotW9qkRhT0bThvoxNx5GCEqjNnYAP2tq3XIgx1OyRf1ZyXdCYAAAA0AZ+1akf/AAAjscwN2Pzd3Z1tZCdW4oHdnFpEiDmqes8AExwewK9MaEOFhYdsGaOb8nrjAwAAAE9Bm7hJqEFsmUwUTC///oywAAAakpX39bYW2AIjpgYeSwHkpB1uPPOhZxg4qexEZJTAmZ+Nc5UwqRUrRkZR5jQtO0QanSZ1kq+Jk3k82qe1AAAAJQGf12pH/wAADXZTO8PNSSCJuuBYO178/ZU9yNpd0FzH0LPddUEAAACAQZvcSeEKUmUwIX/+jLAAAEYC/SMAbVakFG5VczLyYweeuRMgxyglMVkdmomj63hPZYvb6j5oEJm5Ijp1uek7wNru6/uhNl6Bsody4NIzM2zP2ZYgZmLUwoRqb6a2jKfDWqfoZApmXG1LyJ3QIfcJaSzDIUlQ7Ru1e1bIBtcIxiEAAAA9QZ/6RTRMI/8AABa8Q81+cBkST4iAKPU+g0cBjyhwrh+Lzzhtii+9wDdenI5mzxg1cSDXbtnO4BSt0fVrwAAAAEABnhl0R/8AAA15DNQwEniyR78sfA8XibRKuc5Ce/jmOi4NeAACHt60a2LgehsYOcfUCX0JS5kGbKe2yS+XU2pAAAAAPQGeG2pH/wAADYIutAg+RHObHefquU+YjSwgLGJI0kFYli4NeAACHt60gwlQSEKBZZZwsq8ogaYW4SqhxakAAABNQZodSahBaJlMCF///oywAAAaiVlC7u2brwPH2xnWS53yX9wHjE0HGmkGk399jAEQ9JECWeF4eE11hIb7QrfGRoixSI/walQe6GXkHpAAAABjQZogSeEKUmUwIZ/+nhAAAEVFJfYiX5gIsx0DCYrXlq5PiqPsaKqs0tgA0ywoCaUfwxJyyaHCPAG7Oj3mdPw8T1xo+suuGFpQNgHiqAOfYIEUTgT9iiMfwxznAnFFhI+VlNSAAAAALkGeXkU0TCP/AAAWvEPMU+6x84cvHahFN0kP1lclLdxrSRwQrAzO9cDO0DC78sEAAAApAZ5/akf/AAANgj1fyLrtTADyueOCEESlTLBEmxNNrLAacT1gT2w21IEAAABXQZpkSahBaJlMCGf//p4QAABFUQ439U0RONsPA+O1kQ2tXvpfML3t4TpEgxbReR7RIr+IABNBHHA+3amX9TUv4CG6ctKQnmKUikcbN0qXNQdrmqu3QsZBAAAATkGegkURLCP/AAAIbYZiRT4FquPnL+6HftgAIyay0RZlgkznLRAYJOueHI2Z5fROic2RbtwKZDbEOfzbZ1ddwnfdKTMM3vOR5k3HndR9UAAAACoBnqF0R/8AACPDF2Qp44NWEuKCd/JJzyEgHuSskylUIX0XGNaR5V3Se14AAAAxAZ6jakf/AAAjscwNXhFsbkMsiYYZUANMg3coSA01kAwu42bqDScbaQJ8FenpgxhyMQAAAIhBmqhJqEFsmUwIZ//+nhAAAEVOcsgAN7WrLdFUiMCJk9t4W2itS+OLAwq/gpyaVn0YhFb6HVZpb8hruNwOYJUfwVRNG2TlXfAbUxSuKvMiOljewo2TxrPS1ItoFN1kUq49D3P0H3OUhhbJHaQqo4BBDdT9VwT434/92h42Xj3ngG55seD+7kJAAAAAUEGexkUVLCP/AAAWu7RygBYIBzcssQJisC4y7fpRDcU1qhUvydTt6AZImM1V98Rl+KK3XAHyy/TLcHnRIDTkymbKziIF1aWEU1Y/SrCA6EpUAAAAMgGe5XRH/wAADX9IGnOqC2nvgNP3E1mwYDueKVEwlmtuLhODLxswgSoGX12z8rcWfUqBAAAAOwGe52pH/wAAIscywmvF23nF2OtDOSL+YYVswTPc5z/yoALqD3/4e+bNCG589fYpJjqA4hwNZo4gQduAAAAAnkGa7EmoQWyZTAhn//6eEAAARUVBiUgB0OPQkLO0fNapQV6M0OVuw9GB6ol5aVJnDxGRgsMu/MOqr29s3drFiAyQeFw7KIZEi6CeD79n/lvrNMDa8s5W6UTbEfvzCiz8G5ZUu/zbrZARzPz0g+iyd4/BdlKOWftKYMIl585FFlWyO/+jcS7Cm0HuuCkBoy1pRDoBqxHB3TVAcDNYeaChAAAANEGfCkUVLCP/AAAWuTO14NhJ0l/55TtpDFvHWqJjYGX3O6iFwKwUNmkizzaij/6hPCkgDt0AAAA3AZ8pdEf/AAAjq/hX54yABdADBw2I8jxuXRtOevBM01IqvSy4fq2eOkVLxs1lK73ETOT91OVtwAAAACsBnytqR/8AACOxzC4quvlqG+A680NrU+905OYcZ+TaeFDD6KX2td24M3FhAAAAYkGbMEmoQWyZTAhf//6MsAAARgIFck8mkuQF0g7F20RdCvsSgl+vxa8MEZvcQJ9x6fFDqqPTx+J1ET3LJVu5oK6zCEvMWi4OgBavjQ62HKwn+CJfX9hQc+UKE+ds2y5MeHcQAAAAUkGfTkUVLCP/AAAWsyu1Bbkcr+SB1gPxn0FXBLQrZ/6VgRb7qtGJoHbrkVbV7lBgNh48GcoyNEiANdQnGUZNESKdMYLnnOeBxJh39zI4puvxtmEAAABRAZ9tdEf/AAAjwuy0XiPKgAt4la5eBCnFUGfQPgZCnLNAT25U0A7Xnk2wrNhkGNpVuih+TQ2OKmrw9pskfsnF3wXkrW5V1PY2ECZr2Sjn0duBAAAATgGfb2pH/wAAI78EJDkX3vwWhY8pkAEVP0vaf0N+9lIVVToeNtOiDYJoKIhTg4S8hUhpFJ8OvfqlNcFBPwQyL4lGXCA470SPDFGFK0GqowAAAE9Bm3RJqEFsmUwIX//+jLAAAEZ6b0GvnOiEllM0+SAEty20mRuL+NLC+bNMH6YGUhCRbgiOD/w3YJ10BnRrAOREfCAhEL8K3Ne+IroBh/0XAAAAJ0GfkkUVLCP/AAAWsyv783zCapZagfraK9nifmitCRFN0HOf8b6HdQAAADABn7F0R/8AACOpz2d0ggdNcAiiZhS64QAnZXqmXcLwexrIMmzDnkQ8mdZ3FpbPOm4AAAAqAZ+zakf/AAAjscwJwW3KAEl4PhRjexUGPgclFQd+3srsja9khJ029MCBAAAAY0Gbt0moQWyZTAhf//6MsAAARBDBf1M+5jbCy8AAfJ5ii5XeyPFCnyRRsOsahNSIMPd0ssW04Kva/fsg3ZtDHAQsBrKXxNns0qjZuIH2PSK/3Noy2EZLMf9Fqdkw1OlUXD7tBAAAACRBn9VFFSwj/wAAFiuUkxXjEox7for0YssTiy1toIk2dA/hN+UAAAAuAZ/2akf/AAANNJzUTvYAJYON8jV0neW5QzWy0lQUMfOaySH0WlkOrQHB84YhPwAAAHlBm/tJqEFsmUwIX//+jLAAAEQUXZU4A5Rloq0RfHfcMlhUqf56f8agdPZnd0Q1KzdcULEMYS3lqm9dhu3HbVOQyWm6VaJau4W85PFwLPAfYOgUU75MDrkGUwPIdUrfg6DglBo/GTTmOtt5UCH6ozfZiT+61mncBXthAAAAX0GeGUUVLCP/AAAWK5STHiTAE5Il0MMxgX7eiUq7d8dCyJRhFGPaff7bJ7X/8A/gOAhLgYGNYZpcQHG228A67VfWWJ8VF0b4+Alf5ifI1WOpdzvtbdX0kx8VWTp4qc8FAAAAPQGeOHRH/wAAIjf5hJgBuVvWkYPNgZet7BTaqS4NZnI4bbIMqPdXyZdcHMjintSMSIdvZktPBud/eRXpzpgAAABDAZ46akf/AAANKbEDAq9GAgTDa7JNgALcAYftEEWmCOs7NMrHQ5xgB3/Spxdr2yf5LQDVpOBD5ZzomNgEgC6StIft6AAAAH9Bmj1JqEFsmUwUTC///oywAABEAvf6PPQ0XADbbxOFAbI1ABynOReqZ9R7dBFJuLD+Z86m59Phw2oHPOYwvpziampQZ+CbnysiI2XlRFXlJsJFVOCC2AFJMWf/fEqG5mTyfvloAVRa88a3s1HPXKknHiVm9kyJV03P6xKyBHmhAAAALgGeXGpH/wAADTdf08I783F7kxFSKZZeN5O9IL48RFy9xyY8jnj0NvHwmlKe3oAAAAA3QZpeSeEKUmUwIX/+jLAAABnpOpfiHxLoN48TBFPhyykJ2tZ6z8y1Ejzph0fdvstAA1aIdncEnAAAAGxBmmFJ4Q6JlMCGf/6eEAAAQ0RsLkAVqlT7LGAQFLg7BsAZ/daK8NEVXNyoZ3a2uCDxQFcdrItxVncl0rxsrT2pT6y/wm2BMdVxuJzgIJ3kMtsULsxv5zbAx0BE8BTv426G96Cw2bpttk73WaEAAABGQZ6fRRE8I/8AABYuauEtWGtcW2nF5xstIgE06L9CMu6t1NSwnBJ+GKvimBV9prL8db62scRUEFX1T1SKBP+mL4FMaoNvQQAAACYBnqBqR/8AACK/Gvr34UQuc5uukmxBvARLgBF7W/mX/Svd99444QAAADpBmqVJqEFomUwIZ//+nhAAAENFJm+eTLXoprb3JrwSz6iBOivAmJeGzyrDYiJtMo39AGsrk93jLNmAAAAAMEGew0URLCP/AAAWMFoR3jQAlM5PFlEkkXXQhpx0MhiBOfhwAe/FUgqMf//AS4JjQAAAAB0BnuJ0R/8AACLDPg6g5MqjuIUYY4DNiac4qail4QAAADMBnuRqR/8AACK/GSy3iC1DqzbI1cs0elf6gujGS6YJwJ4zABOrmu1aOzUWHK6j+o0ty8AAAAA+QZrpSahBbJlMCGf//p4QAABDVKs+4/yBb6dHBKuyXVnKu8RABoOWUvXMIzGk5i4lrkcwUiBxXtxCws04Q+YAAABEQZ8HRRUsI/8AABYsQ823FcEoX6Via3gsNWD20QAshaM91vWNVlcz1NLzioQUsNa0pvxowpMvn/fp3jtx5wpA940e4IEAAAAfAZ8mdEf/AAAE9XJzUPiu0ncBiUEByTIsCitsCqpCwAAAACMBnyhqR/8AACK/BCQ5F+KbIcK/dsrqIrJvocGuWrjhpSYIWQAAAHxBmy1JqEFsmUwIZ//+nhAAAENFQ4YcAcmYm40h4/XhV/OX339FgjExJ4rPd57GkD+c7xKx+1Z21yV0IN8kZa2stU65b+ZVj6PgvBFXztAFRSpDKWmth3qAKY3A261AUWP3sj99rF7b/hSYFOt7a1NWOTJLrN7ucZQ4TjCBAAAALUGfS0UVLCP/AAAWJSs3a1GEpsAJliUU9qC1QbhorPJIa7iX9kOENqeVC7zIWAAAACEBn2p0R/8AACKfVwhjH+EyfwWRelFW+DJiSk5WdHAD4sEAAAAaAZ9sakf/AAAE+TAOaUAALqJWiIof1o5QLaAAAABYQZtxSahBbJlMCGf//p4QAABDRSXMunEX8AFp0aZujC2cY1pZVK2s4dg3BrzeHllVLcFPXbiClwW6hcIdUfQoDP22agAf4Jhpe4HdR4HsvjUiMgytjl6C8QAAADtBn49FFSwj/wAAFjifgCI7jN8dsmtkVy9OekPJW9eJr+qTFKZ2++vMlVksklaQ6TSxZZ7I4UJ0qOFJsQAAABgBn650R/8AACKsPJ2S1YQsqGAi8B/gN+AAAAAhAZ+wakf/AAAiscwNS1ZJ9sS/LnkAcHAH77rwIknT4Pt6AAAAX0GbtUmoQWyZTAhn//6eEAAAQ1FQ48rAB0j32Yal9gwNSyPO/ziOeA7HvEZKCOfAwS9Yxz947pOTG4cpssvrsCxwnvxp8KRcT7aZGI5dwbq44dgsi/qt334lrfGwlsPhAAAALUGf00UVLCP/AAAWLEPNPo7Xag54nIQ0a9NTZ1GQE8jkEGTM05sB8RXK92jlvQAAACQBn/J0R/8AAA0uANNhCV9eQALoAM+CN/sbBkZ4tGWMi8SKF3EAAAAgAZ/0akf/AAAiscwuFQxq3q360EXOWKe871Wcvx0PRPgAAAB8QZv5SahBbJlMCGf//p4QAABDNrH5WmwBHtVJR/E7vrxDJOhiJPDzgm60Or1pEt8UFdE3WM+ikLkrE5PJRXz+QGH7WioJH00l8G2nnRspIXvoHJll3Zty8KEhTyzgPLCFPdCV+AjKvKovWVFFGByzhCApMQa/BApl/SwDwQAAACNBnhdFFSwj/wAAFixDzbcVzloXk+PX7V/sEfUQ0Pr2fliTYQAAABYBnjZ0R/8AAATVhyDt2C+5Epuv+QPnAAAAHwGeOGpH/wAAIr2V4x45+c3Qis3+6MIQIlS7eFuR500AAACcQZo9SahBbJlMCGf//p4QAABDRHUnkActR17ky6X5xYwKHXOk423WOPUJUfGbwMFqDbkrkmVeDmdQwWueryJGxSPEoveS7nkEzJj7CGnQ6X9zXcHHIeLWxBAEjP4vctcYUo65axAZZb8AOCjFQTqq7Joc6IfGn8Zx80Y6q2VVjemSR45VHiFZB9UkYLkLDmDCkfC5hlps7XLgcISgAAAANEGeW0UVLCP/AAAWOJ+AKxSa4zl9HEHMniBtM3BOq+GbUWSMGc4BppukmN59ocB64+Rtb0AAAAAoAZ56dEf/AAAiwuy0g+gYSkj7Z6nONACULWhne/SYJoSuWLqnLrgXcQAAADEBnnxqR/8AACK/BCfb/szNpJVI5nqZTEMa6CIj9gADVEZVBsfe8RQMtqfKIWd0xPBAAAAAZEGaYUmoQWyZTAhn//6eEAAAQ1SRlGQActR13xy7mHa2w+YactoGpX4roTCFE6YY7p46flqytdRVRFVX+12mm87tto3kwfYfinAz3+qVm8AH6AgG3oeNQotIVkabXbO3FqMxqkgAAABBQZ6fRRUsI/8AABYsQ83YlTISHfRBfVbImRs8k4GUg19Uk+u0tkfAA+/dAN8G/OSWV25olufXuEQA4T2cspShbb0AAAAoAZ6+dEf/AAANL0rb1lXqv+wpySYV/cD/hZSG0O/QVXkfW2feq5U/iwAAADQBnqBqR/8AACKxzA0taHPCblo6v1vdq/G5au51zCp3GKXU+LMf0AIUDVdOnclP0f0alsmxAAAAbEGapUmoQWyZTAhn//6eEAAAQ0RqHpxWcACaVJVO6SMBLHWnaatarEk/UcNywYuo7Eh61lZjXYKiwo+IfZB6qHofKTuhQZ0vIezvtVVbfvnMJQznWJZhl16k5pfrT3NKQqvwWh2+UNFZhpmhWgAAAEdBnsNFFSwj/wAAFiuTasORwizxZMDMdhwLZfa7+ghHSj9mXh6D1v4BRfUg537gAC4ukjgScQHiPzLqHlz4EARUtR4VTWg9vQAAACwBnuJ0R/8AACHDRwtGZImiEuWPib9PtQJRm6ivp0GupsOjmfjaj+8htKJ0wQAAAE8BnuRqR/8AACLVIQA6PW5qYvIVfN4qDhZaJTiWmwp2FwvhgslvJIoDoceqAlVZDfYRYgYBxV4Fc9AntzffopLYUt+deYqdSFpcIdISURWAAAAAckGa6UmoQWyZTAhn//6eEAAAQ7pvOtv9OABYDcLz++EDFuXSiusO/CocdmrcglOXh7Ioa0oeUbjDkZhzI/9+RmakyL+c7xEcgJYshJuPY+3Xb3vxH7y0uE4FW5UY/iFr7dPpyFRxcb/Mmy6oZkkHWNEggAAAAFFBnwdFFSwj/wAAFiUO8m9fu+vOTREANh9JUOoW5ll56vb7oGB7QVZkwJRyHNLCAFtFp9bzRRljnHYASNjCcxDy+kwGmzPJjb9RdhcWU2HiuCEAAAAyAZ8mdEf/AAAiq/hYC3Z/ahu0z38+8bouQgvJm3gd1co5J7M569ZYbrUgsB5po+TB4IAAAAAkAZ8oakf/AAAhsjzCRBI5nDERB+vgX4Dq7nIgxUfAVm5kiKSBAAAAXUGbLUmoQWyZTAhn//6eEAAAQVSYrwQw6JS8pHq2UGYWf/9kgttyVB84Ho6uV19ie9dSXpMveWUy7mLtiA7rUr4knFtg+wvzCTO50rINnSABqQme/q+9fsb5DlXewQAAAEZBn0tFFSwj/wAAFaBGkXTns4C37lFTrLKJeudeG/yz4laAs+Lm16uSlgD6+uDnCxcAJZGNpcMlqaDeOkHUfzAfsoKALu3oAAAALgGfanRH/wAADN9JQNhrQTrano4ZfYx1NDL6K4r3ewRZDUsb71JaVY8m+FUS4IEAAAA2AZ9sakf/AAAhvZZ7SMJm8FgXXAa+6GZcMD42z6h+VaPNaOEeLVphnvIeLR7sI/TaFgnIPbegAAAAWEGbcUmoQWyZTAhn//6eEAAAQUOXN7v4YdaQ++s4wSgbJjJCgeznAwiV8xlxtQq30eedcYxyksHxCf3SB//x8iYJB34LNIqJ5LKyswfWwJUr5mJit2580UEAAAA4QZ+PRRUsI/8AABWSn1ElfWRLoPlWKHAoAbitc21jKKmDmNqRl8Q8uqXxTbZDKZsNI12LE+Uz54MAAAArAZ+udEf/AAAM5P/6lD316Hi8dlmDRFJl/x0Cuzhmoc//jpS/lJvLnzz7egAAACcBn7BqR/8AACGuMwUkxPJmK06A7MND8ZQSZTJrCVybhqWn22+QxSQAAABpQZu1SahBbJlMCGf//p4QAABBQ8bngAsBsXE4U0wapp8N95Fgo7W4+GnitIo9s5/w60IhcUCMAjntVwsN4YLGAIrgyJc67PheEtewCaNrZOBcXP/dW9fSF3akWkRdvQnwieo/5wpOM2rBAAAAREGf00UVLCP/AAAVT5bO085qLPKPRHn/Yo/orLsbYLYxTghaWTl7zOEPrFAaF942P7cwAIbC3t3tZQWbu+El4CWMoWL8AAAAMAGf8nRH/wAAIcC4370o8QWXHTjfp97Y6TkZjgy3ZInehLqMbhTWolQLDmjMT9h29QAAADEBn/RqR/8AACG9la27Jm3LV88i95Y9S+rIweMwDSom8GiMd5c4QAJVPP9xrCaoWKSAAAAAZkGb+UmoQWyZTAhf//6MsAAAQhCdanEg6AABq575A/913yWra0WAZS6Ud3Iix/RfVaUblGVcAWVPChxbv/mCAm4jhADLxGeEM6zgPV9jhIU7fWmlVAne81rp+s2IgFxPHLZlSiU/4QAAAERBnhdFFSwj/wAAFZKeqLRDhS0PGOcjFVjun977rFoZoZGl/X8lv78pDvz8ai5UTwACVFQMxEJ6tb5m1YIoZPpk0iQUYQAAADQBnjZ0R/8AACGpz1TPIlz228mwNFqP8wuL5XxCSynXgwJWUNd7U4vIDR5Od0Oq0qD/LjXBAAAANQGeOGpH/wAAIa4xL9F5RKSPJVclbvd+9ld/vxRGZLTF/PKExlYcD1sLYp4CeAGzUfbPiTjhAAAAdkGaPUmoQWyZTAhf//6MsAAAQnpvPc5pV6bZTw0RHljP+VegEPYARWUi1jQkzsTMzb2Tniii9uYAyq5L6YGfObyYNntX1hmA8N4EkPgGpkLcW0pA6+p4+4OfE3g+Y5YXo6rfd+5ctl37gXeItKEaQINqFuTVmoAAAABGQZ5bRRUsI/8AABWVJf1RXnHyNpy8lShD9js7KRfnvlu3lrLPtwFR/bLAASfMjmrRhgkO1p/jcLoShxafkEjqtbwSZEGKkAAAADEBnnp0R/8AACGp47cpETZOxlQkVoOODhEXgUjrga9wIR2gjmEl/5zW9YADKaZNNtmBAAAAOQGefGpH/wAAIK4zQsGCZBQ1EGhwagA3xhAJCw7Voi0L565+mc1YfjLUhzigE/84lV8HpF+0n1ZswAAAAHtBmmFJqEFsmUwIX//+jLAAAEAUU9RtwBWqLbIO1M/Gp5MwXsI/EfNy4Wdq71/Cd4QyBT8mx4ECpzxavcEdE4KBYhGBHFNzr7qcmEhpXPBjreR+7YdlMT1WfBrXaEizQBpJhD63TD0JeMb7MbfsvAsysQmYrO9Z788jNYAAAABSQZ6fRRUsI/8AABULJVWOUNN+IY98e4+PVJIH3yPxOaqhtU6J5soAWLqfLqtkH4+DaIzuFi5OE48ogFtIMJPOd1+o3gqz/DgaRin0FEjS/2BVmQAAAD8Bnr50R/8AACC3n0MnhXwtPm8QKplC/4o4YBEALcWxc859B/eMu21jUne50uHknfGVYoxCM8R5+rGTLBebFSEAAAA5AZ6gakf/AAAgrjEvz7WHkAp0B8ZxKeioNcYRG65k1X8B5WWoVU2zIG2vs6DcMp95YL0gckL5KbjhAAAAbkGaokmoQWyZTAhf//6MsAAAQAI0cgAjodGA8MkT89HHLGQgJT3i8tPKaO6IC73yUn6f0TDuM4I9VUhfZKBxcu/P9UhOzernGeLTCBFaIEmY0Ec9ZjMl/UnZATGciwGMDd4GQcacyOWR9hj2bVG4AAAAh0GaxknhClJlMCF//oywAABAEKJuwbbHjdfi5v2nfD4oToCo+V+JRpbv6xwYRlfMGnmJvJrfIVW36L2X2UR4myu4fZnUfKtDQG2nnC7UycW/XtJXNdjv/l0P6uhH3j9rmng5CEQ6JIdpY4nAqPYz+gFZ6P5tk7xX94Q9k+Nz5X2deGLpicKbgAAAAEpBnuRFNEwj/wAAFQHyg+AImLDmTsvmAQQBAQ25S4gVPdAX8f6ouml1DT8NqMHewbuXW6NUdfZhDfhuSg4yGM00FEXs1EwVoXpFYQAAAD4BnwN0R/8AACC3o25KgWoqBPkokkvuRMeJs8f8rEHqd3b02SY6GdABK+fqqHvbSXKk/vm21DrMzH5YCX/9wAAAAEQBnwVqR/8AACCuMS/SIq40gM/RlO10oFY6ylVXSrdcLi7cHHXarQ0QbnASg4HVE6UACcaD+8+1/yv6VRfm7B75jRfxZgAAAHZBmwdJqEFomUwIZ//+nhAAAD+8JzrbpTpF1BDFbhyckVFb0fA9CbIxu5ZogYXe8QGVqPk1ArqBAOdfl4dNlvwRUTGCZve3GRz0+R5fyxnleiFhchxl/sXmawAmYw7Y9rue8gW4Kq/PKB0QxKwDghfW0fOqIffBAAAAYkGbK0nhClJlMCGf/p4QAAA+Fmn8PNrDX3D6csm/Aql7PaSr0wAhR9LZRP9M3rVaxidg1XV3fxHsidg8xE1ImLb2QVVILiLu72Lz5KqVBkdU0byIAT+rEf1a7gBNy8H2ZTmwAAAAP0GfSUU0TCP/AAAUaks9cjz2tUSnlaNm8eqUrH+tJX/YHSaI5ClTSfuyksAAtoM1JRagT5XyOHdocD6HSPxvNwAAAEcBn2h0R/8AAB+2c4hP+79Wi+url6+qzXY8pGj49HRESZBSo4w2V1P9uaWG+hYg5ovgAlqaCwTBViniem//yXGRN2UK/nhdMQAAADUBn2pqR/8AAB+47YrBIed2l0wjEg4cSiPScUzjOjksWrurepM2/MWCj5KdIfzkea9Cb5vdMAAAAGFBm29JqEFomUwIZ//+nhAAAD4HOMgeACwmf5sxqK7GkxXCtOMCF+PeLKMSQ8o8VVbiOl4gW0CteotOh3dgvm68Rc9mdsEyX/yCoM9LpPaATgAahFTFfRYIfEd6bNC+ZBfBAAAAXkGfjUURLCP/AAAUeyVUAztlH6MncUID/3RdDvCEM/e3GXRfcDLgUNkUpmjlqu9J9p6d4IHS0xP9aXVmdV0LQ7i+IWEY9ATKPgjYCDaf1akf9639qU5FaZ849cKTLe0AAABJAZ+sdEf/AAAfyEm4sCR1sdcIyBf9G4FoJ92U/i7NNI/exeCggK1vra1R3qsyAE0ua9R+AEzxUzIm0O656LbXw4mSutlmqT5RGQAAAEABn65qR/8AAB/GY2epJ1TZTkPRlcNNsJn/VqUM50PjtPcHSNmvWfQuAk/sIdNyNVAAeSZVPkDJzTLzrkbKE/dBAAAAa0Gbs0moQWyZTAhf//6MsAAAPrwnRUplNpMgX1bXpJ0Le/hzOmL0d0lAXOgEFryZboxF0HNM2e8FRCp6yFdeoaCz40NbE0I46kSKaHdGHlT4dEGCKhBM7HQj9WKcQiofcBkqF309Wwu3ipaAAAAAPUGf0UUVLCP/AAAUdSU47VAu5xuQyd2dSDru1AYMWFRxdyD4qUZ8BW93IyPbfDWw9ivqv85ooAbBaZ2ZXoAAAAAtAZ/wdEf/AAAfuHqxRhetEFYJzlr4sBzGjZogM72SpgebK6aYmdB4dmWsMfdBAAAANAGf8mpH/wAAHwjuBqqegAR+8B6KywcO8/eXLYFfppreRse9inuMWo18rmBKMVUDGP4Pf3QAAABbQZv3SahBbJlMCF///oywAAA8/KRL6cRAJpRcJiHjx6+wj+xrtDj5EI+ICtG6KFFHfR6/170Etxz8VE8ML+JFqcw//E+aiGYFNliq37htHo/RfBWsfWOOHazvgQAAAC5BnhVFFSwj/wAAE+Iu8QteaZhIcpkLqZ2678x5Du9noqV5RmiP3wOcNZ6Pajs7AAAANgGeNHRH/wAAHwZzFxUOoI3CujE6yqgS4gF0riAAGD2B6bwAfb3wA5wCflt873DUVY/Ya0GjgQAAAC4BnjZqR/8AAB8I7Ta9CGEmVvVBliAq7MFto/A2vLIrXCWmpgA8ZX6AhBl7hYMdAAAAUkGaOkmoQWyZTAhf//6MsAAAPVwnPdB7WD2Wfp5JnW+gH9xnjqFb5htzlJfFwRgAy1V5ySe2KI96GKjcXaCqy7J/ZPc4HrkIwGdQKl3THt9RguMAAAArQZ5YRRUsI/8AABPiLwj6u5HIHyD6jHxnUqGmne71bWTmbvje1+jNYwqygQAAACsBnnlqR/8AAB8Mi7AkB+Rml9N7wcG/AzU27crXHUUsu0MZy/gx5zSU3PVgAAAAcEGafkmoQWyZTAhf//6MsAAAO5ymFIDACw+LpbOoOp/6lfKw8840CpE18RxsCWLLjjOvqBbwYZW5fmflQ+gPfXfshNRleTlLRtG0FNMmZccxAETS6i9GazYMVK/DuISGI7yfheHWD85HNCR+v2tcm4AAAAA7QZ6cRRUsI/8AABNdNpQj24O8Sh53QLhMzAW0ZkI1yAD8jdbDuavD2wYyLcruWJ+4TR6fl/FRDva3fDEAAAA8AZ67dEf/AAAeaC0M0DzYaM77Ugd6Q2G71zchoWmP3rpj3m0EBVUVHobPaWVwAmly0RuDRQw9kLQD0HaAAAAALwGevWpH/wAAHmZjZ6jt0G1afO1PAe8s+r7QVO5ZIApm+muvSQtStlR/NJMngNAIAAAAkUGaoEmoQWyZTBRMM//+nhAAADtHLt8x4ANE7JP6wY+a1QNDnWnwQzWbJEQ//W4e6rwxTpW6Kg2RxkoyYo1YCJJjhopAeEXSudzeM9YAaA+dcHJQJVNjC9z5douAjsNqLv1ajxAJUVt7mYKRRjS+gKj23+wD5T5diwBxwXHvRHCndmEk2MVJj7e/XD6t107zEf0AAAA3AZ7fakf/AAAeWaTjvVRGzpXVp/BWKrIPkv7Kit5ClD2zgK6ABtQCAYoGRM+Y7zd4Tuv3UbhaYQAAAINBmsRJ4QpSZTAhf/6MsAAAO/wnPdKWkwA4xhNjwaBDX2u3/6mH+PWZdzv+CGVBMHijC89D6biuZxQroV23trYUnKyVR2cejf4ZiK///IA7iY/94f0mcAVp6TlpUJQ9u7xdw2uxX8DKBrl9XhXSp6x6BJBlAmQYYgsrZKgvmw4JxnMNtQAAAEdBnuJFNEwj/wAAE1fkf6JkizpamEYqvVYT8iqIdt6kG6HYfgIzt1sOQcs8rHh4iAFu1kcF+NY/EendQ90u8Fqph22oNa1XjgAAADkBnwF0R/8AAB5W6PFPO9Sf96FPJeJAzFC3GGPhKw3gxDXAScbjqudfz+CLUVOL0LQiJKJ9UgrqA+AAAAAxAZ8Dakf/AAAdtmOXreCyBbT1F7T4u4JSN9usCtjeQPGc/FUPsSY1LSFn8mhf/PSG6QAAAGZBmwdJqEFomUwIZ//+nhAAADnnOIUXmG2AM+slWS/N9AcKweQv0ZDnQKUBkX3lxFX5FnLEuMWIwMqOU49mNZWfH8+Z8DtDbiPJ6D6r+jZThicSyJsnPWcLgNVT5HD6Q2Pn93hOVbAAAABiQZ8lRREsI/8AABLV4NrvR0rZX1ZTbFfZNUSVchMKNAKgKG4vILkAK98fPCnC/SWU1ACEQJSA7uLSjk6tB3T/Gj3im+VAXgEVYH2g9e1ACgj1BDhYnyrM6Tpp7T1/xn1JboAAAAA2AZ9Gakf/AAAdqOzacGbclwTKVC3guMn/heS0qA+8pKkyXNOMy6J1x1b8IHh4jsPCG3mKIf7tAAAAZ0GbS0moQWyZTAhn//6eEAAAOjwlrQGQusALTg652L9IOPKCmCw0avjbMES9Kc8mBRi2Wf9nr840vysdtfgADd74l3rBYMCrKoEvrAzYyFbc3pHzYvcYorHXzafWGw6/SJdK5rgG9bAAAABBQZ9pRRUsI/8AABLdJUbYGEAApFCZ8ePt8Ua2OKsxZoWM8Not72wkpBDz3zafnndiC9IY2haZwbetB5Ej05kjwqEAAABLAZ+IdEf/AAAduMmuH4QmA30OCkd391jC864rw4jAfpYs2lzh9hewFZBe8FVz51lDHtLU/bvgtQASt3R9yhsBAwlJLviggQKEDprpAAAALQGfimpH/wAAHbZjSObQjGWoijaDK6xyIirqsQIYLuhqoMrnRWOk6ss7N7Tg4AAAAF9Bm49JqEFsmUwIX//+jLAAADjcpJ24A5h6aynoKd/kO1WNbSkJa4LZVo8OLFDHlPKVH7GfMEjsRMcKN3+iZqJ7FSQTIxRu3lRRvKyBkuqs1yW0Pi6kVryfvVmuUwYMRwAAAD5Bn61FFSwj/wAAElW+Wu9A70iqLwgM2wtgdYghAgri4080OBEMMgBtAAz8FWOa21jwrvAeNijw50UbqhDvhgAAADcBn8x0R/8AABz2c4UBUC2eVKPJ4jFtPlWBABdRBb5ETTTeViNzwvOQI7l4JVg6gnztU7epf+GBAAAAQQGfzmpH/wAAHPjtgvlUyLpG7wAuyhlHQALcANc8TAnR5iiJlsOqowZoCtfij5jKYR9I/OhDypcHt3ElAm5I6uGBAAAAl0Gb00moQWyZTAhf//6MsAAAONyTuywUrEABxPVB20x8aHVBS3s4cV71fbWczkLPea6hAvPPsX0kaXZfBbScjEDot7YmKVSg/MV6q9IAQoIBGdHKSIdwo91o3Pc93OeolenVNjmMBqod0Uh8tNXFl2yXKuzGYWTEE/QyfkgNr13nQoLJhiK5vh8T37Qy1HyUaNziniIAYigAAABFQZ/xRRUsI/8AABJVvlhlO2GIPUAM6f7PiPs0gk2v6HlaWoD6NiHXHg6dNb+1JDtr5kc/6hvFYhKv7TX64+DSD++LHsPAAAAALQGeEHRH/wAAHQjKBxVZWHWlRHJ14BnYi7/dlViccKho2UKZcRGameB8lHXeDwAAADoBnhJqR/8AABz5pdW+Mwk+UxFQAkU4QHuYGxcrkvoU+Dyl9c3Vs9d2zRHf8qXhYiPHKOJ0RK7VtqHgAAAAi0GaFUmoQWyZTBRMM//+nhAAADjcJzrIhBvtsDCJHwGR3lQE/YAncq00UR3ebtXsAO8gUkR2O/OoPiSSC/VQ3ZUJOaANby4/HCRpIbTW8JWCbhPGYncKB56RCuB4IfSgFsmtU6hON7ggdgROa7/ESHQ/m1YYqUEXUfmAQPsCnGpvNAjE+0OiAxBbqHEAAABLAZ40akf/AAAc/KfbO8hQ6pzTPPSxAhwbRscZOj8pZ5n2f6XmdYK/76UmS3mNik3DNv6OIUxgAnF6qcdbE2yA6aS4BiBqkT+24fg+AAAAZUGaOUnhClJlMCGf/p4QAAA3K8c/EATubJKfaQN/38OUOwJbJdYh1nKtfF93PhbCyqMb6j8CYf4IJe5Ij9KgBwc4D7F5BV2eF1aid5ZSkAyQ19jZ7ZYouukG1Fn9j3fiDW1Pszx3AAAATkGeV0U0TCP/AAARzKk4FYejSAcWLps0SKAuMDge4Owqt5czaFKsbDrpJ0VMHBJc9dLQbVACWqARimvj5c8xKssoxU+GlnZAOuzf8ProHwAAAE4BnnZ0R/8AABxGc4L6txZX3l3/l7AWxPO9LV9Jjr6JfPyyAFrMJe4zBOOVdbHGHDDJTWlOCaqrllOhImrYXmPVfueC/LAYb03WLDCWvMEAAAA1AZ54akf/AAAcSaZ/UQoHhtG7dJ6evbiD1V2gcdAeCIHh74l+UKY3utyfSu/lNexu7YUGvh8AAABgQZp9SahBaJlMCGf//p4QAAA3K8cjCWYw/+Hawe2ZggQYAg4Q3EsXSewzPCxdnKHDzGeGojjOKIE97VK18RO3GRAVqf6pMEO6R2oKxCF2mQKXEhvIqZ0/CDQe+dVrhU0UAAAAX0Gem0URLCP/AAAR1b5YZToIPZXybrKx54QKaMHTlcuWQdtFAp5oFVQumXNp4uw4Ej997cCTRnVv2kIll7WOkH4tyHDu8HJ3Fl0JYc8oWUGQgiUVkpxK0yBYnqskPOaQAAAATAGeunRH/wAAHFgtAAdQyNbjwJ1yqyKVe3lD+HpAa4i1icAlrWw5HBXOwGzbL0xexrmw4AcF6tmeSBlQtQ5feLYuBem5FivgtcDs/mkAAABJAZ68akf/AAAcSO02vD2ldII4lXlWDhF/O466nwK7Ni8yXAFeGB+xURi7De5bSsL8SIMk35ounOMrX/i9TGRazx9+c44bXReg5wAAAIZBmqFJqEFsmUwIX//+jLAAADfcJ0GKwPnlA2ADi0H7MWPza59wHJwWtQqPWspOFLEQBb/QdPFt1QN6Opfme4N9Q5AerSLqthpe1qxeJVqw5PcomOtibbSuNzZpW3avowjWlN/9nAwHnhq/WDk8KT1KodMHQabpXQ4Fcm8QaSCR0ltSNIV6ZwAAAEJBnt9FFSwj/wAAEdgFmldS81OVALzE9j5KQbDDMqB/uqSjppSPOOM7wAhsLin3XoX3zXstN707a7ktKnYk6XYptpEAAAA7AZ7+dEf/AAAcWMpZE3n5ACdleqZdwvB6wYctIxLBFOY6eDSOx43lxLPlZH2Lwg0NLFsxKE5fprkYL5EAAAAyAZ7gakf/AAAbp9qg90VwVYqAFkJgmPunHAQtvJ6STsMvQHRofIWjwtY7RnzmoKcgC4EAAACJQZrlSahBbJlMCF///oywAAA2V2HfktYAjzgH3cu+9URKrQ0kjAwzGqePbNY7SJ8Q2U+oSBTBnIYksEXa6mNF6F0pj8+JII5dEY6UDUEuYdGa6cnuIZPO1i6fhUOmzAZ0OmO7mwfJFetywQ58yYxJoSQ7A2P8Lg0kYCexGCwLMdwtnSRlCA9J14AAAABZQZ8DRRUsI/8AABFdNvRQAsPdYcEdVbkaFLEufCz3h+jMrPtZAyyC9wjIfA8Ezem4I87ldUWrOuSG9e1HulWt7lcQ0Qtloxbm3cIucsgCXnMWq+HGv/I36oAAAAAvAZ8idEf/AAAbjA0sq+bX91qGrGzqf3HAFnxJW/dCZ3I7If3xarlTux5CoOeD+yMAAAA/AZ8kakf/AAAbqCke0EFUhMw+k3ggEywtxBkRGmI4eYxm3uIlHhHWwMd+47/nvJFmu5QAS9Sr6pS9ecK7yAC4AAAAVUGbKUmoQWyZTAhf//6MsAAANpwln3+rxYADj2EdymfyQIKol2T2Pk/tum1LHQEyPmDp+rfwFQ5FjHRkS+ssLk4MzwSNpi0CZlbB3fJQvVCP2zC9XkAAAABIQZ9HRRUsI/8AABFVvffBLFbAt7TDSQpNAC1bu+BUpLdCmEPlL/+Gw1+Jav6e1hLgsSJDhTcGPbM2u+7gv1lKGLPJGLrZ3+/VAAAAOwGfZnRH/wAAG5qTj2n/WnqfKygcv7y+rVxHmpfvAGDGtglU/r31ugAbOeb+9kMaMDwsYwnQSWY6mnhUAAAAOgGfaGpH/wAAG5xfoal5dM+ikBUz9BjoADgpQOhihtg/z1F6Zcdnka6KQwOrNCDAehX1/US5bO5RPCsAAABYQZtrSahBbJlMFEwv//6MsAAANSB0FDCk5wAjFnaRAfuMaQayaR2n8HaEqSI8VQ/0zdFXvTkdZfzkskkk2cDEkbfZFH3f9cUFkl351/m4ESxJRkRdKQ4xNwAAADYBn4pqR/8AABsOkLhAS50AUeXpapYALn92/vOqaBGohi9vDUEkiMWLQS7j2+ITDGrwC9nLWOAAAACxQZuOSeEKUmUwIX/+jLAAADUgbuCSAwAjADW2If2xfbXRI/8Ataxy6/jTO40tXj3uIGuQJ47Bq46/8Lf+Bfd1U1/QEkmnUNo+mLCaKnJDxYkOWOBHmHVuc4y6DlE9Hqg9vdNVDoSCibWmV4eD0QNYA7RN5+b/Pg5RiYDkgl0ZUIH1xaR0xvl//7ic8tynZr7dsvnUJLN6n6U0bbpNG2i5oX8G/JuyWty/6tQwVFLPNYKtAAAAQEGfrEU0TCP/AAAQz1jRfdKW38OzzjUw8DFG6SjzGFNONDAtF71412mu/u0AAtljki2gZOVlkpDjxe9QU94R/EAAAABPAZ/Nakf/AAAa9/M4AbnVW7OfMXfnoG0qGyFrFhS3reg9swst/Wo9N4ct5Fuo2EPbLblJ3MO4SpdD1+G4D3fPKFtJJxwSwPfkvLLh3nLAwQAAALZBm9BJqEFomUwU8L/+jLAAADUgc9XoNh31UzyAqS3gCt+NLM65C1RMr5+HNx0WZ/YZk4PcWb1IEltCfZpTfOXw6GB6cxuqZkAtBJpUgur2Z4M0rkmHhS0PWogq8KT9gdHa5p31uBAERMwKKamPeBwh6uYUeQLn9xvG4EfDWfa64U4Ic2L3e0X/xpU1Z+/egOE+uz9+ZE6YxXrTaVi7o8btCXo7KZItrSd1FZtMhP/VDena4vCZCwAAAFEBn+9qR/8AABrsGmCCwHKgGzPcffO9YCys0YA4yCIkNk5t98PnK9sxXuTyvrn8DzCEOJU4eehiqBZLMBiklEa7ypcAR7S6hCuAlO5aRjAtxoAAAACsQZvySeEKUmUwUsL//oywAAA1C3iXuAIkLJ83wohauaqKq58NB5qgpyJgYnXcRDVI34kkPq1cwDQiw7vCANfCJPdnhsz+CYHuegAIPJbGllcCu5R9QqkvDE/n2E9RpIGfl520XQgoHB7K2l8G6EJ2JiUeR7XQwGlSgTx6W4u1Kxr+fuj5qksKA7f31j7h8DdOAb2ilOiVdB/Xb0JjnUQJTnpJ+kVpaUUlbx+UhQAAADoBnhFqR/8AABrwsNJoeATAjqtHCizjxjFFuxD8wF2qPchWB3VJBLtnal2dx/K1WCVA41CeLelDVuE5AAAAtUGaFknhDomUwIX//oywAAA1Im/kuIBQ6nhWIkGgbKDPLUAIwNDBvEqNWqVWiFFL3JAHZtRmd0TP91VQ2KhpwNI0Mk7uY+1sG5+mZcGRGo/bTvmRaAaKgvT3c3MIxbaEmTpputeF+9LYSN6gUfHvSwIv9YbUq3U6e6q4/zxdt6LRODOruJvaqbgV1XicOPTJO4PkICmU1JJIBsn+NA6uOS7C5sz1+k+t4nUKBiCNMRXYT9W91eAAAACBQZ40RRU8I/8AABDgYjFG1zzJACuv1DKsosr0rA+2hzgMKTGCFWxFoIfNq8W5VkEuoQKjgT7Ex002RE3PYs+ZCfNc0r1UVMzuXMo4KJ1YMKhttJNDYD4vZlBs9yOIOE+oTYyCRZe0Rvw2Kib7ck/MMUWpa4gmZh2q9nNzv8eYFcwpAAAAQQGeU3RH/wAAGlq7c9WAJDphXgz2e1r2HMfmYrclqFueibGlR+fmncuav0Nl5NiH2NfxGuN7ru4bE05IZyBaaSTgAAAAPAGeVWpH/wAAGvzVvPP6bnKo5P0l8FEarTYuJeW+5ErlCkOw7FPjistDHxHk8aa4GHG8aA7nTXmA3rkNdwAAAIRBmllJqEFomUwIX//+jLAAADULcH44G+qmREIS55Zqiw/f52Ti0COvCnukNkn05EAUAwoS1GcHpNgzIXMSYXf7fl9WrRUkun9R4Jt1iaDYUTTcIPDGC79PCNj5RsGiwg7dRXZhlyCHHmXonGSdlh6biL0xVJiilKKbflcObc0A2bR9V0EAAABvQZ53RREsI/8AABDWLuW+c8BW0jctOsPvqh6fWObvpQddCI+g3EQtCgMqzRYiFggVGQgDqsy7G2rwgA2G7MGHZMXdgDkgDPzY2JbV9rzQfFPXVS1AP1m+sDNYPb63drvqm14ntIg7o6d8I2JBJZuhAAAASgGemGpH/wAAGv0IRxY48GQ53VGPqEGt7qjZy2akqa+GE/OULgZeifc7uyFGouorp25VT0fziAEusgWa0/6gjefaUuxadcN9cqIHAAACmmWIhAA3//728P4FNjuY0JcRzeidMx+/Fbi6NDe9zgAAAwAAAwAACNCLwW1jsC2M+AAABagA5AeIYoYAiYqxUCRnoHmHy94wA4bX+bBkmkOsrR37xvY3KHFmdUWx5Kha4Fnn94dnnl4fXBG+qDtiHdSCdaWxGqnHPBVJQD0cCNXyiSvUwaDjdy5lU40l9ARMYl/9UH/YSdo0fOe2dpnNQJE5+52UvIwLgFaOW17u1+8zx6BO/zPo64kVOMx9C//lyYO7ptyBAUmyOGSrdMnn0ZiDUvOUKfTNvRlswzqzFExNONvgxUaa8DlB/c99pPuWGCy0z60zJ/sWGsWqgGCeDJ9YgmvgJXsQP0FkVtk0KCijsjmhqo79Z2l0Ai1f8yOhM5QxFYt8yqViXwMW3E+57/BcMVKwffNDfdZpvrOWEy1A19/9AI8zrf6TbpNxnylnVsYRiqWMsjRAlK1o0rw9onyqn6kikXHhA7ch/y5hcjHqODkHbKCllywAKwGFKSuh3Vp1GuZwsT5Y3jEjdG/6QgOStaMecLYatXISkqP09MClmmaBdNPj7zsiu/JAsN8/gEetkPJF15QnJ0TS5j9BRZ7IOcR1a4BkGsIFHebZso72s4bLPjasszoiq46ewvOplFo0Ie+tDS3r8NF+PfpNQt0tsVNwvbcKD9TWf+r/dXreGiOIjnTkaP97AtRmi9dlRddfi+sGD4gn2vkhqwz9NN77orH64L0DvvldDJf09+4WmndiWe9k2WtOLianVIbupIss/UqC5jb4vkVfe3lHT9xVnwpR3abNY4Awvq4LBsDW8XHav94Ax9a4gGUPBjHP9vaLycTIjUrg5ODhxHosLoWbrovAFDu+Kgszg135gARzcAAAAwAAAwD6gAAAAVRBmiRsQv/+jLAAAEYTC4ALBj//hvfQpPglC4WMKkx8dtvPGm+87j18tHxONwsIo89lIfeQURjnhMrcrmIl4bj/Ay8w3iJ8HVfMb+PmSEPpDiTOjWZqrF3OVA3lBBOgYaPN1990I5odmO6VwCrtowB6tCVVmFlbeNBTviL20RZeyByhpe7o1AK12y7P2S8C4S5xWAIVNjCFV9aGrTkHZKpLb3ZDoOf4rwNCQYUn/EjTRx7V6u/Qg98WciWlwTLnDVxQmkr8HAOdG21lRc5e7wAFWFppfx9BCq2Eg6G+F7yl77A5JioP4mELeG0X0ybDak6WdrOQbT+bWasBTlvnHb5JZnu6PYgvl05GSahYzIfQWFi3MIwlevW5rLZYugd5NHiAOGaNxwxGNxpfw3QiRfSAUceweaMiB8oEej6I/Cccs3gj+CpUqCfmN7iVhCKvKASzMHFFAAAAbEGeQniP/wAAI7HMp2niddvStUG2saByaKJqCcIIsLZMXDs9mYiAAiAx4mh8/VFMXv72b0HgzoO2gELfZXweowXroamK1PNmuNE/G1XqzOWCDrSV1GCmYvkoLusgVEz6dxYX53gKWaQg7aeW0QAAAIQBnmF0R/8AACPDF7Lf2uSwnFBnI9Q/skSM2T/SUC+y/JX/POkF3mYQH2vQ3uNrysQRPHrIzgT5qGYowAS8iO4y6pHY2N5W1flIYTrgX4JG1u2+cPHFZ/O9WBFaje6/N+jmMfjMheXjRDnRYzTh/un66xdHTXmAAAADANT4qVXuuucIAjYAAABAAZ5jakf/AAADALpmEs9xJabjWF8nyy/zhgvkiy11raURvGPX0qzgsTD8Z0Y+XDWBgKY/QASnIAGWYGdK7iBswAAAAFpBmmhJqEFomUwIV//+OEAAAQ0QvAA49eBIm/2zwUH4Z6ekcH/93kIoaHysBOUJj0TvprVgE19uc2+GR07Fbf+K70QS5efP+i8LNhE42IcVslNrQMnw5Iggh4EAAABZQZ6GRREsI/8AAAMAdDXIiChHVxDVxxRsALWlP9NwYSY2LEoTduYBk9QZZgiBRbRKHFhYDGGSiYGu+HWn1sr56R6RWrk+U0R5fAAAAwGMIl7LoX1IoccUPuEAAAAyAZ6ldEf/AAADALoe1irq5dKgh8Hy7EgQIoMOoAAABlWvJY4aBsgm2ACe2pQ/UihubP8AAAAyAZ6nakf/AAAjx8cnYQXcODksltY9ujn4rBXzPjstAAAFWzYAAAMAAAMDKEXAJLS79LwAAAB2QZqsSahBbJlMCP/8hAAAD9mmAPAA49YHOL0GZBz6RQypugsz7S4uVdOjDT/+ipdu7FdD//rBMdZPsznhAzUm8K31UK7PgWOUov4yVw6KYCKfEcWvON0x7NDkPbBYWRIuwiXAAAADAG2BfB9mtn24le7JiSqhMAAAAFVBnspFFSwj/wAAFsifgCsUmuKDBmdQ8IA2xkLOmIbLua8vjQDkpxabShKvLY2ZGq3D9VRuYGky86ofHeo91lkNVTJNmNfK0Zl0ZhYgs/WFySAyVc+ZAAAANwGe6XRH/wAAI4Tbz5VIiboZKRD7T3FxRaqtlXfAUiQQBnvjVNeDcBCe6nAzvLQgASSjMu/ATsAAAABRAZ7rakf/AAAjvwQl2m2zNXg0bU1qTsVmfFf+7Q+UY+0L8KRngATi82ep9XzgfF1QZh8zMtW61eL0xszFd51GqZzAqg3i4DaZ61UUr3i+WALuAAAaF21vb3YAAABsbXZoZAAAAAAAAAAAAAAAAAAAA+gAACckAAEAAAEAAAAAAAAAAAAAAAABAAAAAAAAAAAAAAAAAAAAAQAAAAAAAAAAAAAAAAAAQAAAAAAAAAAAAAAAAAAAAAAAAAAAAAAAAAAAAAAAAAIAABlBdHJhawAAAFx0a2hkAAAAAwAAAAAAAAAAAAAAAQAAAAAAACckAAAAAAAAAAAAAAAAAAAAAAABAAAAAAAAAAAAAAAAAAAAAQAAAAAAAAAAAAAAAAAAQAAAAAJYAAABkAAAAAAAJGVkdHMAAAAcZWxzdAAAAAAAAAABAAAnJAAAAgAAAQAAAAAYuW1kaWEAAAAgbWRoZAAAAAAAAAAAAAAAAAAAMgAAAfUAVcQAAAAAAC1oZGxyAAAAAAAAAAB2aWRlAAAAAAAAAAAAAAAAVmlkZW9IYW5kbGVyAAAAGGRtaW5mAAAAFHZtaGQAAAABAAAAAAAAAAAAAAAkZGluZgAAABxkcmVmAAAAAAAAAAEAAAAMdXJsIAAAAAEAABgkc3RibAAAAJhzdHNkAAAAAAAAAAEAAACIYXZjMQAAAAAAAAABAAAAAAAAAAAAAAAAAAAAAAJYAZAASAAAAEgAAAAAAAAAAQAAAAAAAAAAAAAAAAAAAAAAAAAAAAAAAAAAAAAAAAAAABj//wAAADJhdmNDAWQAH//hABlnZAAfrNlAmDPl4QAAAwABAAADAGQPGDGWAQAGaOvjyyLAAAAAGHN0dHMAAAAAAAAAAQAAAfUAAAEAAAAAHHN0c3MAAAAAAAAAAwAAAAEAAADvAAAB6QAADzhjdHRzAAAAAAAAAeUAAAABAAACAAAAAAEAAAMAAAAAAQAAAQAAAAACAAACAAAAAAEAAAUAAAAAAQAAAgAAAAABAAAAAAAAAAEAAAEAAAAAAQAABQAAAAABAAACAAAAAAEAAAAAAAAAAQAAAQAAAAABAAAFAAAAAAEAAAIAAAAAAQAAAAAAAAABAAABAAAAAAEAAAUAAAAAAQAAAgAAAAABAAAAAAAAAAEAAAEAAAAAAQAAAwAAAAABAAABAAAAAAEAAAUAAAAAAQAAAgAAAAABAAAAAAAAAAEAAAEAAAAAAQAABQAAAAABAAACAAAAAAEAAAAAAAAAAQAAAQAAAAABAAAFAAAAAAEAAAIAAAAAAQAAAAAAAAABAAABAAAAAAEAAAUAAAAAAQAAAgAAAAABAAAAAAAAAAEAAAEAAAAAAQAABQAAAAABAAACAAAAAAEAAAAAAAAAAQAAAQAAAAABAAAFAAAAAAEAAAIAAAAAAQAAAAAAAAABAAABAAAAAAEAAAUAAAAAAQAAAgAAAAABAAAAAAAAAAEAAAEAAAAAAQAABQAAAAABAAACAAAAAAEAAAAAAAAAAQAAAQAAAAABAAACAAAAAAEAAAUAAAAAAQAAAgAAAAABAAAAAAAAAAEAAAEAAAAAAQAABQAAAAABAAACAAAAAAEAAAAAAAAAAQAAAQAAAAABAAAFAAAAAAEAAAIAAAAAAQAAAAAAAAABAAABAAAAAAEAAAUAAAAAAQAAAgAAAAABAAAAAAAAAAEAAAEAAAAAAQAABQAAAAABAAACAAAAAAEAAAAAAAAAAQAAAQAAAAABAAAFAAAAAAEAAAIAAAAAAQAAAAAAAAABAAABAAAAAAEAAAQAAAAAAgAAAQAAAAABAAAEAAAAAAIAAAEAAAAAAQAABQAAAAABAAACAAAAAAEAAAAAAAAAAQAAAQAAAAABAAAFAAAAAAEAAAIAAAAAAQAAAAAAAAABAAABAAAAAAEAAAUAAAAAAQAAAgAAAAABAAAAAAAAAAEAAAEAAAAAAQAABQAAAAABAAACAAAAAAEAAAAAAAAAAQAAAQAAAAABAAAFAAAAAAEAAAIAAAAAAQAAAAAAAAABAAABAAAAAAEAAAUAAAAAAQAAAgAAAAABAAAAAAAAAAEAAAEAAAAAAQAABQAAAAABAAACAAAAAAEAAAAAAAAAAQAAAQAAAAABAAAFAAAAAAEAAAIAAAAAAQAAAAAAAAABAAABAAAAAAEAAAQAAAAAAgAAAQAAAAABAAAFAAAAAAEAAAIAAAAAAQAAAAAAAAABAAABAAAAAAEAAAUAAAAAAQAAAgAAAAABAAAAAAAAAAEAAAEAAAAAAQAABQAAAAABAAACAAAAAAEAAAAAAAAAAQAAAQAAAAABAAAFAAAAAAEAAAIAAAAAAQAAAAAAAAABAAABAAAAAAEAAAUAAAAAAQAAAgAAAAABAAAAAAAAAAEAAAEAAAAAAQAABQAAAAABAAACAAAAAAEAAAAAAAAAAQAAAQAAAAABAAAFAAAAAAEAAAIAAAAAAQAAAAAAAAABAAABAAAAAAEAAAUAAAAAAQAAAgAAAAABAAAAAAAAAAEAAAEAAAAAAQAABQAAAAABAAACAAAAAAEAAAAAAAAAAQAAAQAAAAABAAAFAAAAAAEAAAIAAAAAAQAAAAAAAAABAAABAAAAAAEAAAMAAAAAAQAAAQAAAAABAAAFAAAAAAEAAAIAAAAAAQAAAAAAAAABAAABAAAAAAEAAAMAAAAAAQAAAQAAAAABAAAFAAAAAAEAAAIAAAAAAQAAAAAAAAABAAABAAAAAAEAAAUAAAAAAQAAAgAAAAABAAAAAAAAAAEAAAEAAAAAAQAAAwAAAAABAAABAAAAAAEAAAUAAAAAAQAAAgAAAAABAAAAAAAAAAEAAAEAAAAAAQAABAAAAAACAAABAAAAAAEAAAQAAAAAAgAAAQAAAAABAAADAAAAAAEAAAEAAAAAAQAABQAAAAABAAACAAAAAAEAAAAAAAAAAQAAAQAAAAABAAAFAAAAAAEAAAIAAAAAAQAAAAAAAAABAAABAAAAAAEAAAUAAAAAAQAAAgAAAAABAAAAAAAAAAEAAAEAAAAAAQAABQAAAAABAAACAAAAAAEAAAAAAAAAAQAAAQAAAAABAAAEAAAAAAIAAAEAAAAAAQAABQAAAAABAAACAAAAAAEAAAAAAAAAAQAAAQAAAAABAAAFAAAAAAEAAAIAAAAAAQAAAAAAAAABAAABAAAAAAEAAAUAAAAAAQAAAgAAAAABAAAAAAAAAAEAAAEAAAAAAQAABAAAAAACAAABAAAAAAEAAAUAAAAAAQAAAgAAAAABAAAAAAAAAAEAAAEAAAAAAQAABQAAAAABAAACAAAAAAEAAAAAAAAAAQAAAQAAAAABAAAFAAAAAAEAAAIAAAAAAQAAAAAAAAABAAABAAAAAAIAAAIAAAAAAQAAAwAAAAABAAABAAAAAAEAAAUAAAAAAQAAAgAAAAABAAAAAAAAAAEAAAEAAAAAAQAABQAAAAABAAACAAAAAAEAAAAAAAAAAQAAAQAAAAABAAAFAAAAAAEAAAIAAAAAAQAAAAAAAAABAAABAAAAAAEAAAUAAAAAAQAAAgAAAAABAAAAAAAAAAEAAAEAAAAAAQAABQAAAAABAAACAAAAAAEAAAAAAAAAAQAAAQAAAAABAAACAAAAAAEAAAUAAAAAAQAAAgAAAAABAAAAAAAAAAEAAAEAAAAAAQAABQAAAAABAAACAAAAAAEAAAAAAAAAAQAAAQAAAAABAAADAAAAAAEAAAEAAAAAAQAAAgAAAAABAAAFAAAAAAEAAAIAAAAAAQAAAAAAAAABAAABAAAAAAEAAAUAAAAAAQAAAgAAAAABAAAAAAAAAAEAAAEAAAAAAQAABQAAAAABAAACAAAAAAEAAAAAAAAAAQAAAQAAAAABAAAFAAAAAAEAAAIAAAAAAQAAAAAAAAABAAABAAAAAAEAAAUAAAAAAQAAAgAAAAABAAAAAAAAAAEAAAEAAAAAAQAAAwAAAAABAAABAAAAAAEAAAUAAAAAAQAAAgAAAAABAAAAAAAAAAEAAAEAAAAAAQAAAgAAAAABAAAEAAAAAAIAAAEAAAAAAQAABQAAAAABAAACAAAAAAEAAAAAAAAAAQAAAQAAAAABAAAFAAAAAAEAAAIAAAAAAQAAAAAAAAABAAABAAAAAAEAAAUAAAAAAQAAAgAAAAABAAAAAAAAAAEAAAEAAAAAAQAABQAAAAABAAACAAAAAAEAAAAAAAAAAQAAAQAAAAABAAAFAAAAAAEAAAIAAAAAAQAAAAAAAAABAAABAAAAAAEAAAQAAAAAAgAAAQAAAAABAAAFAAAAAAEAAAIAAAAAAQAAAAAAAAABAAABAAAAAAEAAAMAAAAAAQAAAQAAAAABAAACAAAAAAEAAAQAAAAAAgAAAQAAAAABAAAFAAAAAAEAAAIAAAAAAQAAAAAAAAABAAABAAAAAAEAAAUAAAAAAQAAAgAAAAABAAAAAAAAAAEAAAEAAAAAAQAABQAAAAABAAACAAAAAAEAAAAAAAAAAQAAAQAAAAABAAAFAAAAAAEAAAIAAAAAAQAAAAAAAAABAAABAAAAAAEAAAUAAAAAAQAAAgAAAAABAAAAAAAAAAEAAAEAAAAAAQAABQAAAAABAAACAAAAAAEAAAAAAAAAAQAAAQAAAAABAAAFAAAAAAEAAAIAAAAAAQAAAAAAAAABAAABAAAAAAEAAAUAAAAAAQAAAgAAAAABAAAAAAAAAAEAAAEAAAAAAQAABQAAAAABAAACAAAAAAEAAAAAAAAAAQAAAQAAAAABAAAFAAAAAAEAAAIAAAAAAQAAAAAAAAABAAABAAAAAAEAAAUAAAAAAQAAAgAAAAABAAAAAAAAAAEAAAEAAAAAAQAABQAAAAABAAACAAAAAAEAAAAAAAAAAQAAAQAAAAABAAAFAAAAAAEAAAIAAAAAAQAAAAAAAAABAAABAAAAAAEAAAUAAAAAAQAAAgAAAAABAAAAAAAAAAEAAAEAAAAAAQAABQAAAAABAAACAAAAAAEAAAAAAAAAAQAAAQAAAAABAAAFAAAAAAEAAAIAAAAAAQAAAAAAAAABAAABAAAAAAEAAAIAAAAAAQAABQAAAAABAAACAAAAAAEAAAAAAAAAAQAAAQAAAAABAAACAAAAAAEAAAUAAAAAAQAAAgAAAAABAAAAAAAAAAEAAAEAAAAAAQAABQAAAAABAAACAAAAAAEAAAAAAAAAAQAAAQAAAAABAAAFAAAAAAEAAAIAAAAAAQAAAAAAAAABAAABAAAAAAEAAAUAAAAAAQAAAgAAAAABAAAAAAAAAAEAAAEAAAAAAQAABAAAAAACAAABAAAAAAEAAAUAAAAAAQAAAgAAAAABAAAAAAAAAAEAAAEAAAAAAQAAAwAAAAABAAABAAAAAAEAAAUAAAAAAQAAAgAAAAABAAAAAAAAAAEAAAEAAAAAAQAABAAAAAACAAABAAAAAAEAAAUAAAAAAQAAAgAAAAABAAAAAAAAAAEAAAEAAAAAAQAABQAAAAABAAACAAAAAAEAAAAAAAAAAQAAAQAAAAABAAAFAAAAAAEAAAIAAAAAAQAAAAAAAAABAAABAAAAAAEAAAMAAAAAAQAAAQAAAAABAAAFAAAAAAEAAAIAAAAAAQAAAAAAAAABAAABAAAAAAEAAAUAAAAAAQAAAgAAAAABAAAAAAAAAAEAAAEAAAAAAQAABQAAAAABAAACAAAAAAEAAAAAAAAAAQAAAQAAAAABAAAFAAAAAAEAAAIAAAAAAQAAAAAAAAABAAABAAAAAAEAAAUAAAAAAQAAAgAAAAABAAAAAAAAAAEAAAEAAAAAAQAAAwAAAAABAAABAAAAAAEAAAQAAAAAAgAAAQAAAAABAAADAAAAAAEAAAEAAAAAAQAAAwAAAAABAAABAAAAAAEAAAUAAAAAAQAAAgAAAAABAAAAAAAAAAEAAAEAAAAAAQAABAAAAAACAAABAAAAAAEAAAIAAAAAAQAABQAAAAABAAACAAAAAAEAAAAAAAAAAQAAAQAAAAABAAAFAAAAAAEAAAIAAAAAAQAAAAAAAAABAAABAAAAAAEAAAUAAAAAAQAAAgAAAAABAAAAAAAAAAEAAAEAAAAAHHN0c2MAAAAAAAAAAQAAAAEAAAH1AAAAAQAAB+hzdHN6AAAAAAAAAAAAAAH1AAAEnwAAAP0AAAA+AAAAXAAAAEwAAAB0AAAAPQAAADYAAAAyAAAANgAAACQAAAApAAAAKgAAAJYAAAAvAAAAIQAAAB8AAAB4AAAAKAAAACEAAAAxAAAARQAAACcAAABUAAAAMgAAAB4AAAAeAAAAPwAAADgAAAAuAAAAHQAAAG8AAAAqAAAALAAAABwAAABBAAAAIgAAACwAAAAaAAAARQAAACoAAAArAAAAIAAAAI0AAAAqAAAALgAAACYAAABPAAAAJQAAADAAAAAmAAAAhgAAADcAAAAyAAAAMQAAADwAAABqAAAAMQAAADYAAAA5AAAATQAAADsAAAA7AAAALQAAAJ0AAABJAAAALAAAADIAAABJAAAAVgAAAEgAAAAlAAAARgAAAD4AAAAlAAAAMgAAAFoAAAA9AAAAMQAAACIAAAA2AAAAKwAAADIAAABqAAAAJgAAACYAAABWAAAAUwAAAEYAAAA2AAAAgQAAADsAAAApAAAAGgAAAGIAAAAjAAAAGgAAACkAAABTAAAAOAAAAC4AAAAiAAAAQgAAADwAAAA8AAAAIwAAAGMAAAAuAAAANgAAAC4AAABwAAAAMAAAAB0AAAAkAAAAggAAADYAAAA6AAAANAAAAFwAAAA6AAAAJwAAAEEAAAA5AAAAMwAAACIAAABZAAAAKAAAACwAAAAtAAAAWgAAADgAAAA4AAAANgAAAHQAAABOAAAAOQAAAEIAAABtAAAAMQAAADwAAAAwAAAAPQAAACEAAAAtAAAAIwAAAGMAAABGAAAANgAAADsAAAByAAAATwAAADkAAAA7AAAAdwAAADgAAAAzAAAAKgAAAGUAAABQAAAANAAAAD0AAABhAAAALwAAAH4AAAA+AAAAQgAAADgAAABoAAAAOQAAAHAAAABVAAAANAAAAD8AAACTAAAAawAAADUAAABIAAAAggAAAD0AAAB/AAAAYgAAAE8AAABJAAAAfgAAAFMAAABKAAAAkAAAAEwAAABBAAAAcgAAADYAAAB1AAAAQgAAADYAAAApAAAAiQAAAEIAAABGAAAAOgAAAJoAAABfAAAANAAAADwAAACiAAAAVAAAAE4AAAA4AAAAegAAAEYAAABJAAAAkAAAAGYAAAA8AAAARgAAAIAAAABbAAAAVgAAAD8AAACwAAAAZwAAAFIAAABJAAAAqQAAAEkAAABTAAAAmQAAAHgAAABCAAAAQQAAAKUAAABNAAAAPQAAADcAAABMAAAAVwAAAC4AAAAxAAAAUAAAAjoAAADaAAAARQAAAJIAAABMAAAANgAAAE4AAADOAAAAXAAAADoAAAA5AAAAiAAAAEUAAAA2AAAAKwAAAHoAAABWAAAAOwAAAEoAAACJAAAASgAAADQAAAAqAAAAXwAAAIQAAABUAAAANwAAADcAAADkAAAAaQAAAE4AAABGAAABJAAAAEwAAABhAAAAgAAAADYAAAAoAAAAMgAAAFwAAABHAAAAPgAAADAAAAC1AAAAKgAAACUAAABGAAAAoAAAAEIAAAAqAAAAIgAAAKYAAAA5AAAAOAAAADgAAABTAAAAKQAAAIQAAABBAAAARAAAAEEAAABRAAAAZwAAADIAAAAtAAAAWwAAAFIAAAAuAAAANQAAAIwAAABUAAAANgAAAD8AAACiAAAAOAAAADsAAAAvAAAAZgAAAFYAAABVAAAAUgAAAFMAAAArAAAANAAAAC4AAABnAAAAKAAAADIAAAB9AAAAYwAAAEEAAABHAAAAgwAAADIAAAA7AAAAcAAAAEoAAAAqAAAAPgAAADQAAAAhAAAANwAAAEIAAABIAAAAIwAAACcAAACAAAAAMQAAACUAAAAeAAAAXAAAAD8AAAAcAAAAJQAAAGMAAAAxAAAAKAAAACQAAACAAAAAJwAAABoAAAAjAAAAoAAAADgAAAAsAAAANQAAAGgAAABFAAAALAAAADgAAABwAAAASwAAADAAAABTAAAAdgAAAFUAAAA2AAAAKAAAAGEAAABKAAAAMgAAADoAAABcAAAAPAAAAC8AAAArAAAAbQAAAEgAAAA0AAAANQAAAGoAAABIAAAAOAAAADkAAAB6AAAASgAAADUAAAA9AAAAfwAAAFYAAABDAAAAPQAAAHIAAACLAAAATgAAAEIAAABIAAAAegAAAGYAAABDAAAASwAAADkAAABlAAAAYgAAAE0AAABEAAAAbwAAAEEAAAAxAAAAOAAAAF8AAAAyAAAAOgAAADIAAABWAAAALwAAAC8AAAB0AAAAPwAAAEAAAAAzAAAAlQAAADsAAACHAAAASwAAAD0AAAA1AAAAagAAAGYAAAA6AAAAawAAAEUAAABPAAAAMQAAAGMAAABCAAAAOwAAAEUAAACbAAAASQAAADEAAAA+AAAAjwAAAE8AAABpAAAAUgAAAFIAAAA5AAAAZAAAAGMAAABQAAAATQAAAIoAAABGAAAAPwAAADYAAACNAAAAXQAAADMAAABDAAAAWQAAAEwAAAA/AAAAPgAAAFwAAAA6AAAAtQAAAEQAAABTAAAAugAAAFUAAACwAAAAPgAAALkAAACFAAAARQAAAEAAAACIAAAAcwAAAE4AAAKeAAABWAAAAHAAAACIAAAARAAAAF4AAABdAAAANgAAADYAAAB6AAAAWQAAADsAAABVAAAAFHN0Y28AAAAAAAAAAQAAADAAAABidWR0YQAAAFptZXRhAAAAAAAAACFoZGxyAAAAAAAAAABtZGlyYXBwbAAAAAAAAAAAAAAAAC1pbHN0AAAAJal0b28AAAAdZGF0YQAAAAEAAAAATGF2ZjU3LjgzLjEwMA==\" type=\"video/mp4\" />\n",
              "                </video>"
            ],
            "text/plain": [
              "<IPython.core.display.HTML object>"
            ]
          },
          "metadata": {}
        }
      ]
    },
    {
      "cell_type": "markdown",
      "metadata": {
        "id": "9Y8zg4V566qD"
      },
      "source": [
        "## Bonus: Train a RL Model in One Line\n",
        "\n",
        "The policy class to use will be inferred and the environment will be automatically created. This works because both are [registered](https://stable-baselines.readthedocs.io/en/master/guide/quickstart.html)."
      ]
    },
    {
      "cell_type": "code",
      "metadata": {
        "id": "iaOPfOrwWEP4",
        "colab": {
          "base_uri": "https://localhost:8080/"
        },
        "outputId": "af8d1aeb-e605-4b90-e96e-458d1cb26238"
      },
      "source": [
        "model = PPO2('MlpPolicy', \"CartPole-v1\", verbose=1).learn(1000)"
      ],
      "execution_count": 18,
      "outputs": [
        {
          "output_type": "stream",
          "name": "stdout",
          "text": [
            "Creating environment from the given name, wrapped in a DummyVecEnv.\n",
            "--------------------------------------\n",
            "| approxkl           | 0.00016230828 |\n",
            "| clipfrac           | 0.0           |\n",
            "| explained_variance | 0.00155       |\n",
            "| fps                | 294           |\n",
            "| n_updates          | 1             |\n",
            "| policy_entropy     | 0.69302166    |\n",
            "| policy_loss        | -0.0024885961 |\n",
            "| serial_timesteps   | 128           |\n",
            "| time_elapsed       | 2.93e-05      |\n",
            "| total_timesteps    | 128           |\n",
            "| value_loss         | 32.91973      |\n",
            "--------------------------------------\n",
            "--------------------------------------\n",
            "| approxkl           | 6.7923684e-05 |\n",
            "| clipfrac           | 0.0           |\n",
            "| explained_variance | -0.00691      |\n",
            "| fps                | 509           |\n",
            "| n_updates          | 2             |\n",
            "| policy_entropy     | 0.6923592     |\n",
            "| policy_loss        | -0.0008373307 |\n",
            "| serial_timesteps   | 256           |\n",
            "| time_elapsed       | 0.436         |\n",
            "| total_timesteps    | 256           |\n",
            "| value_loss         | 40.582527     |\n",
            "--------------------------------------\n",
            "--------------------------------------\n",
            "| approxkl           | 8.615815e-05  |\n",
            "| clipfrac           | 0.0           |\n",
            "| explained_variance | -0.027        |\n",
            "| fps                | 549           |\n",
            "| n_updates          | 3             |\n",
            "| policy_entropy     | 0.69075394    |\n",
            "| policy_loss        | -0.0009848996 |\n",
            "| serial_timesteps   | 384           |\n",
            "| time_elapsed       | 0.689         |\n",
            "| total_timesteps    | 384           |\n",
            "| value_loss         | 22.352844     |\n",
            "--------------------------------------\n",
            "--------------------------------------\n",
            "| approxkl           | 5.3979005e-05 |\n",
            "| clipfrac           | 0.0           |\n",
            "| explained_variance | -0.000906     |\n",
            "| fps                | 546           |\n",
            "| n_updates          | 4             |\n",
            "| policy_entropy     | 0.6905813     |\n",
            "| policy_loss        | -0.0011872522 |\n",
            "| serial_timesteps   | 512           |\n",
            "| time_elapsed       | 0.923         |\n",
            "| total_timesteps    | 512           |\n",
            "| value_loss         | 45.31015      |\n",
            "--------------------------------------\n",
            "---------------------------------------\n",
            "| approxkl           | 2.1413247e-05  |\n",
            "| clipfrac           | 0.0            |\n",
            "| explained_variance | 0.0689         |\n",
            "| fps                | 498            |\n",
            "| n_updates          | 5              |\n",
            "| policy_entropy     | 0.6898509      |\n",
            "| policy_loss        | -0.00013817556 |\n",
            "| serial_timesteps   | 640            |\n",
            "| time_elapsed       | 1.16           |\n",
            "| total_timesteps    | 640            |\n",
            "| value_loss         | 51.813118      |\n",
            "---------------------------------------\n",
            "--------------------------------------\n",
            "| approxkl           | 1.3035255e-05 |\n",
            "| clipfrac           | 0.0           |\n",
            "| explained_variance | 0.0397        |\n",
            "| fps                | 563           |\n",
            "| n_updates          | 6             |\n",
            "| policy_entropy     | 0.68831396    |\n",
            "| policy_loss        | -0.0004283731 |\n",
            "| serial_timesteps   | 768           |\n",
            "| time_elapsed       | 1.42          |\n",
            "| total_timesteps    | 768           |\n",
            "| value_loss         | 44.40963      |\n",
            "--------------------------------------\n",
            "--------------------------------------\n",
            "| approxkl           | 2.4460114e-05 |\n",
            "| clipfrac           | 0.0           |\n",
            "| explained_variance | 0.032         |\n",
            "| fps                | 543           |\n",
            "| n_updates          | 7             |\n",
            "| policy_entropy     | 0.6886001     |\n",
            "| policy_loss        | -0.0006051277 |\n",
            "| serial_timesteps   | 896           |\n",
            "| time_elapsed       | 1.65          |\n",
            "| total_timesteps    | 896           |\n",
            "| value_loss         | 56.00955      |\n",
            "--------------------------------------\n"
          ]
        }
      ]
    },
    {
      "cell_type": "code",
      "metadata": {
        "id": "Se8SHBN17Fy4"
      },
      "source": [
        ""
      ],
      "execution_count": null,
      "outputs": []
    },
    {
      "cell_type": "markdown",
      "metadata": {
        "id": "WBf84jU05mgi"
      },
      "source": [
        "## Train a DQN agent\n",
        "\n",
        "In the previous example, we have used PPO, which one of the many algorithms provided by stable-baselines.\n",
        "\n",
        "In the next example, we are going train a [Deep Q-Network agent (DQN)](https://stable-baselines.readthedocs.io/en/master/modules/dqn.html), and try to see possible improvements provided by its extensions (Double-DQN, Dueling-DQN, Prioritized Experience Replay).\n",
        "\n",
        "The essential point of this section is to show you how simple it is to tweak hyperparameters.\n",
        "\n",
        "The main advantage of stable-baselines is that it provides a common interface to use the algorithms, so the code will be quite similar.\n",
        "\n",
        "\n",
        "DQN paper: https://arxiv.org/abs/1312.5602\n",
        "\n",
        "Dueling DQN: https://arxiv.org/abs/1511.06581\n",
        "\n",
        "Double-Q Learning: https://arxiv.org/abs/1509.06461\n",
        "\n",
        "Prioritized Experience Replay: https://arxiv.org/abs/1511.05952"
      ]
    },
    {
      "cell_type": "markdown",
      "metadata": {
        "id": "kikNl-tT92Ae"
      },
      "source": [
        "### Vanilla DQN: DQN without extensions"
      ]
    },
    {
      "cell_type": "code",
      "metadata": {
        "id": "tdLdYABz8TJx",
        "colab": {
          "base_uri": "https://localhost:8080/"
        },
        "outputId": "aaf99ec9-bdfe-487a-f8db-2594418a90f8"
      },
      "source": [
        "# Same as before we instantiate the agent along with the environment\n",
        "from stable_baselines import DQN\n",
        "\n",
        "# Deactivate all the DQN extensions to have the original version\n",
        "# In practice, it is recommend to have them activated\n",
        "kwargs = {'double_q': False, 'prioritized_replay': False, 'policy_kwargs': dict(dueling=False)}\n",
        "\n",
        "# Note that the MlpPolicy of DQN is different from the one of PPO\n",
        "# but stable-baselines handles that automatically if you pass a string\n",
        "dqn_model = DQN('MlpPolicy', 'CartPole-v1', verbose=1, **kwargs)"
      ],
      "execution_count": 19,
      "outputs": [
        {
          "output_type": "stream",
          "name": "stdout",
          "text": [
            "Creating environment from the given name, wrapped in a DummyVecEnv.\n",
            "WARNING:tensorflow:From /usr/local/lib/python3.7/dist-packages/stable_baselines/deepq/build_graph.py:372: The name tf.get_collection is deprecated. Please use tf.compat.v1.get_collection instead.\n",
            "\n",
            "WARNING:tensorflow:From /usr/local/lib/python3.7/dist-packages/stable_baselines/deepq/build_graph.py:372: The name tf.GraphKeys is deprecated. Please use tf.compat.v1.GraphKeys instead.\n",
            "\n",
            "WARNING:tensorflow:From /usr/local/lib/python3.7/dist-packages/stable_baselines/deepq/build_graph.py:372: The name tf.get_variable_scope is deprecated. Please use tf.compat.v1.get_variable_scope instead.\n",
            "\n",
            "WARNING:tensorflow:From /usr/local/lib/python3.7/dist-packages/stable_baselines/common/tf_util.py:241: The name tf.global_variables is deprecated. Please use tf.compat.v1.global_variables instead.\n",
            "\n",
            "WARNING:tensorflow:From /usr/local/lib/python3.7/dist-packages/stable_baselines/common/tf_util.py:242: The name tf.variables_initializer is deprecated. Please use tf.compat.v1.variables_initializer instead.\n",
            "\n"
          ]
        }
      ]
    },
    {
      "cell_type": "code",
      "metadata": {
        "id": "E4A_IOZ_9fzW",
        "outputId": "16d95941-e461-461d-a07d-35ae9cf255c3",
        "colab": {
          "base_uri": "https://localhost:8080/"
        }
      },
      "source": [
        "# Random Agent, before training\n",
        "mean_reward_before_train = evaluate(dqn_model, num_episodes=100)"
      ],
      "execution_count": 20,
      "outputs": [
        {
          "output_type": "stream",
          "name": "stdout",
          "text": [
            "Mean reward: 12.67 Num episodes: 100\n"
          ]
        }
      ]
    },
    {
      "cell_type": "code",
      "metadata": {
        "id": "4wbuvAKk9spH",
        "colab": {
          "base_uri": "https://localhost:8080/"
        },
        "outputId": "84527d3d-f336-4f46-a2ed-f4729dc59806"
      },
      "source": [
        "# Train the agent for 10000 steps\n",
        "dqn_model.learn(total_timesteps=10000, log_interval=10)"
      ],
      "execution_count": 21,
      "outputs": [
        {
          "output_type": "stream",
          "name": "stdout",
          "text": [
            "WARNING:tensorflow:From /usr/local/lib/python3.7/dist-packages/stable_baselines/common/tf_util.py:322: The name tf.get_default_session is deprecated. Please use tf.compat.v1.get_default_session instead.\n",
            "\n",
            "--------------------------------------\n",
            "| % time spent exploring  | 85       |\n",
            "| episodes                | 10       |\n",
            "| mean 100 episode reward | 16.7     |\n",
            "| steps                   | 150      |\n",
            "--------------------------------------\n",
            "--------------------------------------\n",
            "| % time spent exploring  | 63       |\n",
            "| episodes                | 20       |\n",
            "| mean 100 episode reward | 19.6     |\n",
            "| steps                   | 372      |\n",
            "--------------------------------------\n",
            "--------------------------------------\n",
            "| % time spent exploring  | 48       |\n",
            "| episodes                | 30       |\n",
            "| mean 100 episode reward | 18.1     |\n",
            "| steps                   | 525      |\n",
            "--------------------------------------\n",
            "--------------------------------------\n",
            "| % time spent exploring  | 29       |\n",
            "| episodes                | 40       |\n",
            "| mean 100 episode reward | 18.5     |\n",
            "| steps                   | 722      |\n",
            "--------------------------------------\n",
            "--------------------------------------\n",
            "| % time spent exploring  | 14       |\n",
            "| episodes                | 50       |\n",
            "| mean 100 episode reward | 17.8     |\n",
            "| steps                   | 871      |\n",
            "--------------------------------------\n",
            "--------------------------------------\n",
            "| % time spent exploring  | 2        |\n",
            "| episodes                | 60       |\n",
            "| mean 100 episode reward | 17.1     |\n",
            "| steps                   | 1008     |\n",
            "--------------------------------------\n",
            "--------------------------------------\n",
            "| % time spent exploring  | 2        |\n",
            "| episodes                | 70       |\n",
            "| mean 100 episode reward | 16.5     |\n",
            "| steps                   | 1141     |\n",
            "--------------------------------------\n",
            "--------------------------------------\n",
            "| % time spent exploring  | 2        |\n",
            "| episodes                | 80       |\n",
            "| mean 100 episode reward | 16.3     |\n",
            "| steps                   | 1284     |\n",
            "--------------------------------------\n",
            "--------------------------------------\n",
            "| % time spent exploring  | 2        |\n",
            "| episodes                | 90       |\n",
            "| mean 100 episode reward | 15.9     |\n",
            "| steps                   | 1418     |\n",
            "--------------------------------------\n",
            "--------------------------------------\n",
            "| % time spent exploring  | 2        |\n",
            "| episodes                | 100      |\n",
            "| mean 100 episode reward | 15.9     |\n",
            "| steps                   | 1571     |\n",
            "--------------------------------------\n",
            "--------------------------------------\n",
            "| % time spent exploring  | 2        |\n",
            "| episodes                | 110      |\n",
            "| mean 100 episode reward | 15.4     |\n",
            "| steps                   | 1689     |\n",
            "--------------------------------------\n",
            "--------------------------------------\n",
            "| % time spent exploring  | 2        |\n",
            "| episodes                | 120      |\n",
            "| mean 100 episode reward | 14.3     |\n",
            "| steps                   | 1803     |\n",
            "--------------------------------------\n",
            "--------------------------------------\n",
            "| % time spent exploring  | 2        |\n",
            "| episodes                | 130      |\n",
            "| mean 100 episode reward | 13.8     |\n",
            "| steps                   | 1904     |\n",
            "--------------------------------------\n",
            "--------------------------------------\n",
            "| % time spent exploring  | 2        |\n",
            "| episodes                | 140      |\n",
            "| mean 100 episode reward | 12.9     |\n",
            "| steps                   | 2011     |\n",
            "--------------------------------------\n",
            "--------------------------------------\n",
            "| % time spent exploring  | 2        |\n",
            "| episodes                | 150      |\n",
            "| mean 100 episode reward | 13.7     |\n",
            "| steps                   | 2243     |\n",
            "--------------------------------------\n",
            "--------------------------------------\n",
            "| % time spent exploring  | 2        |\n",
            "| episodes                | 160      |\n",
            "| mean 100 episode reward | 13.4     |\n",
            "| steps                   | 2352     |\n",
            "--------------------------------------\n",
            "--------------------------------------\n",
            "| % time spent exploring  | 2        |\n",
            "| episodes                | 170      |\n",
            "| mean 100 episode reward | 13.2     |\n",
            "| steps                   | 2464     |\n",
            "--------------------------------------\n",
            "--------------------------------------\n",
            "| % time spent exploring  | 2        |\n",
            "| episodes                | 180      |\n",
            "| mean 100 episode reward | 14.2     |\n",
            "| steps                   | 2705     |\n",
            "--------------------------------------\n",
            "--------------------------------------\n",
            "| % time spent exploring  | 2        |\n",
            "| episodes                | 190      |\n",
            "| mean 100 episode reward | 15.9     |\n",
            "| steps                   | 3011     |\n",
            "--------------------------------------\n",
            "--------------------------------------\n",
            "| % time spent exploring  | 2        |\n",
            "| episodes                | 200      |\n",
            "| mean 100 episode reward | 28.9     |\n",
            "| steps                   | 4459     |\n",
            "--------------------------------------\n",
            "--------------------------------------\n",
            "| % time spent exploring  | 2        |\n",
            "| episodes                | 210      |\n",
            "| mean 100 episode reward | 41.6     |\n",
            "| steps                   | 5850     |\n",
            "--------------------------------------\n",
            "--------------------------------------\n",
            "| % time spent exploring  | 2        |\n",
            "| episodes                | 220      |\n",
            "| mean 100 episode reward | 54.1     |\n",
            "| steps                   | 7218     |\n",
            "--------------------------------------\n",
            "--------------------------------------\n",
            "| % time spent exploring  | 2        |\n",
            "| episodes                | 230      |\n",
            "| mean 100 episode reward | 64.5     |\n",
            "| steps                   | 8349     |\n",
            "--------------------------------------\n",
            "--------------------------------------\n",
            "| % time spent exploring  | 2        |\n",
            "| episodes                | 240      |\n",
            "| mean 100 episode reward | 77.4     |\n",
            "| steps                   | 9754     |\n",
            "--------------------------------------\n"
          ]
        },
        {
          "output_type": "execute_result",
          "data": {
            "text/plain": [
              "<stable_baselines.deepq.dqn.DQN at 0x7f07843aba50>"
            ]
          },
          "metadata": {},
          "execution_count": 21
        }
      ]
    },
    {
      "cell_type": "code",
      "metadata": {
        "id": "QDQTdpYv9xJN",
        "outputId": "7953176d-774d-47f6-ac62-9f29f9db9831",
        "colab": {
          "base_uri": "https://localhost:8080/"
        }
      },
      "source": [
        "# Evaluate the trained agent\n",
        "mean_reward = evaluate(dqn_model, num_episodes=100)"
      ],
      "execution_count": 22,
      "outputs": [
        {
          "output_type": "stream",
          "name": "stdout",
          "text": [
            "Mean reward: 168.7 Num episodes: 100\n"
          ]
        }
      ]
    },
    {
      "cell_type": "markdown",
      "metadata": {
        "id": "GFJvqsMl96l7"
      },
      "source": [
        "### DQN + Prioritized Replay"
      ]
    },
    {
      "cell_type": "code",
      "metadata": {
        "id": "roCSjGu69-lA",
        "colab": {
          "base_uri": "https://localhost:8080/"
        },
        "outputId": "6bcd79f6-797b-4004-bd6d-0fbf9bb94a15"
      },
      "source": [
        "# Activate only the prioritized replay\n",
        "kwargs = {'double_q': False, 'prioritized_replay': True, 'policy_kwargs': dict(dueling=False)}\n",
        "\n",
        "dqn_per_model = DQN('MlpPolicy', 'CartPole-v1', verbose=1, **kwargs)"
      ],
      "execution_count": 23,
      "outputs": [
        {
          "output_type": "stream",
          "name": "stdout",
          "text": [
            "Creating environment from the given name, wrapped in a DummyVecEnv.\n"
          ]
        }
      ]
    },
    {
      "cell_type": "code",
      "metadata": {
        "id": "DLnLhos5-lRm",
        "colab": {
          "base_uri": "https://localhost:8080/"
        },
        "outputId": "c949efd5-04d4-4b6b-ce46-a7c139f72e98"
      },
      "source": [
        "dqn_per_model.learn(total_timesteps=10000, log_interval=10)"
      ],
      "execution_count": 24,
      "outputs": [
        {
          "output_type": "stream",
          "name": "stdout",
          "text": [
            "--------------------------------------\n",
            "| % time spent exploring  | 75       |\n",
            "| episodes                | 10       |\n",
            "| mean 100 episode reward | 27.6     |\n",
            "| steps                   | 248      |\n",
            "--------------------------------------\n",
            "--------------------------------------\n",
            "| % time spent exploring  | 56       |\n",
            "| episodes                | 20       |\n",
            "| mean 100 episode reward | 23.5     |\n",
            "| steps                   | 446      |\n",
            "--------------------------------------\n",
            "--------------------------------------\n",
            "| % time spent exploring  | 42       |\n",
            "| episodes                | 30       |\n",
            "| mean 100 episode reward | 20.1     |\n",
            "| steps                   | 582      |\n",
            "--------------------------------------\n",
            "--------------------------------------\n",
            "| % time spent exploring  | 31       |\n",
            "| episodes                | 40       |\n",
            "| mean 100 episode reward | 18       |\n",
            "| steps                   | 702      |\n",
            "--------------------------------------\n",
            "--------------------------------------\n",
            "| % time spent exploring  | 20       |\n",
            "| episodes                | 50       |\n",
            "| mean 100 episode reward | 16.6     |\n",
            "| steps                   | 812      |\n",
            "--------------------------------------\n",
            "--------------------------------------\n",
            "| % time spent exploring  | 9        |\n",
            "| episodes                | 60       |\n",
            "| mean 100 episode reward | 15.6     |\n",
            "| steps                   | 919      |\n",
            "--------------------------------------\n",
            "--------------------------------------\n",
            "| % time spent exploring  | 2        |\n",
            "| episodes                | 70       |\n",
            "| mean 100 episode reward | 14.7     |\n",
            "| steps                   | 1016     |\n",
            "--------------------------------------\n",
            "--------------------------------------\n",
            "| % time spent exploring  | 2        |\n",
            "| episodes                | 80       |\n",
            "| mean 100 episode reward | 14.1     |\n",
            "| steps                   | 1113     |\n",
            "--------------------------------------\n",
            "--------------------------------------\n",
            "| % time spent exploring  | 2        |\n",
            "| episodes                | 90       |\n",
            "| mean 100 episode reward | 13.9     |\n",
            "| steps                   | 1241     |\n",
            "--------------------------------------\n",
            "--------------------------------------\n",
            "| % time spent exploring  | 2        |\n",
            "| episodes                | 100      |\n",
            "| mean 100 episode reward | 13.9     |\n",
            "| steps                   | 1373     |\n",
            "--------------------------------------\n",
            "--------------------------------------\n",
            "| % time spent exploring  | 2        |\n",
            "| episodes                | 110      |\n",
            "| mean 100 episode reward | 12.4     |\n",
            "| steps                   | 1486     |\n",
            "--------------------------------------\n",
            "--------------------------------------\n",
            "| % time spent exploring  | 2        |\n",
            "| episodes                | 120      |\n",
            "| mean 100 episode reward | 11.6     |\n",
            "| steps                   | 1608     |\n",
            "--------------------------------------\n",
            "--------------------------------------\n",
            "| % time spent exploring  | 2        |\n",
            "| episodes                | 130      |\n",
            "| mean 100 episode reward | 11.4     |\n",
            "| steps                   | 1720     |\n",
            "--------------------------------------\n",
            "--------------------------------------\n",
            "| % time spent exploring  | 2        |\n",
            "| episodes                | 140      |\n",
            "| mean 100 episode reward | 11.2     |\n",
            "| steps                   | 1818     |\n",
            "--------------------------------------\n",
            "--------------------------------------\n",
            "| % time spent exploring  | 2        |\n",
            "| episodes                | 150      |\n",
            "| mean 100 episode reward | 11       |\n",
            "| steps                   | 1914     |\n",
            "--------------------------------------\n",
            "--------------------------------------\n",
            "| % time spent exploring  | 2        |\n",
            "| episodes                | 160      |\n",
            "| mean 100 episode reward | 10.9     |\n",
            "| steps                   | 2008     |\n",
            "--------------------------------------\n",
            "--------------------------------------\n",
            "| % time spent exploring  | 2        |\n",
            "| episodes                | 170      |\n",
            "| mean 100 episode reward | 11       |\n",
            "| steps                   | 2112     |\n",
            "--------------------------------------\n",
            "--------------------------------------\n",
            "| % time spent exploring  | 2        |\n",
            "| episodes                | 180      |\n",
            "| mean 100 episode reward | 11       |\n",
            "| steps                   | 2216     |\n",
            "--------------------------------------\n",
            "--------------------------------------\n",
            "| % time spent exploring  | 2        |\n",
            "| episodes                | 190      |\n",
            "| mean 100 episode reward | 10.7     |\n",
            "| steps                   | 2313     |\n",
            "--------------------------------------\n",
            "--------------------------------------\n",
            "| % time spent exploring  | 2        |\n",
            "| episodes                | 200      |\n",
            "| mean 100 episode reward | 10.3     |\n",
            "| steps                   | 2407     |\n",
            "--------------------------------------\n",
            "--------------------------------------\n",
            "| % time spent exploring  | 2        |\n",
            "| episodes                | 210      |\n",
            "| mean 100 episode reward | 10.3     |\n",
            "| steps                   | 2515     |\n",
            "--------------------------------------\n",
            "--------------------------------------\n",
            "| % time spent exploring  | 2        |\n",
            "| episodes                | 220      |\n",
            "| mean 100 episode reward | 10.5     |\n",
            "| steps                   | 2657     |\n",
            "--------------------------------------\n",
            "--------------------------------------\n",
            "| % time spent exploring  | 2        |\n",
            "| episodes                | 230      |\n",
            "| mean 100 episode reward | 13.2     |\n",
            "| steps                   | 3042     |\n",
            "--------------------------------------\n",
            "--------------------------------------\n",
            "| % time spent exploring  | 2        |\n",
            "| episodes                | 240      |\n",
            "| mean 100 episode reward | 24       |\n",
            "| steps                   | 4219     |\n",
            "--------------------------------------\n",
            "--------------------------------------\n",
            "| % time spent exploring  | 2        |\n",
            "| episodes                | 250      |\n",
            "| mean 100 episode reward | 40       |\n",
            "| steps                   | 5918     |\n",
            "--------------------------------------\n",
            "--------------------------------------\n",
            "| % time spent exploring  | 2        |\n",
            "| episodes                | 260      |\n",
            "| mean 100 episode reward | 57.8     |\n",
            "| steps                   | 7791     |\n",
            "--------------------------------------\n",
            "--------------------------------------\n",
            "| % time spent exploring  | 2        |\n",
            "| episodes                | 270      |\n",
            "| mean 100 episode reward | 72.8     |\n",
            "| steps                   | 9388     |\n",
            "--------------------------------------\n"
          ]
        },
        {
          "output_type": "execute_result",
          "data": {
            "text/plain": [
              "<stable_baselines.deepq.dqn.DQN at 0x7f06ea09e290>"
            ]
          },
          "metadata": {},
          "execution_count": 24
        }
      ]
    },
    {
      "cell_type": "code",
      "metadata": {
        "id": "xQjF5S_g-mFN",
        "outputId": "d3c47829-899c-48f3-f6dc-a18ba61e18d9",
        "colab": {
          "base_uri": "https://localhost:8080/"
        }
      },
      "source": [
        "# Evaluate the trained agent\n",
        "mean_reward = evaluate(dqn_per_model, num_episodes=100)"
      ],
      "execution_count": 25,
      "outputs": [
        {
          "output_type": "stream",
          "name": "stdout",
          "text": [
            "Mean reward: 180.47 Num episodes: 100\n"
          ]
        }
      ]
    },
    {
      "cell_type": "markdown",
      "metadata": {
        "id": "Skny8MUN9_Ky"
      },
      "source": [
        "### DQN + Prioritized Experience Replay + Double Q-Learning + Dueling"
      ]
    },
    {
      "cell_type": "code",
      "metadata": {
        "id": "fDCys-Vg-yYR",
        "outputId": "9df2ac70-a19e-41ca-c6ec-c8ddbbe07d20",
        "colab": {
          "base_uri": "https://localhost:8080/"
        }
      },
      "source": [
        "# Activate all extensions\n",
        "kwargs = {'double_q': True, 'prioritized_replay': True, 'policy_kwargs': dict(dueling=True)}\n",
        "\n",
        "dqn_full_model = DQN('MlpPolicy', 'CartPole-v1', verbose=1, **kwargs)"
      ],
      "execution_count": 26,
      "outputs": [
        {
          "output_type": "stream",
          "name": "stdout",
          "text": [
            "Creating environment from the given name, wrapped in a DummyVecEnv.\n"
          ]
        }
      ]
    },
    {
      "cell_type": "code",
      "metadata": {
        "id": "koHGB-VN-81O",
        "colab": {
          "base_uri": "https://localhost:8080/"
        },
        "outputId": "fd46af61-778b-411a-c0dd-c7f9a967c5cd"
      },
      "source": [
        "dqn_full_model.learn(total_timesteps=10000, log_interval=10)"
      ],
      "execution_count": 27,
      "outputs": [
        {
          "output_type": "stream",
          "name": "stdout",
          "text": [
            "--------------------------------------\n",
            "| % time spent exploring  | 82       |\n",
            "| episodes                | 10       |\n",
            "| mean 100 episode reward | 19.9     |\n",
            "| steps                   | 179      |\n",
            "--------------------------------------\n",
            "--------------------------------------\n",
            "| % time spent exploring  | 60       |\n",
            "| episodes                | 20       |\n",
            "| mean 100 episode reward | 21.4     |\n",
            "| steps                   | 406      |\n",
            "--------------------------------------\n",
            "--------------------------------------\n",
            "| % time spent exploring  | 41       |\n",
            "| episodes                | 30       |\n",
            "| mean 100 episode reward | 20.5     |\n",
            "| steps                   | 595      |\n",
            "--------------------------------------\n",
            "--------------------------------------\n",
            "| % time spent exploring  | 27       |\n",
            "| episodes                | 40       |\n",
            "| mean 100 episode reward | 19       |\n",
            "| steps                   | 741      |\n",
            "--------------------------------------\n",
            "--------------------------------------\n",
            "| % time spent exploring  | 8        |\n",
            "| episodes                | 50       |\n",
            "| mean 100 episode reward | 19       |\n",
            "| steps                   | 933      |\n",
            "--------------------------------------\n",
            "--------------------------------------\n",
            "| % time spent exploring  | 2        |\n",
            "| episodes                | 60       |\n",
            "| mean 100 episode reward | 18.1     |\n",
            "| steps                   | 1066     |\n",
            "--------------------------------------\n",
            "--------------------------------------\n",
            "| % time spent exploring  | 2        |\n",
            "| episodes                | 70       |\n",
            "| mean 100 episode reward | 17.6     |\n",
            "| steps                   | 1216     |\n",
            "--------------------------------------\n",
            "--------------------------------------\n",
            "| % time spent exploring  | 2        |\n",
            "| episodes                | 80       |\n",
            "| mean 100 episode reward | 18.1     |\n",
            "| steps                   | 1426     |\n",
            "--------------------------------------\n",
            "--------------------------------------\n",
            "| % time spent exploring  | 2        |\n",
            "| episodes                | 90       |\n",
            "| mean 100 episode reward | 18.6     |\n",
            "| steps                   | 1658     |\n",
            "--------------------------------------\n",
            "--------------------------------------\n",
            "| % time spent exploring  | 2        |\n",
            "| episodes                | 100      |\n",
            "| mean 100 episode reward | 18       |\n",
            "| steps                   | 1782     |\n",
            "--------------------------------------\n",
            "--------------------------------------\n",
            "| % time spent exploring  | 2        |\n",
            "| episodes                | 110      |\n",
            "| mean 100 episode reward | 17.4     |\n",
            "| steps                   | 1915     |\n",
            "--------------------------------------\n",
            "--------------------------------------\n",
            "| % time spent exploring  | 2        |\n",
            "| episodes                | 120      |\n",
            "| mean 100 episode reward | 16.8     |\n",
            "| steps                   | 2082     |\n",
            "--------------------------------------\n",
            "--------------------------------------\n",
            "| % time spent exploring  | 2        |\n",
            "| episodes                | 130      |\n",
            "| mean 100 episode reward | 18.6     |\n",
            "| steps                   | 2457     |\n",
            "--------------------------------------\n",
            "--------------------------------------\n",
            "| % time spent exploring  | 2        |\n",
            "| episodes                | 140      |\n",
            "| mean 100 episode reward | 22.2     |\n",
            "| steps                   | 2962     |\n",
            "--------------------------------------\n",
            "--------------------------------------\n",
            "| % time spent exploring  | 2        |\n",
            "| episodes                | 150      |\n",
            "| mean 100 episode reward | 31.7     |\n",
            "| steps                   | 4105     |\n",
            "--------------------------------------\n",
            "--------------------------------------\n",
            "| % time spent exploring  | 2        |\n",
            "| episodes                | 160      |\n",
            "| mean 100 episode reward | 44.2     |\n",
            "| steps                   | 5490     |\n",
            "--------------------------------------\n",
            "--------------------------------------\n",
            "| % time spent exploring  | 2        |\n",
            "| episodes                | 170      |\n",
            "| mean 100 episode reward | 59.1     |\n",
            "| steps                   | 7128     |\n",
            "--------------------------------------\n",
            "--------------------------------------\n",
            "| % time spent exploring  | 2        |\n",
            "| episodes                | 180      |\n",
            "| mean 100 episode reward | 72.8     |\n",
            "| steps                   | 8708     |\n",
            "--------------------------------------\n"
          ]
        },
        {
          "output_type": "execute_result",
          "data": {
            "text/plain": [
              "<stable_baselines.deepq.dqn.DQN at 0x7f06e86a0710>"
            ]
          },
          "metadata": {},
          "execution_count": 27
        }
      ]
    },
    {
      "cell_type": "code",
      "metadata": {
        "id": "6cHRULdp--nN",
        "outputId": "f1fa2ca2-73e7-4389-bcbf-1b5d5a7bca9b",
        "colab": {
          "base_uri": "https://localhost:8080/"
        }
      },
      "source": [
        "mean_reward = evaluate(dqn_per_model, num_episodes=100)"
      ],
      "execution_count": 28,
      "outputs": [
        {
          "output_type": "stream",
          "name": "stdout",
          "text": [
            "Mean reward: 177.58 Num episodes: 100\n"
          ]
        }
      ]
    },
    {
      "cell_type": "markdown",
      "metadata": {
        "id": "n4Q9dR3UC5Zb"
      },
      "source": [
        "In this particular example, the extensions does not seem to give any improvement compared to the simple DQN version.\n",
        "They are several reasons for that:\n",
        "\n",
        "1. `CartPole-v1` is a pretty simple environment\n",
        "2. We trained DQN for very few timesteps, not enough to see any difference\n",
        "3. The default hyperparameters for DQN are tuned for atari games, where the number of training timesteps is much larger (10^6) and input observations are images\n",
        "4. We have only compared one random seed per experiment"
      ]
    },
    {
      "cell_type": "markdown",
      "metadata": {
        "id": "FrI6f5fWnzp-"
      },
      "source": [
        "## Conclusion\n",
        "\n",
        "In this notebook we have seen:\n",
        "- how to define and train a RL model using stable baselines, it takes only one line of code ;)\n",
        "- how to use different RL algorithms and change some hyperparameters"
      ]
    },
    {
      "cell_type": "code",
      "metadata": {
        "id": "73ji3gbNDkf7"
      },
      "source": [
        ""
      ],
      "execution_count": null,
      "outputs": []
    }
  ]
}