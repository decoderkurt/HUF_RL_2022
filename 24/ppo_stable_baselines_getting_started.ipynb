{
  "nbformat": 4,
  "nbformat_minor": 0,
  "metadata": {
    "colab": {
      "name": "1_getting_started.ipynb",
      "provenance": [],
      "collapsed_sections": [],
      "include_colab_link": true
    },
    "kernelspec": {
      "name": "python3",
      "display_name": "Python 3"
    },
    "accelerator": "GPU"
  },
  "cells": [
    {
      "cell_type": "markdown",
      "metadata": {
        "id": "view-in-github",
        "colab_type": "text"
      },
      "source": [
        "<a href=\"https://colab.research.google.com/github/decoderkurt/HUF_RL_2022/blob/main/24/ppo_stable_baselines_getting_started.ipynb\" target=\"_parent\"><img src=\"https://colab.research.google.com/assets/colab-badge.svg\" alt=\"Open In Colab\"/></a>"
      ]
    },
    {
      "cell_type": "markdown",
      "metadata": {
        "id": "hyyN-2qyK_T2"
      },
      "source": [
        "# Stable Baselines3 Tutorial - Getting Started\n",
        "\n",
        "Github repo: https://github.com/araffin/rl-tutorial-jnrr19\n",
        "\n",
        "Stable-Baselines3: https://github.com/DLR-RM/stable-baselines3\n",
        "\n",
        "Documentation: https://stable-baselines.readthedocs.io/en/master/\n",
        "\n",
        "RL Baselines3 zoo: https://github.com/DLR-RM/rl-baselines3-zoo\n",
        "\n",
        "\n",
        "[RL Baselines3 Zoo](https://github.com/DLR-RM/rl-baselines3-zoo) is a collection of pre-trained Reinforcement Learning agents using Stable-Baselines3.\n",
        "\n",
        "It also provides basic scripts for training, evaluating agents, tuning hyperparameters and recording videos.\n",
        "\n",
        "\n",
        "## Introduction\n",
        "\n",
        "In this notebook, you will learn the basics for using stable baselines3 library: how to create a RL model, train it and evaluate it. Because all algorithms share the same interface, we will see how simple it is to switch from one algorithm to another.\n",
        "\n",
        "\n",
        "## Install Dependencies and Stable Baselines3 Using Pip\n",
        "\n",
        "List of full dependencies can be found in the [README](https://github.com/DLR-RM/stable-baselines3).\n",
        "\n",
        "\n",
        "```\n",
        "pip install stable-baselines3[extra]\n",
        "```"
      ]
    },
    {
      "cell_type": "code",
      "metadata": {
        "id": "gWskDE2c9WoN",
        "colab": {
          "base_uri": "https://localhost:8080/"
        },
        "outputId": "97497df3-a173-4a43-97bc-f91be9f2a8e2"
      },
      "source": [
        "!apt-get install ffmpeg freeglut3-dev xvfb  # For visualization\n",
        "!pip install stable-baselines3[extra]"
      ],
      "execution_count": 1,
      "outputs": [
        {
          "output_type": "stream",
          "name": "stdout",
          "text": [
            "Reading package lists... Done\n",
            "Building dependency tree       \n",
            "Reading state information... Done\n",
            "freeglut3-dev is already the newest version (2.8.1-3).\n",
            "freeglut3-dev set to manually installed.\n",
            "ffmpeg is already the newest version (7:3.4.8-0ubuntu0.2).\n",
            "The following NEW packages will be installed:\n",
            "  xvfb\n",
            "0 upgraded, 1 newly installed, 0 to remove and 37 not upgraded.\n",
            "Need to get 784 kB of archives.\n",
            "After this operation, 2,271 kB of additional disk space will be used.\n",
            "Get:1 http://archive.ubuntu.com/ubuntu bionic-updates/universe amd64 xvfb amd64 2:1.19.6-1ubuntu4.10 [784 kB]\n",
            "Fetched 784 kB in 1s (826 kB/s)\n",
            "Selecting previously unselected package xvfb.\n",
            "(Reading database ... 155229 files and directories currently installed.)\n",
            "Preparing to unpack .../xvfb_2%3a1.19.6-1ubuntu4.10_amd64.deb ...\n",
            "Unpacking xvfb (2:1.19.6-1ubuntu4.10) ...\n",
            "Setting up xvfb (2:1.19.6-1ubuntu4.10) ...\n",
            "Processing triggers for man-db (2.8.3-2ubuntu0.1) ...\n",
            "Collecting stable-baselines3[extra]\n",
            "  Downloading stable_baselines3-1.4.0-py3-none-any.whl (176 kB)\n",
            "\u001b[K     |████████████████████████████████| 176 kB 5.5 MB/s \n",
            "\u001b[?25hRequirement already satisfied: torch>=1.8.1 in /usr/local/lib/python3.7/dist-packages (from stable-baselines3[extra]) (1.10.0+cu111)\n",
            "Requirement already satisfied: gym<0.20,>=0.17 in /usr/local/lib/python3.7/dist-packages (from stable-baselines3[extra]) (0.17.3)\n",
            "Requirement already satisfied: numpy in /usr/local/lib/python3.7/dist-packages (from stable-baselines3[extra]) (1.19.5)\n",
            "Requirement already satisfied: matplotlib in /usr/local/lib/python3.7/dist-packages (from stable-baselines3[extra]) (3.2.2)\n",
            "Requirement already satisfied: cloudpickle in /usr/local/lib/python3.7/dist-packages (from stable-baselines3[extra]) (1.3.0)\n",
            "Requirement already satisfied: pandas in /usr/local/lib/python3.7/dist-packages (from stable-baselines3[extra]) (1.1.5)\n",
            "Collecting atari-py==0.2.6\n",
            "  Downloading atari_py-0.2.6-cp37-cp37m-manylinux1_x86_64.whl (2.8 MB)\n",
            "\u001b[K     |████████████████████████████████| 2.8 MB 19.5 MB/s \n",
            "\u001b[?25hRequirement already satisfied: tensorboard>=2.2.0 in /usr/local/lib/python3.7/dist-packages (from stable-baselines3[extra]) (2.7.0)\n",
            "Requirement already satisfied: psutil in /usr/local/lib/python3.7/dist-packages (from stable-baselines3[extra]) (5.4.8)\n",
            "Requirement already satisfied: pillow in /usr/local/lib/python3.7/dist-packages (from stable-baselines3[extra]) (7.1.2)\n",
            "Requirement already satisfied: opencv-python in /usr/local/lib/python3.7/dist-packages (from stable-baselines3[extra]) (4.1.2.30)\n",
            "Requirement already satisfied: six in /usr/local/lib/python3.7/dist-packages (from atari-py==0.2.6->stable-baselines3[extra]) (1.15.0)\n",
            "Requirement already satisfied: scipy in /usr/local/lib/python3.7/dist-packages (from gym<0.20,>=0.17->stable-baselines3[extra]) (1.4.1)\n",
            "Requirement already satisfied: pyglet<=1.5.0,>=1.4.0 in /usr/local/lib/python3.7/dist-packages (from gym<0.20,>=0.17->stable-baselines3[extra]) (1.5.0)\n",
            "Requirement already satisfied: future in /usr/local/lib/python3.7/dist-packages (from pyglet<=1.5.0,>=1.4.0->gym<0.20,>=0.17->stable-baselines3[extra]) (0.16.0)\n",
            "Requirement already satisfied: grpcio>=1.24.3 in /usr/local/lib/python3.7/dist-packages (from tensorboard>=2.2.0->stable-baselines3[extra]) (1.43.0)\n",
            "Requirement already satisfied: werkzeug>=0.11.15 in /usr/local/lib/python3.7/dist-packages (from tensorboard>=2.2.0->stable-baselines3[extra]) (1.0.1)\n",
            "Requirement already satisfied: setuptools>=41.0.0 in /usr/local/lib/python3.7/dist-packages (from tensorboard>=2.2.0->stable-baselines3[extra]) (57.4.0)\n",
            "Requirement already satisfied: tensorboard-data-server<0.7.0,>=0.6.0 in /usr/local/lib/python3.7/dist-packages (from tensorboard>=2.2.0->stable-baselines3[extra]) (0.6.1)\n",
            "Requirement already satisfied: requests<3,>=2.21.0 in /usr/local/lib/python3.7/dist-packages (from tensorboard>=2.2.0->stable-baselines3[extra]) (2.23.0)\n",
            "Requirement already satisfied: tensorboard-plugin-wit>=1.6.0 in /usr/local/lib/python3.7/dist-packages (from tensorboard>=2.2.0->stable-baselines3[extra]) (1.8.1)\n",
            "Requirement already satisfied: google-auth-oauthlib<0.5,>=0.4.1 in /usr/local/lib/python3.7/dist-packages (from tensorboard>=2.2.0->stable-baselines3[extra]) (0.4.6)\n",
            "Requirement already satisfied: absl-py>=0.4 in /usr/local/lib/python3.7/dist-packages (from tensorboard>=2.2.0->stable-baselines3[extra]) (0.12.0)\n",
            "Requirement already satisfied: google-auth<3,>=1.6.3 in /usr/local/lib/python3.7/dist-packages (from tensorboard>=2.2.0->stable-baselines3[extra]) (1.35.0)\n",
            "Requirement already satisfied: wheel>=0.26 in /usr/local/lib/python3.7/dist-packages (from tensorboard>=2.2.0->stable-baselines3[extra]) (0.37.1)\n",
            "Requirement already satisfied: markdown>=2.6.8 in /usr/local/lib/python3.7/dist-packages (from tensorboard>=2.2.0->stable-baselines3[extra]) (3.3.6)\n",
            "Requirement already satisfied: protobuf>=3.6.0 in /usr/local/lib/python3.7/dist-packages (from tensorboard>=2.2.0->stable-baselines3[extra]) (3.17.3)\n",
            "Requirement already satisfied: rsa<5,>=3.1.4 in /usr/local/lib/python3.7/dist-packages (from google-auth<3,>=1.6.3->tensorboard>=2.2.0->stable-baselines3[extra]) (4.8)\n",
            "Requirement already satisfied: cachetools<5.0,>=2.0.0 in /usr/local/lib/python3.7/dist-packages (from google-auth<3,>=1.6.3->tensorboard>=2.2.0->stable-baselines3[extra]) (4.2.4)\n",
            "Requirement already satisfied: pyasn1-modules>=0.2.1 in /usr/local/lib/python3.7/dist-packages (from google-auth<3,>=1.6.3->tensorboard>=2.2.0->stable-baselines3[extra]) (0.2.8)\n",
            "Requirement already satisfied: requests-oauthlib>=0.7.0 in /usr/local/lib/python3.7/dist-packages (from google-auth-oauthlib<0.5,>=0.4.1->tensorboard>=2.2.0->stable-baselines3[extra]) (1.3.0)\n",
            "Requirement already satisfied: importlib-metadata>=4.4 in /usr/local/lib/python3.7/dist-packages (from markdown>=2.6.8->tensorboard>=2.2.0->stable-baselines3[extra]) (4.10.0)\n",
            "Requirement already satisfied: zipp>=0.5 in /usr/local/lib/python3.7/dist-packages (from importlib-metadata>=4.4->markdown>=2.6.8->tensorboard>=2.2.0->stable-baselines3[extra]) (3.7.0)\n",
            "Requirement already satisfied: typing-extensions>=3.6.4 in /usr/local/lib/python3.7/dist-packages (from importlib-metadata>=4.4->markdown>=2.6.8->tensorboard>=2.2.0->stable-baselines3[extra]) (3.10.0.2)\n",
            "Requirement already satisfied: pyasn1<0.5.0,>=0.4.6 in /usr/local/lib/python3.7/dist-packages (from pyasn1-modules>=0.2.1->google-auth<3,>=1.6.3->tensorboard>=2.2.0->stable-baselines3[extra]) (0.4.8)\n",
            "Requirement already satisfied: idna<3,>=2.5 in /usr/local/lib/python3.7/dist-packages (from requests<3,>=2.21.0->tensorboard>=2.2.0->stable-baselines3[extra]) (2.10)\n",
            "Requirement already satisfied: chardet<4,>=3.0.2 in /usr/local/lib/python3.7/dist-packages (from requests<3,>=2.21.0->tensorboard>=2.2.0->stable-baselines3[extra]) (3.0.4)\n",
            "Requirement already satisfied: certifi>=2017.4.17 in /usr/local/lib/python3.7/dist-packages (from requests<3,>=2.21.0->tensorboard>=2.2.0->stable-baselines3[extra]) (2021.10.8)\n",
            "Requirement already satisfied: urllib3!=1.25.0,!=1.25.1,<1.26,>=1.21.1 in /usr/local/lib/python3.7/dist-packages (from requests<3,>=2.21.0->tensorboard>=2.2.0->stable-baselines3[extra]) (1.24.3)\n",
            "Requirement already satisfied: oauthlib>=3.0.0 in /usr/local/lib/python3.7/dist-packages (from requests-oauthlib>=0.7.0->google-auth-oauthlib<0.5,>=0.4.1->tensorboard>=2.2.0->stable-baselines3[extra]) (3.1.1)\n",
            "Requirement already satisfied: cycler>=0.10 in /usr/local/lib/python3.7/dist-packages (from matplotlib->stable-baselines3[extra]) (0.11.0)\n",
            "Requirement already satisfied: kiwisolver>=1.0.1 in /usr/local/lib/python3.7/dist-packages (from matplotlib->stable-baselines3[extra]) (1.3.2)\n",
            "Requirement already satisfied: pyparsing!=2.0.4,!=2.1.2,!=2.1.6,>=2.0.1 in /usr/local/lib/python3.7/dist-packages (from matplotlib->stable-baselines3[extra]) (3.0.6)\n",
            "Requirement already satisfied: python-dateutil>=2.1 in /usr/local/lib/python3.7/dist-packages (from matplotlib->stable-baselines3[extra]) (2.8.2)\n",
            "Requirement already satisfied: pytz>=2017.2 in /usr/local/lib/python3.7/dist-packages (from pandas->stable-baselines3[extra]) (2018.9)\n",
            "\u001b[33mWARNING: The candidate selected for download or install is a yanked version: 'atari-py' candidate (version 0.2.6 at https://files.pythonhosted.org/packages/8f/ba/1d22e9d2f332f07aaa57041f5dd569c2cb40a92bd6374a0b743ec3dfae97/atari_py-0.2.6-cp37-cp37m-manylinux1_x86_64.whl#sha256=d9e2c25d39783867c2f29d1dd9d3a659fc56036456d07dc9efe8bd7bb31a07d7 (from https://pypi.org/simple/atari-py/))\n",
            "Reason for being yanked: re-release with new wheels\u001b[0m\n",
            "Installing collected packages: stable-baselines3, atari-py\n",
            "  Attempting uninstall: atari-py\n",
            "    Found existing installation: atari-py 0.2.9\n",
            "    Uninstalling atari-py-0.2.9:\n",
            "      Successfully uninstalled atari-py-0.2.9\n",
            "Successfully installed atari-py-0.2.6 stable-baselines3-1.4.0\n"
          ]
        }
      ]
    },
    {
      "cell_type": "code",
      "metadata": {
        "id": "U29X1-B-AIKE",
        "colab": {
          "base_uri": "https://localhost:8080/",
          "height": 35
        },
        "outputId": "d85ef068-1197-41c1-b6fc-edbc947f0e16"
      },
      "source": [
        "import stable_baselines3\n",
        "stable_baselines3.__version__"
      ],
      "execution_count": 2,
      "outputs": [
        {
          "output_type": "execute_result",
          "data": {
            "application/vnd.google.colaboratory.intrinsic+json": {
              "type": "string"
            },
            "text/plain": [
              "'1.4.0'"
            ]
          },
          "metadata": {},
          "execution_count": 2
        }
      ]
    },
    {
      "cell_type": "markdown",
      "metadata": {
        "id": "FtY8FhliLsGm"
      },
      "source": [
        "## Imports"
      ]
    },
    {
      "cell_type": "markdown",
      "metadata": {
        "id": "gcX8hEcaUpR0"
      },
      "source": [
        "Stable-Baselines works on environments that follow the [gym interface](https://stable-baselines.readthedocs.io/en/master/guide/custom_env.html).\n",
        "You can find a list of available environment [here](https://gym.openai.com/envs/#classic_control).\n",
        "\n",
        "It is also recommended to check the [source code](https://github.com/openai/gym) to learn more about the observation and action space of each env, as gym does not have a proper documentation.\n",
        "Not all algorithms can work with all action spaces, you can find more in this [recap table](https://stable-baselines.readthedocs.io/en/master/guide/algos.html)"
      ]
    },
    {
      "cell_type": "code",
      "metadata": {
        "id": "BIedd7Pz9sOs"
      },
      "source": [
        "import gym\n",
        "import numpy as np"
      ],
      "execution_count": 3,
      "outputs": []
    },
    {
      "cell_type": "markdown",
      "metadata": {
        "id": "Ae32CtgzTG3R"
      },
      "source": [
        "The first thing you need to import is the RL model, check the documentation to know what you can use on which problem"
      ]
    },
    {
      "cell_type": "code",
      "metadata": {
        "id": "R7tKaBFrTR0a"
      },
      "source": [
        "from stable_baselines3 import PPO"
      ],
      "execution_count": 4,
      "outputs": []
    },
    {
      "cell_type": "markdown",
      "metadata": {
        "id": "-0_8OQbOTTNT"
      },
      "source": [
        "The next thing you need to import is the policy class that will be used to create the networks (for the policy/value functions).\n",
        "This step is optional as you can directly use strings in the constructor: \n",
        "\n",
        "```PPO('MlpPolicy', env)``` instead of ```PPO(MlpPolicy, env)```\n",
        "\n",
        "Note that some algorithms like `SAC` have their own `MlpPolicy`, that's why using string for the policy is the recommened option."
      ]
    },
    {
      "cell_type": "code",
      "metadata": {
        "id": "ROUJr675TT01"
      },
      "source": [
        "from stable_baselines3.ppo import MlpPolicy"
      ],
      "execution_count": 5,
      "outputs": []
    },
    {
      "cell_type": "markdown",
      "metadata": {
        "id": "RapkYvTXL7Cd"
      },
      "source": [
        "## Create the Gym env and instantiate the agent\n",
        "\n",
        "For this example, we will use CartPole environment, a classic control problem.\n",
        "\n",
        "\"A pole is attached by an un-actuated joint to a cart, which moves along a frictionless track. The system is controlled by applying a force of +1 or -1 to the cart. The pendulum starts upright, and the goal is to prevent it from falling over. A reward of +1 is provided for every timestep that the pole remains upright. \"\n",
        "\n",
        "Cartpole environment: [https://gym.openai.com/envs/CartPole-v1/](https://gym.openai.com/envs/CartPole-v1/)\n",
        "\n",
        "![Cartpole](https://cdn-images-1.medium.com/max/1143/1*h4WTQNVIsvMXJTCpXm_TAw.gif)\n",
        "\n",
        "Note: vectorized environments allow to easily multiprocess training. In this example, we are using only one process, hence the DummyVecEnv.\n",
        "\n",
        "We chose the MlpPolicy because input of CartPole is a feature vector, not images.\n",
        "\n",
        "The type of action to use (discrete/continuous) will be automatically deduced from the environment action space\n",
        "\n",
        "\n",
        "Here we are using the [Proximal Policy Optimization](https://stable-baselines.readthedocs.io/en/master/modules/ppo2.html) algorithm, which is an Actor-Critic method: it uses a value function to improve the policy gradient descent (by reducing the variance).\n",
        "\n",
        "It combines ideas from [A2C](https://stable-baselines.readthedocs.io/en/master/modules/a2c.html) (having multiple workers and using an entropy bonus for exploration) and [TRPO](https://stable-baselines.readthedocs.io/en/master/modules/trpo.html) (it uses a trust region to improve stability and avoid catastrophic drops in performance).\n",
        "\n",
        "PPO is an on-policy algorithm, which means that the trajectories used to update the networks must be collected using the latest policy.\n",
        "It is usually less sample efficient than off-policy alorithms like [DQN](https://stable-baselines.readthedocs.io/en/master/modules/dqn.html), [SAC](https://stable-baselines.readthedocs.io/en/master/modules/sac.html) or [TD3](https://stable-baselines.readthedocs.io/en/master/modules/td3.html), but is much faster regarding wall-clock time.\n"
      ]
    },
    {
      "cell_type": "code",
      "metadata": {
        "id": "pUWGZp3i9wyf"
      },
      "source": [
        "env = gym.make('CartPole-v1')\n",
        "\n",
        "model = PPO(MlpPolicy, env, verbose=0)"
      ],
      "execution_count": 6,
      "outputs": []
    },
    {
      "cell_type": "markdown",
      "metadata": {
        "id": "4efFdrQ7MBvl"
      },
      "source": [
        "We create a helper function to evaluate the agent:"
      ]
    },
    {
      "cell_type": "code",
      "metadata": {
        "id": "63M8mSKR-6Zt"
      },
      "source": [
        "def evaluate(model, num_episodes=100, deterministic=True):\n",
        "    \"\"\"\n",
        "    Evaluate a RL agent\n",
        "    :param model: (BaseRLModel object) the RL Agent\n",
        "    :param num_episodes: (int) number of episodes to evaluate it\n",
        "    :return: (float) Mean reward for the last num_episodes\n",
        "    \"\"\"\n",
        "    # This function will only work for a single Environment\n",
        "    env = model.get_env()\n",
        "    all_episode_rewards = []\n",
        "    for i in range(num_episodes):\n",
        "        episode_rewards = []\n",
        "        done = False\n",
        "        obs = env.reset()\n",
        "        while not done:\n",
        "            # _states are only useful when using LSTM policies\n",
        "            action, _states = model.predict(obs, deterministic=deterministic)\n",
        "            # here, action, rewards and dones are arrays\n",
        "            # because we are using vectorized env\n",
        "            obs, reward, done, info = env.step(action)\n",
        "            episode_rewards.append(reward)\n",
        "\n",
        "        all_episode_rewards.append(sum(episode_rewards))\n",
        "\n",
        "    mean_episode_reward = np.mean(all_episode_rewards)\n",
        "    print(\"Mean reward:\", mean_episode_reward, \"Num episodes:\", num_episodes)\n",
        "\n",
        "    return mean_episode_reward"
      ],
      "execution_count": 7,
      "outputs": []
    },
    {
      "cell_type": "markdown",
      "metadata": {
        "id": "6hkyafs--gJz"
      },
      "source": [
        "In fact, Stable-Baselines3 already provides you with that helper:"
      ]
    },
    {
      "cell_type": "code",
      "metadata": {
        "id": "s6ZNldIR-fce"
      },
      "source": [
        "from stable_baselines3.common.evaluation import evaluate_policy"
      ],
      "execution_count": 8,
      "outputs": []
    },
    {
      "cell_type": "markdown",
      "metadata": {
        "id": "zjEVOIY8NVeK"
      },
      "source": [
        "Let's evaluate the un-trained agent, this should be a random agent."
      ]
    },
    {
      "cell_type": "code",
      "metadata": {
        "id": "xDHLMA6NFk95",
        "outputId": "5a50a9bb-3e88-41be-f92c-133a40fb714f",
        "colab": {
          "base_uri": "https://localhost:8080/"
        }
      },
      "source": [
        "# Use a separate environement for evaluation\n",
        "eval_env = gym.make('CartPole-v1')\n",
        "\n",
        "# Random Agent, before training\n",
        "mean_reward, std_reward = evaluate_policy(model, eval_env, n_eval_episodes=100)\n",
        "\n",
        "print(f\"mean_reward:{mean_reward:.2f} +/- {std_reward:.2f}\")"
      ],
      "execution_count": 11,
      "outputs": [
        {
          "output_type": "stream",
          "name": "stderr",
          "text": [
            "/usr/local/lib/python3.7/dist-packages/stable_baselines3/common/evaluation.py:69: UserWarning: Evaluation environment is not wrapped with a ``Monitor`` wrapper. This may result in reporting modified episode lengths and rewards, if other wrappers happen to modify these. Consider wrapping environment first with ``Monitor`` wrapper.\n",
            "  UserWarning,\n"
          ]
        },
        {
          "output_type": "stream",
          "name": "stdout",
          "text": [
            "mean_reward:446.38 +/- 82.68\n"
          ]
        }
      ]
    },
    {
      "cell_type": "markdown",
      "metadata": {
        "id": "r5UoXTZPNdFE"
      },
      "source": [
        "## Train the agent and evaluate it"
      ]
    },
    {
      "cell_type": "code",
      "metadata": {
        "id": "e4cfSXIB-pTF",
        "outputId": "ab3d04bc-8f00-4550-8a02-aeeb4bd7a93f",
        "colab": {
          "base_uri": "https://localhost:8080/"
        }
      },
      "source": [
        "# Train the agent for 10000 steps\n",
        "model.learn(total_timesteps=10000)"
      ],
      "execution_count": 12,
      "outputs": [
        {
          "output_type": "execute_result",
          "data": {
            "text/plain": [
              "<stable_baselines3.ppo.ppo.PPO at 0x7f9870deda90>"
            ]
          },
          "metadata": {},
          "execution_count": 12
        }
      ]
    },
    {
      "cell_type": "code",
      "metadata": {
        "id": "ygl_gVmV_QP7",
        "outputId": "e18bc3c3-7f08-4aa7-b0b5-bb49b6cce0e1",
        "colab": {
          "base_uri": "https://localhost:8080/"
        }
      },
      "source": [
        "# Evaluate the trained agent\n",
        "mean_reward, std_reward = evaluate_policy(model, eval_env, n_eval_episodes=100)\n",
        "\n",
        "print(f\"mean_reward:{mean_reward:.2f} +/- {std_reward:.2f}\")"
      ],
      "execution_count": 13,
      "outputs": [
        {
          "output_type": "stream",
          "name": "stderr",
          "text": [
            "/usr/local/lib/python3.7/dist-packages/stable_baselines3/common/evaluation.py:69: UserWarning: Evaluation environment is not wrapped with a ``Monitor`` wrapper. This may result in reporting modified episode lengths and rewards, if other wrappers happen to modify these. Consider wrapping environment first with ``Monitor`` wrapper.\n",
            "  UserWarning,\n"
          ]
        },
        {
          "output_type": "stream",
          "name": "stdout",
          "text": [
            "mean_reward:500.00 +/- 0.00\n"
          ]
        }
      ]
    },
    {
      "cell_type": "markdown",
      "metadata": {
        "id": "A00W6yY3NkHG"
      },
      "source": [
        "Apparently the training went well, the mean reward increased a lot ! "
      ]
    },
    {
      "cell_type": "markdown",
      "metadata": {
        "id": "xVm9QPNVwKXN"
      },
      "source": [
        "### Prepare video recording"
      ]
    },
    {
      "cell_type": "code",
      "metadata": {
        "id": "MPyfQxD5z26J"
      },
      "source": [
        "# Set up fake display; otherwise rendering will fail\n",
        "import os\n",
        "os.system(\"Xvfb :1 -screen 0 1024x768x24 &\")\n",
        "os.environ['DISPLAY'] = ':1'"
      ],
      "execution_count": 14,
      "outputs": []
    },
    {
      "cell_type": "code",
      "metadata": {
        "id": "SLzXxO8VMD6N"
      },
      "source": [
        "import base64\n",
        "from pathlib import Path\n",
        "\n",
        "from IPython import display as ipythondisplay\n",
        "\n",
        "def show_videos(video_path='', prefix=''):\n",
        "  \"\"\"\n",
        "  Taken from https://github.com/eleurent/highway-env\n",
        "\n",
        "  :param video_path: (str) Path to the folder containing videos\n",
        "  :param prefix: (str) Filter the video, showing only the only starting with this prefix\n",
        "  \"\"\"\n",
        "  html = []\n",
        "  for mp4 in Path(video_path).glob(\"{}*.mp4\".format(prefix)):\n",
        "      video_b64 = base64.b64encode(mp4.read_bytes())\n",
        "      html.append('''<video alt=\"{}\" autoplay \n",
        "                    loop controls style=\"height: 400px;\">\n",
        "                    <source src=\"data:video/mp4;base64,{}\" type=\"video/mp4\" />\n",
        "                </video>'''.format(mp4, video_b64.decode('ascii')))\n",
        "  ipythondisplay.display(ipythondisplay.HTML(data=\"<br>\".join(html)))"
      ],
      "execution_count": 15,
      "outputs": []
    },
    {
      "cell_type": "markdown",
      "metadata": {
        "id": "LTRNUfulOGaF"
      },
      "source": [
        "We will record a video using the [VecVideoRecorder](https://stable-baselines.readthedocs.io/en/master/guide/vec_envs.html#vecvideorecorder) wrapper, you will learn about those wrapper in the next notebook."
      ]
    },
    {
      "cell_type": "code",
      "metadata": {
        "id": "Trag9dQpOIhx"
      },
      "source": [
        "from stable_baselines3.common.vec_env import VecVideoRecorder, DummyVecEnv\n",
        "\n",
        "def record_video(env_id, model, video_length=500, prefix='', video_folder='videos/'):\n",
        "  \"\"\"\n",
        "  :param env_id: (str)\n",
        "  :param model: (RL model)\n",
        "  :param video_length: (int)\n",
        "  :param prefix: (str)\n",
        "  :param video_folder: (str)\n",
        "  \"\"\"\n",
        "  eval_env = DummyVecEnv([lambda: gym.make('CartPole-v1')])\n",
        "  # Start the video at step=0 and record 500 steps\n",
        "  eval_env = VecVideoRecorder(eval_env, video_folder=video_folder,\n",
        "                              record_video_trigger=lambda step: step == 0, video_length=video_length,\n",
        "                              name_prefix=prefix)\n",
        "\n",
        "  obs = eval_env.reset()\n",
        "  for _ in range(video_length):\n",
        "    action, _ = model.predict(obs)\n",
        "    obs, _, _, _ = eval_env.step(action)\n",
        "\n",
        "  # Close the video recorder\n",
        "  eval_env.close()"
      ],
      "execution_count": 16,
      "outputs": []
    },
    {
      "cell_type": "markdown",
      "metadata": {
        "id": "KOObbeu5MMlR"
      },
      "source": [
        "### Visualize trained agent\n",
        "\n"
      ]
    },
    {
      "cell_type": "code",
      "metadata": {
        "id": "iATu7AiyMQW2",
        "outputId": "20fde376-32f9-4099-f857-9a13360025a0",
        "colab": {
          "base_uri": "https://localhost:8080/"
        }
      },
      "source": [
        "record_video('CartPole-v1', model, video_length=500, prefix='ppo-cartpole')"
      ],
      "execution_count": 17,
      "outputs": [
        {
          "output_type": "stream",
          "name": "stdout",
          "text": [
            "Saving video to /content/videos/ppo-cartpole-step-0-to-step-500.mp4\n"
          ]
        }
      ]
    },
    {
      "cell_type": "code",
      "metadata": {
        "id": "-n4i-fW3NojZ",
        "colab": {
          "base_uri": "https://localhost:8080/",
          "height": 420
        },
        "outputId": "fc58cb93-ee2c-4127-dbcb-47e59d592581"
      },
      "source": [
        "show_videos('videos', prefix='ppo')"
      ],
      "execution_count": 18,
      "outputs": [
        {
          "output_type": "display_data",
          "data": {
            "text/html": [
              "<video alt=\"videos/ppo-cartpole-step-0-to-step-500.mp4\" autoplay \n",
              "                    loop controls style=\"height: 400px;\">\n",
              "                    <source src=\"data:video/mp4;base64,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\" type=\"video/mp4\" />\n",
              "                </video>"
            ],
            "text/plain": [
              "<IPython.core.display.HTML object>"
            ]
          },
          "metadata": {}
        }
      ]
    },
    {
      "cell_type": "markdown",
      "metadata": {
        "id": "9Y8zg4V566qD"
      },
      "source": [
        "## Bonus: Train a RL Model in One Line\n",
        "\n",
        "The policy class to use will be inferred and the environment will be automatically created. This works because both are [registered](https://stable-baselines.readthedocs.io/en/master/guide/quickstart.html)."
      ]
    },
    {
      "cell_type": "code",
      "metadata": {
        "id": "iaOPfOrwWEP4",
        "colab": {
          "base_uri": "https://localhost:8080/"
        },
        "outputId": "5164a782-8d1d-4fe0-c3b7-afbebce8ac2e"
      },
      "source": [
        "model = PPO('MlpPolicy', \"CartPole-v1\", verbose=1).learn(1000)"
      ],
      "execution_count": 19,
      "outputs": [
        {
          "output_type": "stream",
          "name": "stdout",
          "text": [
            "Using cpu device\n",
            "Creating environment from the given name 'CartPole-v1'\n",
            "Wrapping the env with a `Monitor` wrapper\n",
            "Wrapping the env in a DummyVecEnv.\n",
            "---------------------------------\n",
            "| rollout/           |          |\n",
            "|    ep_len_mean     | 21.7     |\n",
            "|    ep_rew_mean     | 21.7     |\n",
            "| time/              |          |\n",
            "|    fps             | 1482     |\n",
            "|    iterations      | 1        |\n",
            "|    time_elapsed    | 1        |\n",
            "|    total_timesteps | 2048     |\n",
            "---------------------------------\n"
          ]
        }
      ]
    },
    {
      "cell_type": "code",
      "metadata": {
        "id": "Se8SHBN17Fy4"
      },
      "source": [
        ""
      ],
      "execution_count": null,
      "outputs": []
    },
    {
      "cell_type": "markdown",
      "metadata": {
        "id": "FrI6f5fWnzp-"
      },
      "source": [
        "## Conclusion\n",
        "\n",
        "In this notebook we have seen:\n",
        "- how to define and train a RL model using stable baselines3, it takes only one line of code ;)\n"
      ]
    },
    {
      "cell_type": "code",
      "metadata": {
        "id": "73ji3gbNDkf7"
      },
      "source": [
        ""
      ],
      "execution_count": null,
      "outputs": []
    }
  ]
}