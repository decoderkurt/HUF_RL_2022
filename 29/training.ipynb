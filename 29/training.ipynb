{
  "cells": [
    {
      "cell_type": "markdown",
      "metadata": {
        "id": "view-in-github",
        "colab_type": "text"
      },
      "source": [
        "<a href=\"https://colab.research.google.com/github/decoderkurt/HUF_RL_2022/blob/main/29/training.ipynb\" target=\"_parent\"><img src=\"https://colab.research.google.com/assets/colab-badge.svg\" alt=\"Open In Colab\"/></a>"
      ]
    },
    {
      "cell_type": "markdown",
      "metadata": {
        "id": "ssCOanHc8JH_"
      },
      "source": [
        "# Training in Brax\n",
        "\n",
        "In [Brax Environments](https://colab.research.google.com/github/google/brax/blob/main/notebooks/environments.ipynb) we learned about creating environments and using them to quickly generate rollouts. We can learn all kinds of fun and useful behaviors on those environments via Brax's built-in training algorithms.\n",
        "\n",
        "Let's try them out!"
      ]
    },
    {
      "cell_type": "code",
      "execution_count": 1,
      "metadata": {
        "id": "_sOmCoOrF0F8"
      },
      "outputs": [],
      "source": [
        "#@title Install Brax and some helper modules\n",
        "#@markdown ## ⚠️ PLEASE NOTE:\n",
        "#@markdown This colab runs best using a TPU runtime.  From the Colab menu, choose Runtime > Change Runtime Type, then select **'TPU'** in the dropdown.\n",
        "\n",
        "from datetime import datetime\n",
        "import functools\n",
        "import os\n",
        "\n",
        "from IPython.display import HTML, clear_output\n",
        "\n",
        "import jax\n",
        "import jax.numpy as jnp\n",
        "import matplotlib.pyplot as plt\n",
        "\n",
        "try:\n",
        "  import brax\n",
        "except ImportError:\n",
        "  !pip install git+https://github.com/google/brax.git@main\n",
        "  clear_output()\n",
        "  import brax\n",
        "\n",
        "from brax import envs\n",
        "from brax import jumpy as jp\n",
        "from brax.training import ppo, sac\n",
        "from brax.io import html\n",
        "from brax.io import model\n",
        "\n",
        "if 'COLAB_TPU_ADDR' in os.environ:\n",
        "  from jax.tools import colab_tpu\n",
        "  colab_tpu.setup_tpu()"
      ]
    },
    {
      "cell_type": "markdown",
      "metadata": {
        "id": "Tm8zbPBcJ5RJ"
      },
      "source": [
        "First let's pick an environment to train an agent:"
      ]
    },
    {
      "cell_type": "code",
      "execution_count": null,
      "metadata": {
        "id": "NaJDZqhCLovU"
      },
      "outputs": [],
      "source": [
        "#@title Preview a Brax environment { run: \"auto\" }\n",
        "#@markdown Select the environment to train:\n",
        "\n",
        "env_name = \"grasp\"  # @param ['ant', 'humanoid', 'fetch', 'grasp', 'halfcheetah', 'ur5e', 'reacher']\n",
        "env_fn = envs.create_fn(env_name=env_name)\n",
        "env = env_fn()\n",
        "state = env.reset(rng=jp.random_prngkey(seed=0))\n",
        "\n",
        "HTML(html.render(env.sys, [state.qp]))"
      ]
    },
    {
      "cell_type": "markdown",
      "metadata": {
        "id": "25iky4mITUhh"
      },
      "source": [
        "# Training\n",
        "\n",
        "Brax provides out of the box the following training algorithms:\n",
        "\n",
        "* [Proximal policy optimization](https://github.com/google/brax/blob/main/brax/training/ppo.py)\n",
        "* [Soft actor-critic](https://github.com/google/brax/blob/main/brax/training/sac.py)\n",
        "* [Evolutionary strategy](https://github.com/google/brax/blob/main/brax/training/es.py)\n",
        "* [Analytic policy gradients](https://github.com/google/brax/blob/main/brax/training/apg.py)\n",
        "* [Augmented random search](https://github.com/google/brax/blob/main/brax/training/ars.py)\n",
        "\n",
        "Trainers take as input an environment function and some hyperparameters, and return an inference function to operate the environment."
      ]
    },
    {
      "cell_type": "code",
      "execution_count": 3,
      "metadata": {
        "colab": {
          "base_uri": "https://localhost:8080/",
          "height": 319
        },
        "id": "4vgMSWODfyMC",
        "outputId": "03bc2d18-dc2d-40cd-fddd-e6d06cb5e613"
      },
      "outputs": [
        {
          "output_type": "display_data",
          "data": {
            "image/png": "[encoded data removed]",
            "text/plain": [
              "<Figure size 432x288 with 1 Axes>"
            ]
          },
          "metadata": {
            "needs_background": "light"
          }
        },
        {
          "output_type": "stream",
          "name": "stdout",
          "text": [
            "time to jit: 0:02:26.582831\n",
            "time to train: 0:09:40.470276\n"
          ]
        }
      ],
      "source": [
        "#@title Training some pre-included Brax environments\n",
        "\n",
        "# We determined some reasonable hyperparameters offline and share them here.\n",
        "train_fn = {\n",
        "  'ant': functools.partial(\n",
        "      ppo.train, num_timesteps = 30000000, log_frequency = 20,\n",
        "      reward_scaling = 10, episode_length = 1000, normalize_observations = True,\n",
        "      action_repeat = 1, unroll_length = 5, num_minibatches = 32,\n",
        "      num_update_epochs = 4, discounting = 0.97, learning_rate = 3e-4,\n",
        "      entropy_cost = 1e-2, num_envs = 2048, batch_size = 1024\n",
        "  ),\n",
        "  'humanoid': functools.partial(\n",
        "      ppo.train, num_timesteps = 50000000, log_frequency = 20,\n",
        "      reward_scaling = 0.1, episode_length = 1000, normalize_observations = True,\n",
        "      action_repeat = 1, unroll_length = 10, num_minibatches = 32,\n",
        "      num_update_epochs = 8, discounting = 0.97, learning_rate = 3e-4,\n",
        "      entropy_cost = 1e-3, num_envs = 2048, batch_size = 1024, seed=1\n",
        "  ),\n",
        "  'fetch': functools.partial(\n",
        "      ppo.train, num_timesteps = 100_000_000, log_frequency = 20,\n",
        "      reward_scaling = 5, episode_length = 1000, normalize_observations = True,\n",
        "      action_repeat = 1, unroll_length = 20, num_minibatches = 32,\n",
        "      num_update_epochs = 4, discounting = 0.997, learning_rate = 3e-4,\n",
        "      entropy_cost = 0.001, num_envs = 2048, batch_size = 256\n",
        "  ),\n",
        "  'grasp': functools.partial(\n",
        "      ppo.train, num_timesteps = 600_000_000, log_frequency = 10,\n",
        "      reward_scaling = 10, episode_length = 1000, normalize_observations = True,\n",
        "      action_repeat = 1, unroll_length = 20, num_minibatches = 32,\n",
        "      num_update_epochs = 2, discounting = 0.99, learning_rate = 3e-4,\n",
        "      entropy_cost = 0.001, num_envs = 2048, batch_size = 256\n",
        "  ),\n",
        "  'halfcheetah': functools.partial(\n",
        "      ppo.train, num_timesteps = 100_000_000, log_frequency = 10,\n",
        "      reward_scaling = 1, episode_length = 1000, normalize_observations = True,\n",
        "      action_repeat = 1, unroll_length = 20, num_minibatches = 32,\n",
        "      num_update_epochs = 8, discounting = 0.95, learning_rate = 3e-4,\n",
        "      entropy_cost = 0.001, num_envs = 2048, batch_size = 512\n",
        "  ),\n",
        "  'ur5e': functools.partial(\n",
        "      ppo.train, num_timesteps = 20_000_000, log_frequency = 20,\n",
        "      reward_scaling = 10, episode_length = 1000, normalize_observations = True,\n",
        "      action_repeat = 1, unroll_length = 5, num_minibatches = 32,\n",
        "      num_update_epochs = 4, discounting = 0.95, learning_rate = 2e-4,\n",
        "      entropy_cost = 1e-2, num_envs = 2048, batch_size = 1024,\n",
        "      max_devices_per_host = 8\n",
        "  ),\n",
        "  'reacher': functools.partial(\n",
        "      ppo.train, num_timesteps = 100_000_000, log_frequency = 20,\n",
        "      reward_scaling = 5, episode_length = 1000, normalize_observations = True,\n",
        "      action_repeat = 4, unroll_length = 50, num_minibatches = 32,\n",
        "      num_update_epochs = 8, discounting = 0.95, learning_rate = 3e-4,\n",
        "      entropy_cost = 1e-3, num_envs = 2048, batch_size = 256,\n",
        "      max_devices_per_host = 8, seed = 1),\n",
        "}[env_name]\n",
        "max_y = {'ant': 6000, \n",
        "         'humanoid': 12000, \n",
        "         'fetch': 15, \n",
        "         'grasp': 100, \n",
        "         'halfcheetah': 8000,\n",
        "         'ur5e': 10,\n",
        "         'reacher': 5}[env_name]\n",
        "\n",
        "min_y = {'reacher': -100}.get(env_name, 0)\n",
        "\n",
        "xdata = []\n",
        "ydata = []\n",
        "times = [datetime.now()]\n",
        "\n",
        "def progress(num_steps, metrics):\n",
        "  times.append(datetime.now())\n",
        "  xdata.append(num_steps)\n",
        "  ydata.append(metrics['eval/episode_reward'])\n",
        "  clear_output(wait=True)\n",
        "  plt.xlim([0, train_fn.keywords['num_timesteps']])\n",
        "  plt.ylim([min_y, max_y])\n",
        "  plt.xlabel('# environment steps')\n",
        "  plt.ylabel('reward per episode')\n",
        "  plt.plot(xdata, ydata)\n",
        "  plt.show()\n",
        "\n",
        "inference_fn, params, _ = train_fn(environment_fn=env_fn, progress_fn=progress)\n",
        "\n",
        "print(f'time to jit: {times[1] - times[0]}')\n",
        "print(f'time to train: {times[-1] - times[1]}')"
      ]
    },
    {
      "cell_type": "markdown",
      "metadata": {
        "id": "FGPyeF8Jsj_M"
      },
      "source": [
        "The trainers return an inference function, parameters, and the final set of metrics gathered during evaluation.\n",
        "\n",
        "# Saving and Loading Policies\n",
        "\n",
        "Brax can save and load trained policies:"
      ]
    },
    {
      "cell_type": "code",
      "execution_count": 4,
      "metadata": {
        "id": "fgB52sgjDhvi"
      },
      "outputs": [],
      "source": [
        "model.save_params('/tmp/params', params)\n",
        "inference_fn = ppo.make_inference_fn(\n",
        "    env.observation_size, env.action_size, True)\n",
        "params = model.load_params('/tmp/params')"
      ]
    },
    {
      "cell_type": "markdown",
      "metadata": {
        "id": "uUs9hbUKIH71"
      },
      "source": [
        "# Visualizing a Policy's Behavior\n",
        "\n",
        "We can use the policy to generate a rollout for visualization:"
      ]
    },
    {
      "cell_type": "code",
      "execution_count": null,
      "metadata": {
        "id": "RNMLEyaTspEM"
      },
      "outputs": [],
      "source": [
        "#@title Visualizing a trajectory of the learned inference function\n",
        "\n",
        "jit_env_reset = jax.jit(env.reset)\n",
        "jit_env_step = jax.jit(env.step)\n",
        "jit_inference_fn = jax.jit(inference_fn)\n",
        "\n",
        "rollout = []\n",
        "rng = jax.random.PRNGKey(seed=0)\n",
        "state = jit_env_reset(rng=rng)\n",
        "while not state.done:\n",
        "  rollout.append(state)\n",
        "  act_rng, rng = jax.random.split(rng)\n",
        "  act = jit_inference_fn(params, state.obs, act_rng)\n",
        "  state = jit_env_step(state, act)\n",
        "\n",
        "HTML(html.render(env.sys, [s.qp for s in rollout]))"
      ]
    },
    {
      "cell_type": "markdown",
      "metadata": {
        "id": "VHygrLp5HKiM"
      },
      "source": [
        "ವಿದಾಯ! 👋"
      ]
    }
  ],
  "metadata": {
    "accelerator": "TPU",
    "colab": {
      "collapsed_sections": [],
      "name": "Brax Training.ipynb",
      "provenance": [],
      "include_colab_link": true
    },
    "kernelspec": {
      "display_name": "Python 3",
      "name": "python3"
    },
    "language_info": {
      "name": "python"
    }
  },
  "nbformat": 4,
  "nbformat_minor": 0
}