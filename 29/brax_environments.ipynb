{
  "cells": [
    {
      "cell_type": "markdown",
      "metadata": {
        "id": "view-in-github",
        "colab_type": "text"
      },
      "source": [
        "<a href=\"https://colab.research.google.com/github/decoderkurt/HUF_RL_2022/blob/main/29/brax_environments.ipynb\" target=\"_parent\"><img src=\"https://colab.research.google.com/assets/colab-badge.svg\" alt=\"Open In Colab\"/></a>"
      ]
    },
    {
      "cell_type": "markdown",
      "metadata": {
        "id": "ssCOanHc8JH_"
      },
      "source": [
        "# Brax Environments\n",
        "\n",
        "Brax provides [Gym](https://gym.openai.com/)-like environments for training policies.  Just as in Gym, Brax environments have step and reset functions that return agent observations and rewards.  Let's try some out!"
      ]
    },
    {
      "cell_type": "code",
      "execution_count": 1,
      "metadata": {
        "id": "_sOmCoOrF0F8"
      },
      "outputs": [],
      "source": [
        "#@title Import Brax and some helper modules\n",
        "\n",
        "import functools\n",
        "import time\n",
        "\n",
        "from IPython.display import HTML, Image \n",
        "import gym\n",
        "\n",
        "try:\n",
        "  import brax\n",
        "except ImportError:\n",
        "  from IPython.display import clear_output \n",
        "  !pip install git+https://github.com/google/brax.git@main\n",
        "  clear_output()\n",
        "  import brax\n",
        "\n",
        "from brax import envs\n",
        "from brax import jumpy as jp\n",
        "from brax.envs import to_torch\n",
        "from brax.io import html\n",
        "from brax.io import image\n",
        "import jax\n",
        "from jax import numpy as jnp\n",
        "import torch\n",
        "v = torch.ones(1, device='cuda')  # init torch cuda before jax"
      ]
    },
    {
      "cell_type": "markdown",
      "metadata": {
        "id": "Tm8zbPBcJ5RJ"
      },
      "source": [
        "In [Brax Basics](https://colab.research.google.com/github/google/brax/blob/main/notebooks/basics.ipynb) we tried out a few simple physics systems.  In order to train agents to achieve some behavior within these systems, we define an environment: a physics system, a way for the agent to observe the system, and a reward function that defines some objective.  Brax comes with many built-in environments in order to get started quickly.\n",
        "\n",
        "## OpenAI Gym Environments\n",
        "\n",
        "**[ant](https://github.com/google/brax/blob/main/brax/envs/ant.py)** from [OpenAI Gym Ant-v2](https://gym.openai.com/envs/Ant-v2/): make a four-legged creature walk forward as fast as possible\n",
        "\n",
        "**[halfcheetah](https://github.com/google/brax/blob/main/brax/envs/halfcheetah.py)** from [OpenAI Gym HalfCheetah-v2](https://gym.openai.com/envs/HalfCheetah-v2/): make a two-dimensional two-legged creature walk forward as fast as possible\n",
        "\n",
        "**[hopper](https://github.com/google/brax/blob/main/brax/envs/hopper.py)** from [OpenAI Gym Hopper-v2](https://gym.openai.com/envs/Hopper-v2/): make a two-dimensional one-legged robot hop forward as fast as possible\n",
        "\n",
        "**[humanoid](https://github.com/google/brax/blob/main/brax/envs/humanoid.py)** from [OpenAI Gym Humanoid-v2](https://gym.openai.com/envs/Humanoid-v2/): make a three-dimensional bipedal robot walk forward as fast as possible, without falling over.\n",
        "\n",
        "**[reacher](https://github.com/google/brax/blob/main/brax/envs/reacher.py)**: from [OpenAI Gym Reacher-v2](https://gym.openai.com/envs/Reacher-v2/): makes a two-joint reacher arm move its tip to a target.\n",
        "\n",
        "**[walker2d](https://github.com/google/brax/blob/main/brax/envs/walker2d.py)** from [OpenAI Gym Walker2d-v2](https://gym.openai.com/envs/Walker2d-v2/): make a two-dimensional bipedal robot walk forward as fast as possible\n",
        "\n",
        "## Custom Environments\n",
        "\n",
        "**[fetch](https://github.com/google/brax/blob/main/brax/envs/fetch.py)**: make a three-dimensional dog chase after a moving target.\n",
        "\n",
        "**[grasp](https://github.com/google/brax/blob/main/brax/envs/grasp.py)**: a grabber hand must pick up a ball and carry it to a moving target.\n",
        "\n",
        "**[ur5e](https://github.com/google/brax/blob/main/brax/envs/ur5e.py)**: a ur5e robot arm that moves its end effector to a series of targets.\n",
        "\n"
      ]
    },
    {
      "cell_type": "code",
      "execution_count": null,
      "metadata": {
        "id": "NaJDZqhCLovU"
      },
      "outputs": [],
      "source": [
        "#@title Visualizing pre-included Brax environments { run: \"auto\" }\n",
        "#@markdown Select an environment to preview it below:\n",
        "\n",
        "environment = \"humanoid\"  # @param ['ant', 'halfcheetah', 'hopper', 'humanoid', 'reacher', 'walker2d', 'fetch', 'grasp', 'ur5e']\n",
        "env = envs.create(env_name=environment)\n",
        "state = env.reset(rng=jp.random_prngkey(seed=0))\n",
        "\n",
        "HTML(html.render(env.sys, [state.qp]))"
      ]
    },
    {
      "cell_type": "markdown",
      "metadata": {
        "id": "5Aj2VWIYiy8U"
      },
      "source": [
        "# Stepping and Jitting Environments\n",
        "\n",
        "We operate environments via `env.step`:\n",
        "\n",
        "$$\n",
        "\\text{state}_{t+1} = \\text{env.step}(\\text{state}_t, \\text{action})\n",
        "$$\n",
        "\n",
        "\n",
        "The state returned by `env.step` contains:\n",
        "* the physics state `QP`\n",
        "* the observation vector\n",
        "* reward\n",
        "* whether the environment is done and needs to be reset\n",
        "* other useful metrics.\n",
        "\n",
        "By calling `env.step` in sequence we produce a rollout:"
      ]
    },
    {
      "cell_type": "code",
      "execution_count": 3,
      "metadata": {
        "colab": {
          "base_uri": "https://localhost:8080/"
        },
        "id": "wkfRXCMzjEhb",
        "outputId": "9f87d32a-45ed-4aa8-b0af-fa11291da528"
      },
      "outputs": [
        {
          "output_type": "stream",
          "name": "stdout",
          "text": [
            "CPU times: user 17.9 s, sys: 152 ms, total: 18 s\n",
            "Wall time: 18.3 s\n"
          ]
        }
      ],
      "source": [
        "%%time\n",
        "rollout = []\n",
        "for i in range(100):\n",
        "  # wiggle sinusoidally\n",
        "  action = jp.ones((env.action_size,)) * jp.sin(i * jp.pi / 15)\n",
        "  state = env.step(state, action)\n",
        "  rollout.append(state)"
      ]
    },
    {
      "cell_type": "markdown",
      "metadata": {
        "id": "vfYBoqYcj7Ks"
      },
      "source": [
        "In order to train policies quickly, we use [JAX](https://github.com/google/jax) to jit compile the `env.step`: "
      ]
    },
    {
      "cell_type": "code",
      "execution_count": 4,
      "metadata": {
        "id": "LVY6_GZb8sNY"
      },
      "outputs": [],
      "source": [
        "# jit compile env.step:\n",
        "state = jax.jit(env.step)(state, jnp.ones((env.action_size,)))"
      ]
    },
    {
      "cell_type": "markdown",
      "metadata": {
        "id": "W0ePyMms8tk7"
      },
      "source": [
        "After `env.step` has been compiled, it runs much faster:"
      ]
    },
    {
      "cell_type": "code",
      "execution_count": 5,
      "metadata": {
        "colab": {
          "base_uri": "https://localhost:8080/"
        },
        "id": "VaNCNhiBldVo",
        "outputId": "3fbd2343-7708-452c-eb22-342bf350fb9b"
      },
      "outputs": [
        {
          "output_type": "stream",
          "name": "stdout",
          "text": [
            "CPU times: user 529 ms, sys: 13.9 ms, total: 543 ms\n",
            "Wall time: 519 ms\n"
          ]
        }
      ],
      "source": [
        "%%time\n",
        "for _ in range(100):\n",
        "  state = jax.jit(env.step)(state, jnp.ones((env.action_size,)))"
      ]
    },
    {
      "cell_type": "markdown",
      "metadata": {
        "id": "5eAUGynBqUc7"
      },
      "source": [
        "# Visualizing Rollouts\n",
        "\n",
        "Brax provides two handy ways to visualize environment rollouts.  The first is an HTML visualizer:"
      ]
    },
    {
      "cell_type": "code",
      "execution_count": null,
      "metadata": {
        "id": "eoq4YTZ2qyVc"
      },
      "outputs": [],
      "source": [
        "HTML(html.render(env.sys, [s.qp for s in rollout]))"
      ]
    },
    {
      "cell_type": "markdown",
      "metadata": {
        "id": "OAXQgtYirDX0"
      },
      "source": [
        "The second is an image visualizer that produces animated GIFs or PNGs:"
      ]
    },
    {
      "cell_type": "code",
      "execution_count": null,
      "metadata": {
        "id": "sz5c_Vg2g0r7"
      },
      "outputs": [],
      "source": [
        "Image(image.render(env.sys, [s.qp for s in rollout], width=320, height=240))"
      ]
    },
    {
      "cell_type": "markdown",
      "metadata": {
        "id": "gTN3YNpKra8L"
      },
      "source": [
        "# OpenAI Gym Wrapper + PyTorch\n",
        "\n",
        "Brax environments can converted to Gym environments, using either [GymWrapper](https://github.com/google/brax/blob/main/brax/envs/wrappers.py) for single environments, or [VectorGymWrapper](https://github.com/google/brax/blob/main/brax/envs/wrappers.py) for batched (parallelized) environments.  Gym-wrapped Brax environments are jit-compiled, and can interoperate with (and share accelerator resources with) other learning frameworks such as PyTorch."
      ]
    },
    {
      "cell_type": "code",
      "execution_count": 8,
      "metadata": {
        "id": "gvA1R3DpsxBs"
      },
      "outputs": [],
      "source": [
        "entry_point = functools.partial(envs.create_gym_env, env_name='ant')\n",
        "if 'brax-ant-v0' not in gym.envs.registry.env_specs:\n",
        "  gym.register('brax-ant-v0', entry_point=entry_point)\n",
        "\n",
        "# create a gym environment that contains 4096 parallel ant environments\n",
        "gym_env = gym.make(\"brax-ant-v0\", batch_size=4096)\n",
        "\n",
        "# wrap it to interoperate with torch data structures\n",
        "gym_env = to_torch.JaxToTorchWrapper(gym_env, device='cuda')\n",
        "\n",
        "# jit compile env.reset\n",
        "obs = gym_env.reset()\n",
        "\n",
        "# jit compile env.step\n",
        "action = torch.rand(gym_env.action_space.shape, device='cuda') * 2 - 1\n",
        "obs, reward, done, info = gym_env.step(action)"
      ]
    },
    {
      "cell_type": "markdown",
      "metadata": {
        "id": "uhXM3FY47_2n"
      },
      "source": [
        "Here, we generate a rollout using our Gym wrapper with PyTorch data:"
      ]
    },
    {
      "cell_type": "code",
      "execution_count": 9,
      "metadata": {
        "colab": {
          "base_uri": "https://localhost:8080/"
        },
        "id": "JR1vEFf263z6",
        "outputId": "7ca52f8a-cc78-4ae1-98f4-af078eb30444"
      },
      "outputs": [
        {
          "output_type": "stream",
          "name": "stdout",
          "text": [
            "time for 409600 steps: 0.67s (611912 steps/sec)\n"
          ]
        }
      ],
      "source": [
        "before = time.time()\n",
        "\n",
        "for _ in range(100):\n",
        "  action = torch.rand(gym_env.action_space.shape, device='cuda') * 2 - 1\n",
        "  obs, rewards, done, info = gym_env.step(action)\n",
        "\n",
        "duration = time.time() - before\n",
        "print(f'time for {409600} steps: {duration:.2f}s ({int(409600 / duration)} steps/sec)')"
      ]
    },
    {
      "cell_type": "markdown",
      "metadata": {
        "id": "fe6Pw3J5-_OH"
      },
      "source": [
        "Ciao! 👋"
      ]
    }
  ],
  "metadata": {
    "accelerator": "GPU",
    "colab": {
      "collapsed_sections": [],
      "name": "Brax Environments.ipynb",
      "provenance": [],
      "include_colab_link": true
    },
    "kernelspec": {
      "display_name": "Python 3",
      "name": "python3"
    },
    "language_info": {
      "name": "python"
    }
  },
  "nbformat": 4,
  "nbformat_minor": 0
}