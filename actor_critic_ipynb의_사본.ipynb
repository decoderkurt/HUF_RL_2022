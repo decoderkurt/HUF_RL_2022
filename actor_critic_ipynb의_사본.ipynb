{
  "cells": [
    {
      "cell_type": "markdown",
      "metadata": {
        "id": "view-in-github",
        "colab_type": "text"
      },
      "source": [
        "<a href=\"https://colab.research.google.com/github/decoderkurt/HUF_RL_2022/blob/main/actor_critic_ipynb%EC%9D%98_%EC%82%AC%EB%B3%B8.ipynb\" target=\"_parent\"><img src=\"https://colab.research.google.com/assets/colab-badge.svg\" alt=\"Open In Colab\"/></a>"
      ]
    },
    {
      "cell_type": "markdown",
      "metadata": {
        "id": "_jQ1tEQCxwRx"
      },
      "source": [
        "##### Copyright 2020 The TensorFlow Authors."
      ]
    },
    {
      "cell_type": "code",
      "execution_count": null,
      "metadata": {
        "id": "V_sgB_5dx1f1"
      },
      "outputs": [],
      "source": [
        "#@title Licensed under the Apache License, Version 2.0 (the \"License\");\n",
        "# you may not use this file except in compliance with the License.\n",
        "# You may obtain a copy of the License at\n",
        "#\n",
        "# https://www.apache.org/licenses/LICENSE-2.0\n",
        "#\n",
        "# Unless required by applicable law or agreed to in writing, software\n",
        "# distributed under the License is distributed on an \"AS IS\" BASIS,\n",
        "# WITHOUT WARRANTIES OR CONDITIONS OF ANY KIND, either express or implied.\n",
        "# See the License for the specific language governing permissions and\n",
        "# limitations under the License."
      ]
    },
    {
      "cell_type": "markdown",
      "metadata": {
        "id": "p62G8M_viUJp"
      },
      "source": [
        "# Playing CartPole with the Actor-Critic Method\n"
      ]
    },
    {
      "cell_type": "markdown",
      "metadata": {
        "id": "-mJ2i6jvZ3sK"
      },
      "source": [
        "<table class=\"tfo-notebook-buttons\" align=\"left\">\n",
        "  <td>\n",
        "    <a target=\"_blank\" href=\"https://www.tensorflow.org/tutorials/reinforcement_learning/actor_critic\">\n",
        "    <img src=\"https://www.tensorflow.org/images/tf_logo_32px.png\" />\n",
        "    View on TensorFlow.org</a>\n",
        "  </td>\n",
        "  <td>\n",
        "    <a target=\"_blank\" href=\"https://colab.research.google.com/github/tensorflow/docs/blob/master/site/en/tutorials/reinforcement_learning/actor_critic.ipynb\">\n",
        "    <img src=\"https://www.tensorflow.org/images/colab_logo_32px.png\" />\n",
        "    Run in Google Colab</a>\n",
        "  </td>\n",
        "  <td>\n",
        "    <a target=\"_blank\" href=\"https://github.com/tensorflow/docs/blob/master/site/en/tutorials/reinforcement_learning/actor_critic.ipynb\">\n",
        "    <img src=\"https://www.tensorflow.org/images/GitHub-Mark-32px.png\" />\n",
        "    View source on GitHub</a>\n",
        "  </td>\n",
        "  <td>\n",
        "    <a href=\"https://storage.googleapis.com/tensorflow_docs/docs/site/en/tutorials/reinforcement_learning/actor_critic.ipynb\"><img src=\"https://www.tensorflow.org/images/download_logo_32px.png\" />Download notebook</a>\n",
        "  </td>\n",
        "</table>"
      ]
    },
    {
      "cell_type": "markdown",
      "metadata": {
        "id": "kFgN7h_wiUJq"
      },
      "source": [
        "This tutorial demonstrates how to implement the [Actor-Critic](https://papers.nips.cc/paper/1786-actor-critic-algorithms.pdf) method using TensorFlow to train an agent on the [Open AI Gym](https://gym.openai.com/) CartPole-V0 environment.\n",
        "The reader is assumed to have some familiarity with [policy gradient methods](https://papers.nips.cc/paper/1713-policy-gradient-methods-for-reinforcement-learning-with-function-approximation.pdf) of reinforcement learning. \n"
      ]
    },
    {
      "cell_type": "markdown",
      "metadata": {
        "id": "_kA10ZKRR0hi"
      },
      "source": [
        "**Actor-Critic methods**\n",
        "\n",
        "Actor-Critic methods are [temporal difference (TD) learning](https://en.wikipedia.org/wiki/Temporal_difference_learning) methods that represent the policy function independent of the value function. \n",
        "\n",
        "A policy function (or policy) returns a probability distribution over actions that the agent can take based on the given state.\n",
        "A value function determines the expected return for an agent starting at a given state and acting according to a particular policy forever after.\n",
        "\n",
        "In the Actor-Critic method, the policy is referred to as the *actor* that proposes a set of possible actions given a state, and the estimated value function is referred to as the *critic*, which evaluates actions taken by the *actor* based on the given policy.\n",
        "\n",
        "In this tutorial, both the *Actor* and *Critic* will be represented using one neural network with two outputs.\n"
      ]
    },
    {
      "cell_type": "markdown",
      "metadata": {
        "id": "rBfiafKSRs2k"
      },
      "source": [
        "**CartPole-v0**\n",
        "\n",
        "In the [CartPole-v0 environment](https://gym.openai.com/envs/CartPole-v0), a pole is attached to a cart moving along a frictionless track. \n",
        "The pole starts upright and the goal of the agent is to prevent it from falling over by applying a force of -1 or +1 to the cart. \n",
        "A reward of +1 is given for every time step the pole remains upright.\n",
        "An episode ends when (1) the pole is more than 15 degrees from vertical or (2) the cart moves more than 2.4 units from the center.\n",
        "\n",
        "<center>\n",
        "  <figure>\n",
        "    <image src=\"https://github.com/tensorflow/docs/blob/master/site/en/tutorials/reinforcement_learning/images/cartpole-v0.gif?raw=1\">\n",
        "    <figcaption>\n",
        "      Trained actor-critic model in Cartpole-v0 environment\n",
        "    </figcaption>\n",
        "  </figure>\n",
        "</center>\n"
      ]
    },
    {
      "cell_type": "markdown",
      "metadata": {
        "id": "XSNVK0AeRoJd"
      },
      "source": [
        "The problem is considered \"solved\" when the average total reward for the episode reaches 195 over 100 consecutive trials."
      ]
    },
    {
      "cell_type": "markdown",
      "metadata": {
        "id": "glLwIctHiUJq"
      },
      "source": [
        "## Setup\n",
        "\n",
        "Import necessary packages and configure global settings.\n"
      ]
    },
    {
      "cell_type": "code",
      "execution_count": null,
      "metadata": {
        "id": "13l6BbxKhCKp",
        "outputId": "9190eda5-0785-405a-ea89-88437a744a88",
        "colab": {
          "base_uri": "https://localhost:8080/"
        }
      },
      "outputs": [
        {
          "output_type": "stream",
          "name": "stdout",
          "text": [
            "Requirement already satisfied: gym in /usr/local/lib/python3.7/dist-packages (0.17.3)\n",
            "Requirement already satisfied: numpy>=1.10.4 in /usr/local/lib/python3.7/dist-packages (from gym) (1.19.5)\n",
            "Requirement already satisfied: scipy in /usr/local/lib/python3.7/dist-packages (from gym) (1.4.1)\n",
            "Requirement already satisfied: pyglet<=1.5.0,>=1.4.0 in /usr/local/lib/python3.7/dist-packages (from gym) (1.5.0)\n",
            "Requirement already satisfied: cloudpickle<1.7.0,>=1.2.0 in /usr/local/lib/python3.7/dist-packages (from gym) (1.3.0)\n",
            "Requirement already satisfied: future in /usr/local/lib/python3.7/dist-packages (from pyglet<=1.5.0,>=1.4.0->gym) (0.16.0)\n",
            "Requirement already satisfied: pyglet in /usr/local/lib/python3.7/dist-packages (1.5.0)\n",
            "Requirement already satisfied: future in /usr/local/lib/python3.7/dist-packages (from pyglet) (0.16.0)\n"
          ]
        }
      ],
      "source": [
        "!pip install gym\n",
        "!pip install pyglet"
      ]
    },
    {
      "cell_type": "code",
      "execution_count": null,
      "metadata": {
        "id": "WBeQhPi2S4m5"
      },
      "outputs": [],
      "source": [
        "%%bash\n",
        "# Install additional packages for visualization\n",
        "sudo apt-get install -y xvfb python-opengl > /dev/null 2>&1\n",
        "pip install pyvirtualdisplay > /dev/null 2>&1\n",
        "pip install git+https://github.com/tensorflow/docs > /dev/null 2>&1"
      ]
    },
    {
      "cell_type": "code",
      "execution_count": null,
      "metadata": {
        "id": "tT4N3qYviUJr"
      },
      "outputs": [],
      "source": [
        "import collections\n",
        "import gym\n",
        "import numpy as np\n",
        "import statistics\n",
        "import tensorflow as tf\n",
        "import tqdm\n",
        "\n",
        "from matplotlib import pyplot as plt\n",
        "from tensorflow.keras import layers\n",
        "from typing import Any, List, Sequence, Tuple\n",
        "\n",
        "\n",
        "# Create the environment\n",
        "env = gym.make(\"CartPole-v0\")\n",
        "\n",
        "# Set seed for experiment reproducibility\n",
        "seed = 42\n",
        "env.seed(seed)\n",
        "tf.random.set_seed(seed)\n",
        "np.random.seed(seed)\n",
        "\n",
        "# Small epsilon value for stabilizing division operations\n",
        "eps = np.finfo(np.float32).eps.item()"
      ]
    },
    {
      "cell_type": "markdown",
      "metadata": {
        "id": "AOUCe2D0iUJu"
      },
      "source": [
        "## Model\n",
        "\n",
        "The *Actor* and *Critic* will be modeled using one neural network that generates the action probabilities and critic value respectively. This tutorial uses model subclassing to define the model. \n",
        "\n",
        "During the forward pass, the model will take in the state as the input and will output both action probabilities and critic value $V$, which models the state-dependent [value function](https://spinningup.openai.com/en/latest/spinningup/rl_intro.html#value-functions). The goal is to train a model that chooses actions based on a policy $\\pi$ that maximizes expected [return](https://spinningup.openai.com/en/latest/spinningup/rl_intro.html#reward-and-return).\n",
        "\n",
        "For Cartpole-v0, there are four values representing the state: cart position, cart-velocity, pole angle and pole velocity respectively. The agent can take two actions to push the cart left (0) and right (1) respectively.\n",
        "\n",
        "Refer to [OpenAI Gym's CartPole-v0 wiki page](http://www.derongliu.org/adp/adp-cdrom/Barto1983.pdf) for more information.\n"
      ]
    },
    {
      "cell_type": "code",
      "execution_count": null,
      "metadata": {
        "id": "aXKbbMC-kmuv"
      },
      "outputs": [],
      "source": [
        "class ActorCritic(tf.keras.Model):\n",
        "  \"\"\"Combined actor-critic network.\"\"\"\n",
        "\n",
        "  def __init__(\n",
        "      self, \n",
        "      num_actions: int, \n",
        "      num_hidden_units: int):\n",
        "    \"\"\"Initialize.\"\"\"\n",
        "    super().__init__()\n",
        "\n",
        "    self.common = layers.Dense(num_hidden_units, activation=\"relu\")\n",
        "    self.actor = layers.Dense(num_actions)\n",
        "    self.critic = layers.Dense(1)\n",
        "\n",
        "  def call(self, inputs: tf.Tensor) -> Tuple[tf.Tensor, tf.Tensor]:\n",
        "    x = self.common(inputs)\n",
        "    return self.actor(x), self.critic(x)"
      ]
    },
    {
      "cell_type": "code",
      "execution_count": null,
      "metadata": {
        "id": "nWyxJgjLn68c"
      },
      "outputs": [],
      "source": [
        "num_actions = env.action_space.n  # 2\n",
        "num_hidden_units = 128\n",
        "\n",
        "model = ActorCritic(num_actions, num_hidden_units)"
      ]
    },
    {
      "cell_type": "markdown",
      "metadata": {
        "id": "hk92njFziUJw"
      },
      "source": [
        "## Training\n",
        "\n",
        "To train the agent, you will follow these steps:\n",
        "\n",
        "1. Run the agent on the environment to collect training data per episode.\n",
        "2. Compute expected return at each time step.\n",
        "3. Compute the loss for the combined actor-critic model.\n",
        "4. Compute gradients and update network parameters.\n",
        "5. Repeat 1-4 until either success criterion or max episodes has been reached.\n"
      ]
    },
    {
      "cell_type": "markdown",
      "metadata": {
        "id": "R2nde2XDs8Gh"
      },
      "source": [
        "### 1. Collecting training data\n",
        "\n",
        "As in supervised learning, in order to train the actor-critic model, you need\n",
        "to have training data. However, in order to collect such data, the model would\n",
        "need to be \"run\" in the environment.\n",
        "\n",
        "Training data is collected for each episode. Then at each time step, the model's forward pass will be run on the environment's state in order to generate action probabilities and the critic value based on the current policy parameterized by the model's weights.\n",
        "\n",
        "The next action will be sampled from the action probabilities generated by the model, which would then be applied to the environment, causing the next state and reward to be generated.\n",
        "\n",
        "This process is implemented in the `run_episode` function, which uses TensorFlow operations so that it can later be compiled into a TensorFlow graph for faster training. Note that `tf.TensorArray`s were used to support Tensor iteration on variable length arrays."
      ]
    },
    {
      "cell_type": "code",
      "execution_count": null,
      "metadata": {
        "id": "5URrbGlDSAGx"
      },
      "outputs": [],
      "source": [
        "# Wrap OpenAI Gym's `env.step` call as an operation in a TensorFlow function.\n",
        "# This would allow it to be included in a callable TensorFlow graph.\n",
        "\n",
        "def env_step(action: np.ndarray) -> Tuple[np.ndarray, np.ndarray, np.ndarray]:\n",
        "  \"\"\"Returns state, reward and done flag given an action.\"\"\"\n",
        "\n",
        "  state, reward, done, _ = env.step(action)\n",
        "  return (state.astype(np.float32), \n",
        "          np.array(reward, np.int32), \n",
        "          np.array(done, np.int32))\n",
        "\n",
        "\n",
        "def tf_env_step(action: tf.Tensor) -> List[tf.Tensor]:\n",
        "  return tf.numpy_function(env_step, [action], \n",
        "                           [tf.float32, tf.int32, tf.int32])"
      ]
    },
    {
      "cell_type": "code",
      "execution_count": null,
      "metadata": {
        "id": "a4qVRV063Cl9"
      },
      "outputs": [],
      "source": [
        "def run_episode(\n",
        "    initial_state: tf.Tensor,  \n",
        "    model: tf.keras.Model, \n",
        "    max_steps: int) -> Tuple[tf.Tensor, tf.Tensor, tf.Tensor]:\n",
        "  \"\"\"Runs a single episode to collect training data.\"\"\"\n",
        "\n",
        "  action_probs = tf.TensorArray(dtype=tf.float32, size=0, dynamic_size=True)\n",
        "  values = tf.TensorArray(dtype=tf.float32, size=0, dynamic_size=True)\n",
        "  rewards = tf.TensorArray(dtype=tf.int32, size=0, dynamic_size=True)\n",
        "\n",
        "  initial_state_shape = initial_state.shape\n",
        "  state = initial_state\n",
        "\n",
        "  for t in tf.range(max_steps):\n",
        "    # Convert state into a batched tensor (batch size = 1)\n",
        "    state = tf.expand_dims(state, 0)\n",
        "  \n",
        "    # Run the model and to get action probabilities and critic value\n",
        "    action_logits_t, value = model(state)\n",
        "  \n",
        "    # Sample next action from the action probability distribution\n",
        "    action = tf.random.categorical(action_logits_t, 1)[0, 0]\n",
        "    action_probs_t = tf.nn.softmax(action_logits_t)\n",
        "\n",
        "    # Store critic values\n",
        "    values = values.write(t, tf.squeeze(value))\n",
        "\n",
        "    # Store log probability of the action chosen\n",
        "    action_probs = action_probs.write(t, action_probs_t[0, action])\n",
        "  \n",
        "    # Apply action to the environment to get next state and reward\n",
        "    state, reward, done = tf_env_step(action)\n",
        "    state.set_shape(initial_state_shape)\n",
        "  \n",
        "    # Store reward\n",
        "    rewards = rewards.write(t, reward)\n",
        "\n",
        "    if tf.cast(done, tf.bool):\n",
        "      break\n",
        "\n",
        "  action_probs = action_probs.stack()\n",
        "  values = values.stack()\n",
        "  rewards = rewards.stack()\n",
        "  \n",
        "  return action_probs, values, rewards"
      ]
    },
    {
      "cell_type": "markdown",
      "metadata": {
        "id": "lBnIHdz22dIx"
      },
      "source": [
        "### 2. Computing expected returns\n",
        "\n",
        "The sequence of rewards for each timestep $t$, $\\{r_{t}\\}^{T}_{t=1}$ collected during one episode is converted into a sequence of expected returns $\\{G_{t}\\}^{T}_{t=1}$ in which the sum of rewards is taken from the current timestep $t$ to $T$ and each reward is multiplied with an exponentially decaying discount factor $\\gamma$:\n",
        "\n",
        "$$G_{t} = \\sum^{T}_{t'=t} \\gamma^{t'-t}r_{t'}$$\n",
        "\n",
        "Since $\\gamma\\in(0,1)$, rewards further out from the current timestep are given less weight.\n",
        "\n",
        "Intuitively, expected return simply implies that rewards now are better than rewards later. In a mathematical sense, it is to ensure that the sum of the rewards converges.\n",
        "\n",
        "To stabilize training, the resulting sequence of returns is also standardized (i.e. to have zero mean and unit standard deviation).\n"
      ]
    },
    {
      "cell_type": "code",
      "execution_count": null,
      "metadata": {
        "id": "jpEwFyl315dl"
      },
      "outputs": [],
      "source": [
        "def get_expected_return(\n",
        "    rewards: tf.Tensor, \n",
        "    gamma: float, \n",
        "    standardize: bool = True) -> tf.Tensor:\n",
        "  \"\"\"Compute expected returns per timestep.\"\"\"\n",
        "\n",
        "  n = tf.shape(rewards)[0]\n",
        "  returns = tf.TensorArray(dtype=tf.float32, size=n)\n",
        "\n",
        "  # Start from the end of `rewards` and accumulate reward sums\n",
        "  # into the `returns` array\n",
        "  rewards = tf.cast(rewards[::-1], dtype=tf.float32)\n",
        "  discounted_sum = tf.constant(0.0)\n",
        "  discounted_sum_shape = discounted_sum.shape\n",
        "  for i in tf.range(n):\n",
        "    reward = rewards[i]\n",
        "    discounted_sum = reward + gamma * discounted_sum\n",
        "    discounted_sum.set_shape(discounted_sum_shape)\n",
        "    returns = returns.write(i, discounted_sum)\n",
        "  returns = returns.stack()[::-1]\n",
        "\n",
        "  if standardize:\n",
        "    returns = ((returns - tf.math.reduce_mean(returns)) / \n",
        "               (tf.math.reduce_std(returns) + eps))\n",
        "\n",
        "  return returns"
      ]
    },
    {
      "cell_type": "markdown",
      "metadata": {
        "id": "1hrPLrgGxlvb"
      },
      "source": [
        "### 3. The actor-critic loss\n",
        "\n",
        "Since a hybrid actor-critic model is used, the chosen loss function is a combination of actor and critic losses for training, as shown below:\n",
        "\n",
        "$$L = L_{actor} + L_{critic}$$\n",
        "\n",
        "#### Actor loss\n",
        "\n",
        "The actor loss is based on [policy gradients with the critic as a state dependent baseline](https://www.youtube.com/watch?v=EKqxumCuAAY&t=62m23s) and computed with single-sample (per-episode) estimates.\n",
        "\n",
        "$$L_{actor} = -\\sum^{T}_{t=1} \\log\\pi_{\\theta}(a_{t} | s_{t})[G(s_{t}, a_{t})  - V^{\\pi}_{\\theta}(s_{t})]$$\n",
        "\n",
        "where:\n",
        "- $T$: the number of timesteps per episode, which can vary per episode\n",
        "- $s_{t}$: the state at timestep $t$\n",
        "- $a_{t}$: chosen action at timestep $t$ given state $s$\n",
        "- $\\pi_{\\theta}$: is the policy (actor) parameterized by $\\theta$\n",
        "- $V^{\\pi}_{\\theta}$: is the value function (critic) also parameterized by $\\theta$\n",
        "- $G = G_{t}$: the expected return for a given state, action pair at timestep $t$\n",
        "\n",
        "A negative term is added to the sum since the idea is to maximize the probabilities of actions yielding higher rewards by minimizing the combined loss.\n",
        "\n",
        "<br>\n",
        "\n",
        "##### Advantage\n",
        "\n",
        "The $G - V$ term in our $L_{actor}$ formulation is called the [advantage](https://spinningup.openai.com/en/latest/spinningup/rl_intro.html#advantage-functions), which indicates how much better an action is given a particular state over a random action selected according to the policy $\\pi$ for that state.\n",
        "\n",
        "While it's possible to exclude a baseline, this may result in high variance during training. And the nice thing about choosing the critic $V$ as a baseline is that it trained to be as close as possible to $G$, leading to a lower variance.\n",
        "\n",
        "In addition, without the critic, the algorithm would try to increase probabilities for actions taken on a particular state based on expected return, which may not make much of a difference if the relative probabilities between actions remain the same.\n",
        "\n",
        "For instance, suppose that two actions for a given state would yield the same expected return. Without the critic, the algorithm would try to raise the probability of these actions based on the objective $J$. With the critic, it may turn out that there's no advantage ($G - V = 0$) and thus no benefit gained in increasing the actions' probabilities and the algorithm would set the gradients to zero.\n",
        "\n",
        "<br>\n",
        "\n",
        "#### Critic loss\n",
        "\n",
        "Training $V$ to be as close possible to $G$ can be set up as a regression problem with the following loss function:\n",
        "\n",
        "$$L_{critic} = L_{\\delta}(G, V^{\\pi}_{\\theta})$$\n",
        "\n",
        "where $L_{\\delta}$ is the [Huber loss](https://en.wikipedia.org/wiki/Huber_loss), which is less sensitive to outliers in data than squared-error loss.\n"
      ]
    },
    {
      "cell_type": "code",
      "execution_count": null,
      "metadata": {
        "id": "9EXwbEez6n9m"
      },
      "outputs": [],
      "source": [
        "huber_loss = tf.keras.losses.Huber(reduction=tf.keras.losses.Reduction.SUM)\n",
        "\n",
        "def compute_loss(\n",
        "    action_probs: tf.Tensor,  \n",
        "    values: tf.Tensor,  \n",
        "    returns: tf.Tensor) -> tf.Tensor:\n",
        "  \"\"\"Computes the combined actor-critic loss.\"\"\"\n",
        "\n",
        "  advantage = returns - values\n",
        "\n",
        "  action_log_probs = tf.math.log(action_probs)\n",
        "  actor_loss = -tf.math.reduce_sum(action_log_probs * advantage)\n",
        "\n",
        "  critic_loss = huber_loss(values, returns)\n",
        "\n",
        "  return actor_loss + critic_loss"
      ]
    },
    {
      "cell_type": "markdown",
      "metadata": {
        "id": "HSYkQOmRfV75"
      },
      "source": [
        "### 4. Defining the training step to update parameters\n",
        "\n",
        "All of the steps above are combined into a training step that is run every episode. All steps leading up to the loss function are executed with the `tf.GradientTape` context to enable automatic differentiation.\n",
        "\n",
        "This tutorial uses the Adam optimizer to apply the gradients to the model parameters.\n",
        "\n",
        "The sum of the undiscounted rewards, `episode_reward`, is also computed in this step. This value will be used later on to evaluate if the success criterion is met.\n",
        "\n",
        "The `tf.function` context is applied to the `train_step` function so that it can be compiled into a callable TensorFlow graph, which can lead to 10x speedup in training.\n"
      ]
    },
    {
      "cell_type": "code",
      "execution_count": null,
      "metadata": {
        "id": "QoccrkF3IFCg"
      },
      "outputs": [],
      "source": [
        "optimizer = tf.keras.optimizers.Adam(learning_rate=0.01)\n",
        "\n",
        "\n",
        "@tf.function\n",
        "def train_step(\n",
        "    initial_state: tf.Tensor, \n",
        "    model: tf.keras.Model, \n",
        "    optimizer: tf.keras.optimizers.Optimizer, \n",
        "    gamma: float, \n",
        "    max_steps_per_episode: int) -> tf.Tensor:\n",
        "  \"\"\"Runs a model training step.\"\"\"\n",
        "\n",
        "  with tf.GradientTape() as tape:\n",
        "\n",
        "    # Run the model for one episode to collect training data\n",
        "    action_probs, values, rewards = run_episode(\n",
        "        initial_state, model, max_steps_per_episode) \n",
        "\n",
        "    # Calculate expected returns\n",
        "    returns = get_expected_return(rewards, gamma)\n",
        "\n",
        "    # Convert training data to appropriate TF tensor shapes\n",
        "    action_probs, values, returns = [\n",
        "        tf.expand_dims(x, 1) for x in [action_probs, values, returns]] \n",
        "\n",
        "    # Calculating loss values to update our network\n",
        "    loss = compute_loss(action_probs, values, returns)\n",
        "\n",
        "  # Compute the gradients from the loss\n",
        "  grads = tape.gradient(loss, model.trainable_variables)\n",
        "\n",
        "  # Apply the gradients to the model's parameters\n",
        "  optimizer.apply_gradients(zip(grads, model.trainable_variables))\n",
        "\n",
        "  episode_reward = tf.math.reduce_sum(rewards)\n",
        "\n",
        "  return episode_reward"
      ]
    },
    {
      "cell_type": "markdown",
      "metadata": {
        "id": "HFvZiDoAflGK"
      },
      "source": [
        "### 5. Run the training loop\n",
        "\n",
        "Training is executed by running the training step until either the success criterion or maximum number of episodes is reached.  \n",
        "\n",
        "A running record of episode rewards is kept in a queue. Once 100 trials are reached, the oldest reward is removed at the left (tail) end of the queue and the newest one is added at the head (right). A running sum of the rewards is also maintained for computational efficiency. \n",
        "\n",
        "Depending on your runtime, training can finish in less than a minute."
      ]
    },
    {
      "cell_type": "code",
      "execution_count": null,
      "metadata": {
        "id": "kbmBxnzLiUJx",
        "outputId": "5e286273-33b2-4688-8b0b-60b902ff617a",
        "colab": {
          "base_uri": "https://localhost:8080/"
        }
      },
      "outputs": [
        {
          "output_type": "stream",
          "name": "stderr",
          "text": [
            "Episode 0: 100%|██████████| 1/1 [00:00<00:00,  1.79it/s, episode_reward=200, running_reward=200]"
          ]
        },
        {
          "output_type": "stream",
          "name": "stdout",
          "text": [
            "\n",
            "Solved at episode 0: average reward: 200.00!\n",
            "CPU times: user 805 ms, sys: 108 ms, total: 913 ms\n",
            "Wall time: 567 ms\n"
          ]
        },
        {
          "output_type": "stream",
          "name": "stderr",
          "text": [
            "\n"
          ]
        }
      ],
      "source": [
        "%%time\n",
        "\n",
        "min_episodes_criterion = 100\n",
        "max_episodes = 1\n",
        "max_steps_per_episode = 1000\n",
        "\n",
        "# Cartpole-v0 is considered solved if average reward is >= 195 over 100 \n",
        "# consecutive trials\n",
        "reward_threshold = 195\n",
        "running_reward = 0\n",
        "\n",
        "# Discount factor for future rewards\n",
        "gamma = 0.99\n",
        "\n",
        "# Keep last episodes reward\n",
        "episodes_reward: collections.deque = collections.deque(maxlen=min_episodes_criterion)\n",
        "\n",
        "with tqdm.trange(max_episodes) as t:\n",
        "  for i in t:\n",
        "    initial_state = tf.constant(env.reset(), dtype=tf.float32)\n",
        "    episode_reward = int(train_step(\n",
        "        initial_state, model, optimizer, gamma, max_steps_per_episode))\n",
        "    \n",
        "    episodes_reward.append(episode_reward)\n",
        "    running_reward = statistics.mean(episodes_reward)\n",
        "  \n",
        "    t.set_description(f'Episode {i}')\n",
        "    t.set_postfix(\n",
        "        episode_reward=episode_reward, running_reward=running_reward)\n",
        "  \n",
        "    # Show average episode reward every 10 episodes\n",
        "    if i % 10 == 0:\n",
        "      pass # print(f'Episode {i}: average reward: {avg_reward}')\n",
        "  \n",
        "    if running_reward > reward_threshold and i >= min_episodes_criterion:  \n",
        "        break\n",
        "\n",
        "print(f'\\nSolved at episode {i}: average reward: {running_reward:.2f}!')"
      ]
    },
    {
      "cell_type": "markdown",
      "metadata": {
        "id": "ru8BEwS1EmAv"
      },
      "source": [
        "## Visualization\n",
        "\n",
        "After training, it would be good to visualize how the model performs in the environment. You can run the cells below to generate a GIF animation of one episode run of the model. Note that additional packages need to be installed for OpenAI Gym to render the environment's images correctly in Colab."
      ]
    },
    {
      "cell_type": "code",
      "execution_count": null,
      "metadata": {
        "id": "qbIMMkfmRHyC"
      },
      "outputs": [],
      "source": [
        "# Render an episode and save as a GIF file\n",
        "\n",
        "from IPython import display as ipythondisplay\n",
        "from PIL import Image\n",
        "from pyvirtualdisplay import Display\n",
        "\n",
        "\n",
        "display = Display(visible=0, size=(400, 300))\n",
        "display.start()\n",
        "\n",
        "\n",
        "def render_episode(env: gym.Env, model: tf.keras.Model, max_steps: int): \n",
        "  screen = env.render(mode='rgb_array')\n",
        "  im = Image.fromarray(screen)\n",
        "\n",
        "  images = [im]\n",
        "  \n",
        "  state = tf.constant(env.reset(), dtype=tf.float32)\n",
        "  for i in range(1, max_steps + 1):\n",
        "    state = tf.expand_dims(state, 0)\n",
        "    action_probs, _ = model(state)\n",
        "    action = np.argmax(np.squeeze(action_probs))\n",
        "\n",
        "    state, _, done, _ = env.step(action)\n",
        "    state = tf.constant(state, dtype=tf.float32)\n",
        "\n",
        "    # Render screen every 10 steps\n",
        "    if i % 10 == 0:\n",
        "      screen = env.render(mode='rgb_array')\n",
        "      images.append(Image.fromarray(screen))\n",
        "  \n",
        "    if done:\n",
        "      break\n",
        "  \n",
        "  return images\n",
        "\n",
        "\n",
        "# Save GIF image\n",
        "images = render_episode(env, model, max_steps_per_episode)\n",
        "image_file = 'cartpole-v0.gif'\n",
        "# loop=0: loop forever, duration=1: play each frame for 1ms\n",
        "images[0].save(\n",
        "    image_file, save_all=True, append_images=images[1:], loop=0, duration=1)"
      ]
    },
    {
      "cell_type": "code",
      "execution_count": null,
      "metadata": {
        "id": "TLd720SejKmf",
        "outputId": "4c208f3a-e59f-4a39-9ce3-bc8b97c6199a",
        "colab": {
          "base_uri": "https://localhost:8080/",
          "height": 420
        }
      },
      "outputs": [
        {
          "output_type": "execute_result",
          "data": {
            "text/html": [
              "<img src=\"data:image/gif;base64,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\"/>"
            ],
            "text/plain": [
              "<IPython.core.display.HTML object>"
            ]
          },
          "metadata": {},
          "execution_count": 18
        }
      ],
      "source": [
        "import tensorflow_docs.vis.embed as embed\n",
        "embed.embed_file(image_file)"
      ]
    },
    {
      "cell_type": "markdown",
      "metadata": {
        "id": "lnq9Hzo1Po6X"
      },
      "source": [
        "## Next steps\n",
        "\n",
        "This tutorial demonstrated how to implement the actor-critic method using Tensorflow.\n",
        "\n",
        "As a next step, you could try training a model on a different environment in OpenAI Gym. \n",
        "\n",
        "For additional information regarding actor-critic methods and the Cartpole-v0 problem, you may refer to the following resources:\n",
        "\n",
        "- [Actor Critic Method](https://hal.inria.fr/hal-00840470/document)\n",
        "- [Actor Critic Lecture (CAL)](https://www.youtube.com/watch?v=EKqxumCuAAY&list=PLkFD6_40KJIwhWJpGazJ9VSj9CFMkb79A&index=7&t=0s)\n",
        "- [Cartpole learning control problem \\[Barto, et al. 1983\\]](http://www.derongliu.org/adp/adp-cdrom/Barto1983.pdf) \n",
        "\n",
        "For more reinforcement learning examples in TensorFlow, you can check the following resources:\n",
        "- [Reinforcement learning code examples (keras.io)](https://keras.io/examples/rl/)\n",
        "- [TF-Agents reinforcement learning library](https://www.tensorflow.org/agents)\n"
      ]
    }
  ],
  "metadata": {
    "colab": {
      "collapsed_sections": [
        "_jQ1tEQCxwRx"
      ],
      "name": "actor_critic.ipynb의 사본",
      "toc_visible": true,
      "provenance": [],
      "include_colab_link": true
    },
    "kernelspec": {
      "display_name": "Python 3",
      "name": "python3"
    },
    "accelerator": "GPU"
  },
  "nbformat": 4,
  "nbformat_minor": 0
}