{
  "nbformat": 4,
  "nbformat_minor": 0,
  "metadata": {
    "colab": {
      "name": "GymRendering.ipynb",
      "provenance": [],
      "collapsed_sections": [],
      "include_colab_link": true
    },
    "kernelspec": {
      "name": "python3",
      "display_name": "Python 3"
    },
    "accelerator": "GPU"
  },
  "cells": [
    {
      "cell_type": "markdown",
      "metadata": {
        "id": "view-in-github",
        "colab_type": "text"
      },
      "source": [
        "<a href=\"https://colab.research.google.com/github/decoderkurt/HUF_RL_2022/blob/main/22/sb3_ppo.ipynb\" target=\"_parent\"><img src=\"https://colab.research.google.com/assets/colab-badge.svg\" alt=\"Open In Colab\"/></a>"
      ]
    },
    {
      "metadata": {
        "id": "1XDvssQd64Pf"
      },
      "cell_type": "code",
      "source": [
        "!apt-get install -y xvfb python-opengl > /dev/null 2>&1"
      ],
      "execution_count": 14,
      "outputs": []
    },
    {
      "metadata": {
        "id": "F5esgX013vPe"
      },
      "cell_type": "code",
      "source": [
        "!pip install gym pyvirtualdisplay > /dev/null 2>&1"
      ],
      "execution_count": 15,
      "outputs": []
    },
    {
      "metadata": {
        "id": "Qbi2xaFo31Sj"
      },
      "cell_type": "code",
      "source": [
        "import gym\n",
        "import numpy as np\n",
        "import matplotlib.pyplot as plt\n",
        "from IPython import display as ipythondisplay"
      ],
      "execution_count": 1,
      "outputs": []
    },
    {
      "metadata": {
        "id": "FGqXqJxoAsHG",
        "colab": {
          "base_uri": "https://localhost:8080/"
        },
        "outputId": "5564ccd0-786d-42db-a86c-91675021d1fe"
      },
      "cell_type": "code",
      "source": [
        "from pyvirtualdisplay import Display\n",
        "display = Display(visible=0, size=(400, 300))\n",
        "display.start()"
      ],
      "execution_count": 2,
      "outputs": [
        {
          "output_type": "execute_result",
          "data": {
            "text/plain": [
              "<pyvirtualdisplay.display.Display at 0x7f3d2883c410>"
            ]
          },
          "metadata": {},
          "execution_count": 2
        }
      ]
    },
    {
      "cell_type": "code",
      "source": [
        "!apt-get install -y \\\n",
        "    libgl1-mesa-dev \\\n",
        "    libgl1-mesa-glx \\\n",
        "    libglew-dev \\\n",
        "    libosmesa6-dev \\\n",
        "    software-properties-common\n",
        "\n",
        "!apt-get install -y patchelf"
      ],
      "metadata": {
        "id": "TijUWL3GTFq7",
        "outputId": "ef4a0444-f301-4160-9604-aecfc449f0f2",
        "colab": {
          "base_uri": "https://localhost:8080/"
        }
      },
      "execution_count": 3,
      "outputs": [
        {
          "output_type": "stream",
          "name": "stdout",
          "text": [
            "Reading package lists... Done\n",
            "Building dependency tree       \n",
            "Reading state information... Done\n",
            "libglew-dev is already the newest version (2.0.0-5).\n",
            "libgl1-mesa-dev is already the newest version (20.0.8-0ubuntu1~18.04.1).\n",
            "libgl1-mesa-glx is already the newest version (20.0.8-0ubuntu1~18.04.1).\n",
            "libosmesa6-dev is already the newest version (20.0.8-0ubuntu1~18.04.1).\n",
            "software-properties-common is already the newest version (0.96.24.32.18).\n",
            "0 upgraded, 0 newly installed, 0 to remove and 37 not upgraded.\n",
            "Reading package lists... Done\n",
            "Building dependency tree       \n",
            "Reading state information... Done\n",
            "patchelf is already the newest version (0.9-1).\n",
            "0 upgraded, 0 newly installed, 0 to remove and 37 not upgraded.\n"
          ]
        }
      ]
    },
    {
      "cell_type": "code",
      "source": [
        "!pip install free-mujoco-py"
      ],
      "metadata": {
        "colab": {
          "base_uri": "https://localhost:8080/"
        },
        "id": "fcwDh4ZyfTFo",
        "outputId": "90273c77-3c48-4f37-d16b-e93564c4af38"
      },
      "execution_count": 4,
      "outputs": [
        {
          "output_type": "stream",
          "name": "stdout",
          "text": [
            "Requirement already satisfied: free-mujoco-py in /usr/local/lib/python3.7/dist-packages (2.1.6)\n",
            "Requirement already satisfied: numpy<2.0.0,>=1.21.3 in /usr/local/lib/python3.7/dist-packages (from free-mujoco-py) (1.21.5)\n",
            "Requirement already satisfied: glfw<2.0.0,>=1.4.0 in /usr/local/lib/python3.7/dist-packages (from free-mujoco-py) (1.12.0)\n",
            "Requirement already satisfied: Cython<0.30.0,>=0.29.24 in /usr/local/lib/python3.7/dist-packages (from free-mujoco-py) (0.29.26)\n",
            "Requirement already satisfied: cffi<2.0.0,>=1.15.0 in /usr/local/lib/python3.7/dist-packages (from free-mujoco-py) (1.15.0)\n",
            "Requirement already satisfied: imageio<3.0.0,>=2.9.0 in /usr/local/lib/python3.7/dist-packages (from free-mujoco-py) (2.14.0)\n",
            "Requirement already satisfied: fasteners==0.15 in /usr/local/lib/python3.7/dist-packages (from free-mujoco-py) (0.15)\n",
            "Requirement already satisfied: monotonic>=0.1 in /usr/local/lib/python3.7/dist-packages (from fasteners==0.15->free-mujoco-py) (1.6)\n",
            "Requirement already satisfied: six in /usr/local/lib/python3.7/dist-packages (from fasteners==0.15->free-mujoco-py) (1.15.0)\n",
            "Requirement already satisfied: pycparser in /usr/local/lib/python3.7/dist-packages (from cffi<2.0.0,>=1.15.0->free-mujoco-py) (2.21)\n",
            "Requirement already satisfied: pillow>=8.3.2 in /usr/local/lib/python3.7/dist-packages (from imageio<3.0.0,>=2.9.0->free-mujoco-py) (9.0.0)\n"
          ]
        }
      ]
    },
    {
      "cell_type": "code",
      "source": [
        "import gym\n",
        "from gym.wrappers import Monitor\n",
        "import glob\n",
        "import io\n",
        "import base64\n",
        "from IPython.display import HTML\n",
        "from pyvirtualdisplay import Display\n",
        "from IPython import display as ipythondisplay\n",
        "\n",
        "display = Display(visible=0, size=(1400, 900))\n",
        "display.start()\n",
        "\n",
        "\"\"\"\n",
        "Utility functions to enable video recording of gym environment \n",
        "and displaying it.\n",
        "To enable video, just do \"env = wrap_env(env)\"\"\n",
        "\"\"\"\n",
        "\n",
        "def show_video():\n",
        "  mp4list = glob.glob('video/*.mp4')\n",
        "  if len(mp4list) > 0:\n",
        "    mp4 = mp4list[0]\n",
        "    video = io.open(mp4, 'r+b').read()\n",
        "    encoded = base64.b64encode(video)\n",
        "    ipythondisplay.display(HTML(data='''<video alt=\"test\" autoplay \n",
        "                loop controls style=\"height: 400px;\">\n",
        "                <source src=\"data:video/mp4;base64,{0}\" type=\"video/mp4\" />\n",
        "             </video>'''.format(encoded.decode('ascii'))))\n",
        "  else: \n",
        "    print(\"Could not find video\")\n",
        "    \n",
        "\n",
        "def wrap_env(env):\n",
        "  env = Monitor(env, './video', force=True)\n",
        "  return env"
      ],
      "metadata": {
        "id": "fwl16Gd9vM8F"
      },
      "execution_count": 5,
      "outputs": []
    },
    {
      "cell_type": "code",
      "source": [
        "env = wrap_env(gym.make(\"Walker2d-v2\"))\n",
        "env.reset()\n",
        "prev_screen = env.render(mode='rgb_array')\n",
        "plt.imshow(prev_screen)\n",
        "\n",
        "for i in range(50):\n",
        "  action = env.action_space.sample()\n",
        "  obs, reward, done, info = env.step(action)\n",
        "  screen = env.render(mode='rgb_array')\n",
        "  \n",
        "  plt.imshow(screen)\n",
        "  ipythondisplay.clear_output(wait=True)\n",
        "  ipythondisplay.display(plt.gcf())\n",
        "\n",
        "  if done:\n",
        "    break\n",
        "    \n",
        "ipythondisplay.clear_output(wait=True)\n",
        "env.close()\n"
      ],
      "metadata": {
        "id": "bUIoPHjZreqa",
        "outputId": "e5deea68-2dce-4690-b236-93125ebba396",
        "colab": {
          "base_uri": "https://localhost:8080/",
          "height": 269
        }
      },
      "execution_count": 5,
      "outputs": [
        {
          "output_type": "display_data",
          "data": {
            "image/png": "[encoded data removed]",
            "text/plain": [
              "<Figure size 432x288 with 1 Axes>"
            ]
          },
          "metadata": {
            "needs_background": "light"
          }
        }
      ]
    },
    {
      "cell_type": "code",
      "metadata": {
        "id": "gWskDE2c9WoN",
        "outputId": "6f53c800-0bc5-46dd-bda5-4e031cb86c6b",
        "colab": {
          "base_uri": "https://localhost:8080/"
        }
      },
      "source": [
        "!apt install swig cmake\n",
        "!pip install stable-baselines3[extra] box2d box2d-kengz"
      ],
      "execution_count": 2,
      "outputs": [
        {
          "output_type": "stream",
          "name": "stdout",
          "text": [
            "Reading package lists... Done\n",
            "Building dependency tree       \n",
            "Reading state information... Done\n",
            "cmake is already the newest version (3.10.2-1ubuntu2.18.04.2).\n",
            "Suggested packages:\n",
            "  swig-doc swig-examples swig3.0-examples swig3.0-doc\n",
            "The following NEW packages will be installed:\n",
            "  swig swig3.0\n",
            "0 upgraded, 2 newly installed, 0 to remove and 37 not upgraded.\n",
            "Need to get 1,100 kB of archives.\n",
            "After this operation, 5,822 kB of additional disk space will be used.\n",
            "Get:1 http://archive.ubuntu.com/ubuntu bionic/universe amd64 swig3.0 amd64 3.0.12-1 [1,094 kB]\n",
            "Get:2 http://archive.ubuntu.com/ubuntu bionic/universe amd64 swig amd64 3.0.12-1 [6,460 B]\n",
            "Fetched 1,100 kB in 1s (1,270 kB/s)\n",
            "Selecting previously unselected package swig3.0.\n",
            "(Reading database ... 155229 files and directories currently installed.)\n",
            "Preparing to unpack .../swig3.0_3.0.12-1_amd64.deb ...\n",
            "Unpacking swig3.0 (3.0.12-1) ...\n",
            "Selecting previously unselected package swig.\n",
            "Preparing to unpack .../swig_3.0.12-1_amd64.deb ...\n",
            "Unpacking swig (3.0.12-1) ...\n",
            "Setting up swig3.0 (3.0.12-1) ...\n",
            "Setting up swig (3.0.12-1) ...\n",
            "Processing triggers for man-db (2.8.3-2ubuntu0.1) ...\n",
            "Requirement already satisfied: stable-baselines3[extra] in /usr/local/lib/python3.7/dist-packages (1.4.0)\n",
            "Collecting box2d\n",
            "  Using cached Box2D-2.3.10-cp37-cp37m-manylinux1_x86_64.whl (1.3 MB)\n",
            "Collecting box2d-kengz\n",
            "  Using cached Box2D-kengz-2.3.3.tar.gz (425 kB)\n",
            "Requirement already satisfied: cloudpickle in /usr/local/lib/python3.7/dist-packages (from stable-baselines3[extra]) (1.3.0)\n",
            "Requirement already satisfied: matplotlib in /usr/local/lib/python3.7/dist-packages (from stable-baselines3[extra]) (3.2.2)\n",
            "Requirement already satisfied: pandas in /usr/local/lib/python3.7/dist-packages (from stable-baselines3[extra]) (1.1.5)\n",
            "Requirement already satisfied: numpy in /usr/local/lib/python3.7/dist-packages (from stable-baselines3[extra]) (1.19.5)\n",
            "Requirement already satisfied: torch>=1.8.1 in /usr/local/lib/python3.7/dist-packages (from stable-baselines3[extra]) (1.10.0+cu111)\n",
            "Requirement already satisfied: gym<0.20,>=0.17 in /usr/local/lib/python3.7/dist-packages (from stable-baselines3[extra]) (0.17.3)\n",
            "Requirement already satisfied: psutil in /usr/local/lib/python3.7/dist-packages (from stable-baselines3[extra]) (5.4.8)\n",
            "Requirement already satisfied: pillow in /usr/local/lib/python3.7/dist-packages (from stable-baselines3[extra]) (7.1.2)\n",
            "Requirement already satisfied: tensorboard>=2.2.0 in /usr/local/lib/python3.7/dist-packages (from stable-baselines3[extra]) (2.7.0)\n",
            "Requirement already satisfied: opencv-python in /usr/local/lib/python3.7/dist-packages (from stable-baselines3[extra]) (4.1.2.30)\n",
            "Requirement already satisfied: atari-py==0.2.6 in /usr/local/lib/python3.7/dist-packages (from stable-baselines3[extra]) (0.2.6)\n",
            "Requirement already satisfied: six in /usr/local/lib/python3.7/dist-packages (from atari-py==0.2.6->stable-baselines3[extra]) (1.15.0)\n",
            "Requirement already satisfied: scipy in /usr/local/lib/python3.7/dist-packages (from gym<0.20,>=0.17->stable-baselines3[extra]) (1.4.1)\n",
            "Requirement already satisfied: pyglet<=1.5.0,>=1.4.0 in /usr/local/lib/python3.7/dist-packages (from gym<0.20,>=0.17->stable-baselines3[extra]) (1.5.0)\n",
            "Requirement already satisfied: future in /usr/local/lib/python3.7/dist-packages (from pyglet<=1.5.0,>=1.4.0->gym<0.20,>=0.17->stable-baselines3[extra]) (0.16.0)\n",
            "Requirement already satisfied: google-auth<3,>=1.6.3 in /usr/local/lib/python3.7/dist-packages (from tensorboard>=2.2.0->stable-baselines3[extra]) (1.35.0)\n",
            "Requirement already satisfied: requests<3,>=2.21.0 in /usr/local/lib/python3.7/dist-packages (from tensorboard>=2.2.0->stable-baselines3[extra]) (2.23.0)\n",
            "Requirement already satisfied: tensorboard-plugin-wit>=1.6.0 in /usr/local/lib/python3.7/dist-packages (from tensorboard>=2.2.0->stable-baselines3[extra]) (1.8.1)\n",
            "Requirement already satisfied: setuptools>=41.0.0 in /usr/local/lib/python3.7/dist-packages (from tensorboard>=2.2.0->stable-baselines3[extra]) (57.4.0)\n",
            "Requirement already satisfied: grpcio>=1.24.3 in /usr/local/lib/python3.7/dist-packages (from tensorboard>=2.2.0->stable-baselines3[extra]) (1.43.0)\n",
            "Requirement already satisfied: wheel>=0.26 in /usr/local/lib/python3.7/dist-packages (from tensorboard>=2.2.0->stable-baselines3[extra]) (0.37.1)\n",
            "Requirement already satisfied: tensorboard-data-server<0.7.0,>=0.6.0 in /usr/local/lib/python3.7/dist-packages (from tensorboard>=2.2.0->stable-baselines3[extra]) (0.6.1)\n",
            "Requirement already satisfied: werkzeug>=0.11.15 in /usr/local/lib/python3.7/dist-packages (from tensorboard>=2.2.0->stable-baselines3[extra]) (1.0.1)\n",
            "Requirement already satisfied: google-auth-oauthlib<0.5,>=0.4.1 in /usr/local/lib/python3.7/dist-packages (from tensorboard>=2.2.0->stable-baselines3[extra]) (0.4.6)\n",
            "Requirement already satisfied: markdown>=2.6.8 in /usr/local/lib/python3.7/dist-packages (from tensorboard>=2.2.0->stable-baselines3[extra]) (3.3.6)\n",
            "Requirement already satisfied: absl-py>=0.4 in /usr/local/lib/python3.7/dist-packages (from tensorboard>=2.2.0->stable-baselines3[extra]) (0.12.0)\n",
            "Requirement already satisfied: protobuf>=3.6.0 in /usr/local/lib/python3.7/dist-packages (from tensorboard>=2.2.0->stable-baselines3[extra]) (3.17.3)\n",
            "Requirement already satisfied: pyasn1-modules>=0.2.1 in /usr/local/lib/python3.7/dist-packages (from google-auth<3,>=1.6.3->tensorboard>=2.2.0->stable-baselines3[extra]) (0.2.8)\n",
            "Requirement already satisfied: cachetools<5.0,>=2.0.0 in /usr/local/lib/python3.7/dist-packages (from google-auth<3,>=1.6.3->tensorboard>=2.2.0->stable-baselines3[extra]) (4.2.4)\n",
            "Requirement already satisfied: rsa<5,>=3.1.4 in /usr/local/lib/python3.7/dist-packages (from google-auth<3,>=1.6.3->tensorboard>=2.2.0->stable-baselines3[extra]) (4.8)\n",
            "Requirement already satisfied: requests-oauthlib>=0.7.0 in /usr/local/lib/python3.7/dist-packages (from google-auth-oauthlib<0.5,>=0.4.1->tensorboard>=2.2.0->stable-baselines3[extra]) (1.3.0)\n",
            "Requirement already satisfied: importlib-metadata>=4.4 in /usr/local/lib/python3.7/dist-packages (from markdown>=2.6.8->tensorboard>=2.2.0->stable-baselines3[extra]) (4.10.0)\n",
            "Requirement already satisfied: typing-extensions>=3.6.4 in /usr/local/lib/python3.7/dist-packages (from importlib-metadata>=4.4->markdown>=2.6.8->tensorboard>=2.2.0->stable-baselines3[extra]) (3.10.0.2)\n",
            "Requirement already satisfied: zipp>=0.5 in /usr/local/lib/python3.7/dist-packages (from importlib-metadata>=4.4->markdown>=2.6.8->tensorboard>=2.2.0->stable-baselines3[extra]) (3.7.0)\n",
            "Requirement already satisfied: pyasn1<0.5.0,>=0.4.6 in /usr/local/lib/python3.7/dist-packages (from pyasn1-modules>=0.2.1->google-auth<3,>=1.6.3->tensorboard>=2.2.0->stable-baselines3[extra]) (0.4.8)\n",
            "Requirement already satisfied: urllib3!=1.25.0,!=1.25.1,<1.26,>=1.21.1 in /usr/local/lib/python3.7/dist-packages (from requests<3,>=2.21.0->tensorboard>=2.2.0->stable-baselines3[extra]) (1.24.3)\n",
            "Requirement already satisfied: chardet<4,>=3.0.2 in /usr/local/lib/python3.7/dist-packages (from requests<3,>=2.21.0->tensorboard>=2.2.0->stable-baselines3[extra]) (3.0.4)\n",
            "Requirement already satisfied: idna<3,>=2.5 in /usr/local/lib/python3.7/dist-packages (from requests<3,>=2.21.0->tensorboard>=2.2.0->stable-baselines3[extra]) (2.10)\n",
            "Requirement already satisfied: certifi>=2017.4.17 in /usr/local/lib/python3.7/dist-packages (from requests<3,>=2.21.0->tensorboard>=2.2.0->stable-baselines3[extra]) (2021.10.8)\n",
            "Requirement already satisfied: oauthlib>=3.0.0 in /usr/local/lib/python3.7/dist-packages (from requests-oauthlib>=0.7.0->google-auth-oauthlib<0.5,>=0.4.1->tensorboard>=2.2.0->stable-baselines3[extra]) (3.1.1)\n",
            "Requirement already satisfied: cycler>=0.10 in /usr/local/lib/python3.7/dist-packages (from matplotlib->stable-baselines3[extra]) (0.11.0)\n",
            "Requirement already satisfied: kiwisolver>=1.0.1 in /usr/local/lib/python3.7/dist-packages (from matplotlib->stable-baselines3[extra]) (1.3.2)\n",
            "Requirement already satisfied: python-dateutil>=2.1 in /usr/local/lib/python3.7/dist-packages (from matplotlib->stable-baselines3[extra]) (2.8.2)\n",
            "Requirement already satisfied: pyparsing!=2.0.4,!=2.1.2,!=2.1.6,>=2.0.1 in /usr/local/lib/python3.7/dist-packages (from matplotlib->stable-baselines3[extra]) (3.0.6)\n",
            "Requirement already satisfied: pytz>=2017.2 in /usr/local/lib/python3.7/dist-packages (from pandas->stable-baselines3[extra]) (2018.9)\n",
            "Building wheels for collected packages: box2d-kengz\n",
            "  Building wheel for box2d-kengz (setup.py) ... \u001b[?25l\u001b[?25hdone\n",
            "  Created wheel for box2d-kengz: filename=Box2D_kengz-2.3.3-cp37-cp37m-linux_x86_64.whl size=2029940 sha256=b48bf28a4e40e1654bdf586d69b3fc151a24aff4554ca5b9efb167c3395a4dc9\n",
            "  Stored in directory: /root/.cache/pip/wheels/50/6d/6a/6ff76731fd9e8efbd1cdc6111e98b2dd0f1872184d7c28939c\n",
            "Successfully built box2d-kengz\n",
            "Installing collected packages: box2d-kengz, box2d\n",
            "Successfully installed box2d-2.3.10 box2d-kengz-2.3.3\n"
          ]
        }
      ]
    },
    {
      "cell_type": "code",
      "source": [
        "import os\n",
        "\n",
        "import gym\n",
        "import numpy as np\n",
        "import matplotlib.pyplot as plt\n",
        "\n",
        "from stable_baselines3 import TD3\n",
        "from stable_baselines3.common.monitor import Monitor\n",
        "from stable_baselines3.common.results_plotter import load_results, ts2xy\n",
        "from stable_baselines3.common.noise import NormalActionNoise\n",
        "from stable_baselines3.common.callbacks import BaseCallback"
      ],
      "metadata": {
        "id": "aho00LTuxb5J"
      },
      "execution_count": 6,
      "outputs": []
    },
    {
      "cell_type": "code",
      "source": [
        "class SaveOnBestTrainingRewardCallback(BaseCallback):\n",
        "    \"\"\"\n",
        "    Callback for saving a model (the check is done every ``check_freq`` steps)\n",
        "    based on the training reward (in practice, we recommend using ``EvalCallback``).\n",
        "\n",
        "    :param check_freq: (int)\n",
        "    :param log_dir: (str) Path to the folder where the model will be saved.\n",
        "      It must contains the file created by the ``Monitor`` wrapper.\n",
        "    :param verbose: (int)\n",
        "    \"\"\"\n",
        "    def __init__(self, check_freq: int, log_dir: str, verbose=1):\n",
        "        super(SaveOnBestTrainingRewardCallback, self).__init__(verbose)\n",
        "        self.check_freq = check_freq\n",
        "        self.log_dir = log_dir\n",
        "        self.save_path = os.path.join(log_dir, 'best_model')\n",
        "        self.best_mean_reward = -np.inf\n",
        "\n",
        "    def _init_callback(self) -> None:\n",
        "        # Create folder if needed\n",
        "        if self.save_path is not None:\n",
        "            os.makedirs(self.save_path, exist_ok=True)\n",
        "\n",
        "    def _on_step(self) -> bool:\n",
        "        if self.n_calls % self.check_freq == 0:\n",
        "\n",
        "          # Retrieve training reward\n",
        "          x, y = ts2xy(load_results(self.log_dir), 'timesteps')\n",
        "          if len(x) > 0:\n",
        "              # Mean training reward over the last 100 episodes\n",
        "              mean_reward = np.mean(y[-100:])\n",
        "              if self.verbose > 0:\n",
        "                print(f\"Num timesteps: {self.num_timesteps}\")\n",
        "                print(f\"Best mean reward: {self.best_mean_reward:.2f} - Last mean reward per episode: {mean_reward:.2f}\")\n",
        "\n",
        "              # New best model, you could save the agent here\n",
        "              if mean_reward > self.best_mean_reward:\n",
        "                  self.best_mean_reward = mean_reward\n",
        "                  # Example for saving best model\n",
        "                  if self.verbose > 0:\n",
        "                    print(f\"Saving new best model to {self.save_path}.zip\")\n",
        "                  self.model.save(self.save_path)\n",
        "\n",
        "        return True"
      ],
      "metadata": {
        "id": "wTVHp7ic3ip_"
      },
      "execution_count": 11,
      "outputs": []
    },
    {
      "cell_type": "code",
      "source": [
        "# Create log dir\n",
        "log_dir = \"/tmp/gym/\"\n",
        "os.makedirs(log_dir, exist_ok=True)\n",
        "\n",
        "# Create and wrap the environment\n",
        "env = gym.make('LunarLanderContinuous-v2')\n",
        "# Logs will be saved in log_dir/monitor.csv\n",
        "env = Monitor(env, log_dir)"
      ],
      "metadata": {
        "id": "yaV1pAgH3lGh"
      },
      "execution_count": 7,
      "outputs": []
    },
    {
      "cell_type": "code",
      "source": [
        "# Create action noise because TD3 and DDPG use a deterministic policy\n",
        "n_actions = env.action_space.shape[-1]\n",
        "action_noise = NormalActionNoise(mean=np.zeros(n_actions), sigma=0.1 * np.ones(n_actions))\n",
        "# Create the callback: check every 1000 steps\n",
        "callback = SaveOnBestTrainingRewardCallback(check_freq=1000, log_dir=log_dir)\n",
        "# Create RL model\n",
        "model = TD3('MlpPolicy', env, action_noise=action_noise, verbose=0)\n",
        "# Train the agent\n",
        "model.learn(total_timesteps=int(5e4), callback=callback)"
      ],
      "metadata": {
        "id": "AadKIamZ3oKA",
        "outputId": "ea26a8df-45ed-4f66-dfcb-ff5746f46404",
        "colab": {
          "base_uri": "https://localhost:8080/",
          "height": 244
        }
      },
      "execution_count": 8,
      "outputs": [
        {
          "output_type": "error",
          "ename": "NameError",
          "evalue": "ignored",
          "traceback": [
            "\u001b[0;31m---------------------------------------------------------------------------\u001b[0m",
            "\u001b[0;31mNameError\u001b[0m                                 Traceback (most recent call last)",
            "\u001b[0;32m<ipython-input-8-bf03a84e5c3c>\u001b[0m in \u001b[0;36m<module>\u001b[0;34m()\u001b[0m\n\u001b[1;32m      3\u001b[0m \u001b[0maction_noise\u001b[0m \u001b[0;34m=\u001b[0m \u001b[0mNormalActionNoise\u001b[0m\u001b[0;34m(\u001b[0m\u001b[0mmean\u001b[0m\u001b[0;34m=\u001b[0m\u001b[0mnp\u001b[0m\u001b[0;34m.\u001b[0m\u001b[0mzeros\u001b[0m\u001b[0;34m(\u001b[0m\u001b[0mn_actions\u001b[0m\u001b[0;34m)\u001b[0m\u001b[0;34m,\u001b[0m \u001b[0msigma\u001b[0m\u001b[0;34m=\u001b[0m\u001b[0;36m0.1\u001b[0m \u001b[0;34m*\u001b[0m \u001b[0mnp\u001b[0m\u001b[0;34m.\u001b[0m\u001b[0mones\u001b[0m\u001b[0;34m(\u001b[0m\u001b[0mn_actions\u001b[0m\u001b[0;34m)\u001b[0m\u001b[0;34m)\u001b[0m\u001b[0;34m\u001b[0m\u001b[0;34m\u001b[0m\u001b[0m\n\u001b[1;32m      4\u001b[0m \u001b[0;31m# Create the callback: check every 1000 steps\u001b[0m\u001b[0;34m\u001b[0m\u001b[0;34m\u001b[0m\u001b[0;34m\u001b[0m\u001b[0m\n\u001b[0;32m----> 5\u001b[0;31m \u001b[0mcallback\u001b[0m \u001b[0;34m=\u001b[0m \u001b[0mSaveOnBestTrainingRewardCallback\u001b[0m\u001b[0;34m(\u001b[0m\u001b[0mcheck_freq\u001b[0m\u001b[0;34m=\u001b[0m\u001b[0;36m1000\u001b[0m\u001b[0;34m,\u001b[0m \u001b[0mlog_dir\u001b[0m\u001b[0;34m=\u001b[0m\u001b[0mlog_dir\u001b[0m\u001b[0;34m)\u001b[0m\u001b[0;34m\u001b[0m\u001b[0;34m\u001b[0m\u001b[0m\n\u001b[0m\u001b[1;32m      6\u001b[0m \u001b[0;31m# Create RL model\u001b[0m\u001b[0;34m\u001b[0m\u001b[0;34m\u001b[0m\u001b[0;34m\u001b[0m\u001b[0m\n\u001b[1;32m      7\u001b[0m \u001b[0mmodel\u001b[0m \u001b[0;34m=\u001b[0m \u001b[0mTD3\u001b[0m\u001b[0;34m(\u001b[0m\u001b[0;34m'MlpPolicy'\u001b[0m\u001b[0;34m,\u001b[0m \u001b[0menv\u001b[0m\u001b[0;34m,\u001b[0m \u001b[0maction_noise\u001b[0m\u001b[0;34m=\u001b[0m\u001b[0maction_noise\u001b[0m\u001b[0;34m,\u001b[0m \u001b[0mverbose\u001b[0m\u001b[0;34m=\u001b[0m\u001b[0;36m0\u001b[0m\u001b[0;34m)\u001b[0m\u001b[0;34m\u001b[0m\u001b[0;34m\u001b[0m\u001b[0m\n",
            "\u001b[0;31mNameError\u001b[0m: name 'SaveOnBestTrainingRewardCallback' is not defined"
          ]
        }
      ]
    },
    {
      "cell_type": "code",
      "source": [
        "import gym\n",
        "from stable_baselines3.common.vec_env import VecVideoRecorder, DummyVecEnv\n",
        "\n",
        "env_id = 'CartPole-v1'\n",
        "video_folder = 'video/'\n",
        "video_length = 100\n",
        "\n",
        "env = DummyVecEnv([lambda: gym.make(env_id)])\n",
        "\n",
        "obs = env.reset()\n",
        "\n",
        "# Record the video starting at the first step\n",
        "env = VecVideoRecorder(env, video_folder,\n",
        "                       record_video_trigger=lambda x: x == 0, video_length=video_length,\n",
        "                       name_prefix=f\"random-agent-{env_id}\")\n",
        "\n",
        "env.reset()\n",
        "for _ in range(video_length + 1):\n",
        "  action = [env.action_space.sample()]\n",
        "  obs, _, _, _ = env.step(action)\n",
        "# Save the video\n",
        "env.close()\n",
        "\n",
        "show_video()"
      ],
      "metadata": {
        "id": "Dp7ypq4i5nOI",
        "outputId": "198fcc25-5c07-4d5a-9d82-9591b97a4c96",
        "colab": {
          "base_uri": "https://localhost:8080/",
          "height": 438
        }
      },
      "execution_count": 10,
      "outputs": [
        {
          "output_type": "stream",
          "name": "stdout",
          "text": [
            "Saving video to /content/video/random-agent-CartPole-v1-step-0-to-step-100.mp4\n"
          ]
        },
        {
          "output_type": "display_data",
          "data": {
            "text/html": [
              "<video alt=\"test\" autoplay \n",
              "                loop controls style=\"height: 400px;\">\n",
              "                <source src=\"data:video/mp4;base64,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\" type=\"video/mp4\" />\n",
              "             </video>"
            ],
            "text/plain": [
              "<IPython.core.display.HTML object>"
            ]
          },
          "metadata": {}
        }
      ]
    },
    {
      "cell_type": "code",
      "source": [
        "import os\n",
        "\n",
        "import gym\n",
        "import numpy as np\n",
        "import matplotlib.pyplot as plt\n",
        "\n",
        "from stable_baselines3 import PPO\n",
        "from stable_baselines3.common.monitor import Monitor\n",
        "from stable_baselines3.common.results_plotter import load_results, ts2xy\n",
        "from stable_baselines3.common.noise import NormalActionNoise\n",
        "from stable_baselines3.common.callbacks import BaseCallback\n",
        "\n",
        "# Create log dir\n",
        "log_dir = \"/tmp/gym/\"\n",
        "os.makedirs(log_dir, exist_ok=True)\n",
        "\n",
        "# Create and wrap the environment\n",
        "env = gym.make('Humanoid-v2')\n",
        "# Logs will be saved in log_dir/monitor.csv\n",
        "env = Monitor(env, log_dir)\n",
        "\n",
        "# Create action noise because TD3 and DDPG use a deterministic policy\n",
        "n_actions = env.action_space.shape[-1]\n",
        "action_noise = NormalActionNoise(mean=np.zeros(n_actions), sigma=0.1 * np.ones(n_actions))\n",
        "# Create the callback: check every 1000 steps\n",
        "callback = SaveOnBestTrainingRewardCallback(check_freq=1000, log_dir=log_dir)\n",
        "# Create RL model\n",
        "model = PPO('MlpPolicy', env)\n",
        "# Train the agent\n",
        "model.learn(total_timesteps=int(5e4), callback=callback)"
      ],
      "metadata": {
        "id": "wLFeD9dr5nC_",
        "outputId": "0dd2edf2-482d-4ecd-9eb7-1b4377899c66",
        "colab": {
          "base_uri": "https://localhost:8080/"
        }
      },
      "execution_count": 34,
      "outputs": [
        {
          "output_type": "stream",
          "name": "stdout",
          "text": [
            "Compiling /usr/local/lib/python3.7/dist-packages/mujoco_py/cymj.pyx because it changed.\n",
            "[1/1] Cythonizing /usr/local/lib/python3.7/dist-packages/mujoco_py/cymj.pyx\n",
            "running build_ext\n",
            "building 'mujoco_py.cymj' extension\n",
            "creating /usr/local/lib/python3.7/dist-packages/mujoco_py/generated/_pyxbld_2.0.2.13_37_linuxcpuextensionbuilder\n",
            "creating /usr/local/lib/python3.7/dist-packages/mujoco_py/generated/_pyxbld_2.0.2.13_37_linuxcpuextensionbuilder/temp.linux-x86_64-3.7\n",
            "creating /usr/local/lib/python3.7/dist-packages/mujoco_py/generated/_pyxbld_2.0.2.13_37_linuxcpuextensionbuilder/temp.linux-x86_64-3.7/usr\n",
            "creating /usr/local/lib/python3.7/dist-packages/mujoco_py/generated/_pyxbld_2.0.2.13_37_linuxcpuextensionbuilder/temp.linux-x86_64-3.7/usr/local\n",
            "creating /usr/local/lib/python3.7/dist-packages/mujoco_py/generated/_pyxbld_2.0.2.13_37_linuxcpuextensionbuilder/temp.linux-x86_64-3.7/usr/local/lib\n",
            "creating /usr/local/lib/python3.7/dist-packages/mujoco_py/generated/_pyxbld_2.0.2.13_37_linuxcpuextensionbuilder/temp.linux-x86_64-3.7/usr/local/lib/python3.7\n",
            "creating /usr/local/lib/python3.7/dist-packages/mujoco_py/generated/_pyxbld_2.0.2.13_37_linuxcpuextensionbuilder/temp.linux-x86_64-3.7/usr/local/lib/python3.7/dist-packages\n",
            "creating /usr/local/lib/python3.7/dist-packages/mujoco_py/generated/_pyxbld_2.0.2.13_37_linuxcpuextensionbuilder/temp.linux-x86_64-3.7/usr/local/lib/python3.7/dist-packages/mujoco_py\n",
            "creating /usr/local/lib/python3.7/dist-packages/mujoco_py/generated/_pyxbld_2.0.2.13_37_linuxcpuextensionbuilder/temp.linux-x86_64-3.7/usr/local/lib/python3.7/dist-packages/mujoco_py/gl\n",
            "x86_64-linux-gnu-gcc -pthread -Wno-unused-result -Wsign-compare -DNDEBUG -g -fwrapv -O2 -Wall -g -fdebug-prefix-map=/build/python3.7-Y7dWVB/python3.7-3.7.12=. -fstack-protector-strong -Wformat -Werror=format-security -g -fdebug-prefix-map=/build/python3.7-Y7dWVB/python3.7-3.7.12=. -fstack-protector-strong -Wformat -Werror=format-security -Wdate-time -D_FORTIFY_SOURCE=2 -fPIC -I/usr/local/lib/python3.7/dist-packages/mujoco_py -I/usr/local/lib/python3.7/dist-packages/mujoco_py/binaries/linux/mujoco210/include -I/usr/local/lib/python3.7/dist-packages/numpy/core/include -I/usr/include/python3.7m -c /usr/local/lib/python3.7/dist-packages/mujoco_py/cymj.c -o /usr/local/lib/python3.7/dist-packages/mujoco_py/generated/_pyxbld_2.0.2.13_37_linuxcpuextensionbuilder/temp.linux-x86_64-3.7/usr/local/lib/python3.7/dist-packages/mujoco_py/cymj.o -fopenmp -w\n",
            "x86_64-linux-gnu-gcc -pthread -Wno-unused-result -Wsign-compare -DNDEBUG -g -fwrapv -O2 -Wall -g -fdebug-prefix-map=/build/python3.7-Y7dWVB/python3.7-3.7.12=. -fstack-protector-strong -Wformat -Werror=format-security -g -fdebug-prefix-map=/build/python3.7-Y7dWVB/python3.7-3.7.12=. -fstack-protector-strong -Wformat -Werror=format-security -Wdate-time -D_FORTIFY_SOURCE=2 -fPIC -I/usr/local/lib/python3.7/dist-packages/mujoco_py -I/usr/local/lib/python3.7/dist-packages/mujoco_py/binaries/linux/mujoco210/include -I/usr/local/lib/python3.7/dist-packages/numpy/core/include -I/usr/include/python3.7m -c /usr/local/lib/python3.7/dist-packages/mujoco_py/gl/osmesashim.c -o /usr/local/lib/python3.7/dist-packages/mujoco_py/generated/_pyxbld_2.0.2.13_37_linuxcpuextensionbuilder/temp.linux-x86_64-3.7/usr/local/lib/python3.7/dist-packages/mujoco_py/gl/osmesashim.o -fopenmp -w\n",
            "creating /usr/local/lib/python3.7/dist-packages/mujoco_py/generated/_pyxbld_2.0.2.13_37_linuxcpuextensionbuilder/lib.linux-x86_64-3.7\n",
            "creating /usr/local/lib/python3.7/dist-packages/mujoco_py/generated/_pyxbld_2.0.2.13_37_linuxcpuextensionbuilder/lib.linux-x86_64-3.7/mujoco_py\n",
            "x86_64-linux-gnu-gcc -pthread -shared -Wl,-O1 -Wl,-Bsymbolic-functions -Wl,-Bsymbolic-functions -Wl,-z,relro -Wl,-Bsymbolic-functions -Wl,-z,relro -g -fdebug-prefix-map=/build/python3.7-Y7dWVB/python3.7-3.7.12=. -fstack-protector-strong -Wformat -Werror=format-security -Wdate-time -D_FORTIFY_SOURCE=2 /usr/local/lib/python3.7/dist-packages/mujoco_py/generated/_pyxbld_2.0.2.13_37_linuxcpuextensionbuilder/temp.linux-x86_64-3.7/usr/local/lib/python3.7/dist-packages/mujoco_py/cymj.o /usr/local/lib/python3.7/dist-packages/mujoco_py/generated/_pyxbld_2.0.2.13_37_linuxcpuextensionbuilder/temp.linux-x86_64-3.7/usr/local/lib/python3.7/dist-packages/mujoco_py/gl/osmesashim.o -L/usr/local/lib/python3.7/dist-packages/mujoco_py/binaries/linux/mujoco210/bin -Wl,--enable-new-dtags,-R/usr/local/lib/python3.7/dist-packages/mujoco_py/binaries/linux/mujoco210/bin -lmujoco210 -lglewosmesa -lOSMesa -lGL -o /usr/local/lib/python3.7/dist-packages/mujoco_py/generated/_pyxbld_2.0.2.13_37_linuxcpuextensionbuilder/lib.linux-x86_64-3.7/mujoco_py/cymj.cpython-37m-x86_64-linux-gnu.so -fopenmp\n",
            "Num timesteps: 1000\n",
            "Best mean reward: -inf - Last mean reward per episode: 102.10\n",
            "Saving new best model to /tmp/gym/best_model.zip\n",
            "Num timesteps: 2000\n",
            "Best mean reward: 102.10 - Last mean reward per episode: 104.88\n",
            "Saving new best model to /tmp/gym/best_model.zip\n",
            "Num timesteps: 3000\n",
            "Best mean reward: 104.88 - Last mean reward per episode: 109.45\n",
            "Saving new best model to /tmp/gym/best_model.zip\n",
            "Num timesteps: 4000\n",
            "Best mean reward: 109.45 - Last mean reward per episode: 114.30\n",
            "Saving new best model to /tmp/gym/best_model.zip\n",
            "Num timesteps: 5000\n",
            "Best mean reward: 114.30 - Last mean reward per episode: 113.67\n",
            "Num timesteps: 6000\n",
            "Best mean reward: 114.30 - Last mean reward per episode: 110.83\n",
            "Num timesteps: 7000\n",
            "Best mean reward: 114.30 - Last mean reward per episode: 109.46\n",
            "Num timesteps: 8000\n",
            "Best mean reward: 114.30 - Last mean reward per episode: 113.70\n",
            "Num timesteps: 9000\n",
            "Best mean reward: 114.30 - Last mean reward per episode: 116.28\n",
            "Saving new best model to /tmp/gym/best_model.zip\n",
            "Num timesteps: 10000\n",
            "Best mean reward: 116.28 - Last mean reward per episode: 119.86\n",
            "Saving new best model to /tmp/gym/best_model.zip\n",
            "Num timesteps: 11000\n",
            "Best mean reward: 119.86 - Last mean reward per episode: 116.79\n",
            "Num timesteps: 12000\n",
            "Best mean reward: 119.86 - Last mean reward per episode: 115.44\n",
            "Num timesteps: 13000\n",
            "Best mean reward: 119.86 - Last mean reward per episode: 117.32\n",
            "Num timesteps: 14000\n",
            "Best mean reward: 119.86 - Last mean reward per episode: 118.33\n",
            "Num timesteps: 15000\n",
            "Best mean reward: 119.86 - Last mean reward per episode: 119.05\n",
            "Num timesteps: 16000\n",
            "Best mean reward: 119.86 - Last mean reward per episode: 115.17\n",
            "Num timesteps: 17000\n",
            "Best mean reward: 119.86 - Last mean reward per episode: 118.72\n",
            "Num timesteps: 18000\n",
            "Best mean reward: 119.86 - Last mean reward per episode: 121.69\n",
            "Saving new best model to /tmp/gym/best_model.zip\n",
            "Num timesteps: 19000\n",
            "Best mean reward: 121.69 - Last mean reward per episode: 125.72\n",
            "Saving new best model to /tmp/gym/best_model.zip\n",
            "Num timesteps: 20000\n",
            "Best mean reward: 125.72 - Last mean reward per episode: 130.24\n",
            "Saving new best model to /tmp/gym/best_model.zip\n",
            "Num timesteps: 21000\n",
            "Best mean reward: 130.24 - Last mean reward per episode: 134.13\n",
            "Saving new best model to /tmp/gym/best_model.zip\n",
            "Num timesteps: 22000\n",
            "Best mean reward: 134.13 - Last mean reward per episode: 139.94\n",
            "Saving new best model to /tmp/gym/best_model.zip\n",
            "Num timesteps: 23000\n",
            "Best mean reward: 139.94 - Last mean reward per episode: 139.78\n",
            "Num timesteps: 24000\n",
            "Best mean reward: 139.94 - Last mean reward per episode: 139.15\n",
            "Num timesteps: 25000\n",
            "Best mean reward: 139.94 - Last mean reward per episode: 139.72\n",
            "Num timesteps: 26000\n",
            "Best mean reward: 139.94 - Last mean reward per episode: 137.78\n",
            "Num timesteps: 27000\n",
            "Best mean reward: 139.94 - Last mean reward per episode: 146.17\n",
            "Saving new best model to /tmp/gym/best_model.zip\n",
            "Num timesteps: 28000\n",
            "Best mean reward: 146.17 - Last mean reward per episode: 150.25\n",
            "Saving new best model to /tmp/gym/best_model.zip\n",
            "Num timesteps: 29000\n",
            "Best mean reward: 150.25 - Last mean reward per episode: 154.46\n",
            "Saving new best model to /tmp/gym/best_model.zip\n",
            "Num timesteps: 30000\n",
            "Best mean reward: 154.46 - Last mean reward per episode: 157.79\n",
            "Saving new best model to /tmp/gym/best_model.zip\n",
            "Num timesteps: 31000\n",
            "Best mean reward: 157.79 - Last mean reward per episode: 160.69\n",
            "Saving new best model to /tmp/gym/best_model.zip\n",
            "Num timesteps: 32000\n",
            "Best mean reward: 160.69 - Last mean reward per episode: 160.54\n",
            "Num timesteps: 33000\n",
            "Best mean reward: 160.69 - Last mean reward per episode: 157.46\n",
            "Num timesteps: 34000\n",
            "Best mean reward: 160.69 - Last mean reward per episode: 161.63\n",
            "Saving new best model to /tmp/gym/best_model.zip\n",
            "Num timesteps: 35000\n",
            "Best mean reward: 161.63 - Last mean reward per episode: 169.14\n",
            "Saving new best model to /tmp/gym/best_model.zip\n",
            "Num timesteps: 36000\n",
            "Best mean reward: 169.14 - Last mean reward per episode: 168.12\n",
            "Num timesteps: 37000\n",
            "Best mean reward: 169.14 - Last mean reward per episode: 165.02\n",
            "Num timesteps: 38000\n",
            "Best mean reward: 169.14 - Last mean reward per episode: 167.43\n",
            "Num timesteps: 39000\n",
            "Best mean reward: 169.14 - Last mean reward per episode: 178.11\n",
            "Saving new best model to /tmp/gym/best_model.zip\n",
            "Num timesteps: 40000\n",
            "Best mean reward: 178.11 - Last mean reward per episode: 179.55\n",
            "Saving new best model to /tmp/gym/best_model.zip\n",
            "Num timesteps: 41000\n",
            "Best mean reward: 179.55 - Last mean reward per episode: 183.37\n",
            "Saving new best model to /tmp/gym/best_model.zip\n",
            "Num timesteps: 42000\n",
            "Best mean reward: 183.37 - Last mean reward per episode: 185.23\n",
            "Saving new best model to /tmp/gym/best_model.zip\n",
            "Num timesteps: 43000\n",
            "Best mean reward: 185.23 - Last mean reward per episode: 191.20\n",
            "Saving new best model to /tmp/gym/best_model.zip\n",
            "Num timesteps: 44000\n",
            "Best mean reward: 191.20 - Last mean reward per episode: 200.53\n",
            "Saving new best model to /tmp/gym/best_model.zip\n",
            "Num timesteps: 45000\n",
            "Best mean reward: 200.53 - Last mean reward per episode: 203.39\n",
            "Saving new best model to /tmp/gym/best_model.zip\n",
            "Num timesteps: 46000\n",
            "Best mean reward: 203.39 - Last mean reward per episode: 211.52\n",
            "Saving new best model to /tmp/gym/best_model.zip\n",
            "Num timesteps: 47000\n",
            "Best mean reward: 211.52 - Last mean reward per episode: 206.99\n",
            "Num timesteps: 48000\n",
            "Best mean reward: 211.52 - Last mean reward per episode: 207.24\n",
            "Num timesteps: 49000\n",
            "Best mean reward: 211.52 - Last mean reward per episode: 209.86\n",
            "Num timesteps: 50000\n",
            "Best mean reward: 211.52 - Last mean reward per episode: 216.69\n",
            "Saving new best model to /tmp/gym/best_model.zip\n",
            "Num timesteps: 51000\n",
            "Best mean reward: 216.69 - Last mean reward per episode: 216.87\n",
            "Saving new best model to /tmp/gym/best_model.zip\n"
          ]
        },
        {
          "output_type": "execute_result",
          "data": {
            "text/plain": [
              "<stable_baselines3.ppo.ppo.PPO at 0x7f3ba7045810>"
            ]
          },
          "metadata": {},
          "execution_count": 34
        }
      ]
    },
    {
      "cell_type": "code",
      "source": [
        "import gym\n",
        "from stable_baselines3.common.vec_env import VecVideoRecorder, DummyVecEnv\n",
        "from stable_baselines3 import PPO\n",
        "\n",
        "env_id = 'Humanoid-v2'\n",
        "video_folder = 'video/'\n",
        "video_length = 10000\n",
        "\n",
        "env = DummyVecEnv([lambda: gym.make(env_id)])\n",
        "\n",
        "\n",
        "\n",
        "# Record the video starting at the first step\n",
        "env = VecVideoRecorder(env, video_folder,\n",
        "                       record_video_trigger=lambda x: x == 0, video_length=video_length,\n",
        "                       name_prefix=f\"ppo-agent-{env_id}\")\n",
        "\n",
        "obs =  model.env.reset()\n",
        "\n",
        "# Evaluate the agent\n",
        "episode_reward = 0\n",
        "for _ in range(video_length):\n",
        "    action,_ = model.predict(obs)\n",
        "    obs, reward, done, info =  model.env.step(action)\n",
        "    model.env.render()\n",
        "    episode_reward += reward\n",
        "    if done:\n",
        "        print(\"Reward:\", episode_reward)\n",
        "        episode_reward = 0.0\n",
        "        obs = model.env.reset()"
      ],
      "metadata": {
        "id": "x84C3BOs7gTN",
        "outputId": "7e8de242-6755-4a6b-922f-48b26b9488f0",
        "colab": {
          "base_uri": "https://localhost:8080/"
        }
      },
      "execution_count": 35,
      "outputs": [
        {
          "output_type": "stream",
          "name": "stdout",
          "text": [
            "Creating window glfw\n",
            "Reward: [99.53571]\n",
            "Reward: [152.60625]\n",
            "Reward: [198.72139]\n",
            "Reward: [170.69836]\n",
            "Reward: [264.3679]\n",
            "Reward: [210.99724]\n",
            "Reward: [173.42934]\n",
            "Reward: [441.24756]\n",
            "Reward: [181.72458]\n",
            "Reward: [111.72015]\n",
            "Reward: [98.59617]\n",
            "Reward: [227.10934]\n",
            "Reward: [243.34592]\n",
            "Reward: [115.89685]\n",
            "Reward: [206.91501]\n",
            "Reward: [323.24753]\n",
            "Reward: [201.55887]\n",
            "Reward: [317.5675]\n",
            "Reward: [81.42965]\n",
            "Reward: [193.64748]\n",
            "Reward: [366.7321]\n",
            "Reward: [235.17863]\n",
            "Reward: [254.6096]\n",
            "Reward: [183.76872]\n",
            "Reward: [212.78725]\n",
            "Reward: [264.9263]\n",
            "Reward: [240.84956]\n",
            "Reward: [96.86635]\n",
            "Reward: [245.50229]\n",
            "Reward: [284.83542]\n",
            "Reward: [286.45547]\n",
            "Reward: [158.48059]\n",
            "Reward: [242.79034]\n",
            "Reward: [143.43393]\n",
            "Reward: [183.90625]\n",
            "Reward: [218.74667]\n",
            "Reward: [215.38498]\n",
            "Reward: [197.75426]\n",
            "Reward: [273.87592]\n",
            "Reward: [207.32837]\n",
            "Reward: [208.27753]\n",
            "Reward: [338.15802]\n",
            "Reward: [214.45865]\n",
            "Reward: [182.2625]\n",
            "Reward: [225.45099]\n",
            "Reward: [164.42421]\n",
            "Reward: [279.533]\n",
            "Reward: [356.5016]\n",
            "Reward: [217.88626]\n",
            "Reward: [141.76118]\n",
            "Reward: [231.46811]\n",
            "Reward: [198.17651]\n",
            "Reward: [274.11404]\n",
            "Reward: [330.95468]\n",
            "Reward: [104.79443]\n",
            "Reward: [234.65623]\n",
            "Reward: [86.77051]\n",
            "Reward: [267.3973]\n",
            "Reward: [363.3304]\n",
            "Reward: [81.12428]\n",
            "Reward: [264.60233]\n",
            "Reward: [121.36435]\n",
            "Reward: [194.00177]\n",
            "Reward: [99.13503]\n",
            "Reward: [259.0799]\n",
            "Reward: [132.39177]\n",
            "Reward: [144.50845]\n",
            "Reward: [307.46695]\n",
            "Reward: [253.49948]\n",
            "Reward: [120.82878]\n",
            "Reward: [207.665]\n",
            "Reward: [212.99069]\n",
            "Reward: [253.65407]\n",
            "Reward: [249.33823]\n",
            "Reward: [194.78731]\n",
            "Reward: [390.65543]\n",
            "Reward: [235.54112]\n",
            "Reward: [235.18266]\n",
            "Reward: [400.32385]\n",
            "Reward: [124.36721]\n",
            "Reward: [317.23822]\n",
            "Reward: [152.70396]\n",
            "Reward: [305.16583]\n",
            "Reward: [218.13278]\n",
            "Reward: [445.7269]\n",
            "Reward: [178.6269]\n",
            "Reward: [145.87517]\n",
            "Reward: [102.45842]\n",
            "Reward: [122.86227]\n",
            "Reward: [153.86678]\n",
            "Reward: [314.85953]\n",
            "Reward: [207.56528]\n",
            "Reward: [392.54767]\n",
            "Reward: [95.62946]\n",
            "Reward: [239.8382]\n",
            "Reward: [319.38998]\n",
            "Reward: [174.8206]\n",
            "Reward: [216.04573]\n",
            "Reward: [271.6854]\n",
            "Reward: [164.46391]\n",
            "Reward: [160.54106]\n",
            "Reward: [194.56934]\n",
            "Reward: [93.145676]\n",
            "Reward: [168.4477]\n",
            "Reward: [328.07355]\n",
            "Reward: [133.25276]\n",
            "Reward: [247.77293]\n",
            "Reward: [440.0838]\n",
            "Reward: [253.0922]\n",
            "Reward: [275.10724]\n",
            "Reward: [256.8444]\n",
            "Reward: [265.87497]\n",
            "Reward: [386.81277]\n",
            "Reward: [349.01965]\n",
            "Reward: [195.3465]\n",
            "Reward: [285.719]\n",
            "Reward: [98.47876]\n",
            "Reward: [287.78445]\n",
            "Reward: [174.13423]\n",
            "Reward: [224.7525]\n",
            "Reward: [209.41798]\n",
            "Reward: [203.15277]\n",
            "Reward: [344.50894]\n",
            "Reward: [287.70584]\n",
            "Reward: [297.46454]\n",
            "Reward: [171.68964]\n",
            "Reward: [318.31427]\n",
            "Reward: [186.69093]\n",
            "Reward: [283.20953]\n",
            "Reward: [310.99673]\n",
            "Reward: [87.43723]\n",
            "Reward: [260.6535]\n",
            "Reward: [252.7908]\n",
            "Reward: [339.3054]\n",
            "Reward: [136.56975]\n",
            "Reward: [200.22511]\n",
            "Reward: [241.09966]\n",
            "Reward: [352.14233]\n",
            "Reward: [459.8745]\n",
            "Reward: [424.07138]\n",
            "Reward: [295.7168]\n",
            "Reward: [290.82486]\n",
            "Reward: [245.19836]\n",
            "Reward: [336.03787]\n",
            "Reward: [369.24722]\n",
            "Reward: [306.07974]\n",
            "Reward: [206.64052]\n",
            "Reward: [150.72897]\n",
            "Reward: [190.59491]\n",
            "Reward: [391.3097]\n",
            "Reward: [242.42987]\n",
            "Reward: [287.38715]\n",
            "Reward: [282.0199]\n",
            "Reward: [358.0204]\n",
            "Reward: [247.5355]\n",
            "Reward: [388.58868]\n",
            "Reward: [225.63672]\n",
            "Reward: [450.3435]\n",
            "Reward: [198.87666]\n",
            "Reward: [295.29324]\n",
            "Reward: [225.25056]\n",
            "Reward: [180.69336]\n",
            "Reward: [147.85905]\n",
            "Reward: [239.55525]\n",
            "Reward: [190.91025]\n",
            "Reward: [281.46582]\n",
            "Reward: [278.5374]\n",
            "Reward: [118.65612]\n",
            "Reward: [89.3756]\n",
            "Reward: [290.9458]\n",
            "Reward: [282.39224]\n",
            "Reward: [163.22296]\n",
            "Reward: [253.03394]\n",
            "Reward: [211.75343]\n",
            "Reward: [393.49594]\n",
            "Reward: [296.04202]\n",
            "Reward: [144.27637]\n",
            "Reward: [216.03995]\n",
            "Reward: [202.97215]\n",
            "Reward: [256.62024]\n",
            "Reward: [126.30031]\n",
            "Reward: [205.09996]\n",
            "Reward: [114.15115]\n",
            "Reward: [126.06817]\n",
            "Reward: [218.8287]\n",
            "Reward: [107.01664]\n",
            "Reward: [345.98395]\n",
            "Reward: [326.15842]\n",
            "Reward: [345.37305]\n",
            "Reward: [363.69684]\n",
            "Reward: [296.39478]\n",
            "Reward: [155.02348]\n",
            "Reward: [246.48816]\n",
            "Reward: [144.44388]\n",
            "Reward: [357.9857]\n",
            "Reward: [219.85136]\n",
            "Reward: [212.5952]\n",
            "Reward: [169.42293]\n",
            "Reward: [269.18863]\n",
            "Reward: [515.71515]\n",
            "Reward: [233.75708]\n",
            "Reward: [270.95935]\n",
            "Reward: [353.9499]\n",
            "Reward: [308.5853]\n",
            "Reward: [466.96945]\n",
            "Reward: [223.81787]\n",
            "Reward: [232.19768]\n",
            "Reward: [132.64703]\n"
          ]
        }
      ]
    },
    {
      "cell_type": "code",
      "source": [
        "show_video()"
      ],
      "metadata": {
        "id": "nrsF1F9IA-9m",
        "outputId": "5c7ac217-5640-47f2-a647-3481c7774375",
        "colab": {
          "base_uri": "https://localhost:8080/"
        }
      },
      "execution_count": 36,
      "outputs": [
        {
          "output_type": "stream",
          "name": "stdout",
          "text": [
            "Could not find video\n"
          ]
        }
      ]
    }
  ]
}