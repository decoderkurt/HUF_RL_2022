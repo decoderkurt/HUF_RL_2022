{
  "nbformat": 4,
  "nbformat_minor": 0,
  "metadata": {
    "colab": {
      "name": "1_getting_started.ipynb",
      "provenance": [],
      "collapsed_sections": [],
      "include_colab_link": true
    },
    "kernelspec": {
      "name": "python3",
      "display_name": "Python 3"
    },
    "accelerator": "GPU"
  },
  "cells": [
    {
      "cell_type": "markdown",
      "metadata": {
        "id": "view-in-github",
        "colab_type": "text"
      },
      "source": [
        "<a href=\"https://colab.research.google.com/github/decoderkurt/HUF_RL_2022/blob/main/22/stable_baselines_getting_started.ipynb\" target=\"_parent\"><img src=\"https://colab.research.google.com/assets/colab-badge.svg\" alt=\"Open In Colab\"/></a>"
      ]
    },
    {
      "cell_type": "markdown",
      "metadata": {
        "id": "hyyN-2qyK_T2"
      },
      "source": [
        "# Stable Baselines3 Tutorial - Getting Started\n",
        "\n",
        "Github repo: https://github.com/araffin/rl-tutorial-jnrr19\n",
        "\n",
        "Stable-Baselines3: https://github.com/DLR-RM/stable-baselines3\n",
        "\n",
        "Documentation: https://stable-baselines.readthedocs.io/en/master/\n",
        "\n",
        "RL Baselines3 zoo: https://github.com/DLR-RM/rl-baselines3-zoo\n",
        "\n",
        "\n",
        "[RL Baselines3 Zoo](https://github.com/DLR-RM/rl-baselines3-zoo) is a collection of pre-trained Reinforcement Learning agents using Stable-Baselines3.\n",
        "\n",
        "It also provides basic scripts for training, evaluating agents, tuning hyperparameters and recording videos.\n",
        "\n",
        "\n",
        "## Introduction\n",
        "\n",
        "In this notebook, you will learn the basics for using stable baselines3 library: how to create a RL model, train it and evaluate it. Because all algorithms share the same interface, we will see how simple it is to switch from one algorithm to another.\n",
        "\n",
        "\n",
        "## Install Dependencies and Stable Baselines3 Using Pip\n",
        "\n",
        "List of full dependencies can be found in the [README](https://github.com/DLR-RM/stable-baselines3).\n",
        "\n",
        "\n",
        "```\n",
        "pip install stable-baselines3[extra]\n",
        "```"
      ]
    },
    {
      "cell_type": "code",
      "metadata": {
        "id": "gWskDE2c9WoN",
        "colab": {
          "base_uri": "https://localhost:8080/"
        },
        "outputId": "7de2f742-083f-439a-c069-1ded1abcfdae"
      },
      "source": [
        "!apt-get install ffmpeg freeglut3-dev xvfb  # For visualization\n",
        "!pip install stable-baselines3[extra]"
      ],
      "execution_count": 2,
      "outputs": [
        {
          "output_type": "stream",
          "name": "stdout",
          "text": [
            "Reading package lists... Done\n",
            "Building dependency tree       \n",
            "Reading state information... Done\n",
            "freeglut3-dev is already the newest version (2.8.1-3).\n",
            "freeglut3-dev set to manually installed.\n",
            "ffmpeg is already the newest version (7:3.4.8-0ubuntu0.2).\n",
            "The following NEW packages will be installed:\n",
            "  xvfb\n",
            "0 upgraded, 1 newly installed, 0 to remove and 37 not upgraded.\n",
            "Need to get 784 kB of archives.\n",
            "After this operation, 2,271 kB of additional disk space will be used.\n",
            "Get:1 http://archive.ubuntu.com/ubuntu bionic-updates/universe amd64 xvfb amd64 2:1.19.6-1ubuntu4.10 [784 kB]\n",
            "Fetched 784 kB in 2s (353 kB/s)\n",
            "Selecting previously unselected package xvfb.\n",
            "(Reading database ... 155229 files and directories currently installed.)\n",
            "Preparing to unpack .../xvfb_2%3a1.19.6-1ubuntu4.10_amd64.deb ...\n",
            "Unpacking xvfb (2:1.19.6-1ubuntu4.10) ...\n",
            "Setting up xvfb (2:1.19.6-1ubuntu4.10) ...\n",
            "Processing triggers for man-db (2.8.3-2ubuntu0.1) ...\n",
            "Collecting stable-baselines3[extra]\n",
            "  Downloading stable_baselines3-1.4.0-py3-none-any.whl (176 kB)\n",
            "\u001b[K     |████████████████████████████████| 176 kB 4.1 MB/s \n",
            "\u001b[?25hRequirement already satisfied: cloudpickle in /usr/local/lib/python3.7/dist-packages (from stable-baselines3[extra]) (1.3.0)\n",
            "Requirement already satisfied: torch>=1.8.1 in /usr/local/lib/python3.7/dist-packages (from stable-baselines3[extra]) (1.10.0+cu111)\n",
            "Requirement already satisfied: pandas in /usr/local/lib/python3.7/dist-packages (from stable-baselines3[extra]) (1.1.5)\n",
            "Requirement already satisfied: gym<0.20,>=0.17 in /usr/local/lib/python3.7/dist-packages (from stable-baselines3[extra]) (0.17.3)\n",
            "Requirement already satisfied: matplotlib in /usr/local/lib/python3.7/dist-packages (from stable-baselines3[extra]) (3.2.2)\n",
            "Requirement already satisfied: numpy in /usr/local/lib/python3.7/dist-packages (from stable-baselines3[extra]) (1.19.5)\n",
            "Requirement already satisfied: psutil in /usr/local/lib/python3.7/dist-packages (from stable-baselines3[extra]) (5.4.8)\n",
            "Collecting atari-py==0.2.6\n",
            "  Downloading atari_py-0.2.6-cp37-cp37m-manylinux1_x86_64.whl (2.8 MB)\n",
            "\u001b[K     |████████████████████████████████| 2.8 MB 62.9 MB/s \n",
            "\u001b[?25hRequirement already satisfied: opencv-python in /usr/local/lib/python3.7/dist-packages (from stable-baselines3[extra]) (4.1.2.30)\n",
            "Requirement already satisfied: tensorboard>=2.2.0 in /usr/local/lib/python3.7/dist-packages (from stable-baselines3[extra]) (2.7.0)\n",
            "Requirement already satisfied: pillow in /usr/local/lib/python3.7/dist-packages (from stable-baselines3[extra]) (7.1.2)\n",
            "Requirement already satisfied: six in /usr/local/lib/python3.7/dist-packages (from atari-py==0.2.6->stable-baselines3[extra]) (1.15.0)\n",
            "Requirement already satisfied: pyglet<=1.5.0,>=1.4.0 in /usr/local/lib/python3.7/dist-packages (from gym<0.20,>=0.17->stable-baselines3[extra]) (1.5.0)\n",
            "Requirement already satisfied: scipy in /usr/local/lib/python3.7/dist-packages (from gym<0.20,>=0.17->stable-baselines3[extra]) (1.4.1)\n",
            "Requirement already satisfied: future in /usr/local/lib/python3.7/dist-packages (from pyglet<=1.5.0,>=1.4.0->gym<0.20,>=0.17->stable-baselines3[extra]) (0.16.0)\n",
            "Requirement already satisfied: werkzeug>=0.11.15 in /usr/local/lib/python3.7/dist-packages (from tensorboard>=2.2.0->stable-baselines3[extra]) (1.0.1)\n",
            "Requirement already satisfied: absl-py>=0.4 in /usr/local/lib/python3.7/dist-packages (from tensorboard>=2.2.0->stable-baselines3[extra]) (0.12.0)\n",
            "Requirement already satisfied: protobuf>=3.6.0 in /usr/local/lib/python3.7/dist-packages (from tensorboard>=2.2.0->stable-baselines3[extra]) (3.17.3)\n",
            "Requirement already satisfied: setuptools>=41.0.0 in /usr/local/lib/python3.7/dist-packages (from tensorboard>=2.2.0->stable-baselines3[extra]) (57.4.0)\n",
            "Requirement already satisfied: tensorboard-plugin-wit>=1.6.0 in /usr/local/lib/python3.7/dist-packages (from tensorboard>=2.2.0->stable-baselines3[extra]) (1.8.1)\n",
            "Requirement already satisfied: wheel>=0.26 in /usr/local/lib/python3.7/dist-packages (from tensorboard>=2.2.0->stable-baselines3[extra]) (0.37.1)\n",
            "Requirement already satisfied: markdown>=2.6.8 in /usr/local/lib/python3.7/dist-packages (from tensorboard>=2.2.0->stable-baselines3[extra]) (3.3.6)\n",
            "Requirement already satisfied: google-auth<3,>=1.6.3 in /usr/local/lib/python3.7/dist-packages (from tensorboard>=2.2.0->stable-baselines3[extra]) (1.35.0)\n",
            "Requirement already satisfied: tensorboard-data-server<0.7.0,>=0.6.0 in /usr/local/lib/python3.7/dist-packages (from tensorboard>=2.2.0->stable-baselines3[extra]) (0.6.1)\n",
            "Requirement already satisfied: grpcio>=1.24.3 in /usr/local/lib/python3.7/dist-packages (from tensorboard>=2.2.0->stable-baselines3[extra]) (1.43.0)\n",
            "Requirement already satisfied: requests<3,>=2.21.0 in /usr/local/lib/python3.7/dist-packages (from tensorboard>=2.2.0->stable-baselines3[extra]) (2.23.0)\n",
            "Requirement already satisfied: google-auth-oauthlib<0.5,>=0.4.1 in /usr/local/lib/python3.7/dist-packages (from tensorboard>=2.2.0->stable-baselines3[extra]) (0.4.6)\n",
            "Requirement already satisfied: cachetools<5.0,>=2.0.0 in /usr/local/lib/python3.7/dist-packages (from google-auth<3,>=1.6.3->tensorboard>=2.2.0->stable-baselines3[extra]) (4.2.4)\n",
            "Requirement already satisfied: rsa<5,>=3.1.4 in /usr/local/lib/python3.7/dist-packages (from google-auth<3,>=1.6.3->tensorboard>=2.2.0->stable-baselines3[extra]) (4.8)\n",
            "Requirement already satisfied: pyasn1-modules>=0.2.1 in /usr/local/lib/python3.7/dist-packages (from google-auth<3,>=1.6.3->tensorboard>=2.2.0->stable-baselines3[extra]) (0.2.8)\n",
            "Requirement already satisfied: requests-oauthlib>=0.7.0 in /usr/local/lib/python3.7/dist-packages (from google-auth-oauthlib<0.5,>=0.4.1->tensorboard>=2.2.0->stable-baselines3[extra]) (1.3.0)\n",
            "Requirement already satisfied: importlib-metadata>=4.4 in /usr/local/lib/python3.7/dist-packages (from markdown>=2.6.8->tensorboard>=2.2.0->stable-baselines3[extra]) (4.10.0)\n",
            "Requirement already satisfied: typing-extensions>=3.6.4 in /usr/local/lib/python3.7/dist-packages (from importlib-metadata>=4.4->markdown>=2.6.8->tensorboard>=2.2.0->stable-baselines3[extra]) (3.10.0.2)\n",
            "Requirement already satisfied: zipp>=0.5 in /usr/local/lib/python3.7/dist-packages (from importlib-metadata>=4.4->markdown>=2.6.8->tensorboard>=2.2.0->stable-baselines3[extra]) (3.7.0)\n",
            "Requirement already satisfied: pyasn1<0.5.0,>=0.4.6 in /usr/local/lib/python3.7/dist-packages (from pyasn1-modules>=0.2.1->google-auth<3,>=1.6.3->tensorboard>=2.2.0->stable-baselines3[extra]) (0.4.8)\n",
            "Requirement already satisfied: certifi>=2017.4.17 in /usr/local/lib/python3.7/dist-packages (from requests<3,>=2.21.0->tensorboard>=2.2.0->stable-baselines3[extra]) (2021.10.8)\n",
            "Requirement already satisfied: idna<3,>=2.5 in /usr/local/lib/python3.7/dist-packages (from requests<3,>=2.21.0->tensorboard>=2.2.0->stable-baselines3[extra]) (2.10)\n",
            "Requirement already satisfied: chardet<4,>=3.0.2 in /usr/local/lib/python3.7/dist-packages (from requests<3,>=2.21.0->tensorboard>=2.2.0->stable-baselines3[extra]) (3.0.4)\n",
            "Requirement already satisfied: urllib3!=1.25.0,!=1.25.1,<1.26,>=1.21.1 in /usr/local/lib/python3.7/dist-packages (from requests<3,>=2.21.0->tensorboard>=2.2.0->stable-baselines3[extra]) (1.24.3)\n",
            "Requirement already satisfied: oauthlib>=3.0.0 in /usr/local/lib/python3.7/dist-packages (from requests-oauthlib>=0.7.0->google-auth-oauthlib<0.5,>=0.4.1->tensorboard>=2.2.0->stable-baselines3[extra]) (3.1.1)\n",
            "Requirement already satisfied: pyparsing!=2.0.4,!=2.1.2,!=2.1.6,>=2.0.1 in /usr/local/lib/python3.7/dist-packages (from matplotlib->stable-baselines3[extra]) (3.0.6)\n",
            "Requirement already satisfied: cycler>=0.10 in /usr/local/lib/python3.7/dist-packages (from matplotlib->stable-baselines3[extra]) (0.11.0)\n",
            "Requirement already satisfied: kiwisolver>=1.0.1 in /usr/local/lib/python3.7/dist-packages (from matplotlib->stable-baselines3[extra]) (1.3.2)\n",
            "Requirement already satisfied: python-dateutil>=2.1 in /usr/local/lib/python3.7/dist-packages (from matplotlib->stable-baselines3[extra]) (2.8.2)\n",
            "Requirement already satisfied: pytz>=2017.2 in /usr/local/lib/python3.7/dist-packages (from pandas->stable-baselines3[extra]) (2018.9)\n",
            "\u001b[33mWARNING: The candidate selected for download or install is a yanked version: 'atari-py' candidate (version 0.2.6 at https://files.pythonhosted.org/packages/8f/ba/1d22e9d2f332f07aaa57041f5dd569c2cb40a92bd6374a0b743ec3dfae97/atari_py-0.2.6-cp37-cp37m-manylinux1_x86_64.whl#sha256=d9e2c25d39783867c2f29d1dd9d3a659fc56036456d07dc9efe8bd7bb31a07d7 (from https://pypi.org/simple/atari-py/))\n",
            "Reason for being yanked: re-release with new wheels\u001b[0m\n",
            "Installing collected packages: stable-baselines3, atari-py\n",
            "  Attempting uninstall: atari-py\n",
            "    Found existing installation: atari-py 0.2.9\n",
            "    Uninstalling atari-py-0.2.9:\n",
            "      Successfully uninstalled atari-py-0.2.9\n",
            "Successfully installed atari-py-0.2.6 stable-baselines3-1.4.0\n"
          ]
        }
      ]
    },
    {
      "cell_type": "code",
      "metadata": {
        "id": "U29X1-B-AIKE",
        "colab": {
          "base_uri": "https://localhost:8080/",
          "height": 35
        },
        "outputId": "2e4e37d5-fc11-4755-cbec-db3f85053b40"
      },
      "source": [
        "import stable_baselines3\n",
        "stable_baselines3.__version__"
      ],
      "execution_count": 3,
      "outputs": [
        {
          "output_type": "execute_result",
          "data": {
            "application/vnd.google.colaboratory.intrinsic+json": {
              "type": "string"
            },
            "text/plain": [
              "'1.4.0'"
            ]
          },
          "metadata": {},
          "execution_count": 3
        }
      ]
    },
    {
      "cell_type": "markdown",
      "metadata": {
        "id": "FtY8FhliLsGm"
      },
      "source": [
        "## Imports"
      ]
    },
    {
      "cell_type": "markdown",
      "metadata": {
        "id": "gcX8hEcaUpR0"
      },
      "source": [
        "Stable-Baselines works on environments that follow the [gym interface](https://stable-baselines.readthedocs.io/en/master/guide/custom_env.html).\n",
        "You can find a list of available environment [here](https://gym.openai.com/envs/#classic_control).\n",
        "\n",
        "It is also recommended to check the [source code](https://github.com/openai/gym) to learn more about the observation and action space of each env, as gym does not have a proper documentation.\n",
        "Not all algorithms can work with all action spaces, you can find more in this [recap table](https://stable-baselines.readthedocs.io/en/master/guide/algos.html)"
      ]
    },
    {
      "cell_type": "code",
      "metadata": {
        "id": "BIedd7Pz9sOs"
      },
      "source": [
        "import gym\n",
        "import numpy as np"
      ],
      "execution_count": 4,
      "outputs": []
    },
    {
      "cell_type": "markdown",
      "metadata": {
        "id": "Ae32CtgzTG3R"
      },
      "source": [
        "The first thing you need to import is the RL model, check the documentation to know what you can use on which problem"
      ]
    },
    {
      "cell_type": "code",
      "metadata": {
        "id": "R7tKaBFrTR0a"
      },
      "source": [
        "from stable_baselines3 import PPO"
      ],
      "execution_count": 5,
      "outputs": []
    },
    {
      "cell_type": "markdown",
      "metadata": {
        "id": "-0_8OQbOTTNT"
      },
      "source": [
        "The next thing you need to import is the policy class that will be used to create the networks (for the policy/value functions).\n",
        "This step is optional as you can directly use strings in the constructor: \n",
        "\n",
        "```PPO('MlpPolicy', env)``` instead of ```PPO(MlpPolicy, env)```\n",
        "\n",
        "Note that some algorithms like `SAC` have their own `MlpPolicy`, that's why using string for the policy is the recommened option."
      ]
    },
    {
      "cell_type": "code",
      "metadata": {
        "id": "ROUJr675TT01"
      },
      "source": [
        "from stable_baselines3.ppo import MlpPolicy"
      ],
      "execution_count": 6,
      "outputs": []
    },
    {
      "cell_type": "markdown",
      "metadata": {
        "id": "RapkYvTXL7Cd"
      },
      "source": [
        "## Create the Gym env and instantiate the agent\n",
        "\n",
        "For this example, we will use CartPole environment, a classic control problem.\n",
        "\n",
        "\"A pole is attached by an un-actuated joint to a cart, which moves along a frictionless track. The system is controlled by applying a force of +1 or -1 to the cart. The pendulum starts upright, and the goal is to prevent it from falling over. A reward of +1 is provided for every timestep that the pole remains upright. \"\n",
        "\n",
        "Cartpole environment: [https://gym.openai.com/envs/CartPole-v1/](https://gym.openai.com/envs/CartPole-v1/)\n",
        "\n",
        "![Cartpole](https://cdn-images-1.medium.com/max/1143/1*h4WTQNVIsvMXJTCpXm_TAw.gif)\n",
        "\n",
        "Note: vectorized environments allow to easily multiprocess training. In this example, we are using only one process, hence the DummyVecEnv.\n",
        "\n",
        "We chose the MlpPolicy because input of CartPole is a feature vector, not images.\n",
        "\n",
        "The type of action to use (discrete/continuous) will be automatically deduced from the environment action space\n",
        "\n",
        "\n",
        "Here we are using the [Proximal Policy Optimization](https://stable-baselines.readthedocs.io/en/master/modules/ppo2.html) algorithm, which is an Actor-Critic method: it uses a value function to improve the policy gradient descent (by reducing the variance).\n",
        "\n",
        "It combines ideas from [A2C](https://stable-baselines.readthedocs.io/en/master/modules/a2c.html) (having multiple workers and using an entropy bonus for exploration) and [TRPO](https://stable-baselines.readthedocs.io/en/master/modules/trpo.html) (it uses a trust region to improve stability and avoid catastrophic drops in performance).\n",
        "\n",
        "PPO is an on-policy algorithm, which means that the trajectories used to update the networks must be collected using the latest policy.\n",
        "It is usually less sample efficient than off-policy alorithms like [DQN](https://stable-baselines.readthedocs.io/en/master/modules/dqn.html), [SAC](https://stable-baselines.readthedocs.io/en/master/modules/sac.html) or [TD3](https://stable-baselines.readthedocs.io/en/master/modules/td3.html), but is much faster regarding wall-clock time.\n"
      ]
    },
    {
      "cell_type": "code",
      "metadata": {
        "id": "pUWGZp3i9wyf"
      },
      "source": [
        "env = gym.make('CartPole-v1')\n",
        "\n",
        "model = PPO(MlpPolicy, env, verbose=0)"
      ],
      "execution_count": 7,
      "outputs": []
    },
    {
      "cell_type": "markdown",
      "metadata": {
        "id": "4efFdrQ7MBvl"
      },
      "source": [
        "We create a helper function to evaluate the agent:"
      ]
    },
    {
      "cell_type": "code",
      "metadata": {
        "id": "63M8mSKR-6Zt"
      },
      "source": [
        "def evaluate(model, num_episodes=100, deterministic=True):\n",
        "    \"\"\"\n",
        "    Evaluate a RL agent\n",
        "    :param model: (BaseRLModel object) the RL Agent\n",
        "    :param num_episodes: (int) number of episodes to evaluate it\n",
        "    :return: (float) Mean reward for the last num_episodes\n",
        "    \"\"\"\n",
        "    # This function will only work for a single Environment\n",
        "    env = model.get_env()\n",
        "    all_episode_rewards = []\n",
        "    for i in range(num_episodes):\n",
        "        episode_rewards = []\n",
        "        done = False\n",
        "        obs = env.reset()\n",
        "        while not done:\n",
        "            # _states are only useful when using LSTM policies\n",
        "            action, _states = model.predict(obs, deterministic=deterministic)\n",
        "            # here, action, rewards and dones are arrays\n",
        "            # because we are using vectorized env\n",
        "            obs, reward, done, info = env.step(action)\n",
        "            episode_rewards.append(reward)\n",
        "\n",
        "        all_episode_rewards.append(sum(episode_rewards))\n",
        "\n",
        "    mean_episode_reward = np.mean(all_episode_rewards)\n",
        "    print(\"Mean reward:\", mean_episode_reward, \"Num episodes:\", num_episodes)\n",
        "\n",
        "    return mean_episode_reward"
      ],
      "execution_count": 8,
      "outputs": []
    },
    {
      "cell_type": "markdown",
      "metadata": {
        "id": "6hkyafs--gJz"
      },
      "source": [
        "In fact, Stable-Baselines3 already provides you with that helper:"
      ]
    },
    {
      "cell_type": "code",
      "metadata": {
        "id": "s6ZNldIR-fce"
      },
      "source": [
        "from stable_baselines3.common.evaluation import evaluate_policy"
      ],
      "execution_count": 9,
      "outputs": []
    },
    {
      "cell_type": "markdown",
      "metadata": {
        "id": "zjEVOIY8NVeK"
      },
      "source": [
        "Let's evaluate the un-trained agent, this should be a random agent."
      ]
    },
    {
      "cell_type": "code",
      "metadata": {
        "id": "xDHLMA6NFk95",
        "outputId": "b77066ba-209a-4f70-d37b-0fc62143c08f",
        "colab": {
          "base_uri": "https://localhost:8080/"
        }
      },
      "source": [
        "# Use a separate environement for evaluation\n",
        "eval_env = gym.make('CartPole-v1')\n",
        "\n",
        "# Random Agent, before training\n",
        "mean_reward, std_reward = evaluate_policy(model, eval_env, n_eval_episodes=100)\n",
        "\n",
        "print(f\"mean_reward:{mean_reward:.2f} +/- {std_reward:.2f}\")"
      ],
      "execution_count": 10,
      "outputs": [
        {
          "output_type": "stream",
          "name": "stderr",
          "text": [
            "/usr/local/lib/python3.7/dist-packages/stable_baselines3/common/evaluation.py:69: UserWarning: Evaluation environment is not wrapped with a ``Monitor`` wrapper. This may result in reporting modified episode lengths and rewards, if other wrappers happen to modify these. Consider wrapping environment first with ``Monitor`` wrapper.\n",
            "  UserWarning,\n"
          ]
        },
        {
          "output_type": "stream",
          "name": "stdout",
          "text": [
            "mean_reward:54.57 +/- 21.78\n"
          ]
        }
      ]
    },
    {
      "cell_type": "markdown",
      "metadata": {
        "id": "r5UoXTZPNdFE"
      },
      "source": [
        "## Train the agent and evaluate it"
      ]
    },
    {
      "cell_type": "code",
      "metadata": {
        "id": "e4cfSXIB-pTF",
        "outputId": "c4c94faf-ce22-47f0-fe26-f01e566b257e",
        "colab": {
          "base_uri": "https://localhost:8080/"
        }
      },
      "source": [
        "# Train the agent for 10000 steps\n",
        "model.learn(total_timesteps=10000)"
      ],
      "execution_count": 11,
      "outputs": [
        {
          "output_type": "execute_result",
          "data": {
            "text/plain": [
              "<stable_baselines3.ppo.ppo.PPO at 0x7fa96eaf1e90>"
            ]
          },
          "metadata": {},
          "execution_count": 11
        }
      ]
    },
    {
      "cell_type": "code",
      "metadata": {
        "id": "ygl_gVmV_QP7",
        "outputId": "10bad3ea-2d45-4c86-9904-39c025399002",
        "colab": {
          "base_uri": "https://localhost:8080/"
        }
      },
      "source": [
        "# Evaluate the trained agent\n",
        "mean_reward, std_reward = evaluate_policy(model, eval_env, n_eval_episodes=100)\n",
        "\n",
        "print(f\"mean_reward:{mean_reward:.2f} +/- {std_reward:.2f}\")"
      ],
      "execution_count": 12,
      "outputs": [
        {
          "output_type": "stream",
          "name": "stderr",
          "text": [
            "/usr/local/lib/python3.7/dist-packages/stable_baselines3/common/evaluation.py:69: UserWarning: Evaluation environment is not wrapped with a ``Monitor`` wrapper. This may result in reporting modified episode lengths and rewards, if other wrappers happen to modify these. Consider wrapping environment first with ``Monitor`` wrapper.\n",
            "  UserWarning,\n"
          ]
        },
        {
          "output_type": "stream",
          "name": "stdout",
          "text": [
            "mean_reward:418.55 +/- 96.70\n"
          ]
        }
      ]
    },
    {
      "cell_type": "markdown",
      "metadata": {
        "id": "A00W6yY3NkHG"
      },
      "source": [
        "Apparently the training went well, the mean reward increased a lot ! "
      ]
    },
    {
      "cell_type": "markdown",
      "metadata": {
        "id": "xVm9QPNVwKXN"
      },
      "source": [
        "### Prepare video recording"
      ]
    },
    {
      "cell_type": "code",
      "metadata": {
        "id": "MPyfQxD5z26J"
      },
      "source": [
        "# Set up fake display; otherwise rendering will fail\n",
        "import os\n",
        "os.system(\"Xvfb :1 -screen 0 1024x768x24 &\")\n",
        "os.environ['DISPLAY'] = ':1'"
      ],
      "execution_count": 13,
      "outputs": []
    },
    {
      "cell_type": "code",
      "metadata": {
        "id": "SLzXxO8VMD6N"
      },
      "source": [
        "import base64\n",
        "from pathlib import Path\n",
        "\n",
        "from IPython import display as ipythondisplay\n",
        "\n",
        "def show_videos(video_path='', prefix=''):\n",
        "  \"\"\"\n",
        "  Taken from https://github.com/eleurent/highway-env\n",
        "\n",
        "  :param video_path: (str) Path to the folder containing videos\n",
        "  :param prefix: (str) Filter the video, showing only the only starting with this prefix\n",
        "  \"\"\"\n",
        "  html = []\n",
        "  for mp4 in Path(video_path).glob(\"{}*.mp4\".format(prefix)):\n",
        "      video_b64 = base64.b64encode(mp4.read_bytes())\n",
        "      html.append('''<video alt=\"{}\" autoplay \n",
        "                    loop controls style=\"height: 400px;\">\n",
        "                    <source src=\"data:video/mp4;base64,{}\" type=\"video/mp4\" />\n",
        "                </video>'''.format(mp4, video_b64.decode('ascii')))\n",
        "  ipythondisplay.display(ipythondisplay.HTML(data=\"<br>\".join(html)))"
      ],
      "execution_count": 14,
      "outputs": []
    },
    {
      "cell_type": "markdown",
      "metadata": {
        "id": "LTRNUfulOGaF"
      },
      "source": [
        "We will record a video using the [VecVideoRecorder](https://stable-baselines.readthedocs.io/en/master/guide/vec_envs.html#vecvideorecorder) wrapper, you will learn about those wrapper in the next notebook."
      ]
    },
    {
      "cell_type": "code",
      "metadata": {
        "id": "Trag9dQpOIhx"
      },
      "source": [
        "from stable_baselines3.common.vec_env import VecVideoRecorder, DummyVecEnv\n",
        "\n",
        "def record_video(env_id, model, video_length=500, prefix='', video_folder='videos/'):\n",
        "  \"\"\"\n",
        "  :param env_id: (str)\n",
        "  :param model: (RL model)\n",
        "  :param video_length: (int)\n",
        "  :param prefix: (str)\n",
        "  :param video_folder: (str)\n",
        "  \"\"\"\n",
        "  eval_env = DummyVecEnv([lambda: gym.make('CartPole-v1')])\n",
        "  # Start the video at step=0 and record 500 steps\n",
        "  eval_env = VecVideoRecorder(eval_env, video_folder=video_folder,\n",
        "                              record_video_trigger=lambda step: step == 0, video_length=video_length,\n",
        "                              name_prefix=prefix)\n",
        "\n",
        "  obs = eval_env.reset()\n",
        "  for _ in range(video_length):\n",
        "    action, _ = model.predict(obs)\n",
        "    obs, _, _, _ = eval_env.step(action)\n",
        "\n",
        "  # Close the video recorder\n",
        "  eval_env.close()"
      ],
      "execution_count": 15,
      "outputs": []
    },
    {
      "cell_type": "markdown",
      "metadata": {
        "id": "KOObbeu5MMlR"
      },
      "source": [
        "### Visualize trained agent\n",
        "\n"
      ]
    },
    {
      "cell_type": "code",
      "metadata": {
        "id": "iATu7AiyMQW2",
        "outputId": "1065cee9-7edd-41d7-e290-8e4068aa19cd",
        "colab": {
          "base_uri": "https://localhost:8080/"
        }
      },
      "source": [
        "record_video('CartPole-v1', model, video_length=500, prefix='ppo-cartpole')"
      ],
      "execution_count": 16,
      "outputs": [
        {
          "output_type": "stream",
          "name": "stdout",
          "text": [
            "Saving video to /content/videos/ppo-cartpole-step-0-to-step-500.mp4\n"
          ]
        }
      ]
    },
    {
      "cell_type": "code",
      "metadata": {
        "id": "-n4i-fW3NojZ",
        "colab": {
          "base_uri": "https://localhost:8080/",
          "height": 420
        },
        "outputId": "8b4283ea-6ee2-4c90-df11-9fc96be987fa"
      },
      "source": [
        "show_videos('videos', prefix='ppo')"
      ],
      "execution_count": 17,
      "outputs": [
        {
          "output_type": "display_data",
          "data": {
            "text/html": [
              "<video alt=\"videos/ppo-cartpole-step-0-to-step-500.mp4\" autoplay \n",
              "                    loop controls style=\"height: 400px;\">\n",
              "                    <source src=\"data:video/mp4;base64,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\" type=\"video/mp4\" />\n",
              "                </video>"
            ],
            "text/plain": [
              "<IPython.core.display.HTML object>"
            ]
          },
          "metadata": {}
        }
      ]
    },
    {
      "cell_type": "markdown",
      "metadata": {
        "id": "9Y8zg4V566qD"
      },
      "source": [
        "## Bonus: Train a RL Model in One Line\n",
        "\n",
        "The policy class to use will be inferred and the environment will be automatically created. This works because both are [registered](https://stable-baselines.readthedocs.io/en/master/guide/quickstart.html)."
      ]
    },
    {
      "cell_type": "code",
      "metadata": {
        "id": "iaOPfOrwWEP4",
        "colab": {
          "base_uri": "https://localhost:8080/"
        },
        "outputId": "fa87817b-3365-47ee-e0e5-c3bb239581e7"
      },
      "source": [
        "model = PPO('MlpPolicy', \"CartPole-v1\", verbose=1).learn(1000)"
      ],
      "execution_count": 18,
      "outputs": [
        {
          "output_type": "stream",
          "name": "stdout",
          "text": [
            "Using cuda device\n",
            "Creating environment from the given name 'CartPole-v1'\n",
            "Wrapping the env with a `Monitor` wrapper\n",
            "Wrapping the env in a DummyVecEnv.\n",
            "---------------------------------\n",
            "| rollout/           |          |\n",
            "|    ep_len_mean     | 20.7     |\n",
            "|    ep_rew_mean     | 20.7     |\n",
            "| time/              |          |\n",
            "|    fps             | 901      |\n",
            "|    iterations      | 1        |\n",
            "|    time_elapsed    | 2        |\n",
            "|    total_timesteps | 2048     |\n",
            "---------------------------------\n"
          ]
        }
      ]
    },
    {
      "cell_type": "code",
      "metadata": {
        "id": "Se8SHBN17Fy4"
      },
      "source": [
        ""
      ],
      "execution_count": 18,
      "outputs": []
    },
    {
      "cell_type": "markdown",
      "metadata": {
        "id": "FrI6f5fWnzp-"
      },
      "source": [
        "## Conclusion\n",
        "\n",
        "In this notebook we have seen:\n",
        "- how to define and train a RL model using stable baselines3, it takes only one line of code ;)\n"
      ]
    },
    {
      "cell_type": "code",
      "metadata": {
        "id": "73ji3gbNDkf7"
      },
      "source": [
        ""
      ],
      "execution_count": null,
      "outputs": []
    }
  ]
}